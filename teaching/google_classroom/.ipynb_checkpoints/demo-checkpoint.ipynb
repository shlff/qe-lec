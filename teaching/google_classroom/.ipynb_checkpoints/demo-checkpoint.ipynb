{
 "cells": [
  {
   "cell_type": "code",
   "execution_count": 1,
   "metadata": {
    "colab": {
     "base_uri": "https://localhost:8080/"
    },
    "executionInfo": {
     "elapsed": 8005,
     "status": "ok",
     "timestamp": 1652071096057,
     "user": {
      "displayName": "Matt McKay",
      "userId": "17157295347646606858"
     },
     "user_tz": -600
    },
    "id": "ZTFcF_ycG9oh",
    "outputId": "215a0586-e46e-40a2-89da-571736ca2cb9"
   },
   "outputs": [
    {
     "name": "stdout",
     "output_type": "stream",
     "text": [
      "Collecting otter-grader\n",
      "  Downloading otter_grader-3.2.1-py3-none-any.whl (165 kB)\n",
      "\u001b[K     |████████████████████████████████| 165 kB 14.4 MB/s eta 0:00:01\n",
      "\u001b[?25hCollecting python-on-whales\n",
      "  Downloading python_on_whales-0.43.0-py3-none-any.whl (92 kB)\n",
      "\u001b[K     |████████████████████████████████| 92 kB 2.1 MB/s eta 0:00:011\n",
      "\u001b[?25hCollecting google-api-python-client\n",
      "  Downloading google_api_python_client-2.47.0-py2.py3-none-any.whl (8.4 MB)\n",
      "\u001b[K     |████████████████████████████████| 8.4 MB 54.9 MB/s eta 0:00:01\n",
      "\u001b[?25hRequirement already satisfied: PyYAML in /Users/shuhu/opt/anaconda3/lib/python3.9/site-packages (from otter-grader) (6.0)\n",
      "Requirement already satisfied: nbformat in /Users/shuhu/opt/anaconda3/lib/python3.9/site-packages (from otter-grader) (5.3.0)\n",
      "Requirement already satisfied: nbconvert in /Users/shuhu/opt/anaconda3/lib/python3.9/site-packages (from otter-grader) (6.4.4)\n",
      "Requirement already satisfied: requests in /Users/shuhu/opt/anaconda3/lib/python3.9/site-packages (from otter-grader) (2.27.1)\n",
      "Requirement already satisfied: jupyter-client in /Users/shuhu/opt/anaconda3/lib/python3.9/site-packages (from otter-grader) (6.1.12)\n",
      "Requirement already satisfied: pandas in /Users/shuhu/opt/anaconda3/lib/python3.9/site-packages (from otter-grader) (1.4.2)\n",
      "Requirement already satisfied: ipykernel in /Users/shuhu/opt/anaconda3/lib/python3.9/site-packages (from otter-grader) (6.9.1)\n",
      "Collecting PyPDF2\n",
      "  Downloading PyPDF2-1.27.12-py3-none-any.whl (80 kB)\n",
      "\u001b[K     |████████████████████████████████| 80 kB 1.2 MB/s eta 0:00:01\n",
      "\u001b[?25hRequirement already satisfied: six in /Users/shuhu/opt/anaconda3/lib/python3.9/site-packages (from otter-grader) (1.16.0)\n",
      "Collecting google-auth-oauthlib\n",
      "  Downloading google_auth_oauthlib-0.5.1-py2.py3-none-any.whl (19 kB)\n",
      "Collecting pdfkit\n",
      "  Downloading pdfkit-1.0.0-py3-none-any.whl (12 kB)\n",
      "Collecting gspread\n",
      "  Downloading gspread-5.3.2-py3-none-any.whl (34 kB)\n",
      "Collecting dill\n",
      "  Downloading dill-0.3.4-py2.py3-none-any.whl (86 kB)\n",
      "\u001b[K     |████████████████████████████████| 86 kB 16.0 MB/s eta 0:00:01\n",
      "\u001b[?25hRequirement already satisfied: jinja2 in /Users/shuhu/opt/anaconda3/lib/python3.9/site-packages (from otter-grader) (2.11.3)\n",
      "Requirement already satisfied: matplotlib in /Users/shuhu/opt/anaconda3/lib/python3.9/site-packages (from otter-grader) (3.5.1)\n",
      "Collecting google-auth-httplib2>=0.1.0\n",
      "  Downloading google_auth_httplib2-0.1.0-py2.py3-none-any.whl (9.3 kB)\n",
      "Collecting google-api-core!=2.0.*,!=2.1.*,!=2.2.*,!=2.3.0,<3.0.0dev,>=1.31.5\n",
      "  Downloading google_api_core-2.7.3-py3-none-any.whl (114 kB)\n",
      "\u001b[K     |████████████████████████████████| 114 kB 32.2 MB/s eta 0:00:01\n",
      "\u001b[?25hCollecting google-auth<3.0.0dev,>=1.16.0\n",
      "  Downloading google_auth-2.6.6-py2.py3-none-any.whl (156 kB)\n",
      "\u001b[K     |████████████████████████████████| 156 kB 43.8 MB/s eta 0:00:01\n",
      "\u001b[?25hCollecting uritemplate<5,>=3.0.1\n",
      "  Downloading uritemplate-4.1.1-py2.py3-none-any.whl (10 kB)\n",
      "Collecting httplib2<1dev,>=0.15.0\n",
      "  Downloading httplib2-0.20.4-py3-none-any.whl (96 kB)\n",
      "\u001b[K     |████████████████████████████████| 96 kB 19.8 MB/s eta 0:00:01\n",
      "\u001b[?25hRequirement already satisfied: protobuf>=3.12.0 in /Users/shuhu/opt/anaconda3/lib/python3.9/site-packages (from google-api-core!=2.0.*,!=2.1.*,!=2.2.*,!=2.3.0,<3.0.0dev,>=1.31.5->google-api-python-client->otter-grader) (3.20.1)\n",
      "Collecting googleapis-common-protos<2.0dev,>=1.52.0\n",
      "  Downloading googleapis_common_protos-1.56.0-py2.py3-none-any.whl (241 kB)\n",
      "\u001b[K     |████████████████████████████████| 241 kB 40.2 MB/s eta 0:00:01\n",
      "\u001b[?25hCollecting rsa<5,>=3.1.4\n",
      "  Downloading rsa-4.8-py3-none-any.whl (39 kB)\n",
      "Collecting cachetools<6.0,>=2.0.0\n",
      "  Downloading cachetools-5.0.0-py3-none-any.whl (9.1 kB)\n",
      "Collecting pyasn1-modules>=0.2.1\n",
      "  Using cached pyasn1_modules-0.2.8-py2.py3-none-any.whl (155 kB)\n",
      "Requirement already satisfied: pyparsing!=3.0.0,!=3.0.1,!=3.0.2,!=3.0.3,<4,>=2.4.2 in /Users/shuhu/opt/anaconda3/lib/python3.9/site-packages (from httplib2<1dev,>=0.15.0->google-api-python-client->otter-grader) (3.0.4)\n",
      "Collecting pyasn1<0.5.0,>=0.4.6\n",
      "  Using cached pyasn1-0.4.8-py2.py3-none-any.whl (77 kB)\n",
      "Requirement already satisfied: certifi>=2017.4.17 in /Users/shuhu/opt/anaconda3/lib/python3.9/site-packages (from requests->otter-grader) (2021.10.8)\n",
      "Requirement already satisfied: idna<4,>=2.5 in /Users/shuhu/opt/anaconda3/lib/python3.9/site-packages (from requests->otter-grader) (3.3)\n",
      "Requirement already satisfied: charset-normalizer~=2.0.0 in /Users/shuhu/opt/anaconda3/lib/python3.9/site-packages (from requests->otter-grader) (2.0.4)\n",
      "Requirement already satisfied: urllib3<1.27,>=1.21.1 in /Users/shuhu/opt/anaconda3/lib/python3.9/site-packages (from requests->otter-grader) (1.26.9)\n",
      "Collecting requests-oauthlib>=0.7.0\n",
      "  Downloading requests_oauthlib-1.3.1-py2.py3-none-any.whl (23 kB)\n",
      "Collecting oauthlib>=3.0.0\n",
      "  Downloading oauthlib-3.2.0-py3-none-any.whl (151 kB)\n",
      "\u001b[K     |████████████████████████████████| 151 kB 41.2 MB/s eta 0:00:01\n",
      "\u001b[?25hRequirement already satisfied: traitlets<6.0,>=5.1.0 in /Users/shuhu/opt/anaconda3/lib/python3.9/site-packages (from ipykernel->otter-grader) (5.1.1)\n",
      "Requirement already satisfied: ipython>=7.23.1 in /Users/shuhu/opt/anaconda3/lib/python3.9/site-packages (from ipykernel->otter-grader) (8.2.0)\n",
      "Requirement already satisfied: appnope in /Users/shuhu/opt/anaconda3/lib/python3.9/site-packages (from ipykernel->otter-grader) (0.1.2)\n",
      "Requirement already satisfied: matplotlib-inline<0.2.0,>=0.1.0 in /Users/shuhu/opt/anaconda3/lib/python3.9/site-packages (from ipykernel->otter-grader) (0.1.2)\n",
      "Requirement already satisfied: debugpy<2.0,>=1.0.0 in /Users/shuhu/opt/anaconda3/lib/python3.9/site-packages (from ipykernel->otter-grader) (1.5.1)\n",
      "Requirement already satisfied: nest-asyncio in /Users/shuhu/opt/anaconda3/lib/python3.9/site-packages (from ipykernel->otter-grader) (1.5.5)\n",
      "Requirement already satisfied: tornado<7.0,>=4.2 in /Users/shuhu/opt/anaconda3/lib/python3.9/site-packages (from ipykernel->otter-grader) (6.1)\n",
      "Requirement already satisfied: backcall in /Users/shuhu/opt/anaconda3/lib/python3.9/site-packages (from ipython>=7.23.1->ipykernel->otter-grader) (0.2.0)\n",
      "Requirement already satisfied: pygments>=2.4.0 in /Users/shuhu/opt/anaconda3/lib/python3.9/site-packages (from ipython>=7.23.1->ipykernel->otter-grader) (2.11.2)\n",
      "Requirement already satisfied: setuptools>=18.5 in /Users/shuhu/opt/anaconda3/lib/python3.9/site-packages (from ipython>=7.23.1->ipykernel->otter-grader) (61.2.0)\n",
      "Requirement already satisfied: decorator in /Users/shuhu/opt/anaconda3/lib/python3.9/site-packages (from ipython>=7.23.1->ipykernel->otter-grader) (5.1.1)\n",
      "Requirement already satisfied: jedi>=0.16 in /Users/shuhu/opt/anaconda3/lib/python3.9/site-packages (from ipython>=7.23.1->ipykernel->otter-grader) (0.18.1)\n",
      "Requirement already satisfied: stack-data in /Users/shuhu/opt/anaconda3/lib/python3.9/site-packages (from ipython>=7.23.1->ipykernel->otter-grader) (0.2.0)\n",
      "Requirement already satisfied: pickleshare in /Users/shuhu/opt/anaconda3/lib/python3.9/site-packages (from ipython>=7.23.1->ipykernel->otter-grader) (0.7.5)\n",
      "Requirement already satisfied: prompt-toolkit!=3.0.0,!=3.0.1,<3.1.0,>=2.0.0 in /Users/shuhu/opt/anaconda3/lib/python3.9/site-packages (from ipython>=7.23.1->ipykernel->otter-grader) (3.0.20)\n",
      "Requirement already satisfied: pexpect>4.3 in /Users/shuhu/opt/anaconda3/lib/python3.9/site-packages (from ipython>=7.23.1->ipykernel->otter-grader) (4.8.0)\n",
      "Requirement already satisfied: parso<0.9.0,>=0.8.0 in /Users/shuhu/opt/anaconda3/lib/python3.9/site-packages (from jedi>=0.16->ipython>=7.23.1->ipykernel->otter-grader) (0.8.3)\n",
      "Requirement already satisfied: jupyter-core>=4.6.0 in /Users/shuhu/opt/anaconda3/lib/python3.9/site-packages (from jupyter-client->otter-grader) (4.9.2)\n",
      "Requirement already satisfied: python-dateutil>=2.1 in /Users/shuhu/opt/anaconda3/lib/python3.9/site-packages (from jupyter-client->otter-grader) (2.8.2)\n",
      "Requirement already satisfied: pyzmq>=13 in /Users/shuhu/opt/anaconda3/lib/python3.9/site-packages (from jupyter-client->otter-grader) (22.3.0)\n",
      "Requirement already satisfied: ptyprocess>=0.5 in /Users/shuhu/opt/anaconda3/lib/python3.9/site-packages (from pexpect>4.3->ipython>=7.23.1->ipykernel->otter-grader) (0.7.0)\n",
      "Requirement already satisfied: wcwidth in /Users/shuhu/opt/anaconda3/lib/python3.9/site-packages (from prompt-toolkit!=3.0.0,!=3.0.1,<3.1.0,>=2.0.0->ipython>=7.23.1->ipykernel->otter-grader) (0.2.5)\n"
     ]
    },
    {
     "name": "stdout",
     "output_type": "stream",
     "text": [
      "Requirement already satisfied: MarkupSafe>=0.23 in /Users/shuhu/opt/anaconda3/lib/python3.9/site-packages (from jinja2->otter-grader) (2.0.1)\n",
      "Requirement already satisfied: pillow>=6.2.0 in /Users/shuhu/opt/anaconda3/lib/python3.9/site-packages (from matplotlib->otter-grader) (9.0.1)\n",
      "Requirement already satisfied: cycler>=0.10 in /Users/shuhu/opt/anaconda3/lib/python3.9/site-packages (from matplotlib->otter-grader) (0.11.0)\n",
      "Requirement already satisfied: packaging>=20.0 in /Users/shuhu/opt/anaconda3/lib/python3.9/site-packages (from matplotlib->otter-grader) (21.3)\n",
      "Requirement already satisfied: numpy>=1.17 in /Users/shuhu/opt/anaconda3/lib/python3.9/site-packages (from matplotlib->otter-grader) (1.21.5)\n",
      "Requirement already satisfied: fonttools>=4.22.0 in /Users/shuhu/opt/anaconda3/lib/python3.9/site-packages (from matplotlib->otter-grader) (4.25.0)\n",
      "Requirement already satisfied: kiwisolver>=1.0.1 in /Users/shuhu/opt/anaconda3/lib/python3.9/site-packages (from matplotlib->otter-grader) (1.3.2)\n",
      "Requirement already satisfied: bleach in /Users/shuhu/opt/anaconda3/lib/python3.9/site-packages (from nbconvert->otter-grader) (4.1.0)\n",
      "Requirement already satisfied: nbclient<0.6.0,>=0.5.0 in /Users/shuhu/opt/anaconda3/lib/python3.9/site-packages (from nbconvert->otter-grader) (0.5.13)\n",
      "Requirement already satisfied: jupyterlab-pygments in /Users/shuhu/opt/anaconda3/lib/python3.9/site-packages (from nbconvert->otter-grader) (0.1.2)\n",
      "Requirement already satisfied: defusedxml in /Users/shuhu/opt/anaconda3/lib/python3.9/site-packages (from nbconvert->otter-grader) (0.7.1)\n",
      "Requirement already satisfied: testpath in /Users/shuhu/opt/anaconda3/lib/python3.9/site-packages (from nbconvert->otter-grader) (0.5.0)\n",
      "Requirement already satisfied: beautifulsoup4 in /Users/shuhu/opt/anaconda3/lib/python3.9/site-packages (from nbconvert->otter-grader) (4.11.1)\n",
      "Requirement already satisfied: entrypoints>=0.2.2 in /Users/shuhu/opt/anaconda3/lib/python3.9/site-packages (from nbconvert->otter-grader) (0.4)\n",
      "Requirement already satisfied: pandocfilters>=1.4.1 in /Users/shuhu/opt/anaconda3/lib/python3.9/site-packages (from nbconvert->otter-grader) (1.5.0)\n",
      "Requirement already satisfied: mistune<2,>=0.8.1 in /Users/shuhu/opt/anaconda3/lib/python3.9/site-packages (from nbconvert->otter-grader) (0.8.4)\n",
      "Requirement already satisfied: jsonschema>=2.6 in /Users/shuhu/opt/anaconda3/lib/python3.9/site-packages (from nbformat->otter-grader) (4.4.0)\n",
      "Requirement already satisfied: fastjsonschema in /Users/shuhu/opt/anaconda3/lib/python3.9/site-packages (from nbformat->otter-grader) (2.15.1)\n",
      "Requirement already satisfied: attrs>=17.4.0 in /Users/shuhu/opt/anaconda3/lib/python3.9/site-packages (from jsonschema>=2.6->nbformat->otter-grader) (21.4.0)\n",
      "Requirement already satisfied: pyrsistent!=0.17.0,!=0.17.1,!=0.17.2,>=0.14.0 in /Users/shuhu/opt/anaconda3/lib/python3.9/site-packages (from jsonschema>=2.6->nbformat->otter-grader) (0.18.0)\n",
      "Requirement already satisfied: soupsieve>1.2 in /Users/shuhu/opt/anaconda3/lib/python3.9/site-packages (from beautifulsoup4->nbconvert->otter-grader) (2.3.1)\n",
      "Requirement already satisfied: webencodings in /Users/shuhu/opt/anaconda3/lib/python3.9/site-packages (from bleach->nbconvert->otter-grader) (0.5.1)\n",
      "Requirement already satisfied: pytz>=2020.1 in /Users/shuhu/opt/anaconda3/lib/python3.9/site-packages (from pandas->otter-grader) (2021.3)\n",
      "Requirement already satisfied: tqdm in /Users/shuhu/opt/anaconda3/lib/python3.9/site-packages (from python-on-whales->otter-grader) (4.63.0)\n",
      "Requirement already satisfied: typing-extensions in /Users/shuhu/opt/anaconda3/lib/python3.9/site-packages (from python-on-whales->otter-grader) (4.1.1)\n",
      "Collecting pydantic\n",
      "  Downloading pydantic-1.9.0-cp39-cp39-macosx_10_9_x86_64.whl (2.9 MB)\n",
      "\u001b[K     |████████████████████████████████| 2.9 MB 42.6 MB/s eta 0:00:01\n",
      "\u001b[?25hCollecting typer>=0.4.1\n",
      "  Downloading typer-0.4.1-py3-none-any.whl (27 kB)\n",
      "Requirement already satisfied: click<9.0.0,>=7.1.1 in /Users/shuhu/opt/anaconda3/lib/python3.9/site-packages (from typer>=0.4.1->python-on-whales->otter-grader) (8.0.4)\n",
      "Requirement already satisfied: asttokens in /Users/shuhu/opt/anaconda3/lib/python3.9/site-packages (from stack-data->ipython>=7.23.1->ipykernel->otter-grader) (2.0.5)\n",
      "Requirement already satisfied: executing in /Users/shuhu/opt/anaconda3/lib/python3.9/site-packages (from stack-data->ipython>=7.23.1->ipykernel->otter-grader) (0.8.3)\n",
      "Requirement already satisfied: pure-eval in /Users/shuhu/opt/anaconda3/lib/python3.9/site-packages (from stack-data->ipython>=7.23.1->ipykernel->otter-grader) (0.2.2)\n",
      "Installing collected packages: pyasn1, rsa, pyasn1-modules, oauthlib, cachetools, requests-oauthlib, httplib2, googleapis-common-protos, google-auth, uritemplate, typer, pydantic, google-auth-oauthlib, google-auth-httplib2, google-api-core, python-on-whales, PyPDF2, pdfkit, gspread, google-api-python-client, dill, otter-grader\n",
      "Successfully installed PyPDF2-1.27.12 cachetools-5.0.0 dill-0.3.4 google-api-core-2.7.3 google-api-python-client-2.47.0 google-auth-2.6.6 google-auth-httplib2-0.1.0 google-auth-oauthlib-0.5.1 googleapis-common-protos-1.56.0 gspread-5.3.2 httplib2-0.20.4 oauthlib-3.2.0 otter-grader-3.2.1 pdfkit-1.0.0 pyasn1-0.4.8 pyasn1-modules-0.2.8 pydantic-1.9.0 python-on-whales-0.43.0 requests-oauthlib-1.3.1 rsa-4.8 typer-0.4.1 uritemplate-4.1.1\n"
     ]
    }
   ],
   "source": [
    "!pip install otter-grader"
   ]
  },
  {
   "cell_type": "code",
   "execution_count": 2,
   "metadata": {
    "colab": {
     "base_uri": "https://localhost:8080/",
     "height": 341
    },
    "deletable": false,
    "editable": false,
    "executionInfo": {
     "elapsed": 496,
     "status": "error",
     "timestamp": 1652071300441,
     "user": {
      "displayName": "Matt McKay",
      "userId": "17157295347646606858"
     },
     "user_tz": -600
    },
    "id": "dKb1BryfG7Kt",
    "outputId": "8e0428d1-8b66-4ba9-92df-c4cb82a44e00"
   },
   "outputs": [],
   "source": [
    "# Initialize Otter\n",
    "import otter\n",
    "grader = otter.Notebook()"
   ]
  },
  {
   "cell_type": "code",
   "execution_count": 3,
   "metadata": {
    "colab": {
     "base_uri": "https://localhost:8080/"
    },
    "executionInfo": {
     "elapsed": 333,
     "status": "ok",
     "timestamp": 1652071125714,
     "user": {
      "displayName": "Matt McKay",
      "userId": "17157295347646606858"
     },
     "user_tz": -600
    },
    "id": "DQ9f2YMoHL2Z",
    "outputId": "fdd840e7-e6fa-4667-be49-dddb61f2fc0c"
   },
   "outputs": [
    {
     "name": "stdout",
     "output_type": "stream",
     "text": [
      "demo.ipynb\r\n"
     ]
    }
   ],
   "source": [
    "!ls"
   ]
  },
  {
   "cell_type": "markdown",
   "metadata": {
    "id": "Dg3f3p3XG7Kv"
   },
   "source": [
    "# Otter-Grader Tutorial\n",
    "\n",
    "This notebook is part of the Otter-Grader tutorial. For more information about Otter, see our [documentation](https://otter-grader.rtfd.io)."
   ]
  },
  {
   "cell_type": "code",
   "execution_count": 4,
   "metadata": {
    "id": "UzEbgXp4G7Kw"
   },
   "outputs": [],
   "source": [
    "import pandas as pd\n",
    "import numpy as np\n",
    "%matplotlib inline\n",
    "import otter\n",
    "grader = otter.Notebook()"
   ]
  },
  {
   "cell_type": "markdown",
   "metadata": {
    "id": "pf534cXHG7Kw"
   },
   "source": [
    "**Question 1:** Write a function `square` that returns the square of its argument."
   ]
  },
  {
   "cell_type": "code",
   "execution_count": null,
   "metadata": {
    "id": "IYB4dWUZG7Kw",
    "tags": []
   },
   "outputs": [],
   "source": [
    "def square(x):\n",
    "    ..."
   ]
  },
  {
   "cell_type": "code",
   "execution_count": null,
   "metadata": {
    "deletable": false,
    "editable": false,
    "id": "cgqeWzl_G7Kx"
   },
   "outputs": [],
   "source": [
    "grader.check(\"q1\")"
   ]
  },
  {
   "cell_type": "markdown",
   "metadata": {
    "id": "i58soe3qG7Kx"
   },
   "source": [
    "**Question 2:** Write an infinite generator of the Fibonacci sequence `fiberator` that is *not* recursive."
   ]
  },
  {
   "cell_type": "code",
   "execution_count": null,
   "metadata": {
    "id": "GOfh-a7WG7Kx",
    "tags": []
   },
   "outputs": [],
   "source": [
    "def fiberator():\n",
    "    ..."
   ]
  },
  {
   "cell_type": "code",
   "execution_count": null,
   "metadata": {
    "deletable": false,
    "editable": false,
    "id": "Ks3KOlrgG7Kx"
   },
   "outputs": [],
   "source": [
    "grader.check(\"q2\")"
   ]
  },
  {
   "cell_type": "markdown",
   "metadata": {
    "id": "G7llVn5AG7Ky"
   },
   "source": [
    "**Question 3:** Create a DataFrame mirroring the table below and assign this to `data`. Then group by the `flavor` column and find the mean price for each flavor; assign this **series** to `price_by_flavor`.\n",
    "\n",
    "| flavor | scoops | price |\n",
    "|-----|-----|-----|\n",
    "| chocolate | 1 | 2 |\n",
    "| vanilla | 1 | 1.5 |\n",
    "| chocolate | 2 | 3 |\n",
    "| strawberry | 1 | 2 |\n",
    "| strawberry | 3 | 4 |\n",
    "| vanilla | 2 | 2 |\n",
    "| mint | 1 | 4 |\n",
    "| mint | 2 | 5 |\n",
    "| chocolate | 3 | 5 |"
   ]
  },
  {
   "cell_type": "code",
   "execution_count": null,
   "metadata": {
    "id": "gyAbZYcIG7Ky",
    "tags": []
   },
   "outputs": [],
   "source": [
    "data = ...\n",
    "price_by_flavor = ...\n",
    "price_by_flavor"
   ]
  },
  {
   "cell_type": "code",
   "execution_count": null,
   "metadata": {
    "deletable": false,
    "editable": false,
    "id": "w4x_uGYFG7Ky"
   },
   "outputs": [],
   "source": [
    "grader.check(\"q3\")"
   ]
  },
  {
   "cell_type": "markdown",
   "metadata": {
    "id": "QsjS3eAlG7Ky"
   },
   "source": [
    "<!-- BEGIN QUESTION -->\n",
    "\n",
    "**Question 4:** Create a barplot of `price_by_flavor`."
   ]
  },
  {
   "cell_type": "code",
   "execution_count": null,
   "metadata": {
    "id": "UGPvAWXdG7Kz",
    "tags": []
   },
   "outputs": [],
   "source": [
    "..."
   ]
  },
  {
   "cell_type": "markdown",
   "metadata": {
    "id": "Ncqr57I4G7Kz"
   },
   "source": [
    "<!-- END QUESTION -->\n",
    "\n",
    "<!-- BEGIN QUESTION -->\n",
    "\n",
    "**Question 5:** What do you notice about the bar plot?"
   ]
  },
  {
   "cell_type": "markdown",
   "metadata": {
    "id": "KxkYDqvBG7Kz"
   },
   "source": [
    "_Type your answer here, replacing this text._"
   ]
  },
  {
   "cell_type": "markdown",
   "metadata": {
    "id": "1TIb4hWZG7Kz"
   },
   "source": [
    "<!-- END QUESTION -->\n",
    "\n"
   ]
  },
  {
   "cell_type": "markdown",
   "metadata": {
    "deletable": false,
    "editable": false,
    "id": "A9LzeLlTG7Kz"
   },
   "source": [
    "---\n",
    "\n",
    "To double-check your work, the cell below will rerun all of the autograder tests."
   ]
  },
  {
   "cell_type": "code",
   "execution_count": null,
   "metadata": {
    "deletable": false,
    "editable": false,
    "id": "pi-xvIR3G7K0"
   },
   "outputs": [],
   "source": [
    "grader.check_all()"
   ]
  },
  {
   "cell_type": "markdown",
   "metadata": {
    "deletable": false,
    "editable": false,
    "id": "oIfM76uLG7K0"
   },
   "source": [
    "## Submission\n",
    "\n",
    "Make sure you have run all cells in your notebook in order before running the cell below, so that all images/graphs appear in the output. The cell below will generate a zip file for you to submit. **Please save before exporting!**\n",
    "\n",
    "These are some submission instructions."
   ]
  },
  {
   "cell_type": "code",
   "execution_count": null,
   "metadata": {
    "deletable": false,
    "editable": false,
    "id": "Z3vIi6efG7K0"
   },
   "outputs": [],
   "source": [
    "# Save your notebook first, then run this cell to export your submission.\n",
    "grader.export()"
   ]
  },
  {
   "cell_type": "markdown",
   "metadata": {
    "id": "Fu8raPOCG7K0"
   },
   "source": [
    " "
   ]
  }
 ],
 "metadata": {
  "colab": {
   "name": "demo.ipynb",
   "provenance": []
  },
  "kernelspec": {
   "display_name": "Python 3 (ipykernel)",
   "language": "python",
   "name": "python3"
  },
  "language_info": {
   "codemirror_mode": {
    "name": "ipython",
    "version": 3
   },
   "file_extension": ".py",
   "mimetype": "text/x-python",
   "name": "python",
   "nbconvert_exporter": "python",
   "pygments_lexer": "ipython3",
   "version": "3.9.7"
  },
  "otter": {
   "tests": {
    "q1": {
     "name": "q1",
     "points": null,
     "suites": [
      {
       "cases": [
        {
         "code": ">>> square(1) == 1\nTrue",
         "hidden": false,
         "locked": false
        },
        {
         "code": ">>> square(0) == 0\nTrue",
         "hidden": false,
         "locked": false
        }
       ],
       "scored": true,
       "setup": "",
       "teardown": "",
       "type": "doctest"
      }
     ]
    },
    "q2": {
     "name": "q2",
     "points": null,
     "suites": [
      {
       "cases": [
        {
         "code": ">>> f = fiberator()\n>>> assert next(f) == 0\n>>> assert next(f) == 1\n",
         "hidden": false,
         "locked": false
        }
       ],
       "scored": true,
       "setup": "",
       "teardown": "",
       "type": "doctest"
      }
     ]
    },
    "q3": {
     "name": "q3",
     "points": null,
     "suites": [
      {
       "cases": [
        {
         "code": ">>> len(data[\"flavor\"].unique()) == 4\nTrue",
         "hidden": false,
         "locked": false
        },
        {
         "code": ">>> for l in [\"chocolate\", \"vanilla\", \"strawberry\", \"mint\"]:\n...     assert l in data[\"flavor\"].unique()\n",
         "hidden": false,
         "locked": false
        },
        {
         "code": ">>> assert type(price_by_flavor) == pd.Series\n",
         "hidden": false,
         "locked": false
        },
        {
         "code": ">>> assert len(price_by_flavor) == 4\n",
         "hidden": false,
         "locked": false
        }
       ],
       "scored": true,
       "setup": "",
       "teardown": "",
       "type": "doctest"
      }
     ]
    }
   }
  },
  "varInspector": {
   "cols": {
    "lenName": 16,
    "lenType": 16,
    "lenVar": 40
   },
   "kernels_config": {
    "python": {
     "delete_cmd_postfix": "",
     "delete_cmd_prefix": "del ",
     "library": "var_list.py",
     "varRefreshCmd": "print(var_dic_list())"
    },
    "r": {
     "delete_cmd_postfix": ") ",
     "delete_cmd_prefix": "rm(",
     "library": "var_list.r",
     "varRefreshCmd": "cat(var_dic_list()) "
    }
   },
   "types_to_exclude": [
    "module",
    "function",
    "builtin_function_or_method",
    "instance",
    "_Feature"
   ],
   "window_display": false
  }
 },
 "nbformat": 4,
 "nbformat_minor": 1
}
