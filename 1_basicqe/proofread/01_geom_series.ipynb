{
 "cells": [
  {
   "cell_type": "markdown",
   "id": "dying-southwest",
   "metadata": {},
   "source": [
    "Here are links:\n",
    "\n",
    "- rst: https://python.quantecon.org/geom_series.html\n",
    "- myst: https://quantecon.github.io/lecture-python.myst/geom_series.html\n",
    "\n",
    "# 1 concepts review\n",
    "\n",
    "- infinite vs finite geometric series\n",
    "- examples\n",
    "  - multipliers\n",
    "    - Keynesian multiplier\n",
    "    - money multiplier\n",
    "  - interest rates and present values of streams of payouts from assets\n"
   ]
  },
  {
   "cell_type": "code",
   "execution_count": null,
   "id": "available-physiology",
   "metadata": {},
   "outputs": [],
   "source": []
  },
  {
   "cell_type": "code",
   "execution_count": null,
   "id": "fancy-florence",
   "metadata": {},
   "outputs": [],
   "source": []
  },
  {
   "cell_type": "code",
   "execution_count": null,
   "id": "corresponding-candle",
   "metadata": {},
   "outputs": [],
   "source": []
  }
 ],
 "metadata": {
  "kernelspec": {
   "display_name": "Python 3",
   "language": "python",
   "name": "python3"
  },
  "language_info": {
   "codemirror_mode": {
    "name": "ipython",
    "version": 3
   },
   "file_extension": ".py",
   "mimetype": "text/x-python",
   "name": "python",
   "nbconvert_exporter": "python",
   "pygments_lexer": "ipython3",
   "version": "3.8.8"
  }
 },
 "nbformat": 4,
 "nbformat_minor": 5
}
