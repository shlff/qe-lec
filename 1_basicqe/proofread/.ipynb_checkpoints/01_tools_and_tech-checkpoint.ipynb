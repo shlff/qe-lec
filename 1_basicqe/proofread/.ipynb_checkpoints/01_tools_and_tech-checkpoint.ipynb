{
 "cells": [
  {
   "cell_type": "markdown",
   "id": "dying-southwest",
   "metadata": {},
   "source": [
    "Here are links:\n",
    "\n",
    "- rst: https://python.quantecon.org/geom_series.html\n",
    "- myst: https://quantecon.github.io/lecture-python.myst/geom_series.html\n",
    "\n",
    "# 01_geom_series\n",
    "\n",
    "- infinite vs finite geometric series\n",
    "- examples\n",
    "  - multipliers\n",
    "    - Keynesian multiplier\n",
    "    - money multiplier\n",
    "  - interest rates and present values of streams of payouts from assets\n"
   ]
  },
  {
   "cell_type": "code",
   "execution_count": null,
   "id": "cosmetic-thickness",
   "metadata": {},
   "outputs": [],
   "source": []
  },
  {
   "cell_type": "markdown",
   "id": "dbd2b21f",
   "metadata": {},
   "source": [
    "# 02_multi_hyper"
   ]
  },
  {
   "cell_type": "code",
   "execution_count": null,
   "id": "dirty-valuation",
   "metadata": {},
   "outputs": [],
   "source": []
  },
  {
   "cell_type": "markdown",
   "id": "a8c77e95",
   "metadata": {},
   "source": [
    "# 03_sir_model"
   ]
  },
  {
   "cell_type": "code",
   "execution_count": null,
   "id": "3873e4d8",
   "metadata": {},
   "outputs": [],
   "source": []
  },
  {
   "cell_type": "markdown",
   "id": "5e349157",
   "metadata": {},
   "source": [
    "# 04_linear_algebra"
   ]
  },
  {
   "cell_type": "code",
   "execution_count": null,
   "id": "5c743f69",
   "metadata": {},
   "outputs": [],
   "source": []
  },
  {
   "cell_type": "markdown",
   "id": "87588318",
   "metadata": {},
   "source": [
    "# 05_complex_and_trig"
   ]
  },
  {
   "cell_type": "code",
   "execution_count": null,
   "id": "0e1a1e6f",
   "metadata": {},
   "outputs": [],
   "source": []
  },
  {
   "cell_type": "markdown",
   "id": "4bf823ea",
   "metadata": {},
   "source": [
    "# 06_lln_clt"
   ]
  },
  {
   "cell_type": "code",
   "execution_count": null,
   "id": "5672ecf2",
   "metadata": {},
   "outputs": [],
   "source": []
  },
  {
   "cell_type": "code",
   "execution_count": null,
   "id": "5ec41632",
   "metadata": {},
   "outputs": [],
   "source": []
  },
  {
   "cell_type": "code",
   "execution_count": null,
   "id": "e9ace0e1",
   "metadata": {},
   "outputs": [],
   "source": []
  }
 ],
 "metadata": {
  "kernelspec": {
   "display_name": "Python 3",
   "language": "python",
   "name": "python3"
  },
  "language_info": {
   "codemirror_mode": {
    "name": "ipython",
    "version": 3
   },
   "file_extension": ".py",
   "mimetype": "text/x-python",
   "name": "python",
   "nbconvert_exporter": "python",
   "pygments_lexer": "ipython3",
   "version": "3.8.8"
  }
 },
 "nbformat": 4,
 "nbformat_minor": 5
}
