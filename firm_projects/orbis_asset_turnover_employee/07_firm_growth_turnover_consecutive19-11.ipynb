{
 "cells": [
  {
   "cell_type": "markdown",
   "metadata": {},
   "source": [
    "# 07_firm_growth_turnover_consecutive19-11"
   ]
  },
  {
   "cell_type": "code",
   "execution_count": 1,
   "metadata": {},
   "outputs": [],
   "source": [
    "import pandas as pd\n",
    "import numpy as np\n",
    "import fs_qe as fq\n",
    "\n",
    "%matplotlib inline"
   ]
  },
  {
   "cell_type": "code",
   "execution_count": 2,
   "metadata": {},
   "outputs": [
    {
     "name": "stdout",
     "output_type": "stream",
     "text": [
      "CPU times: user 46.1 ms, sys: 13.1 ms, total: 59.2 ms\n",
      "Wall time: 58.2 ms\n"
     ]
    },
    {
     "data": {
      "text/html": [
       "<div>\n",
       "<style scoped>\n",
       "    .dataframe tbody tr th:only-of-type {\n",
       "        vertical-align: middle;\n",
       "    }\n",
       "\n",
       "    .dataframe tbody tr th {\n",
       "        vertical-align: top;\n",
       "    }\n",
       "\n",
       "    .dataframe thead th {\n",
       "        text-align: right;\n",
       "    }\n",
       "</style>\n",
       "<table border=\"1\" class=\"dataframe\">\n",
       "  <thead>\n",
       "    <tr style=\"text-align: right;\">\n",
       "      <th></th>\n",
       "      <th>2011</th>\n",
       "      <th>2012</th>\n",
       "      <th>2013</th>\n",
       "      <th>2014</th>\n",
       "      <th>2015</th>\n",
       "      <th>2016</th>\n",
       "      <th>2017</th>\n",
       "      <th>2018</th>\n",
       "      <th>2019</th>\n",
       "    </tr>\n",
       "    <tr>\n",
       "      <th>id</th>\n",
       "      <th></th>\n",
       "      <th></th>\n",
       "      <th></th>\n",
       "      <th></th>\n",
       "      <th></th>\n",
       "      <th></th>\n",
       "      <th></th>\n",
       "      <th></th>\n",
       "      <th></th>\n",
       "    </tr>\n",
       "  </thead>\n",
       "  <tbody>\n",
       "    <tr>\n",
       "      <th>1.0</th>\n",
       "      <td>4.465090e+08</td>\n",
       "      <td>4.686510e+08</td>\n",
       "      <td>4.762940e+08</td>\n",
       "      <td>4.856510e+08</td>\n",
       "      <td>4.821300e+08</td>\n",
       "      <td>4.858730e+08</td>\n",
       "      <td>5.003430e+08</td>\n",
       "      <td>5.144050e+08</td>\n",
       "      <td>5.239640e+08</td>\n",
       "    </tr>\n",
       "    <tr>\n",
       "      <th>2.0</th>\n",
       "      <td>4.807700e+07</td>\n",
       "      <td>6.109300e+07</td>\n",
       "      <td>7.445200e+07</td>\n",
       "      <td>8.898800e+07</td>\n",
       "      <td>1.070060e+08</td>\n",
       "      <td>1.359870e+08</td>\n",
       "      <td>1.778660e+08</td>\n",
       "      <td>2.328870e+08</td>\n",
       "      <td>2.805220e+08</td>\n",
       "    </tr>\n",
       "    <tr>\n",
       "      <th>3.0</th>\n",
       "      <td>1.082490e+08</td>\n",
       "      <td>1.565080e+08</td>\n",
       "      <td>1.709100e+08</td>\n",
       "      <td>1.827950e+08</td>\n",
       "      <td>2.337150e+08</td>\n",
       "      <td>2.156390e+08</td>\n",
       "      <td>2.292340e+08</td>\n",
       "      <td>2.655950e+08</td>\n",
       "      <td>2.601740e+08</td>\n",
       "    </tr>\n",
       "    <tr>\n",
       "      <th>4.0</th>\n",
       "      <td>1.070800e+08</td>\n",
       "      <td>1.231200e+08</td>\n",
       "      <td>1.267610e+08</td>\n",
       "      <td>1.393670e+08</td>\n",
       "      <td>1.532900e+08</td>\n",
       "      <td>1.775460e+08</td>\n",
       "      <td>1.847860e+08</td>\n",
       "      <td>1.945790e+08</td>\n",
       "      <td>2.567760e+08</td>\n",
       "    </tr>\n",
       "    <tr>\n",
       "      <th>5.0</th>\n",
       "      <td>4.670290e+08</td>\n",
       "      <td>4.515090e+08</td>\n",
       "      <td>4.208360e+08</td>\n",
       "      <td>3.941050e+08</td>\n",
       "      <td>2.398540e+08</td>\n",
       "      <td>2.006280e+08</td>\n",
       "      <td>2.371620e+08</td>\n",
       "      <td>2.793320e+08</td>\n",
       "      <td>2.555830e+08</td>\n",
       "    </tr>\n",
       "    <tr>\n",
       "      <th>...</th>\n",
       "      <td>...</td>\n",
       "      <td>...</td>\n",
       "      <td>...</td>\n",
       "      <td>...</td>\n",
       "      <td>...</td>\n",
       "      <td>...</td>\n",
       "      <td>...</td>\n",
       "      <td>...</td>\n",
       "      <td>...</td>\n",
       "    </tr>\n",
       "    <tr>\n",
       "      <th>19816.0</th>\n",
       "      <td>0.000000e+00</td>\n",
       "      <td>0.000000e+00</td>\n",
       "      <td>2.102016e+06</td>\n",
       "      <td>1.470036e+05</td>\n",
       "      <td>4.166009e+04</td>\n",
       "      <td>1.453140e+03</td>\n",
       "      <td>3.372913e+04</td>\n",
       "      <td>-1.629530e+03</td>\n",
       "      <td>-1.510482e+04</td>\n",
       "    </tr>\n",
       "    <tr>\n",
       "      <th>19817.0</th>\n",
       "      <td>1.999184e+05</td>\n",
       "      <td>2.206320e+05</td>\n",
       "      <td>2.247263e+05</td>\n",
       "      <td>2.111582e+05</td>\n",
       "      <td>2.175781e+05</td>\n",
       "      <td>2.179777e+05</td>\n",
       "      <td>7.048170e+04</td>\n",
       "      <td>4.010596e+04</td>\n",
       "      <td>-1.615162e+04</td>\n",
       "    </tr>\n",
       "    <tr>\n",
       "      <th>19818.0</th>\n",
       "      <td>6.644995e+05</td>\n",
       "      <td>6.486813e+05</td>\n",
       "      <td>6.738931e+05</td>\n",
       "      <td>7.377048e+05</td>\n",
       "      <td>6.975915e+05</td>\n",
       "      <td>7.426194e+05</td>\n",
       "      <td>7.377128e+05</td>\n",
       "      <td>4.935553e+05</td>\n",
       "      <td>-1.723267e+04</td>\n",
       "    </tr>\n",
       "    <tr>\n",
       "      <th>19819.0</th>\n",
       "      <td>-1.789530e+05</td>\n",
       "      <td>-2.775080e+05</td>\n",
       "      <td>-9.443400e+04</td>\n",
       "      <td>-2.883100e+05</td>\n",
       "      <td>-3.757200e+04</td>\n",
       "      <td>-5.383700e+04</td>\n",
       "      <td>-1.431300e+04</td>\n",
       "      <td>-2.400000e+04</td>\n",
       "      <td>-2.800000e+04</td>\n",
       "    </tr>\n",
       "    <tr>\n",
       "      <th>19820.0</th>\n",
       "      <td>1.912520e+05</td>\n",
       "      <td>1.797180e+05</td>\n",
       "      <td>2.150560e+05</td>\n",
       "      <td>2.431340e+05</td>\n",
       "      <td>2.082160e+05</td>\n",
       "      <td>1.696200e+05</td>\n",
       "      <td>1.087510e+05</td>\n",
       "      <td>8.957300e+04</td>\n",
       "      <td>-9.578800e+04</td>\n",
       "    </tr>\n",
       "  </tbody>\n",
       "</table>\n",
       "<p>19820 rows × 9 columns</p>\n",
       "</div>"
      ],
      "text/plain": [
       "                 2011          2012          2013          2014          2015  \\\n",
       "id                                                                              \n",
       "1.0      4.465090e+08  4.686510e+08  4.762940e+08  4.856510e+08  4.821300e+08   \n",
       "2.0      4.807700e+07  6.109300e+07  7.445200e+07  8.898800e+07  1.070060e+08   \n",
       "3.0      1.082490e+08  1.565080e+08  1.709100e+08  1.827950e+08  2.337150e+08   \n",
       "4.0      1.070800e+08  1.231200e+08  1.267610e+08  1.393670e+08  1.532900e+08   \n",
       "5.0      4.670290e+08  4.515090e+08  4.208360e+08  3.941050e+08  2.398540e+08   \n",
       "...               ...           ...           ...           ...           ...   \n",
       "19816.0  0.000000e+00  0.000000e+00  2.102016e+06  1.470036e+05  4.166009e+04   \n",
       "19817.0  1.999184e+05  2.206320e+05  2.247263e+05  2.111582e+05  2.175781e+05   \n",
       "19818.0  6.644995e+05  6.486813e+05  6.738931e+05  7.377048e+05  6.975915e+05   \n",
       "19819.0 -1.789530e+05 -2.775080e+05 -9.443400e+04 -2.883100e+05 -3.757200e+04   \n",
       "19820.0  1.912520e+05  1.797180e+05  2.150560e+05  2.431340e+05  2.082160e+05   \n",
       "\n",
       "                 2016          2017          2018          2019  \n",
       "id                                                               \n",
       "1.0      4.858730e+08  5.003430e+08  5.144050e+08  5.239640e+08  \n",
       "2.0      1.359870e+08  1.778660e+08  2.328870e+08  2.805220e+08  \n",
       "3.0      2.156390e+08  2.292340e+08  2.655950e+08  2.601740e+08  \n",
       "4.0      1.775460e+08  1.847860e+08  1.945790e+08  2.567760e+08  \n",
       "5.0      2.006280e+08  2.371620e+08  2.793320e+08  2.555830e+08  \n",
       "...               ...           ...           ...           ...  \n",
       "19816.0  1.453140e+03  3.372913e+04 -1.629530e+03 -1.510482e+04  \n",
       "19817.0  2.179777e+05  7.048170e+04  4.010596e+04 -1.615162e+04  \n",
       "19818.0  7.426194e+05  7.377128e+05  4.935553e+05 -1.723267e+04  \n",
       "19819.0 -5.383700e+04 -1.431300e+04 -2.400000e+04 -2.800000e+04  \n",
       "19820.0  1.696200e+05  1.087510e+05  8.957300e+04 -9.578800e+04  \n",
       "\n",
       "[19820 rows x 9 columns]"
      ]
     },
     "execution_count": 2,
     "metadata": {},
     "output_type": "execute_result"
    }
   ],
   "source": [
    "%%time\n",
    "df_us = pd.read_csv('data/US_turnover.csv')\n",
    "df_us = df_us[['id', '2011', '2012', '2013', '2014', '2015', '2016', '2017', '2018', '2019']].set_index('id')\n",
    "df_us"
   ]
  },
  {
   "cell_type": "code",
   "execution_count": 3,
   "metadata": {},
   "outputs": [
    {
     "name": "stderr",
     "output_type": "stream",
     "text": [
      "/Users/shuhu/opt/anaconda3/lib/python3.7/site-packages/pandas/core/ops/array_ops.py:253: FutureWarning: elementwise comparison failed; returning scalar instead, but in the future will perform elementwise comparison\n",
      "  res_values = method(rvalues)\n",
      "/Users/shuhu/opt/anaconda3/lib/python3.7/site-packages/pandas/core/series.py:679: RuntimeWarning: divide by zero encountered in log\n",
      "  result = getattr(ufunc, method)(*inputs, **kwargs)\n",
      "/Users/shuhu/opt/anaconda3/lib/python3.7/site-packages/pandas/core/series.py:679: RuntimeWarning: invalid value encountered in log\n",
      "  result = getattr(ufunc, method)(*inputs, **kwargs)\n",
      "/Users/shuhu/opt/anaconda3/lib/python3.7/site-packages/pandas/core/algorithms.py:1926: RuntimeWarning: invalid value encountered in subtract\n",
      "  out_arr[res_indexer] = arr[res_indexer] - arr[lag_indexer]\n"
     ]
    }
   ],
   "source": [
    "df_us5 = fq.preprocess_data(df_us, var1='turnover', var2='logturnover')"
   ]
  },
  {
   "cell_type": "code",
   "execution_count": 4,
   "metadata": {},
   "outputs": [],
   "source": [
    "df_us6 = df_us5[df_us5['fgrow_log'] != 0.0]\n",
    "df_us7 = df_us6[df_us6['fgrow_log'] != np.inf]\n",
    "df_us8 = df_us7[df_us7['fgrow_log'] != - np.inf]\n",
    "df_us9 = df_us8[df_us8['turnover'] != 0.0]\n",
    "df_us10 = df_us9[df_us9['logturnover'] > 0.0]\n",
    "df_us10.to_csv('data/US_revenue.csv')"
   ]
  },
  {
   "cell_type": "code",
   "execution_count": 5,
   "metadata": {},
   "outputs": [
    {
     "data": {
      "image/png": "[encoded data removed]",
      "text/plain": [
       "<Figure size 432x288 with 1 Axes>"
      ]
     },
     "metadata": {
      "needs_background": "light"
     },
     "output_type": "display_data"
    }
   ],
   "source": [
    "fq.scatterplot(df_us10, x='logturnover', y='fgrow_log', xlabel='Log Size (Log Turnover)')"
   ]
  },
  {
   "cell_type": "code",
   "execution_count": null,
   "metadata": {},
   "outputs": [],
   "source": []
  },
  {
   "cell_type": "code",
   "execution_count": null,
   "metadata": {},
   "outputs": [],
   "source": []
  },
  {
   "cell_type": "code",
   "execution_count": null,
   "metadata": {},
   "outputs": [],
   "source": []
  },
  {
   "cell_type": "code",
   "execution_count": null,
   "metadata": {},
   "outputs": [],
   "source": []
  },
  {
   "cell_type": "code",
   "execution_count": null,
   "metadata": {},
   "outputs": [],
   "source": []
  }
 ],
 "metadata": {
  "kernelspec": {
   "display_name": "Python 3",
   "language": "python",
   "name": "python3"
  },
  "language_info": {
   "codemirror_mode": {
    "name": "ipython",
    "version": 3
   },
   "file_extension": ".py",
   "mimetype": "text/x-python",
   "name": "python",
   "nbconvert_exporter": "python",
   "pygments_lexer": "ipython3",
   "version": "3.7.6"
  }
 },
 "nbformat": 4,
 "nbformat_minor": 4
}
