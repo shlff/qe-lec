{
 "cells": [
  {
   "cell_type": "code",
   "execution_count": 1,
   "metadata": {},
   "outputs": [],
   "source": [
    "import numpy as np\n",
    "import pandas as pd\n",
    "import fs_qe as fq"
   ]
  },
  {
   "cell_type": "markdown",
   "metadata": {},
   "source": [
    "# 1 data process\n",
    "\n",
    "The imported sample is constructed with the strategy that picking up the US firm with firm-size (turnover) data all available from 2020 to 2011. For details, please see the file ``13``."
   ]
  },
  {
   "cell_type": "code",
   "execution_count": 13,
   "metadata": {},
   "outputs": [],
   "source": [
    "df, df2, df3, df4 = fq.dataprocess(file='data_all/us_to_all_postprocess.csv', var1='logturnover', var2='turnover', var3='turnover_mean')"
   ]
  },
  {
   "cell_type": "code",
   "execution_count": 16,
   "metadata": {},
   "outputs": [
    {
     "data": {
      "image/png": "[encoded data removed]",
      "text/plain": [
       "<Figure size 432x288 with 1 Axes>"
      ]
     },
     "metadata": {
      "needs_background": "light"
     },
     "output_type": "display_data"
    }
   ],
   "source": [
    "fq.scatterplot(df, x='logturnover', xlabel='Log Size (Log Turnover)')"
   ]
  },
  {
   "cell_type": "code",
   "execution_count": 17,
   "metadata": {},
   "outputs": [],
   "source": [
    "df5 = df2[df2['quantile_ex_1'] == pd.Interval(0.00895, 3.526, closed='right') ]\n",
    "df6 = df2[df2['quantile_ex_1'] == pd.Interval(3.526, 4.736, closed='right') ]\n",
    "df7 = df2[df2['quantile_ex_1'] == pd.Interval(4.736, 6.133, closed='right') ]\n",
    "df8 = df2[df2['quantile_ex_1'] == pd.Interval(6.133, 15.86, closed='right') ]\n"
   ]
  },
  {
   "cell_type": "code",
   "execution_count": 18,
   "metadata": {},
   "outputs": [
    {
     "data": {
      "text/html": [
       "<div>\n",
       "<style scoped>\n",
       "    .dataframe tbody tr th:only-of-type {\n",
       "        vertical-align: middle;\n",
       "    }\n",
       "\n",
       "    .dataframe tbody tr th {\n",
       "        vertical-align: top;\n",
       "    }\n",
       "\n",
       "    .dataframe thead th {\n",
       "        text-align: right;\n",
       "    }\n",
       "</style>\n",
       "<table border=\"1\" class=\"dataframe\">\n",
       "  <thead>\n",
       "    <tr style=\"text-align: right;\">\n",
       "      <th></th>\n",
       "      <th>count</th>\n",
       "      <th>Unnamed: 0</th>\n",
       "      <th>year</th>\n",
       "      <th>id</th>\n",
       "      <th>turnover</th>\n",
       "      <th>logturnover</th>\n",
       "      <th>fgrow_log</th>\n",
       "      <th>quantile_ex_1</th>\n",
       "    </tr>\n",
       "  </thead>\n",
       "  <tbody>\n",
       "    <tr>\n",
       "      <th>0</th>\n",
       "      <td>1</td>\n",
       "      <td>118904</td>\n",
       "      <td>2017</td>\n",
       "      <td>1267546</td>\n",
       "      <td>1.01</td>\n",
       "      <td>0.009950</td>\n",
       "      <td>3.876755</td>\n",
       "      <td>(0.00895, 3.526]</td>\n",
       "    </tr>\n",
       "    <tr>\n",
       "      <th>1</th>\n",
       "      <td>2</td>\n",
       "      <td>123502</td>\n",
       "      <td>2017</td>\n",
       "      <td>1271410</td>\n",
       "      <td>1.02</td>\n",
       "      <td>0.019803</td>\n",
       "      <td>0.084557</td>\n",
       "      <td>(0.00895, 3.526]</td>\n",
       "    </tr>\n",
       "    <tr>\n",
       "      <th>2</th>\n",
       "      <td>3</td>\n",
       "      <td>114787</td>\n",
       "      <td>2011</td>\n",
       "      <td>841935</td>\n",
       "      <td>1.02</td>\n",
       "      <td>0.019803</td>\n",
       "      <td>-2.140066</td>\n",
       "      <td>(0.00895, 3.526]</td>\n",
       "    </tr>\n",
       "    <tr>\n",
       "      <th>3</th>\n",
       "      <td>4</td>\n",
       "      <td>123110</td>\n",
       "      <td>2013</td>\n",
       "      <td>1271289</td>\n",
       "      <td>1.03</td>\n",
       "      <td>0.029559</td>\n",
       "      <td>-0.039609</td>\n",
       "      <td>(0.00895, 3.526]</td>\n",
       "    </tr>\n",
       "    <tr>\n",
       "      <th>4</th>\n",
       "      <td>5</td>\n",
       "      <td>122202</td>\n",
       "      <td>2014</td>\n",
       "      <td>1271020</td>\n",
       "      <td>1.03</td>\n",
       "      <td>0.029559</td>\n",
       "      <td>3.759844</td>\n",
       "      <td>(0.00895, 3.526]</td>\n",
       "    </tr>\n",
       "    <tr>\n",
       "      <th>...</th>\n",
       "      <td>...</td>\n",
       "      <td>...</td>\n",
       "      <td>...</td>\n",
       "      <td>...</td>\n",
       "      <td>...</td>\n",
       "      <td>...</td>\n",
       "      <td>...</td>\n",
       "      <td>...</td>\n",
       "    </tr>\n",
       "    <tr>\n",
       "      <th>26416</th>\n",
       "      <td>26417</td>\n",
       "      <td>67424</td>\n",
       "      <td>2014</td>\n",
       "      <td>31959</td>\n",
       "      <td>34.00</td>\n",
       "      <td>3.526361</td>\n",
       "      <td>0.057158</td>\n",
       "      <td>(0.00895, 3.526]</td>\n",
       "    </tr>\n",
       "    <tr>\n",
       "      <th>26417</th>\n",
       "      <td>26418</td>\n",
       "      <td>64494</td>\n",
       "      <td>2017</td>\n",
       "      <td>27366</td>\n",
       "      <td>34.00</td>\n",
       "      <td>3.526361</td>\n",
       "      <td>-0.125163</td>\n",
       "      <td>(0.00895, 3.526]</td>\n",
       "    </tr>\n",
       "    <tr>\n",
       "      <th>26418</th>\n",
       "      <td>26419</td>\n",
       "      <td>59090</td>\n",
       "      <td>2013</td>\n",
       "      <td>24535</td>\n",
       "      <td>34.00</td>\n",
       "      <td>3.526361</td>\n",
       "      <td>0.028988</td>\n",
       "      <td>(0.00895, 3.526]</td>\n",
       "    </tr>\n",
       "    <tr>\n",
       "      <th>26419</th>\n",
       "      <td>26420</td>\n",
       "      <td>62419</td>\n",
       "      <td>2017</td>\n",
       "      <td>26105</td>\n",
       "      <td>34.00</td>\n",
       "      <td>3.526361</td>\n",
       "      <td>0.028988</td>\n",
       "      <td>(0.00895, 3.526]</td>\n",
       "    </tr>\n",
       "    <tr>\n",
       "      <th>26420</th>\n",
       "      <td>26421</td>\n",
       "      <td>64426</td>\n",
       "      <td>2012</td>\n",
       "      <td>27350</td>\n",
       "      <td>34.00</td>\n",
       "      <td>3.526361</td>\n",
       "      <td>-0.029853</td>\n",
       "      <td>(0.00895, 3.526]</td>\n",
       "    </tr>\n",
       "  </tbody>\n",
       "</table>\n",
       "<p>26421 rows × 8 columns</p>\n",
       "</div>"
      ],
      "text/plain": [
       "       count  Unnamed: 0  year       id  turnover  logturnover  fgrow_log  \\\n",
       "0          1      118904  2017  1267546      1.01     0.009950   3.876755   \n",
       "1          2      123502  2017  1271410      1.02     0.019803   0.084557   \n",
       "2          3      114787  2011   841935      1.02     0.019803  -2.140066   \n",
       "3          4      123110  2013  1271289      1.03     0.029559  -0.039609   \n",
       "4          5      122202  2014  1271020      1.03     0.029559   3.759844   \n",
       "...      ...         ...   ...      ...       ...          ...        ...   \n",
       "26416  26417       67424  2014    31959     34.00     3.526361   0.057158   \n",
       "26417  26418       64494  2017    27366     34.00     3.526361  -0.125163   \n",
       "26418  26419       59090  2013    24535     34.00     3.526361   0.028988   \n",
       "26419  26420       62419  2017    26105     34.00     3.526361   0.028988   \n",
       "26420  26421       64426  2012    27350     34.00     3.526361  -0.029853   \n",
       "\n",
       "          quantile_ex_1  \n",
       "0      (0.00895, 3.526]  \n",
       "1      (0.00895, 3.526]  \n",
       "2      (0.00895, 3.526]  \n",
       "3      (0.00895, 3.526]  \n",
       "4      (0.00895, 3.526]  \n",
       "...                 ...  \n",
       "26416  (0.00895, 3.526]  \n",
       "26417  (0.00895, 3.526]  \n",
       "26418  (0.00895, 3.526]  \n",
       "26419  (0.00895, 3.526]  \n",
       "26420  (0.00895, 3.526]  \n",
       "\n",
       "[26421 rows x 8 columns]"
      ]
     },
     "execution_count": 18,
     "metadata": {},
     "output_type": "execute_result"
    }
   ],
   "source": [
    "df5"
   ]
  },
  {
   "cell_type": "code",
   "execution_count": 19,
   "metadata": {},
   "outputs": [
    {
     "data": {
      "text/plain": [
       "array([ 3.88,  0.08, -2.14, ...,  0.03,  0.03, -0.03])"
      ]
     },
     "execution_count": 19,
     "metadata": {},
     "output_type": "execute_result"
    }
   ],
   "source": [
    "draw1 = np.array(round(df5['fgrow_log'], ndigits=2))\n",
    "draw2 = np.array(round(df6['fgrow_log'], ndigits=2))\n",
    "draw3 = np.array(round(df7['fgrow_log'], ndigits=2))\n",
    "draw4 = np.array(round(df8['fgrow_log'], ndigits=2))\n",
    "draw1"
   ]
  },
  {
   "cell_type": "markdown",
   "metadata": {},
   "source": [
    "# 2 bar graphs and PDFs"
   ]
  },
  {
   "cell_type": "markdown",
   "metadata": {},
   "source": [
    "## 2.1 bar graphs for mean and standard deviation of firm growth "
   ]
  },
  {
   "cell_type": "code",
   "execution_count": 20,
   "metadata": {},
   "outputs": [
    {
     "data": {
      "image/png": "[encoded data removed]",
      "text/plain": [
       "<Figure size 432x288 with 1 Axes>"
      ]
     },
     "metadata": {
      "needs_background": "light"
     },
     "output_type": "display_data"
    }
   ],
   "source": [
    "fq.plotbars(df3)"
   ]
  },
  {
   "cell_type": "code",
   "execution_count": 21,
   "metadata": {},
   "outputs": [
    {
     "data": {
      "image/png": "[encoded data removed]",
      "text/plain": [
       "<Figure size 432x288 with 1 Axes>"
      ]
     },
     "metadata": {
      "needs_background": "light"
     },
     "output_type": "display_data"
    }
   ],
   "source": [
    "fq.plotbars(df4, ylabel='growth standard deviation')"
   ]
  },
  {
   "cell_type": "code",
   "execution_count": null,
   "metadata": {},
   "outputs": [],
   "source": []
  },
  {
   "cell_type": "markdown",
   "metadata": {},
   "source": [
    "## 2.2 PDFs for growth of firms in 4 bins above, respectively"
   ]
  },
  {
   "cell_type": "markdown",
   "metadata": {},
   "source": [
    "The ``empirical func1`` shows the empirical PDF functions of firm growth for firms in **bin 1** above.\n",
    "\n",
    "The ``empirical func2`` shows the empirical PDF functions of firm growth for firms in **bin 2** above.\n",
    "\n",
    "The ``empirical func3`` shows the empirical PDF functions of firm growth for firms in **bin 3** above.\n",
    "\n",
    "The ``empirical func4`` shows the empirical PDF functions of firm growth for firms in **bin 4** above."
   ]
  },
  {
   "cell_type": "code",
   "execution_count": 22,
   "metadata": {},
   "outputs": [],
   "source": [
    "d1 = fq.generating_pdf(draw1)\n",
    "d2 = fq.generating_pdf(draw2)\n",
    "d3 = fq.generating_pdf(draw3)\n",
    "d4 = fq.generating_pdf(draw4)"
   ]
  },
  {
   "cell_type": "code",
   "execution_count": 23,
   "metadata": {},
   "outputs": [],
   "source": [
    "x1 = d1['fgrow_mean']\n",
    "x2 = d2['fgrow_mean']\n",
    "x3 = d3['fgrow_mean']\n",
    "x4 = d4['fgrow_mean']\n",
    "\n",
    "y1 = d1['prob']\n",
    "y2 = d2['prob']\n",
    "y3 = d3['prob']\n",
    "y4 = d4['prob']"
   ]
  },
  {
   "cell_type": "code",
   "execution_count": 24,
   "metadata": {},
   "outputs": [
    {
     "data": {
      "image/png": "[encoded data removed]",
      "text/plain": [
       "<Figure size 432x288 with 1 Axes>"
      ]
     },
     "metadata": {
      "needs_background": "light"
     },
     "output_type": "display_data"
    }
   ],
   "source": [
    "fq.density_plot(x1, x2, x3, x4, y1, y2, y3, y4)"
   ]
  },
  {
   "cell_type": "code",
   "execution_count": null,
   "metadata": {},
   "outputs": [],
   "source": []
  },
  {
   "cell_type": "code",
   "execution_count": null,
   "metadata": {},
   "outputs": [],
   "source": []
  },
  {
   "cell_type": "markdown",
   "metadata": {},
   "source": [
    "# 3 tail index"
   ]
  },
  {
   "cell_type": "code",
   "execution_count": 25,
   "metadata": {},
   "outputs": [],
   "source": [
    "s_dist1 = df.turnover\n",
    "s_dist2 = df.logturnover\n",
    "s_dist3 = df.fgrow_log"
   ]
  },
  {
   "cell_type": "markdown",
   "metadata": {},
   "source": [
    "The tail index for firm size distribution with firm size measured by total asset is"
   ]
  },
  {
   "cell_type": "code",
   "execution_count": 26,
   "metadata": {},
   "outputs": [
    {
     "data": {
      "text/plain": [
       "1.3438145654052236"
      ]
     },
     "execution_count": 26,
     "metadata": {},
     "output_type": "execute_result"
    }
   ],
   "source": [
    "fq.gabaix_est(s_dist1, c=0.01)"
   ]
  },
  {
   "cell_type": "markdown",
   "metadata": {},
   "source": [
    "The tail index for log firm size distribution with firm size measured by total asset is"
   ]
  },
  {
   "cell_type": "code",
   "execution_count": 27,
   "metadata": {},
   "outputs": [
    {
     "data": {
      "text/plain": [
       "16.6324480894067"
      ]
     },
     "execution_count": 27,
     "metadata": {},
     "output_type": "execute_result"
    }
   ],
   "source": [
    "fq.gabaix_est(s_dist2, c=0.01)"
   ]
  },
  {
   "cell_type": "markdown",
   "metadata": {},
   "source": [
    "The tail index for firm growth distribution with firm size measured by total asset is"
   ]
  },
  {
   "cell_type": "code",
   "execution_count": 28,
   "metadata": {},
   "outputs": [
    {
     "data": {
      "text/plain": [
       "2.4431751716462085"
      ]
     },
     "execution_count": 28,
     "metadata": {},
     "output_type": "execute_result"
    }
   ],
   "source": [
    "fq.gabaix_est(s_dist3, c=0.01)"
   ]
  },
  {
   "cell_type": "markdown",
   "metadata": {},
   "source": [
    "## 3.3 tail index for firm size distribution yearly from 2011 to 2020"
   ]
  },
  {
   "cell_type": "code",
   "execution_count": 29,
   "metadata": {},
   "outputs": [
    {
     "name": "stdout",
     "output_type": "stream",
     "text": [
      "None in year 2010\n",
      "Tail index in year 2011 is 1.1239118051900368\n",
      "Tail index in year 2012 is 1.245921358665504\n",
      "Tail index in year 2013 is 1.2675204368320003\n",
      "Tail index in year 2014 is 1.4128782575265195\n",
      "Tail index in year 2015 is 1.4802167246507278\n",
      "Tail index in year 2016 is 1.443030590533364\n",
      "Tail index in year 2017 is 1.3520483852323746\n",
      "Tail index in year 2018 is 1.6395914429467342\n"
     ]
    }
   ],
   "source": [
    "n = 2010\n",
    "N = 2018\n",
    "while n <= N:\n",
    "    x = df[df['year'] == n].turnover\n",
    "    if len(x) == 0: \n",
    "        print('None in year', n)\n",
    "    else:\n",
    "        print('Tail index in year', n, 'is', fq.gabaix_est(x, c=0.01))\n",
    "    n += 1"
   ]
  },
  {
   "cell_type": "markdown",
   "metadata": {},
   "source": [
    "## 3.4 tail index for log firm size distribution yearly from 2011 to 2020"
   ]
  },
  {
   "cell_type": "code",
   "execution_count": 30,
   "metadata": {},
   "outputs": [
    {
     "name": "stdout",
     "output_type": "stream",
     "text": [
      "None in year 2010\n",
      "Tail index in year 2011 is 14.424280445058827\n",
      "Tail index in year 2012 is 15.67463687258609\n",
      "Tail index in year 2013 is 15.918046900336964\n",
      "Tail index in year 2014 is 17.296057910765978\n",
      "Tail index in year 2015 is 18.00982168086383\n",
      "Tail index in year 2016 is 17.635025649597555\n",
      "Tail index in year 2017 is 16.51186184784411\n",
      "Tail index in year 2018 is 19.47267090321462\n"
     ]
    }
   ],
   "source": [
    "n = 2010\n",
    "N = 2018\n",
    "while n <= N:\n",
    "    x = df[df['year'] == n].logturnover\n",
    "    if len(x) == 0: \n",
    "        print('None in year', n)\n",
    "    else:\n",
    "        print('Tail index in year', n, 'is', fq.gabaix_est(x, c=0.01))\n",
    "    n += 1"
   ]
  },
  {
   "cell_type": "markdown",
   "metadata": {},
   "source": [
    "## 3.5 tail index for firm growth distribution yearly from 2011 to 2020"
   ]
  },
  {
   "cell_type": "code",
   "execution_count": 31,
   "metadata": {},
   "outputs": [
    {
     "name": "stdout",
     "output_type": "stream",
     "text": [
      "None in year 2010\n",
      "Tail index in year 2011 is 2.414770877334475\n",
      "Tail index in year 2012 is 2.0659897282004116\n",
      "Tail index in year 2013 is 2.4624297657077303\n",
      "Tail index in year 2014 is 2.2320633661858773\n",
      "Tail index in year 2015 is 2.7085495368316033\n",
      "Tail index in year 2016 is 2.62996706931283\n",
      "Tail index in year 2017 is 2.4351875789275788\n",
      "Tail index in year 2018 is 2.381912327287136\n"
     ]
    }
   ],
   "source": [
    "n = 2010\n",
    "N = 2018\n",
    "while n <= N:\n",
    "    x = df[df['year'] == n].fgrow_log\n",
    "    if len(x) == 0: \n",
    "        print('None in year', n)\n",
    "    else:\n",
    "        print('Tail index in year', n, 'is', fq.gabaix_est(x, c=0.01))\n",
    "    n += 1"
   ]
  },
  {
   "cell_type": "code",
   "execution_count": null,
   "metadata": {},
   "outputs": [],
   "source": []
  },
  {
   "cell_type": "code",
   "execution_count": null,
   "metadata": {},
   "outputs": [],
   "source": []
  },
  {
   "cell_type": "code",
   "execution_count": null,
   "metadata": {},
   "outputs": [],
   "source": []
  },
  {
   "cell_type": "code",
   "execution_count": null,
   "metadata": {},
   "outputs": [],
   "source": []
  },
  {
   "cell_type": "code",
   "execution_count": null,
   "metadata": {},
   "outputs": [],
   "source": []
  },
  {
   "cell_type": "code",
   "execution_count": null,
   "metadata": {},
   "outputs": [],
   "source": []
  },
  {
   "cell_type": "code",
   "execution_count": null,
   "metadata": {},
   "outputs": [],
   "source": []
  }
 ],
 "metadata": {
  "kernelspec": {
   "display_name": "Python 3",
   "language": "python",
   "name": "python3"
  },
  "language_info": {
   "codemirror_mode": {
    "name": "ipython",
    "version": 3
   },
   "file_extension": ".py",
   "mimetype": "text/x-python",
   "name": "python",
   "nbconvert_exporter": "python",
   "pygments_lexer": "ipython3",
   "version": "3.7.6"
  }
 },
 "nbformat": 4,
 "nbformat_minor": 4
}
