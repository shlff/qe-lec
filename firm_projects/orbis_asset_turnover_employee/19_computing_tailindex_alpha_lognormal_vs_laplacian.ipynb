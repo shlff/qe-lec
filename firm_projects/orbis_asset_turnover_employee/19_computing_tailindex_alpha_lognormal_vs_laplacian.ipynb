{
 "cells": [
  {
   "cell_type": "code",
   "execution_count": 1,
   "metadata": {},
   "outputs": [],
   "source": [
    "import numpy as np\n",
    "import pandas as pd\n",
    "import fs_qe as fq"
   ]
  },
  {
   "cell_type": "markdown",
   "metadata": {},
   "source": [
    "## 1 analytical tail estimation with lognormal distributions assumed\n",
    "\n",
    "The law of motion for the firm size is\n",
    "\n",
    "$$\n",
    "\\ln \\frac{S_{t+1}}{S_{t}} = a + b \\frac{1}{\\ln S_t} \\tag{1}\n",
    "$$\n",
    "where\n",
    "- $S_t$ is the firm size at time $t$\n",
    "- $a \\sim N(\\mu_{a}, \\sigma^2_{a})$\n",
    "- $b \\sim N(\\mu_{b}, \\sigma^2_{b})$\n",
    "\n",
    "\n",
    "Recall equation [(1)](#), as $S_t \\to \\infty$, we have\n",
    "\n",
    "$$\n",
    "\\ln \\frac{S_{t+1}}{S_{t}} = a \\tag{2}\n",
    "$$\n",
    "\n",
    "Taking logarithm of both sides of [(2)](#) yields\n",
    "\n",
    "$$\n",
    "\\frac{S_{t+1}}{S_{t}} = \\exp (a) \\tag{3}\n",
    "$$\n",
    "\n",
    "By [Kesten-Goldien Theorem](https://python.quantecon.org/kesten_processes.html#The-Kesten%E2%80%93Goldie-Theorem), we have a positive constant $\\alpha$, which is the tail index of the Pareto distribution followed by the stationary firm size distribution, such that\n",
    "\n",
    "$$\n",
    "\\mathbb E (\\exp (a)^{\\alpha} ) = 1 \\tag{4}\n",
    "$$\n",
    "\n",
    "By the property of exponential functions, $a \\sim N(\\mu_a, \\sigma^2_a)$ and lognormal distribution, let $\\epsilon \\sim N(0, 1)$ equation [(4)](#) can be rewritten as\n",
    "\n",
    "$$\n",
    "\\mathbb E (\\exp (a)^{\\alpha} ) =  \\mathbb E (\\exp (\\mu_a + \\sigma_a \\epsilon)^{\\alpha} )\\\\\n",
    "= \\mathbb E (\\exp (\\mu_a \\alpha + \\sigma_a \\epsilon \\alpha) ) \\\\\n",
    "= \\exp (  \\alpha \\mu_a + \\frac{\\sigma^2_a \\alpha^2}{2} ) =1 \\tag{5}\n",
    "$$\n",
    "or equivalently\n",
    "$$\n",
    "\\exp (  \\alpha \\mu_a + \\frac{\\sigma^2_a \\alpha^2}{2} ) =1 \\tag{6}\n",
    "$$\n",
    "\n",
    "Taking logarithm of both sides of [(6)](#) yields\n",
    "\n",
    "$$\n",
    "\\alpha \\mu_a + \\frac{\\sigma^2_a \\alpha^2}{2} =0 \\tag{7}\n",
    "$$\n",
    "\n",
    "Rearrange [(7)](#), we get\n",
    "\n",
    "$$\n",
    "\\alpha = - \\frac{2 \\mu_a}{\\sigma^2_a} \\tag{8}\n",
    "$$\n",
    "\n",
    "For the following parts, we estimate the tail index $\\alpha$ of the stationary distribution using equation [(8)](#)."
   ]
  },
  {
   "cell_type": "markdown",
   "metadata": {},
   "source": [
    "## 2 tail estimation with laplacian distributions assumed"
   ]
  },
  {
   "cell_type": "markdown",
   "metadata": {},
   "source": [
    "A random variable has a Laplace$(\\mu, b)$ distribution if its PDF is\n",
    "\n",
    "$$\n",
    "f (x |\\mu, \\lambda)  = 0.5 \\lambda \\exp( - \\lambda |x - \\mu | )\n",
    "$$"
   ]
  },
  {
   "cell_type": "markdown",
   "metadata": {},
   "source": [
    "Recall equation [(4)](#)"
   ]
  },
  {
   "cell_type": "code",
   "execution_count": null,
   "metadata": {},
   "outputs": [],
   "source": []
  },
  {
   "cell_type": "code",
   "execution_count": null,
   "metadata": {},
   "outputs": [],
   "source": []
  },
  {
   "cell_type": "markdown",
   "metadata": {},
   "source": [
    "First estimate parameters of laplcian distribution with data observations."
   ]
  },
  {
   "cell_type": "code",
   "execution_count": 6,
   "metadata": {},
   "outputs": [],
   "source": [
    "def paras(obs):\n",
    "    μ_hat = np.median(obs)\n",
    "    b_hat = np.mean(np.abs(obs - μ_hat))\n",
    "    λ_hat = 1/b_hat\n",
    "    return μ_hat, λ_hat"
   ]
  },
  {
   "cell_type": "markdown",
   "metadata": {},
   "source": [
    "Then define a function called ``laplace`` to generate density of laplacian distribution."
   ]
  },
  {
   "cell_type": "code",
   "execution_count": 5,
   "metadata": {},
   "outputs": [],
   "source": [
    "def laplace(x, μ, λ):\n",
    "    return 0.5 * λ * np.exp(- λ * np.abs(x - μ))"
   ]
  },
  {
   "cell_type": "markdown",
   "metadata": {},
   "source": [
    "Next compute the tail index $\\alpha$ by assuming the laplacian distribution."
   ]
  },
  {
   "cell_type": "code",
   "execution_count": 8,
   "metadata": {},
   "outputs": [],
   "source": [
    "def compute_alpha(alpha_grid, μ, λ):\n",
    "    vals = np.zeros_like(alpha_grid)\n",
    "    for i, α in enumerate(alpha_grid):\n",
    "        g = lambda x: np.exp(α * x) * laplace(x, μ, λ)\n",
    "        x_grid = np.linspace(-2, μ, 200)\n",
    "        y_grid = g(x_grid)\n",
    "        vals[i] += simps(y_grid, x_grid)\n",
    "        x_grid = np.linspace(μ, 2, 200)\n",
    "        y_grid = g(x_grid)\n",
    "        vals[i] += simps(y_grid, x_grid)\n",
    "\n",
    "    return vals"
   ]
  },
  {
   "cell_type": "markdown",
   "metadata": {},
   "source": [
    "In addition, we can compute the moments."
   ]
  },
  {
   "cell_type": "code",
   "execution_count": 9,
   "metadata": {},
   "outputs": [],
   "source": [
    "def m(α):\n",
    "    \"Moment generating function E exp(α G) where G is growth rate, Laplace distribution\"\n",
    "    return np.exp(μ_hat * α) / (1 - α**2 / λ_hat**2)"
   ]
  },
  {
   "cell_type": "code",
   "execution_count": null,
   "metadata": {},
   "outputs": [],
   "source": []
  },
  {
   "cell_type": "code",
   "execution_count": null,
   "metadata": {},
   "outputs": [],
   "source": []
  },
  {
   "cell_type": "code",
   "execution_count": null,
   "metadata": {},
   "outputs": [],
   "source": []
  }
 ],
 "metadata": {
  "kernelspec": {
   "display_name": "Python 3",
   "language": "python",
   "name": "python3"
  },
  "language_info": {
   "codemirror_mode": {
    "name": "ipython",
    "version": 3
   },
   "file_extension": ".py",
   "mimetype": "text/x-python",
   "name": "python",
   "nbconvert_exporter": "python",
   "pygments_lexer": "ipython3",
   "version": "3.7.6"
  }
 },
 "nbformat": 4,
 "nbformat_minor": 4
}
