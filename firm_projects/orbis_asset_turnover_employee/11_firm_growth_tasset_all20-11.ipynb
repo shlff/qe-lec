{
 "cells": [
  {
   "cell_type": "code",
   "execution_count": 1,
   "metadata": {},
   "outputs": [],
   "source": [
    "import pandas as pd\n",
    "import numpy as np\n",
    "import fs_qe as fq\n",
    "%matplotlib inline"
   ]
  },
  {
   "cell_type": "markdown",
   "metadata": {},
   "source": [
    "# 1 merging and data processing\n",
    "\n",
    "## 1.1 merging"
   ]
  },
  {
   "cell_type": "code",
   "execution_count": 2,
   "metadata": {},
   "outputs": [],
   "source": [
    "def import_data2(file='data_all/us_tasset_all1.csv'):\n",
    "    df = pd.read_csv(file)\n",
    "    df = df[['id', '2011', '2012', '2013', '2014', '2015', '2016', '2017', '2018', '2019', '2020']].set_index('id')\n",
    "    return df"
   ]
  },
  {
   "cell_type": "code",
   "execution_count": 3,
   "metadata": {},
   "outputs": [],
   "source": [
    "df1 = fq.import_data2()\n",
    "df2 = fq.import_data2(file='data_all/us_tasset_all2.csv')"
   ]
  },
  {
   "cell_type": "code",
   "execution_count": 4,
   "metadata": {},
   "outputs": [
    {
     "data": {
      "text/html": [
       "<div>\n",
       "<style scoped>\n",
       "    .dataframe tbody tr th:only-of-type {\n",
       "        vertical-align: middle;\n",
       "    }\n",
       "\n",
       "    .dataframe tbody tr th {\n",
       "        vertical-align: top;\n",
       "    }\n",
       "\n",
       "    .dataframe thead th {\n",
       "        text-align: right;\n",
       "    }\n",
       "</style>\n",
       "<table border=\"1\" class=\"dataframe\">\n",
       "  <thead>\n",
       "    <tr style=\"text-align: right;\">\n",
       "      <th></th>\n",
       "      <th>2011</th>\n",
       "      <th>2012</th>\n",
       "      <th>2013</th>\n",
       "      <th>2014</th>\n",
       "      <th>2015</th>\n",
       "      <th>2016</th>\n",
       "      <th>2017</th>\n",
       "      <th>2018</th>\n",
       "      <th>2019</th>\n",
       "      <th>2020</th>\n",
       "    </tr>\n",
       "  </thead>\n",
       "  <tbody>\n",
       "    <tr>\n",
       "      <th>0</th>\n",
       "      <td>2200000.00</td>\n",
       "      <td>2200000.00</td>\n",
       "      <td>2200000.00</td>\n",
       "      <td>2200000.00</td>\n",
       "      <td>2300000.00</td>\n",
       "      <td>2300000.00</td>\n",
       "      <td>2300000.00</td>\n",
       "      <td>2200000.00</td>\n",
       "      <td>2200000.00</td>\n",
       "      <td>n.a.</td>\n",
       "    </tr>\n",
       "    <tr>\n",
       "      <th>1</th>\n",
       "      <td>56200.00</td>\n",
       "      <td>88400.00</td>\n",
       "      <td>117300.00</td>\n",
       "      <td>154100.00</td>\n",
       "      <td>230800.00</td>\n",
       "      <td>341400.00</td>\n",
       "      <td>566000.00</td>\n",
       "      <td>647500.00</td>\n",
       "      <td>798000.00</td>\n",
       "      <td>n.a.</td>\n",
       "    </tr>\n",
       "    <tr>\n",
       "      <th>2</th>\n",
       "      <td>60400.00</td>\n",
       "      <td>72800.00</td>\n",
       "      <td>80300.00</td>\n",
       "      <td>92600.00</td>\n",
       "      <td>110000.00</td>\n",
       "      <td>116000.00</td>\n",
       "      <td>123000.00</td>\n",
       "      <td>132000.00</td>\n",
       "      <td>137000.00</td>\n",
       "      <td>n.a.</td>\n",
       "    </tr>\n",
       "    <tr>\n",
       "      <th>3</th>\n",
       "      <td>280000.00</td>\n",
       "      <td>280000.00</td>\n",
       "      <td>208000.00</td>\n",
       "      <td>217800.00</td>\n",
       "      <td>243000.00</td>\n",
       "      <td>250000.00</td>\n",
       "      <td>332000.00</td>\n",
       "      <td>295000.00</td>\n",
       "      <td>290000.00</td>\n",
       "      <td>n.a.</td>\n",
       "    </tr>\n",
       "    <tr>\n",
       "      <th>4</th>\n",
       "      <td>82100.00</td>\n",
       "      <td>76900.00</td>\n",
       "      <td>75000.00</td>\n",
       "      <td>75300.00</td>\n",
       "      <td>73500.00</td>\n",
       "      <td>71100.00</td>\n",
       "      <td>69600.00</td>\n",
       "      <td>71000.00</td>\n",
       "      <td>74900.00</td>\n",
       "      <td>n.a.</td>\n",
       "    </tr>\n",
       "    <tr>\n",
       "      <th>...</th>\n",
       "      <td>...</td>\n",
       "      <td>...</td>\n",
       "      <td>...</td>\n",
       "      <td>...</td>\n",
       "      <td>...</td>\n",
       "      <td>...</td>\n",
       "      <td>...</td>\n",
       "      <td>...</td>\n",
       "      <td>...</td>\n",
       "      <td>...</td>\n",
       "    </tr>\n",
       "    <tr>\n",
       "      <th>153341</th>\n",
       "      <td>n.a.</td>\n",
       "      <td>n.a.</td>\n",
       "      <td>n.a.</td>\n",
       "      <td>n.a.</td>\n",
       "      <td>n.a.</td>\n",
       "      <td>n.a.</td>\n",
       "      <td>n.a.</td>\n",
       "      <td>11.45</td>\n",
       "      <td>n.a.</td>\n",
       "      <td>n.a.</td>\n",
       "    </tr>\n",
       "    <tr>\n",
       "      <th>153342</th>\n",
       "      <td>n.a.</td>\n",
       "      <td>n.a.</td>\n",
       "      <td>n.a.</td>\n",
       "      <td>n.a.</td>\n",
       "      <td>n.a.</td>\n",
       "      <td>n.a.</td>\n",
       "      <td>n.a.</td>\n",
       "      <td>1067372.97</td>\n",
       "      <td>n.a.</td>\n",
       "      <td>n.a.</td>\n",
       "    </tr>\n",
       "    <tr>\n",
       "      <th>153343</th>\n",
       "      <td>n.a.</td>\n",
       "      <td>n.a.</td>\n",
       "      <td>n.a.</td>\n",
       "      <td>n.a.</td>\n",
       "      <td>n.a.</td>\n",
       "      <td>n.a.</td>\n",
       "      <td>n.a.</td>\n",
       "      <td>303209.83</td>\n",
       "      <td>n.a.</td>\n",
       "      <td>n.a.</td>\n",
       "    </tr>\n",
       "    <tr>\n",
       "      <th>153344</th>\n",
       "      <td>n.a.</td>\n",
       "      <td>n.a.</td>\n",
       "      <td>n.a.</td>\n",
       "      <td>n.a.</td>\n",
       "      <td>n.a.</td>\n",
       "      <td>n.a.</td>\n",
       "      <td>n.a.</td>\n",
       "      <td>0.10</td>\n",
       "      <td>n.a.</td>\n",
       "      <td>n.a.</td>\n",
       "    </tr>\n",
       "    <tr>\n",
       "      <th>153345</th>\n",
       "      <td>n.a.</td>\n",
       "      <td>n.a.</td>\n",
       "      <td>n.a.</td>\n",
       "      <td>n.a.</td>\n",
       "      <td>n.a.</td>\n",
       "      <td>n.a.</td>\n",
       "      <td>n.a.</td>\n",
       "      <td>n.a.</td>\n",
       "      <td>0.00</td>\n",
       "      <td>n.a.</td>\n",
       "    </tr>\n",
       "  </tbody>\n",
       "</table>\n",
       "<p>153346 rows × 10 columns</p>\n",
       "</div>"
      ],
      "text/plain": [
       "              2011        2012        2013        2014        2015  \\\n",
       "0       2200000.00  2200000.00  2200000.00  2200000.00  2300000.00   \n",
       "1         56200.00    88400.00   117300.00   154100.00   230800.00   \n",
       "2         60400.00    72800.00    80300.00    92600.00   110000.00   \n",
       "3        280000.00   280000.00   208000.00   217800.00   243000.00   \n",
       "4         82100.00    76900.00    75000.00    75300.00    73500.00   \n",
       "...            ...         ...         ...         ...         ...   \n",
       "153341        n.a.        n.a.        n.a.        n.a.        n.a.   \n",
       "153342        n.a.        n.a.        n.a.        n.a.        n.a.   \n",
       "153343        n.a.        n.a.        n.a.        n.a.        n.a.   \n",
       "153344        n.a.        n.a.        n.a.        n.a.        n.a.   \n",
       "153345        n.a.        n.a.        n.a.        n.a.        n.a.   \n",
       "\n",
       "              2016        2017        2018        2019  2020  \n",
       "0       2300000.00  2300000.00  2200000.00  2200000.00  n.a.  \n",
       "1        341400.00   566000.00   647500.00   798000.00  n.a.  \n",
       "2        116000.00   123000.00   132000.00   137000.00  n.a.  \n",
       "3        250000.00   332000.00   295000.00   290000.00  n.a.  \n",
       "4         71100.00    69600.00    71000.00    74900.00  n.a.  \n",
       "...            ...         ...         ...         ...   ...  \n",
       "153341        n.a.        n.a.       11.45        n.a.  n.a.  \n",
       "153342        n.a.        n.a.  1067372.97        n.a.  n.a.  \n",
       "153343        n.a.        n.a.   303209.83        n.a.  n.a.  \n",
       "153344        n.a.        n.a.        0.10        n.a.  n.a.  \n",
       "153345        n.a.        n.a.        n.a.        0.00  n.a.  \n",
       "\n",
       "[153346 rows x 10 columns]"
      ]
     },
     "execution_count": 4,
     "metadata": {},
     "output_type": "execute_result"
    }
   ],
   "source": [
    "df_us = df1.append(df2, ignore_index=True)\n",
    "df_us"
   ]
  },
  {
   "cell_type": "markdown",
   "metadata": {},
   "source": [
    "## 1.2 data processing"
   ]
  },
  {
   "cell_type": "code",
   "execution_count": 6,
   "metadata": {},
   "outputs": [
    {
     "name": "stderr",
     "output_type": "stream",
     "text": [
      "/Users/shuhu/opt/anaconda3/lib/python3.7/site-packages/pandas/core/series.py:679: RuntimeWarning: divide by zero encountered in log\n",
      "  result = getattr(ufunc, method)(*inputs, **kwargs)\n",
      "/Users/shuhu/opt/anaconda3/lib/python3.7/site-packages/pandas/core/series.py:679: RuntimeWarning: invalid value encountered in log\n",
      "  result = getattr(ufunc, method)(*inputs, **kwargs)\n",
      "/Users/shuhu/opt/anaconda3/lib/python3.7/site-packages/pandas/core/algorithms.py:1926: RuntimeWarning: invalid value encountered in subtract\n",
      "  out_arr[res_indexer] = arr[res_indexer] - arr[lag_indexer]\n"
     ]
    }
   ],
   "source": [
    "df_us5 = fq.preprocess_data(df_us, var1='tasset', var2='logtasset')"
   ]
  },
  {
   "cell_type": "code",
   "execution_count": 7,
   "metadata": {},
   "outputs": [],
   "source": [
    "df_us6 = df_us5[df_us5['fgrow_log'] != 0.0]\n",
    "df_us7 = df_us6[df_us6['fgrow_log'] != np.inf]\n",
    "df_us8 = df_us7[df_us7['fgrow_log'] != - np.inf]\n",
    "df_us9 = df_us8[df_us8['tasset'] != 0.0]\n",
    "df_us10 = df_us9[df_us9['logtasset'] > 0.0]\n",
    "df_us10.to_csv('data_all/us_tasset_all_postprocess.csv')"
   ]
  },
  {
   "cell_type": "code",
   "execution_count": 8,
   "metadata": {},
   "outputs": [
    {
     "ename": "NameError",
     "evalue": "name 'scatterplot' is not defined",
     "output_type": "error",
     "traceback": [
      "\u001b[0;31m---------------------------------------------------------------------------\u001b[0m",
      "\u001b[0;31mNameError\u001b[0m                                 Traceback (most recent call last)",
      "\u001b[0;32m<ipython-input-8-cfbaf523626f>\u001b[0m in \u001b[0;36m<module>\u001b[0;34m\u001b[0m\n\u001b[0;32m----> 1\u001b[0;31m \u001b[0mscatterplot\u001b[0m\u001b[0;34m(\u001b[0m\u001b[0mdf_us10\u001b[0m\u001b[0;34m,\u001b[0m \u001b[0mx\u001b[0m\u001b[0;34m=\u001b[0m\u001b[0;34m'logtasset'\u001b[0m\u001b[0;34m,\u001b[0m \u001b[0mxlabel\u001b[0m\u001b[0;34m=\u001b[0m\u001b[0;34m'Log Size (Log Total Assets)'\u001b[0m\u001b[0;34m)\u001b[0m\u001b[0;34m\u001b[0m\u001b[0;34m\u001b[0m\u001b[0m\n\u001b[0m",
      "\u001b[0;31mNameError\u001b[0m: name 'scatterplot' is not defined"
     ]
    }
   ],
   "source": [
    "scatterplot(df_us10, x='logtasset', xlabel='Log Size (Log Total Assets)')"
   ]
  },
  {
   "cell_type": "code",
   "execution_count": null,
   "metadata": {},
   "outputs": [],
   "source": []
  },
  {
   "cell_type": "code",
   "execution_count": null,
   "metadata": {},
   "outputs": [],
   "source": []
  },
  {
   "cell_type": "code",
   "execution_count": null,
   "metadata": {},
   "outputs": [],
   "source": []
  },
  {
   "cell_type": "code",
   "execution_count": null,
   "metadata": {},
   "outputs": [],
   "source": []
  },
  {
   "cell_type": "code",
   "execution_count": null,
   "metadata": {},
   "outputs": [],
   "source": []
  },
  {
   "cell_type": "code",
   "execution_count": null,
   "metadata": {},
   "outputs": [],
   "source": []
  },
  {
   "cell_type": "code",
   "execution_count": null,
   "metadata": {},
   "outputs": [],
   "source": []
  },
  {
   "cell_type": "code",
   "execution_count": null,
   "metadata": {},
   "outputs": [],
   "source": []
  },
  {
   "cell_type": "code",
   "execution_count": null,
   "metadata": {},
   "outputs": [],
   "source": []
  }
 ],
 "metadata": {
  "kernelspec": {
   "display_name": "Python 3",
   "language": "python",
   "name": "python3"
  },
  "language_info": {
   "codemirror_mode": {
    "name": "ipython",
    "version": 3
   },
   "file_extension": ".py",
   "mimetype": "text/x-python",
   "name": "python",
   "nbconvert_exporter": "python",
   "pygments_lexer": "ipython3",
   "version": "3.7.6"
  }
 },
 "nbformat": 4,
 "nbformat_minor": 4
}
