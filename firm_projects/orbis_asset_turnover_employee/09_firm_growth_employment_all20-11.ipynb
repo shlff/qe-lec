{
 "cells": [
  {
   "cell_type": "code",
   "execution_count": 1,
   "metadata": {},
   "outputs": [],
   "source": [
    "import pandas as pd\n",
    "import numpy as np\n",
    "import fs_qe as fq\n",
    "\n",
    "%matplotlib inline"
   ]
  },
  {
   "cell_type": "markdown",
   "metadata": {},
   "source": [
    "# 1 merging and data processing\n",
    "\n",
    "## 1.1 merging"
   ]
  },
  {
   "cell_type": "code",
   "execution_count": 2,
   "metadata": {},
   "outputs": [],
   "source": [
    "df1 = fq.import_data2(file='data_all/us_noe_all1.csv')\n",
    "df2 = fq.import_data2(file='data_all/us_noe_all2.csv')\n",
    "df3 = fq.import_data2(file='data_all/us_noe_all3.csv')\n",
    "df4 = fq.import_data2(file='data_all/us_noe_all4.csv')\n",
    "df5 = fq.import_data2(file='data_all/us_noe_all5.csv')\n",
    "\n",
    "df6 = fq.import_data2(file='data_all/us_noe_all6.csv')\n",
    "df7 = fq.import_data2(file='data_all/us_noe_all7.csv')\n",
    "df8 = fq.import_data2(file='data_all/us_noe_all8.csv')\n",
    "df9 = fq.import_data2(file='data_all/us_noe_all9.csv')\n",
    "df10 = fq.import_data2(file='data_all/us_noe_all10.csv')\n",
    "\n",
    "df11 = fq.import_data2(file='data_all/us_noe_all11.csv')\n",
    "df12 = fq.import_data2(file='data_all/us_noe_all12.csv')\n",
    "df13 = fq.import_data2(file='data_all/us_noe_all13.csv')\n",
    "df14 = fq.import_data2(file='data_all/us_noe_all14.csv')"
   ]
  },
  {
   "cell_type": "markdown",
   "metadata": {},
   "source": [
    "Then combine them."
   ]
  },
  {
   "cell_type": "code",
   "execution_count": 3,
   "metadata": {},
   "outputs": [
    {
     "data": {
      "text/html": [
       "<div>\n",
       "<style scoped>\n",
       "    .dataframe tbody tr th:only-of-type {\n",
       "        vertical-align: middle;\n",
       "    }\n",
       "\n",
       "    .dataframe tbody tr th {\n",
       "        vertical-align: top;\n",
       "    }\n",
       "\n",
       "    .dataframe thead th {\n",
       "        text-align: right;\n",
       "    }\n",
       "</style>\n",
       "<table border=\"1\" class=\"dataframe\">\n",
       "  <thead>\n",
       "    <tr style=\"text-align: right;\">\n",
       "      <th></th>\n",
       "      <th>2011</th>\n",
       "      <th>2012</th>\n",
       "      <th>2013</th>\n",
       "      <th>2014</th>\n",
       "      <th>2015</th>\n",
       "      <th>2016</th>\n",
       "      <th>2017</th>\n",
       "      <th>2018</th>\n",
       "      <th>2019</th>\n",
       "      <th>2020</th>\n",
       "    </tr>\n",
       "  </thead>\n",
       "  <tbody>\n",
       "    <tr>\n",
       "      <th>0</th>\n",
       "      <td>2200000.00</td>\n",
       "      <td>2200000.00</td>\n",
       "      <td>2200000.00</td>\n",
       "      <td>2200000.00</td>\n",
       "      <td>2300000.00</td>\n",
       "      <td>2300000.00</td>\n",
       "      <td>2300000.00</td>\n",
       "      <td>2200000.00</td>\n",
       "      <td>2200000.00</td>\n",
       "      <td>n.a.</td>\n",
       "    </tr>\n",
       "    <tr>\n",
       "      <th>1</th>\n",
       "      <td>56200.00</td>\n",
       "      <td>88400.00</td>\n",
       "      <td>117300.00</td>\n",
       "      <td>154100.00</td>\n",
       "      <td>230800.00</td>\n",
       "      <td>341400.00</td>\n",
       "      <td>566000.00</td>\n",
       "      <td>647500.00</td>\n",
       "      <td>798000.00</td>\n",
       "      <td>n.a.</td>\n",
       "    </tr>\n",
       "    <tr>\n",
       "      <th>2</th>\n",
       "      <td>60400.00</td>\n",
       "      <td>72800.00</td>\n",
       "      <td>80300.00</td>\n",
       "      <td>92600.00</td>\n",
       "      <td>110000.00</td>\n",
       "      <td>116000.00</td>\n",
       "      <td>123000.00</td>\n",
       "      <td>132000.00</td>\n",
       "      <td>137000.00</td>\n",
       "      <td>n.a.</td>\n",
       "    </tr>\n",
       "    <tr>\n",
       "      <th>3</th>\n",
       "      <td>280000.00</td>\n",
       "      <td>280000.00</td>\n",
       "      <td>208000.00</td>\n",
       "      <td>217800.00</td>\n",
       "      <td>243000.00</td>\n",
       "      <td>250000.00</td>\n",
       "      <td>332000.00</td>\n",
       "      <td>295000.00</td>\n",
       "      <td>290000.00</td>\n",
       "      <td>n.a.</td>\n",
       "    </tr>\n",
       "    <tr>\n",
       "      <th>4</th>\n",
       "      <td>82100.00</td>\n",
       "      <td>76900.00</td>\n",
       "      <td>75000.00</td>\n",
       "      <td>75300.00</td>\n",
       "      <td>73500.00</td>\n",
       "      <td>71100.00</td>\n",
       "      <td>69600.00</td>\n",
       "      <td>71000.00</td>\n",
       "      <td>74900.00</td>\n",
       "      <td>n.a.</td>\n",
       "    </tr>\n",
       "    <tr>\n",
       "      <th>...</th>\n",
       "      <td>...</td>\n",
       "      <td>...</td>\n",
       "      <td>...</td>\n",
       "      <td>...</td>\n",
       "      <td>...</td>\n",
       "      <td>...</td>\n",
       "      <td>...</td>\n",
       "      <td>...</td>\n",
       "      <td>...</td>\n",
       "      <td>...</td>\n",
       "    </tr>\n",
       "    <tr>\n",
       "      <th>1259641</th>\n",
       "      <td>n.a.</td>\n",
       "      <td>n.a.</td>\n",
       "      <td>n.a.</td>\n",
       "      <td>n.a.</td>\n",
       "      <td>n.a.</td>\n",
       "      <td>n.a.</td>\n",
       "      <td>n.a.</td>\n",
       "      <td>n.a.</td>\n",
       "      <td>n.a.</td>\n",
       "      <td>1.00</td>\n",
       "    </tr>\n",
       "    <tr>\n",
       "      <th>1259642</th>\n",
       "      <td>n.a.</td>\n",
       "      <td>n.a.</td>\n",
       "      <td>n.a.</td>\n",
       "      <td>n.a.</td>\n",
       "      <td>n.a.</td>\n",
       "      <td>n.a.</td>\n",
       "      <td>n.a.</td>\n",
       "      <td>n.a.</td>\n",
       "      <td>1.00</td>\n",
       "      <td>1.00</td>\n",
       "    </tr>\n",
       "    <tr>\n",
       "      <th>1259643</th>\n",
       "      <td>n.a.</td>\n",
       "      <td>n.a.</td>\n",
       "      <td>n.a.</td>\n",
       "      <td>n.a.</td>\n",
       "      <td>n.a.</td>\n",
       "      <td>n.a.</td>\n",
       "      <td>n.a.</td>\n",
       "      <td>n.a.</td>\n",
       "      <td>n.a.</td>\n",
       "      <td>1.00</td>\n",
       "    </tr>\n",
       "    <tr>\n",
       "      <th>1259644</th>\n",
       "      <td>n.a.</td>\n",
       "      <td>n.a.</td>\n",
       "      <td>n.a.</td>\n",
       "      <td>n.a.</td>\n",
       "      <td>n.a.</td>\n",
       "      <td>n.a.</td>\n",
       "      <td>n.a.</td>\n",
       "      <td>n.a.</td>\n",
       "      <td>n.a.</td>\n",
       "      <td>1.00</td>\n",
       "    </tr>\n",
       "    <tr>\n",
       "      <th>1259645</th>\n",
       "      <td>n.a.</td>\n",
       "      <td>n.a.</td>\n",
       "      <td>n.a.</td>\n",
       "      <td>n.a.</td>\n",
       "      <td>n.a.</td>\n",
       "      <td>n.a.</td>\n",
       "      <td>n.a.</td>\n",
       "      <td>n.a.</td>\n",
       "      <td>n.a.</td>\n",
       "      <td>1.00</td>\n",
       "    </tr>\n",
       "  </tbody>\n",
       "</table>\n",
       "<p>1259646 rows × 10 columns</p>\n",
       "</div>"
      ],
      "text/plain": [
       "               2011        2012        2013        2014        2015  \\\n",
       "0        2200000.00  2200000.00  2200000.00  2200000.00  2300000.00   \n",
       "1          56200.00    88400.00   117300.00   154100.00   230800.00   \n",
       "2          60400.00    72800.00    80300.00    92600.00   110000.00   \n",
       "3         280000.00   280000.00   208000.00   217800.00   243000.00   \n",
       "4          82100.00    76900.00    75000.00    75300.00    73500.00   \n",
       "...             ...         ...         ...         ...         ...   \n",
       "1259641        n.a.        n.a.        n.a.        n.a.        n.a.   \n",
       "1259642        n.a.        n.a.        n.a.        n.a.        n.a.   \n",
       "1259643        n.a.        n.a.        n.a.        n.a.        n.a.   \n",
       "1259644        n.a.        n.a.        n.a.        n.a.        n.a.   \n",
       "1259645        n.a.        n.a.        n.a.        n.a.        n.a.   \n",
       "\n",
       "               2016        2017        2018        2019  2020  \n",
       "0        2300000.00  2300000.00  2200000.00  2200000.00  n.a.  \n",
       "1         341400.00   566000.00   647500.00   798000.00  n.a.  \n",
       "2         116000.00   123000.00   132000.00   137000.00  n.a.  \n",
       "3         250000.00   332000.00   295000.00   290000.00  n.a.  \n",
       "4          71100.00    69600.00    71000.00    74900.00  n.a.  \n",
       "...             ...         ...         ...         ...   ...  \n",
       "1259641        n.a.        n.a.        n.a.        n.a.  1.00  \n",
       "1259642        n.a.        n.a.        n.a.        1.00  1.00  \n",
       "1259643        n.a.        n.a.        n.a.        n.a.  1.00  \n",
       "1259644        n.a.        n.a.        n.a.        n.a.  1.00  \n",
       "1259645        n.a.        n.a.        n.a.        n.a.  1.00  \n",
       "\n",
       "[1259646 rows x 10 columns]"
      ]
     },
     "execution_count": 3,
     "metadata": {},
     "output_type": "execute_result"
    }
   ],
   "source": [
    "df_x1 = df1.append(df2, ignore_index=True)\n",
    "df_x2 = df_x1.append(df3, ignore_index=True)\n",
    "df_x3 = df_x2.append(df4, ignore_index=True)\n",
    "df_x4 = df_x3.append(df5, ignore_index=True)\n",
    "df_x5 = df_x4.append(df6, ignore_index=True)\n",
    "df_x6 = df_x5.append(df7, ignore_index=True)\n",
    "df_x7 = df_x6.append(df8, ignore_index=True)\n",
    "df_x8 = df_x7.append(df9, ignore_index=True)\n",
    "df_x9 = df_x8.append(df10, ignore_index=True)\n",
    "df_x10 = df_x9.append(df11, ignore_index=True)\n",
    "df_x11 = df_x10.append(df12, ignore_index=True)\n",
    "df_x12 = df_x11.append(df13, ignore_index=True)\n",
    "df_us = df_x12.append(df14, ignore_index=True)\n",
    "\n",
    "df_us"
   ]
  },
  {
   "cell_type": "markdown",
   "metadata": {},
   "source": [
    "## 1.2 data processing"
   ]
  },
  {
   "cell_type": "code",
   "execution_count": 4,
   "metadata": {},
   "outputs": [
    {
     "name": "stderr",
     "output_type": "stream",
     "text": [
      "/Users/shuhu/opt/anaconda3/lib/python3.7/site-packages/pandas/core/series.py:679: RuntimeWarning: divide by zero encountered in log\n",
      "  result = getattr(ufunc, method)(*inputs, **kwargs)\n",
      "/Users/shuhu/opt/anaconda3/lib/python3.7/site-packages/pandas/core/algorithms.py:1926: RuntimeWarning: invalid value encountered in subtract\n",
      "  out_arr[res_indexer] = arr[res_indexer] - arr[lag_indexer]\n"
     ]
    }
   ],
   "source": [
    "df_us5 = fq.preprocess_data(df_us, var1='noe', var2='lognoe')"
   ]
  },
  {
   "cell_type": "code",
   "execution_count": 5,
   "metadata": {},
   "outputs": [],
   "source": [
    "df_us6 = df_us5[df_us5['fgrow_log'] != 0.0]\n",
    "df_us7 = df_us6[df_us6['fgrow_log'] != np.inf]\n",
    "df_us8 = df_us7[df_us7['fgrow_log'] != - np.inf]\n",
    "df_us9 = df_us8[df_us8['noe'] != 0.0]\n",
    "df_us10 = df_us9[df_us9['lognoe'] > 0.0]\n",
    "df_us10.to_csv('data_all/us_noe_all_postprocess.csv')"
   ]
  },
  {
   "cell_type": "code",
   "execution_count": 6,
   "metadata": {},
   "outputs": [
    {
     "data": {
      "image/png": "[encoded data removed]",
      "text/plain": [
       "<Figure size 432x288 with 1 Axes>"
      ]
     },
     "metadata": {
      "needs_background": "light"
     },
     "output_type": "display_data"
    }
   ],
   "source": [
    "fq.scatterplot(df_us10, x='lognoe', xlabel='Log Size (Log Number of Employees)')"
   ]
  },
  {
   "cell_type": "code",
   "execution_count": null,
   "metadata": {},
   "outputs": [],
   "source": []
  },
  {
   "cell_type": "code",
   "execution_count": null,
   "metadata": {},
   "outputs": [],
   "source": []
  },
  {
   "cell_type": "code",
   "execution_count": null,
   "metadata": {},
   "outputs": [],
   "source": []
  },
  {
   "cell_type": "code",
   "execution_count": null,
   "metadata": {},
   "outputs": [],
   "source": []
  },
  {
   "cell_type": "code",
   "execution_count": null,
   "metadata": {},
   "outputs": [],
   "source": []
  },
  {
   "cell_type": "code",
   "execution_count": null,
   "metadata": {},
   "outputs": [],
   "source": []
  }
 ],
 "metadata": {
  "kernelspec": {
   "display_name": "Python 3",
   "language": "python",
   "name": "python3"
  },
  "language_info": {
   "codemirror_mode": {
    "name": "ipython",
    "version": 3
   },
   "file_extension": ".py",
   "mimetype": "text/x-python",
   "name": "python",
   "nbconvert_exporter": "python",
   "pygments_lexer": "ipython3",
   "version": "3.7.6"
  }
 },
 "nbformat": 4,
 "nbformat_minor": 4
}
