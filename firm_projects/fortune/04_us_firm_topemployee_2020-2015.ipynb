{
 "cells": [
  {
   "cell_type": "code",
   "execution_count": 25,
   "metadata": {},
   "outputs": [],
   "source": [
    "import numpy as np\n",
    "import pandas as pd\n",
    "import fs_qe as fq\n",
    "\n",
    "%matplotlib inline"
   ]
  },
  {
   "cell_type": "markdown",
   "metadata": {},
   "source": [
    "## 1 import data"
   ]
  },
  {
   "cell_type": "code",
   "execution_count": 26,
   "metadata": {},
   "outputs": [],
   "source": [
    "df1 = fq.importdata2(file='data/fortune1000-employee-2020.csv', year='2020')\n",
    "df2 = fq.importdata2(file='data/fortune1000-employee-2019.csv', year='2019')\n",
    "df3 = fq.importdata2(file='data/fortune1000-employee-2018.csv', year='2018')\n",
    "df4 = fq.importdata2(file='data/fortune1000-employee-2017.csv', year='2017')\n",
    "df5 = fq.importdata2(file='data/fortune1000-employee-2016.csv', year='2016')\n",
    "df6 = fq.importdata2(file='data/fortune1000-employee-2015.csv', year='2015')"
   ]
  },
  {
   "cell_type": "code",
   "execution_count": null,
   "metadata": {},
   "outputs": [],
   "source": []
  },
  {
   "cell_type": "markdown",
   "metadata": {},
   "source": [
    "## 2 merge"
   ]
  },
  {
   "cell_type": "code",
   "execution_count": 27,
   "metadata": {},
   "outputs": [],
   "source": [
    "df_x1 = pd.merge(df2, df1, on='name')[['2019', '2020']]\n",
    "df_x2 = pd.merge(df3, df2, on='name')[['2018', '2019']]\n",
    "df_x3 = pd.merge(df4, df3, on='name')[['2017', '2018']]\n",
    "df_x4 = pd.merge(df5, df4, on='name')[['2016', '2017']]\n",
    "df_x5 = pd.merge(df6, df5, on='name')[['2015', '2016']]"
   ]
  },
  {
   "cell_type": "code",
   "execution_count": null,
   "metadata": {},
   "outputs": [],
   "source": []
  },
  {
   "cell_type": "markdown",
   "metadata": {},
   "source": [
    "## 3 firm size and growth"
   ]
  },
  {
   "cell_type": "code",
   "execution_count": 28,
   "metadata": {},
   "outputs": [],
   "source": [
    "df_x011 = df_x1.stack()\n",
    "df_x021 = df_x2.stack()\n",
    "df_x031 = df_x3.stack()\n",
    "df_x041 = df_x4.stack()\n",
    "df_x051 = df_x5.stack()"
   ]
  },
  {
   "cell_type": "code",
   "execution_count": 29,
   "metadata": {},
   "outputs": [],
   "source": [
    "df_x012 = df_x011.to_frame().reset_index()\n",
    "df_x022 = df_x021.to_frame().reset_index()\n",
    "df_x032 = df_x031.to_frame().reset_index()\n",
    "df_x042 = df_x041.to_frame().reset_index()\n",
    "df_x052 = df_x051.to_frame().reset_index()"
   ]
  },
  {
   "cell_type": "code",
   "execution_count": 30,
   "metadata": {},
   "outputs": [],
   "source": [
    "df_x012.columns = 'id', 'year', 'employee'\n",
    "df_x022.columns = 'id', 'year', 'employee'  \n",
    "df_x032.columns = 'id', 'year', 'employee'  \n",
    "df_x042.columns = 'id', 'year', 'employee'  \n",
    "df_x052.columns = 'id', 'year', 'employee' "
   ]
  },
  {
   "cell_type": "code",
   "execution_count": 31,
   "metadata": {},
   "outputs": [],
   "source": [
    "df_x013 = df_x012.set_index(['id', 'year'])\n",
    "df_x023 = df_x022.set_index(['id', 'year'])\n",
    "df_x033 = df_x032.set_index(['id', 'year'])\n",
    "df_x043 = df_x042.set_index(['id', 'year'])\n",
    "df_x053 = df_x052.set_index(['id', 'year'])"
   ]
  },
  {
   "cell_type": "code",
   "execution_count": 32,
   "metadata": {},
   "outputs": [],
   "source": [
    "df_x013[df_x013['employee'] == 'n.a.'] = np.nan\n",
    "df_x023[df_x023['employee'] == 'n.a.'] = np.nan\n",
    "df_x033[df_x033['employee'] == 'n.a.'] = np.nan\n",
    "df_x043[df_x043['employee'] == 'n.a.'] = np.nan\n",
    "df_x053[df_x053['employee'] == 'n.a.'] = np.nan"
   ]
  },
  {
   "cell_type": "code",
   "execution_count": 33,
   "metadata": {},
   "outputs": [],
   "source": [
    "df_x013[df_x013['employee'] == '0'] = np.nan\n",
    "df_x023[df_x023['employee'] == '0'] = np.nan\n",
    "df_x033[df_x033['employee'] == '0'] = np.nan\n",
    "df_x043[df_x043['employee'] == '0'] = np.nan\n",
    "df_x053[df_x053['employee'] == '0'] = np.nan"
   ]
  },
  {
   "cell_type": "code",
   "execution_count": 34,
   "metadata": {},
   "outputs": [],
   "source": [
    "df_x013['employee'] = df_x013['employee'].astype(float)\n",
    "df_x023['employee'] = df_x023['employee'].astype(float)\n",
    "df_x033['employee'] = df_x033['employee'].astype(float)\n",
    "df_x043['employee'] = df_x043['employee'].astype(float)\n",
    "df_x053['employee'] = df_x053['employee'].astype(float)"
   ]
  },
  {
   "cell_type": "code",
   "execution_count": 35,
   "metadata": {},
   "outputs": [],
   "source": [
    "df_x014 = df_x013.reset_index('id')\n",
    "df_x024 = df_x023.reset_index('id')\n",
    "df_x034 = df_x033.reset_index('id')\n",
    "df_x044 = df_x043.reset_index('id')\n",
    "df_x054 = df_x053.reset_index('id')"
   ]
  },
  {
   "cell_type": "code",
   "execution_count": 36,
   "metadata": {},
   "outputs": [],
   "source": [
    "df_x014['logemployee'] = np.log(df_x014['employee'])\n",
    "df_x024['logemployee'] = np.log(df_x024['employee'])\n",
    "df_x034['logemployee'] = np.log(df_x034['employee'])\n",
    "df_x044['logemployee'] = np.log(df_x044['employee'])\n",
    "df_x054['logemployee'] = np.log(df_x054['employee'])"
   ]
  },
  {
   "cell_type": "code",
   "execution_count": 37,
   "metadata": {},
   "outputs": [],
   "source": [
    "df_x014['fgrow_log'] = -1 * df_x014.groupby('id')['logemployee'].diff(periods=-1)\n",
    "df_x024['fgrow_log'] = -1 * df_x024.groupby('id')['logemployee'].diff(periods=-1) \n",
    "df_x034['fgrow_log'] = -1 * df_x034.groupby('id')['logemployee'].diff(periods=-1) \n",
    "df_x044['fgrow_log'] = -1 * df_x044.groupby('id')['logemployee'].diff(periods=-1) \n",
    "df_x054['fgrow_log'] = -1 * df_x054.groupby('id')['logemployee'].diff(periods=-1) "
   ]
  },
  {
   "cell_type": "code",
   "execution_count": 38,
   "metadata": {},
   "outputs": [],
   "source": [
    "df_x015 = df_x014.dropna().reset_index()\n",
    "df_x025 = df_x024.dropna().reset_index()\n",
    "df_x035 = df_x034.dropna().reset_index()\n",
    "df_x045 = df_x044.dropna().reset_index()\n",
    "df_x055 = df_x054.dropna().reset_index()"
   ]
  },
  {
   "cell_type": "code",
   "execution_count": 39,
   "metadata": {},
   "outputs": [],
   "source": [
    "df_x016 = df_x015[df_x015['fgrow_log'] != 0.0]\n",
    "df_x026 = df_x025[df_x025['fgrow_log'] != 0.0]\n",
    "df_x036 = df_x035[df_x035['fgrow_log'] != 0.0]\n",
    "df_x046 = df_x045[df_x045['fgrow_log'] != 0.0]\n",
    "df_x056 = df_x055[df_x055['fgrow_log'] != 0.0]"
   ]
  },
  {
   "cell_type": "code",
   "execution_count": 40,
   "metadata": {},
   "outputs": [],
   "source": [
    "df_x017 = df_x016[df_x016['fgrow_log'] != np.inf]\n",
    "df_x027 = df_x026[df_x026['fgrow_log'] != np.inf]\n",
    "df_x037 = df_x036[df_x036['fgrow_log'] != np.inf]\n",
    "df_x047 = df_x046[df_x046['fgrow_log'] != np.inf]\n",
    "df_x057 = df_x056[df_x056['fgrow_log'] != np.inf]"
   ]
  },
  {
   "cell_type": "code",
   "execution_count": 41,
   "metadata": {},
   "outputs": [],
   "source": [
    "df_x018 = df_x017[df_x017['fgrow_log'] != - np.inf]\n",
    "df_x028 = df_x027[df_x027['fgrow_log'] != - np.inf]\n",
    "df_x038 = df_x037[df_x037['fgrow_log'] != - np.inf]\n",
    "df_x048 = df_x047[df_x047['fgrow_log'] != - np.inf]\n",
    "df_x058 = df_x057[df_x057['fgrow_log'] != - np.inf]"
   ]
  },
  {
   "cell_type": "code",
   "execution_count": 42,
   "metadata": {},
   "outputs": [],
   "source": [
    "df_x019 = df_x018[df_x018['employee'] != 0.0]\n",
    "df_x029 = df_x028[df_x028['employee'] != 0.0]\n",
    "df_x039 = df_x038[df_x038['employee'] != 0.0]\n",
    "df_x049 = df_x048[df_x048['employee'] != 0.0]\n",
    "df_x059 = df_x058[df_x058['employee'] != 0.0]"
   ]
  },
  {
   "cell_type": "code",
   "execution_count": 43,
   "metadata": {},
   "outputs": [],
   "source": [
    "df_x0110 = df_x019[df_x019['logemployee'] > 0.0]\n",
    "df_x0210 = df_x029[df_x029['logemployee'] > 0.0]\n",
    "df_x0310 = df_x039[df_x039['logemployee'] > 0.0]\n",
    "df_x0410 = df_x049[df_x049['logemployee'] > 0.0]\n",
    "df_x0510 = df_x059[df_x059['logemployee'] > 0.0]"
   ]
  },
  {
   "cell_type": "markdown",
   "metadata": {},
   "source": [
    "## 4 append"
   ]
  },
  {
   "cell_type": "code",
   "execution_count": 44,
   "metadata": {},
   "outputs": [],
   "source": [
    "dfx1 = df_x0110.append(df_x0210, ignore_index=True)\n",
    "dfx2 = dfx1.append(df_x0310, ignore_index=True)\n",
    "dfx3 = dfx2.append(df_x0410, ignore_index=True)\n",
    "df_us = dfx3.append(df_x0510, ignore_index=True)\n"
   ]
  },
  {
   "cell_type": "code",
   "execution_count": null,
   "metadata": {},
   "outputs": [],
   "source": []
  },
  {
   "cell_type": "markdown",
   "metadata": {},
   "source": [
    "## 5 save and display"
   ]
  },
  {
   "cell_type": "code",
   "execution_count": 45,
   "metadata": {},
   "outputs": [],
   "source": [
    "df_us.to_csv('data/us_topemployee.csv')"
   ]
  },
  {
   "cell_type": "code",
   "execution_count": 46,
   "metadata": {},
   "outputs": [
    {
     "data": {
      "image/png": "[encoded data removed]",
      "text/plain": [
       "<Figure size 432x288 with 1 Axes>"
      ]
     },
     "metadata": {
      "needs_background": "light"
     },
     "output_type": "display_data"
    }
   ],
   "source": [
    "fq.scatterplot(df_us, x='logemployee', xlabel='Log Size (Log Employee)')"
   ]
  },
  {
   "cell_type": "code",
   "execution_count": null,
   "metadata": {},
   "outputs": [],
   "source": []
  },
  {
   "cell_type": "code",
   "execution_count": null,
   "metadata": {},
   "outputs": [],
   "source": []
  },
  {
   "cell_type": "code",
   "execution_count": null,
   "metadata": {},
   "outputs": [],
   "source": []
  }
 ],
 "metadata": {
  "kernelspec": {
   "display_name": "Python 3",
   "language": "python",
   "name": "python3"
  },
  "language_info": {
   "codemirror_mode": {
    "name": "ipython",
    "version": 3
   },
   "file_extension": ".py",
   "mimetype": "text/x-python",
   "name": "python",
   "nbconvert_exporter": "python",
   "pygments_lexer": "ipython3",
   "version": "3.7.6"
  }
 },
 "nbformat": 4,
 "nbformat_minor": 4
}
