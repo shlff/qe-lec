{
 "cells": [
  {
   "cell_type": "code",
   "execution_count": 1,
   "metadata": {},
   "outputs": [],
   "source": [
    "import numpy as np\n",
    "import pandas as pd\n",
    "\n",
    "import fs_qe as fq"
   ]
  },
  {
   "cell_type": "markdown",
   "metadata": {},
   "source": [
    "# 1 data process"
   ]
  },
  {
   "cell_type": "code",
   "execution_count": 2,
   "metadata": {},
   "outputs": [],
   "source": [
    "df, df2, df3, df4 = fq.dataprocess(file='data/us_toprevenue.csv', var1='logrevenue', var2='revenue', var3='revenue_mean')"
   ]
  },
  {
   "cell_type": "code",
   "execution_count": 3,
   "metadata": {},
   "outputs": [
    {
     "data": {
      "image/png": "[encoded data removed]",
      "text/plain": [
       "<Figure size 432x288 with 1 Axes>"
      ]
     },
     "metadata": {
      "needs_background": "light"
     },
     "output_type": "display_data"
    }
   ],
   "source": [
    "fq.scatterplot(df, x='logrevenue', xlabel='Log Size (Log Revenue)')"
   ]
  },
  {
   "cell_type": "code",
   "execution_count": 4,
   "metadata": {},
   "outputs": [
    {
     "data": {
      "text/html": [
       "<div>\n",
       "<style scoped>\n",
       "    .dataframe tbody tr th:only-of-type {\n",
       "        vertical-align: middle;\n",
       "    }\n",
       "\n",
       "    .dataframe tbody tr th {\n",
       "        vertical-align: top;\n",
       "    }\n",
       "\n",
       "    .dataframe thead th {\n",
       "        text-align: right;\n",
       "    }\n",
       "</style>\n",
       "<table border=\"1\" class=\"dataframe\">\n",
       "  <thead>\n",
       "    <tr style=\"text-align: right;\">\n",
       "      <th></th>\n",
       "      <th>count</th>\n",
       "      <th>Unnamed: 0</th>\n",
       "      <th>year</th>\n",
       "      <th>id</th>\n",
       "      <th>revenue</th>\n",
       "      <th>logrevenue</th>\n",
       "      <th>fgrow_log</th>\n",
       "      <th>quantile_ex_1</th>\n",
       "    </tr>\n",
       "  </thead>\n",
       "  <tbody>\n",
       "    <tr>\n",
       "      <th>0</th>\n",
       "      <td>1</td>\n",
       "      <td>29610</td>\n",
       "      <td>1955</td>\n",
       "      <td>460</td>\n",
       "      <td>49700.0</td>\n",
       "      <td>10.813760</td>\n",
       "      <td>0.457094</td>\n",
       "      <td>(10.813, 13.119]</td>\n",
       "    </tr>\n",
       "    <tr>\n",
       "      <th>1</th>\n",
       "      <td>2</td>\n",
       "      <td>29609</td>\n",
       "      <td>1955</td>\n",
       "      <td>459</td>\n",
       "      <td>50200.0</td>\n",
       "      <td>10.823770</td>\n",
       "      <td>0.103965</td>\n",
       "      <td>(10.813, 13.119]</td>\n",
       "    </tr>\n",
       "    <tr>\n",
       "      <th>2</th>\n",
       "      <td>3</td>\n",
       "      <td>29607</td>\n",
       "      <td>1955</td>\n",
       "      <td>457</td>\n",
       "      <td>50300.0</td>\n",
       "      <td>10.825760</td>\n",
       "      <td>0.126799</td>\n",
       "      <td>(10.813, 13.119]</td>\n",
       "    </tr>\n",
       "    <tr>\n",
       "      <th>3</th>\n",
       "      <td>4</td>\n",
       "      <td>29608</td>\n",
       "      <td>1955</td>\n",
       "      <td>458</td>\n",
       "      <td>50300.0</td>\n",
       "      <td>10.825760</td>\n",
       "      <td>0.581805</td>\n",
       "      <td>(10.813, 13.119]</td>\n",
       "    </tr>\n",
       "    <tr>\n",
       "      <th>4</th>\n",
       "      <td>5</td>\n",
       "      <td>29606</td>\n",
       "      <td>1955</td>\n",
       "      <td>456</td>\n",
       "      <td>50400.0</td>\n",
       "      <td>10.827746</td>\n",
       "      <td>0.392149</td>\n",
       "      <td>(10.813, 13.119]</td>\n",
       "    </tr>\n",
       "    <tr>\n",
       "      <th>...</th>\n",
       "      <td>...</td>\n",
       "      <td>...</td>\n",
       "      <td>...</td>\n",
       "      <td>...</td>\n",
       "      <td>...</td>\n",
       "      <td>...</td>\n",
       "      <td>...</td>\n",
       "      <td>...</td>\n",
       "    </tr>\n",
       "    <tr>\n",
       "      <th>7399</th>\n",
       "      <td>7400</td>\n",
       "      <td>20008</td>\n",
       "      <td>1975</td>\n",
       "      <td>333</td>\n",
       "      <td>498100.0</td>\n",
       "      <td>13.118556</td>\n",
       "      <td>0.046100</td>\n",
       "      <td>(10.813, 13.119]</td>\n",
       "    </tr>\n",
       "    <tr>\n",
       "      <th>7400</th>\n",
       "      <td>7401</td>\n",
       "      <td>18608</td>\n",
       "      <td>1978</td>\n",
       "      <td>385</td>\n",
       "      <td>498200.0</td>\n",
       "      <td>13.118757</td>\n",
       "      <td>0.215325</td>\n",
       "      <td>(10.813, 13.119]</td>\n",
       "    </tr>\n",
       "    <tr>\n",
       "      <th>7401</th>\n",
       "      <td>7402</td>\n",
       "      <td>19077</td>\n",
       "      <td>1977</td>\n",
       "      <td>370</td>\n",
       "      <td>498400.0</td>\n",
       "      <td>13.119158</td>\n",
       "      <td>0.181519</td>\n",
       "      <td>(10.813, 13.119]</td>\n",
       "    </tr>\n",
       "    <tr>\n",
       "      <th>7402</th>\n",
       "      <td>7403</td>\n",
       "      <td>20884</td>\n",
       "      <td>1973</td>\n",
       "      <td>262</td>\n",
       "      <td>498400.0</td>\n",
       "      <td>13.119158</td>\n",
       "      <td>0.089933</td>\n",
       "      <td>(10.813, 13.119]</td>\n",
       "    </tr>\n",
       "    <tr>\n",
       "      <th>7403</th>\n",
       "      <td>7404</td>\n",
       "      <td>23626</td>\n",
       "      <td>1967</td>\n",
       "      <td>147</td>\n",
       "      <td>498400.0</td>\n",
       "      <td>13.119158</td>\n",
       "      <td>0.107745</td>\n",
       "      <td>(10.813, 13.119]</td>\n",
       "    </tr>\n",
       "  </tbody>\n",
       "</table>\n",
       "<p>7404 rows × 8 columns</p>\n",
       "</div>"
      ],
      "text/plain": [
       "      count  Unnamed: 0  year   id   revenue  logrevenue  fgrow_log  \\\n",
       "0         1       29610  1955  460   49700.0   10.813760   0.457094   \n",
       "1         2       29609  1955  459   50200.0   10.823770   0.103965   \n",
       "2         3       29607  1955  457   50300.0   10.825760   0.126799   \n",
       "3         4       29608  1955  458   50300.0   10.825760   0.581805   \n",
       "4         5       29606  1955  456   50400.0   10.827746   0.392149   \n",
       "...     ...         ...   ...  ...       ...         ...        ...   \n",
       "7399   7400       20008  1975  333  498100.0   13.118556   0.046100   \n",
       "7400   7401       18608  1978  385  498200.0   13.118757   0.215325   \n",
       "7401   7402       19077  1977  370  498400.0   13.119158   0.181519   \n",
       "7402   7403       20884  1973  262  498400.0   13.119158   0.089933   \n",
       "7403   7404       23626  1967  147  498400.0   13.119158   0.107745   \n",
       "\n",
       "         quantile_ex_1  \n",
       "0     (10.813, 13.119]  \n",
       "1     (10.813, 13.119]  \n",
       "2     (10.813, 13.119]  \n",
       "3     (10.813, 13.119]  \n",
       "4     (10.813, 13.119]  \n",
       "...                ...  \n",
       "7399  (10.813, 13.119]  \n",
       "7400  (10.813, 13.119]  \n",
       "7401  (10.813, 13.119]  \n",
       "7402  (10.813, 13.119]  \n",
       "7403  (10.813, 13.119]  \n",
       "\n",
       "[7404 rows x 8 columns]"
      ]
     },
     "execution_count": 4,
     "metadata": {},
     "output_type": "execute_result"
    }
   ],
   "source": [
    "df5 = df2[df2['quantile_ex_1'] == pd.Interval(10.813, 13.119, closed='right') ]\n",
    "df6 = df2[df2['quantile_ex_1'] == pd.Interval(13.119, 14.561, closed='right') ]\n",
    "df7 = df2[df2['quantile_ex_1'] == pd.Interval(14.561, 15.843, closed='right') ]\n",
    "df8 = df2[df2['quantile_ex_1'] == pd.Interval(15.843, 20.031, closed='right') ]\n",
    "\n",
    "df5"
   ]
  },
  {
   "cell_type": "code",
   "execution_count": 5,
   "metadata": {},
   "outputs": [
    {
     "data": {
      "text/plain": [
       "array([0.46, 0.1 , 0.13, ..., 0.18, 0.09, 0.11])"
      ]
     },
     "execution_count": 5,
     "metadata": {},
     "output_type": "execute_result"
    }
   ],
   "source": [
    "draw1 = np.array(round(df5['fgrow_log'], ndigits=2))\n",
    "draw2 = np.array(round(df6['fgrow_log'], ndigits=2))\n",
    "draw3 = np.array(round(df7['fgrow_log'], ndigits=2))\n",
    "draw4 = np.array(round(df8['fgrow_log'], ndigits=2))\n",
    "draw1"
   ]
  },
  {
   "cell_type": "markdown",
   "metadata": {},
   "source": [
    "# 2 bar graphs and PDFs"
   ]
  },
  {
   "cell_type": "markdown",
   "metadata": {},
   "source": [
    "## 2.1 bar graphs for mean and standard deviation of firm growth "
   ]
  },
  {
   "cell_type": "code",
   "execution_count": 6,
   "metadata": {},
   "outputs": [
    {
     "data": {
      "image/png": "[encoded data removed]",
      "text/plain": [
       "<Figure size 432x288 with 1 Axes>"
      ]
     },
     "metadata": {
      "needs_background": "light"
     },
     "output_type": "display_data"
    }
   ],
   "source": [
    "fq.plotbars(df3)"
   ]
  },
  {
   "cell_type": "code",
   "execution_count": 7,
   "metadata": {},
   "outputs": [
    {
     "data": {
      "image/png": "[encoded data removed]",
      "text/plain": [
       "<Figure size 432x288 with 1 Axes>"
      ]
     },
     "metadata": {
      "needs_background": "light"
     },
     "output_type": "display_data"
    }
   ],
   "source": [
    "fq.plotbars(df4, xlabel='log firm size bins', ylabel='growth standard deviation')"
   ]
  },
  {
   "cell_type": "code",
   "execution_count": null,
   "metadata": {},
   "outputs": [],
   "source": []
  },
  {
   "cell_type": "markdown",
   "metadata": {},
   "source": [
    "## 2.2 PDFs for growth of firms in 4 bins above, respectively"
   ]
  },
  {
   "cell_type": "markdown",
   "metadata": {},
   "source": [
    "The ``empirical func1`` shows the empirical PDF functions of firm growth for firms in **bin 1** above.\n",
    "\n",
    "The ``empirical func2`` shows the empirical PDF functions of firm growth for firms in **bin 2** above.\n",
    "\n",
    "The ``empirical func3`` shows the empirical PDF functions of firm growth for firms in **bin 3** above.\n",
    "\n",
    "The ``empirical func4`` shows the empirical PDF functions of firm growth for firms in **bin 4** above."
   ]
  },
  {
   "cell_type": "code",
   "execution_count": 8,
   "metadata": {},
   "outputs": [],
   "source": [
    "d1 = fq.generating_pdf(draw1)\n",
    "d2 = fq.generating_pdf(draw2)\n",
    "d3 = fq.generating_pdf(draw3)\n",
    "d4 = fq.generating_pdf(draw4)"
   ]
  },
  {
   "cell_type": "code",
   "execution_count": 9,
   "metadata": {},
   "outputs": [],
   "source": [
    "x1 = d1['fgrow_mean']\n",
    "x2 = d2['fgrow_mean']\n",
    "x3 = d3['fgrow_mean']\n",
    "x4 = d4['fgrow_mean']\n",
    "\n",
    "y1 = d1['prob']\n",
    "y2 = d2['prob']\n",
    "y3 = d3['prob']\n",
    "y4 = d4['prob']"
   ]
  },
  {
   "cell_type": "code",
   "execution_count": 10,
   "metadata": {},
   "outputs": [
    {
     "data": {
      "image/png": "[encoded data removed]",
      "text/plain": [
       "<Figure size 432x288 with 1 Axes>"
      ]
     },
     "metadata": {
      "needs_background": "light"
     },
     "output_type": "display_data"
    }
   ],
   "source": [
    "fq.density_plot(x1, x2, x3, x4, y1, y2, y3, y4)"
   ]
  },
  {
   "cell_type": "code",
   "execution_count": null,
   "metadata": {},
   "outputs": [],
   "source": []
  },
  {
   "cell_type": "markdown",
   "metadata": {},
   "source": [
    "# 3 tail index"
   ]
  },
  {
   "cell_type": "code",
   "execution_count": 11,
   "metadata": {},
   "outputs": [],
   "source": [
    "s_dist1 = df.revenue\n",
    "s_dist2 = df.logrevenue\n",
    "s_dist3 = df.fgrow_log"
   ]
  },
  {
   "cell_type": "markdown",
   "metadata": {},
   "source": [
    "The tail index for firm size distribution with firm size measured by revenue is"
   ]
  },
  {
   "cell_type": "code",
   "execution_count": 12,
   "metadata": {},
   "outputs": [
    {
     "data": {
      "text/plain": [
       "2.6238192977616825"
      ]
     },
     "execution_count": 12,
     "metadata": {},
     "output_type": "execute_result"
    }
   ],
   "source": [
    "fq.gabaix_est(s_dist1, c=0.01)"
   ]
  },
  {
   "cell_type": "markdown",
   "metadata": {},
   "source": [
    "The tail index for log firm size distribution with firm size measured by revenue is"
   ]
  },
  {
   "cell_type": "code",
   "execution_count": 13,
   "metadata": {},
   "outputs": [
    {
     "data": {
      "text/plain": [
       "50.01560010535996"
      ]
     },
     "execution_count": 13,
     "metadata": {},
     "output_type": "execute_result"
    }
   ],
   "source": [
    "fq.gabaix_est(s_dist2, c=0.01)"
   ]
  },
  {
   "cell_type": "markdown",
   "metadata": {},
   "source": [
    "The tail index for firm growth distribution with firm size measured by revenue is"
   ]
  },
  {
   "cell_type": "code",
   "execution_count": 14,
   "metadata": {},
   "outputs": [
    {
     "data": {
      "text/plain": [
       "3.884940602325477"
      ]
     },
     "execution_count": 14,
     "metadata": {},
     "output_type": "execute_result"
    }
   ],
   "source": [
    "fq.gabaix_est(s_dist3, c=0.01)"
   ]
  },
  {
   "cell_type": "markdown",
   "metadata": {},
   "source": [
    "## 3.3 tail index for firm size distribution yearly from 1955 to 2018"
   ]
  },
  {
   "cell_type": "code",
   "execution_count": 15,
   "metadata": {},
   "outputs": [
    {
     "name": "stdout",
     "output_type": "stream",
     "text": [
      "Tail index in year 1955 is 1.5077269322698712\n",
      "Tail index in year 1956 is 1.7940909596890857\n",
      "Tail index in year 1957 is 1.9450441789943935\n",
      "Tail index in year 1958 is 2.1104244163040233\n",
      "Tail index in year 1959 is 1.8565887499908933\n",
      "Tail index in year 1960 is 1.9764744372017806\n",
      "Tail index in year 1961 is 1.7106491787046765\n",
      "Tail index in year 1962 is 2.0244362424564875\n",
      "Tail index in year 1963 is 1.7370125000650232\n",
      "Tail index in year 1964 is 1.6041687091063492\n",
      "Tail index in year 1965 is 1.521359022176466\n",
      "Tail index in year 1966 is 1.6093201712622505\n",
      "Tail index in year 1967 is 1.8708394982513314\n",
      "Tail index in year 1968 is 2.0856794113147386\n",
      "Tail index in year 1969 is 1.9324770581770214\n",
      "Tail index in year 1970 is 1.8190107619052247\n",
      "Tail index in year 1971 is 2.0266687200066684\n",
      "Tail index in year 1972 is 1.7426485187279863\n",
      "Tail index in year 1973 is 1.6481327210397663\n",
      "Tail index in year 1974 is 1.600487963864711\n",
      "Tail index in year 1975 is 2.9763748869593063\n",
      "Tail index in year 1976 is 2.684151035043221\n",
      "Tail index in year 1977 is 2.3019897205894515\n",
      "Tail index in year 1978 is 2.739851690887554\n",
      "Tail index in year 1979 is 2.611616543903132\n",
      "Tail index in year 1980 is 2.71442274009259\n",
      "Tail index in year 1981 is 2.641214177123544\n",
      "Tail index in year 1982 is 2.86374249051721\n",
      "Tail index in year 1983 is 2.705807473678352\n",
      "Tail index in year 1984 is 2.596965101602574\n",
      "Tail index in year 1985 is 2.7506870333916638\n",
      "Tail index in year 1986 is 2.5458621639093435\n",
      "Tail index in year 1987 is 2.883325492787341\n",
      "Tail index in year 1988 is 3.146967028513136\n",
      "Tail index in year 1989 is 2.7649352647658705\n",
      "Tail index in year 1990 is 2.8114798929747518\n",
      "Tail index in year 1991 is 2.9842113043382206\n",
      "Tail index in year 1992 is 2.903220659676745\n",
      "Tail index in year 1993 is 2.523889792871044\n",
      "Tail index in year 1994 is 5.280001066617943\n",
      "Tail index in year 1995 is 3.011164615960653\n",
      "Tail index in year 1996 is 3.216073295855971\n",
      "Tail index in year 1997 is 3.9461584885047127\n",
      "Tail index in year 1998 is 4.285711545728828\n",
      "Tail index in year 1999 is 3.4716096636688265\n",
      "Tail index in year 2000 is 11.593734654348868\n",
      "Tail index in year 2001 is 12.578708534968095\n",
      "Tail index in year 2002 is 6.550123234761436\n",
      "Tail index in year 2003 is 4.780943439497999\n",
      "Tail index in year 2004 is 4.387321329655995\n",
      "Tail index in year 2005 is 3.0389343923446503\n",
      "Tail index in year 2006 is 2.403611697485594\n",
      "Tail index in year 2007 is 2.3194132981946614\n",
      "Tail index in year 2008 is 1.9178782024734398\n",
      "Tail index in year 2009 is 2.4026442487312174\n",
      "Tail index in year 2010 is 1.7795865017022567\n",
      "Tail index in year 2011 is 1.882142369856103\n",
      "Tail index in year 2012 is 2.0032844845073043\n",
      "Tail index in year 2013 is 1.4691977502670206\n",
      "Tail index in year 2014 is 2.117528226702536\n",
      "Tail index in year 2015 is 1.737793431235266\n",
      "Tail index in year 2016 is 2.183076363282969\n",
      "Tail index in year 2017 is 1.9563233102175557\n",
      "Tail index in year 2018 is 2.143663724146821\n"
     ]
    }
   ],
   "source": [
    "n = 1955\n",
    "N = 2018\n",
    "while n <= N:\n",
    "    x = df[df['year'] == n].revenue\n",
    "    if len(x) == 0: \n",
    "        print('None in year', n)\n",
    "    else:\n",
    "        print('Tail index in year', n, 'is', fq.gabaix_est(x, c=0.01))\n",
    "    n += 1"
   ]
  },
  {
   "cell_type": "markdown",
   "metadata": {},
   "source": [
    "## 3.4 tail index for log firm size distribution yearly from 1955 to 2018"
   ]
  },
  {
   "cell_type": "code",
   "execution_count": 16,
   "metadata": {},
   "outputs": [
    {
     "name": "stdout",
     "output_type": "stream",
     "text": [
      "Tail index in year 1955 is 23.3163172889627\n",
      "Tail index in year 1956 is 28.359899334150043\n",
      "Tail index in year 1957 is 30.539464809338217\n",
      "Tail index in year 1958 is 33.18692145136314\n",
      "Tail index in year 1959 is 28.943031355275465\n",
      "Tail index in year 1960 is 31.09508139139337\n",
      "Tail index in year 1961 is 26.99552084739805\n",
      "Tail index in year 1962 is 31.807793572736962\n",
      "Tail index in year 1963 is 27.54602342810022\n",
      "Tail index in year 1964 is 25.542852248526085\n",
      "Tail index in year 1965 is 24.204899766999574\n",
      "Tail index in year 1966 is 26.020660107547297\n",
      "Tail index in year 1967 is 30.379808316179165\n",
      "Tail index in year 1968 is 34.02133362159547\n",
      "Tail index in year 1969 is 31.64457545807378\n",
      "Tail index in year 1970 is 29.832483087589463\n",
      "Tail index in year 1971 is 32.97637637774513\n",
      "Tail index in year 1972 is 28.77867588916075\n",
      "Tail index in year 1973 is 27.30092152858864\n",
      "Tail index in year 1974 is 26.739175403169565\n",
      "Tail index in year 1975 is 51.304332683757025\n",
      "Tail index in year 1976 is 46.35805080415513\n",
      "Tail index in year 1977 is 40.05376208052542\n",
      "Tail index in year 1978 is 48.117077544700784\n",
      "Tail index in year 1979 is 46.10878461264526\n",
      "Tail index in year 1980 is 48.46070550174911\n",
      "Tail index in year 1981 is 47.906435214660036\n",
      "Tail index in year 1982 is 52.165164780961305\n",
      "Tail index in year 1983 is 48.82992558915225\n",
      "Tail index in year 1984 is 46.5547574027711\n",
      "Tail index in year 1985 is 49.60976454920903\n",
      "Tail index in year 1986 is 45.98055319135844\n",
      "Tail index in year 1987 is 52.21081677582713\n",
      "Tail index in year 1988 is 56.93886300302728\n",
      "Tail index in year 1989 is 50.377523059551244\n",
      "Tail index in year 1990 is 51.36008839395578\n",
      "Tail index in year 1991 is 54.55103215223352\n",
      "Tail index in year 1992 is 53.01597019991317\n",
      "Tail index in year 1993 is 46.10745616084509\n",
      "Tail index in year 1994 is 98.24126058078366\n",
      "Tail index in year 1995 is 55.77455217408592\n",
      "Tail index in year 1996 is 59.918052878618184\n",
      "Tail index in year 1997 is 73.77324560333318\n",
      "Tail index in year 1998 is 80.48280372293601\n",
      "Tail index in year 1999 is 64.58481760372999\n",
      "Tail index in year 2000 is 220.14682708225706\n",
      "Tail index in year 2001 is 240.1331623919093\n",
      "Tail index in year 2002 is 124.80097195052358\n",
      "Tail index in year 2003 is 91.48228629847151\n",
      "Tail index in year 2004 is 83.91994277863327\n",
      "Tail index in year 2005 is 58.39365700449373\n",
      "Tail index in year 2006 is 46.456834968017816\n",
      "Tail index in year 2007 is 44.99576736765703\n",
      "Tail index in year 2008 is 37.21398161055314\n",
      "Tail index in year 2009 is 47.02428066952691\n",
      "Tail index in year 2010 is 34.342960605346775\n",
      "Tail index in year 2011 is 36.530755113982046\n",
      "Tail index in year 2012 is 39.28454192188832\n",
      "Tail index in year 2013 is 28.596539277256262\n",
      "Tail index in year 2014 is 41.12465474673968\n",
      "Tail index in year 2015 is 33.87272198390399\n",
      "Tail index in year 2016 is 42.83484608081532\n",
      "Tail index in year 2017 is 38.340345799432015\n",
      "Tail index in year 2018 is 42.15305126480128\n"
     ]
    }
   ],
   "source": [
    "n = 1955\n",
    "N = 2018\n",
    "while n <= N:\n",
    "    x = df[df['year'] == n].logrevenue\n",
    "    if len(x) == 0: \n",
    "        print('None in year', n)\n",
    "    else:\n",
    "        print('Tail index in year', n, 'is', fq.gabaix_est(x, c=0.01))\n",
    "    n += 1"
   ]
  },
  {
   "cell_type": "markdown",
   "metadata": {},
   "source": [
    "## 3.5 tail index for firm growth distribution yearly from 1955 to 2018"
   ]
  },
  {
   "cell_type": "code",
   "execution_count": 17,
   "metadata": {},
   "outputs": [
    {
     "name": "stdout",
     "output_type": "stream",
     "text": [
      "Tail index in year 1955 is 7.137935139656351\n",
      "Tail index in year 1956 is 4.7564774460337755\n",
      "Tail index in year 1957 is 7.415392029907403\n",
      "Tail index in year 1958 is 5.37525996807285\n",
      "Tail index in year 1959 is 61.300164527813976\n",
      "Tail index in year 1960 is 3.0338849114554454\n",
      "Tail index in year 1961 is 6.566707935202006\n",
      "Tail index in year 1962 is 3.673603118125173\n",
      "Tail index in year 1963 is 5.699035093756213\n",
      "Tail index in year 1964 is 6.198675623607421\n",
      "Tail index in year 1965 is 5.111635954331587\n",
      "Tail index in year 1966 is 3.814336885072784\n",
      "Tail index in year 1967 is 2.9798145728946315\n",
      "Tail index in year 1968 is 2.8307629207077287\n",
      "Tail index in year 1969 is 2.580722272495029\n",
      "Tail index in year 1970 is 4.0417177135576\n",
      "Tail index in year 1971 is 4.880813410418466\n",
      "Tail index in year 1972 is 1.7549247478117764\n",
      "Tail index in year 1973 is 1.5467602699831753\n",
      "Tail index in year 1974 is 3.3964309182685586\n",
      "Tail index in year 1975 is 1.8064763926013652\n",
      "Tail index in year 1976 is 2.0610283333411905\n",
      "Tail index in year 1977 is 2.482028163695876\n",
      "Tail index in year 1978 is 2.814230387405796\n",
      "Tail index in year 1979 is 3.82554548165383\n",
      "Tail index in year 1980 is 2.92556448196677\n",
      "Tail index in year 1981 is 2.7221284042326737\n",
      "Tail index in year 1982 is 2.8213820124498654\n",
      "Tail index in year 1983 is 4.086334688544943\n",
      "Tail index in year 1984 is 7.076783515203717\n",
      "Tail index in year 1985 is 3.9025064580911324\n",
      "Tail index in year 1986 is 3.289924111340361\n",
      "Tail index in year 1987 is 5.844572730375466\n",
      "Tail index in year 1988 is 4.54576764525923\n",
      "Tail index in year 1989 is 1.8349849443922852\n",
      "Tail index in year 1990 is 3.325316242233644\n",
      "Tail index in year 1991 is 3.9830993518152025\n",
      "Tail index in year 1992 is 5.539271094098918\n",
      "Tail index in year 1993 is 3.4665812629970127\n",
      "Tail index in year 1994 is 340.08940242987495\n",
      "Tail index in year 1995 is 2.82379553734657\n",
      "Tail index in year 1996 is 4.903608154216395\n",
      "Tail index in year 1997 is 3.586769893768045\n",
      "Tail index in year 1998 is 3.6404679722066104\n",
      "Tail index in year 1999 is 3.765332371061285\n",
      "Tail index in year 2000 is 2.73241687712912\n",
      "Tail index in year 2001 is 3.9782737374378123\n",
      "Tail index in year 2002 is 5.799197565766799\n",
      "Tail index in year 2003 is 4.348587372789998\n",
      "Tail index in year 2004 is 3.083639975984962\n",
      "Tail index in year 2005 is 2.5061267933555498\n",
      "Tail index in year 2006 is 3.936906802371097\n",
      "Tail index in year 2007 is 3.13784476809467\n",
      "Tail index in year 2008 is 4.8191439378134735\n",
      "Tail index in year 2009 is 1.98335102189268\n",
      "Tail index in year 2010 is 1.810379834079272\n",
      "Tail index in year 2011 is 4.639906115562162\n",
      "Tail index in year 2012 is 4.634973355526502\n",
      "Tail index in year 2013 is 1.599626250482289\n",
      "Tail index in year 2014 is 3.686505740479949\n",
      "Tail index in year 2015 is 2.7460164643790765\n",
      "Tail index in year 2016 is 3.068852027495101\n",
      "Tail index in year 2017 is 3.9410614984966648\n",
      "Tail index in year 2018 is 2.4961005685493314\n"
     ]
    }
   ],
   "source": [
    "n = 1955\n",
    "N = 2018\n",
    "while n <= N:\n",
    "    x = df[df['year'] == n].fgrow_log\n",
    "    if len(x) == 0: \n",
    "        print('None in year', n)\n",
    "    else:\n",
    "        print('Tail index in year', n, 'is', fq.gabaix_est(x, c=0.01))\n",
    "    n += 1"
   ]
  },
  {
   "cell_type": "code",
   "execution_count": null,
   "metadata": {},
   "outputs": [],
   "source": []
  },
  {
   "cell_type": "code",
   "execution_count": null,
   "metadata": {},
   "outputs": [],
   "source": []
  },
  {
   "cell_type": "code",
   "execution_count": null,
   "metadata": {},
   "outputs": [],
   "source": []
  },
  {
   "cell_type": "code",
   "execution_count": null,
   "metadata": {},
   "outputs": [],
   "source": []
  },
  {
   "cell_type": "code",
   "execution_count": null,
   "metadata": {},
   "outputs": [],
   "source": []
  },
  {
   "cell_type": "code",
   "execution_count": null,
   "metadata": {},
   "outputs": [],
   "source": []
  },
  {
   "cell_type": "code",
   "execution_count": null,
   "metadata": {},
   "outputs": [],
   "source": []
  },
  {
   "cell_type": "code",
   "execution_count": null,
   "metadata": {},
   "outputs": [],
   "source": []
  },
  {
   "cell_type": "code",
   "execution_count": null,
   "metadata": {},
   "outputs": [],
   "source": []
  },
  {
   "cell_type": "code",
   "execution_count": null,
   "metadata": {},
   "outputs": [],
   "source": []
  }
 ],
 "metadata": {
  "kernelspec": {
   "display_name": "Python 3",
   "language": "python",
   "name": "python3"
  },
  "language_info": {
   "codemirror_mode": {
    "name": "ipython",
    "version": 3
   },
   "file_extension": ".py",
   "mimetype": "text/x-python",
   "name": "python",
   "nbconvert_exporter": "python",
   "pygments_lexer": "ipython3",
   "version": "3.7.6"
  }
 },
 "nbformat": 4,
 "nbformat_minor": 4
}
