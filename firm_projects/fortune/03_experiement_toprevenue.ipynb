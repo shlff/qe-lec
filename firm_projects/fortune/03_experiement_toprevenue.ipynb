{
 "cells": [
  {
   "cell_type": "code",
   "execution_count": 1,
   "metadata": {},
   "outputs": [],
   "source": [
    "import numpy as np\n",
    "import pandas as pd\n",
    "import matplotlib.pyplot as plt"
   ]
  },
  {
   "cell_type": "code",
   "execution_count": 2,
   "metadata": {},
   "outputs": [],
   "source": [
    "from scipy.integrate import quad, fixed_quad, simps"
   ]
  },
  {
   "cell_type": "code",
   "execution_count": 3,
   "metadata": {},
   "outputs": [
    {
     "data": {
      "text/html": [
       "<div>\n",
       "<style scoped>\n",
       "    .dataframe tbody tr th:only-of-type {\n",
       "        vertical-align: middle;\n",
       "    }\n",
       "\n",
       "    .dataframe tbody tr th {\n",
       "        vertical-align: top;\n",
       "    }\n",
       "\n",
       "    .dataframe thead th {\n",
       "        text-align: right;\n",
       "    }\n",
       "</style>\n",
       "<table border=\"1\" class=\"dataframe\">\n",
       "  <thead>\n",
       "    <tr style=\"text-align: right;\">\n",
       "      <th></th>\n",
       "      <th>Unnamed: 0</th>\n",
       "      <th>year</th>\n",
       "      <th>id</th>\n",
       "      <th>revenue</th>\n",
       "      <th>logrevenue</th>\n",
       "      <th>fgrow_log</th>\n",
       "    </tr>\n",
       "  </thead>\n",
       "  <tbody>\n",
       "    <tr>\n",
       "      <th>0</th>\n",
       "      <td>0</td>\n",
       "      <td>2018</td>\n",
       "      <td>0</td>\n",
       "      <td>500343000.0</td>\n",
       "      <td>20.030804</td>\n",
       "      <td>0.027717</td>\n",
       "    </tr>\n",
       "    <tr>\n",
       "      <th>1</th>\n",
       "      <td>1</td>\n",
       "      <td>2018</td>\n",
       "      <td>1</td>\n",
       "      <td>244363000.0</td>\n",
       "      <td>19.314165</td>\n",
       "      <td>0.171957</td>\n",
       "    </tr>\n",
       "    <tr>\n",
       "      <th>2</th>\n",
       "      <td>2</td>\n",
       "      <td>2018</td>\n",
       "      <td>2</td>\n",
       "      <td>242137000.0</td>\n",
       "      <td>19.305014</td>\n",
       "      <td>0.023268</td>\n",
       "    </tr>\n",
       "    <tr>\n",
       "      <th>3</th>\n",
       "      <td>3</td>\n",
       "      <td>2018</td>\n",
       "      <td>3</td>\n",
       "      <td>229234000.0</td>\n",
       "      <td>19.250254</td>\n",
       "      <td>0.147229</td>\n",
       "    </tr>\n",
       "    <tr>\n",
       "      <th>4</th>\n",
       "      <td>4</td>\n",
       "      <td>2018</td>\n",
       "      <td>4</td>\n",
       "      <td>201159000.0</td>\n",
       "      <td>19.119606</td>\n",
       "      <td>0.117532</td>\n",
       "    </tr>\n",
       "    <tr>\n",
       "      <th>...</th>\n",
       "      <td>...</td>\n",
       "      <td>...</td>\n",
       "      <td>...</td>\n",
       "      <td>...</td>\n",
       "      <td>...</td>\n",
       "      <td>...</td>\n",
       "    </tr>\n",
       "    <tr>\n",
       "      <th>29606</th>\n",
       "      <td>29606</td>\n",
       "      <td>1955</td>\n",
       "      <td>456</td>\n",
       "      <td>50400.0</td>\n",
       "      <td>10.827746</td>\n",
       "      <td>0.392149</td>\n",
       "    </tr>\n",
       "    <tr>\n",
       "      <th>29607</th>\n",
       "      <td>29607</td>\n",
       "      <td>1955</td>\n",
       "      <td>457</td>\n",
       "      <td>50300.0</td>\n",
       "      <td>10.825760</td>\n",
       "      <td>0.126799</td>\n",
       "    </tr>\n",
       "    <tr>\n",
       "      <th>29608</th>\n",
       "      <td>29608</td>\n",
       "      <td>1955</td>\n",
       "      <td>458</td>\n",
       "      <td>50300.0</td>\n",
       "      <td>10.825760</td>\n",
       "      <td>0.581805</td>\n",
       "    </tr>\n",
       "    <tr>\n",
       "      <th>29609</th>\n",
       "      <td>29609</td>\n",
       "      <td>1955</td>\n",
       "      <td>459</td>\n",
       "      <td>50200.0</td>\n",
       "      <td>10.823770</td>\n",
       "      <td>0.103965</td>\n",
       "    </tr>\n",
       "    <tr>\n",
       "      <th>29610</th>\n",
       "      <td>29610</td>\n",
       "      <td>1955</td>\n",
       "      <td>460</td>\n",
       "      <td>49700.0</td>\n",
       "      <td>10.813760</td>\n",
       "      <td>0.457094</td>\n",
       "    </tr>\n",
       "  </tbody>\n",
       "</table>\n",
       "<p>29611 rows × 6 columns</p>\n",
       "</div>"
      ],
      "text/plain": [
       "       Unnamed: 0  year   id      revenue  logrevenue  fgrow_log\n",
       "0               0  2018    0  500343000.0   20.030804   0.027717\n",
       "1               1  2018    1  244363000.0   19.314165   0.171957\n",
       "2               2  2018    2  242137000.0   19.305014   0.023268\n",
       "3               3  2018    3  229234000.0   19.250254   0.147229\n",
       "4               4  2018    4  201159000.0   19.119606   0.117532\n",
       "...           ...   ...  ...          ...         ...        ...\n",
       "29606       29606  1955  456      50400.0   10.827746   0.392149\n",
       "29607       29607  1955  457      50300.0   10.825760   0.126799\n",
       "29608       29608  1955  458      50300.0   10.825760   0.581805\n",
       "29609       29609  1955  459      50200.0   10.823770   0.103965\n",
       "29610       29610  1955  460      49700.0   10.813760   0.457094\n",
       "\n",
       "[29611 rows x 6 columns]"
      ]
     },
     "execution_count": 3,
     "metadata": {},
     "output_type": "execute_result"
    }
   ],
   "source": [
    "df = pd.read_csv('data/us_toprevenue.csv')\n",
    "df"
   ]
  },
  {
   "cell_type": "code",
   "execution_count": 4,
   "metadata": {},
   "outputs": [
    {
     "data": {
      "text/plain": [
       "2.2292568544547"
      ]
     },
     "execution_count": 4,
     "metadata": {},
     "output_type": "execute_result"
    }
   ],
   "source": [
    "df1 = df[['logrevenue', 'fgrow_log']] \n",
    "df1['fgrow_log'].max()"
   ]
  },
  {
   "cell_type": "code",
   "execution_count": 5,
   "metadata": {},
   "outputs": [],
   "source": [
    "df = df1[df1['fgrow_log'] != 0.0]\n"
   ]
  },
  {
   "cell_type": "code",
   "execution_count": 6,
   "metadata": {},
   "outputs": [],
   "source": [
    "x = np.asarray(df['logrevenue'])"
   ]
  },
  {
   "cell_type": "code",
   "execution_count": 7,
   "metadata": {},
   "outputs": [],
   "source": [
    "y = np.asarray(df['fgrow_log']) "
   ]
  },
  {
   "cell_type": "markdown",
   "metadata": {},
   "source": [
    "## Scatter Plot"
   ]
  },
  {
   "cell_type": "code",
   "execution_count": 8,
   "metadata": {},
   "outputs": [
    {
     "data": {
      "image/png": "[encoded data removed]",
      "text/plain": [
       "<Figure size 432x288 with 1 Axes>"
      ]
     },
     "metadata": {
      "needs_background": "light"
     },
     "output_type": "display_data"
    }
   ],
   "source": [
    "fig, ax = plt.subplots()\n",
    "ax.scatter(x, y)\n",
    "ax.set_xlabel('log size', fontsize=12)\n",
    "ax.set_ylabel('growth rates', fontsize = 12)\n",
    "plt.show()"
   ]
  },
  {
   "cell_type": "markdown",
   "metadata": {},
   "source": [
    "## Laplace distribution"
   ]
  },
  {
   "cell_type": "code",
   "execution_count": 9,
   "metadata": {},
   "outputs": [],
   "source": [
    "def laplace(x, μ, λ):\n",
    "    return 0.5 * λ * np.exp(- λ * np.abs(x - μ))"
   ]
  },
  {
   "cell_type": "markdown",
   "metadata": {},
   "source": [
    "#### MLEs for the Laplace Distribution"
   ]
  },
  {
   "cell_type": "code",
   "execution_count": 10,
   "metadata": {},
   "outputs": [
    {
     "data": {
      "text/plain": [
       "6426"
      ]
     },
     "execution_count": 10,
     "metadata": {},
     "output_type": "execute_result"
    }
   ],
   "source": [
    "obs = y[x > 16]\n",
    "len(obs)"
   ]
  },
  {
   "cell_type": "code",
   "execution_count": 11,
   "metadata": {},
   "outputs": [
    {
     "data": {
      "text/plain": [
       "0.19078038385352347"
      ]
     },
     "execution_count": 11,
     "metadata": {},
     "output_type": "execute_result"
    }
   ],
   "source": [
    "obs.std()"
   ]
  },
  {
   "cell_type": "code",
   "execution_count": 12,
   "metadata": {
    "scrolled": true
   },
   "outputs": [
    {
     "data": {
      "text/plain": [
       "0.038208746114590304"
      ]
     },
     "execution_count": 12,
     "metadata": {},
     "output_type": "execute_result"
    }
   ],
   "source": [
    "obs.mean()"
   ]
  },
  {
   "cell_type": "code",
   "execution_count": 13,
   "metadata": {},
   "outputs": [],
   "source": [
    "μ_hat = np.median(obs)"
   ]
  },
  {
   "cell_type": "code",
   "execution_count": 14,
   "metadata": {},
   "outputs": [],
   "source": [
    "b_hat = np.mean(np.abs(obs - μ_hat))"
   ]
  },
  {
   "cell_type": "markdown",
   "metadata": {},
   "source": [
    "## Growth Histograms"
   ]
  },
  {
   "cell_type": "code",
   "execution_count": 15,
   "metadata": {},
   "outputs": [
    {
     "data": {
      "text/plain": [
       "(0.044546078500859565, 0.10838721943457802)"
      ]
     },
     "execution_count": 15,
     "metadata": {},
     "output_type": "execute_result"
    }
   ],
   "source": [
    "μ_hat, b_hat"
   ]
  },
  {
   "cell_type": "code",
   "execution_count": 16,
   "metadata": {},
   "outputs": [],
   "source": [
    "λ_hat = 1/b_hat"
   ]
  },
  {
   "cell_type": "code",
   "execution_count": 17,
   "metadata": {},
   "outputs": [
    {
     "data": {
      "text/plain": [
       "9.22618003503259"
      ]
     },
     "execution_count": 17,
     "metadata": {},
     "output_type": "execute_result"
    }
   ],
   "source": [
    "λ_hat"
   ]
  },
  {
   "cell_type": "code",
   "execution_count": 18,
   "metadata": {},
   "outputs": [
    {
     "data": {
      "image/png": "[encoded data removed]",
      "text/plain": [
       "<Figure size 432x288 with 1 Axes>"
      ]
     },
     "metadata": {
      "needs_background": "light"
     },
     "output_type": "display_data"
    }
   ],
   "source": [
    "fig, ax = plt.subplots()\n",
    "ax.hist(obs, bins=40, density=True)\n",
    "\n",
    "s = obs.std()\n",
    "xgrid = np.linspace(obs.min() - s, obs.max() + s, 100)\n",
    "ax.plot(xgrid, laplace(xgrid, μ=μ_hat, λ=λ_hat))\n",
    "\n",
    "plt.show()"
   ]
  },
  {
   "cell_type": "code",
   "execution_count": 19,
   "metadata": {},
   "outputs": [],
   "source": [
    "def compute_alpha(alpha_grid, μ=μ_hat, λ=λ_hat):\n",
    "    vals = np.zeros_like(alpha_grid)\n",
    "    for i, α in enumerate(alpha_grid):\n",
    "        g = lambda x: np.exp(α * x) * laplace(x, μ, λ)\n",
    "        x_grid = np.linspace(-2, μ, 200)\n",
    "        y_grid = g(x_grid)\n",
    "        vals[i] += simps(y_grid, x_grid)\n",
    "        x_grid = np.linspace(μ, 2, 200)\n",
    "        y_grid = g(x_grid)\n",
    "        vals[i] += simps(y_grid, x_grid)\n",
    "\n",
    "    return vals\n",
    "        "
   ]
  },
  {
   "cell_type": "code",
   "execution_count": 20,
   "metadata": {},
   "outputs": [],
   "source": [
    "alpha_grid = np.linspace(0.0, 10.0, 50)"
   ]
  },
  {
   "cell_type": "code",
   "execution_count": 21,
   "metadata": {},
   "outputs": [
    {
     "data": {
      "image/png": "[encoded data removed]",
      "text/plain": [
       "<Figure size 576x288 with 1 Axes>"
      ]
     },
     "metadata": {
      "needs_background": "light"
     },
     "output_type": "display_data"
    }
   ],
   "source": [
    "fig, ax = plt.subplots(figsize=(8, 4))\n",
    "vals = compute_alpha(alpha_grid)\n",
    "ax.grid()\n",
    "#ax.set_ylim((0, 2))\n",
    "#ax.set_yticks((1,))\n",
    "ax.plot(alpha_grid, vals)\n",
    "plt.show()"
   ]
  },
  {
   "cell_type": "code",
   "execution_count": 22,
   "metadata": {},
   "outputs": [],
   "source": [
    "def m(α):\n",
    "    \"Moment generating function E exp(α G) where G is growth rate, Laplace distribution\"\n",
    "    return np.exp(μ_hat * α) / (1 - α**2 / λ_hat**2)"
   ]
  },
  {
   "cell_type": "code",
   "execution_count": 23,
   "metadata": {},
   "outputs": [
    {
     "data": {
      "image/png": "[encoded data removed]",
      "text/plain": [
       "<Figure size 576x288 with 1 Axes>"
      ]
     },
     "metadata": {
      "needs_background": "light"
     },
     "output_type": "display_data"
    }
   ],
   "source": [
    "fig, ax = plt.subplots(figsize=(8, 4))\n",
    "vals = m(alpha_grid)\n",
    "ax.grid()\n",
    "#ax.set_ylim((0, 2))\n",
    "#ax.set_yticks((1,))\n",
    "ax.plot(alpha_grid, vals)\n",
    "plt.show()"
   ]
  },
  {
   "cell_type": "code",
   "execution_count": null,
   "metadata": {},
   "outputs": [],
   "source": []
  },
  {
   "cell_type": "code",
   "execution_count": null,
   "metadata": {},
   "outputs": [],
   "source": []
  }
 ],
 "metadata": {
  "kernelspec": {
   "display_name": "Python 3",
   "language": "python",
   "name": "python3"
  },
  "language_info": {
   "codemirror_mode": {
    "name": "ipython",
    "version": 3
   },
   "file_extension": ".py",
   "mimetype": "text/x-python",
   "name": "python",
   "nbconvert_exporter": "python",
   "pygments_lexer": "ipython3",
   "version": "3.7.6"
  }
 },
 "nbformat": 4,
 "nbformat_minor": 4
}
