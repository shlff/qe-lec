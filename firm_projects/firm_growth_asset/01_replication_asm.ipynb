{
 "cells": [
  {
   "cell_type": "markdown",
   "metadata": {},
   "source": [
    "# 01_replication_asm_v6"
   ]
  },
  {
   "cell_type": "code",
   "execution_count": 1,
   "metadata": {},
   "outputs": [],
   "source": [
    "import pandas as pd\n",
    "import numpy as np\n",
    "import fs_qe as fq\n",
    "\n",
    "%matplotlib inline"
   ]
  },
  {
   "cell_type": "markdown",
   "metadata": {},
   "source": [
    "1. The database we use here is the relative well-studied Chinese Annual Survey of Manufacturing (ASM), an extensive yearly survey of Chinese manufacturing firms from 1998 to 2013.\n",
    "   - Please find the links attached:\n",
    "     - [access from PKU](https://www.lib.pku.edu.cn/portal/cn/news/0000001637)\n",
    "   - The ASM is weighted towards medium and large firms, includes all Chinese manufacturing firms with total annual sales of more than 5 million RMB (approximately U.S.$\\$ 800,000$), as well additional state-owned firms with lower sales.\n",
    "   - This survey provides detailed information on ownership, location, production, and the balance sheet of manufacturing firms."
   ]
  },
  {
   "cell_type": "markdown",
   "metadata": {},
   "source": [
    "# 1 pre-process the data\n",
    "We can skip the next 2 cells to read csv file directly."
   ]
  },
  {
   "cell_type": "code",
   "execution_count": 2,
   "metadata": {},
   "outputs": [
    {
     "name": "stdout",
     "output_type": "stream",
     "text": [
      "CPU times: user 55.7 s, sys: 1min 1s, total: 1min 56s\n",
      "Wall time: 2min 12s\n"
     ]
    }
   ],
   "source": [
    "%%time\n",
    "df = pd.read_stata('/Users/shuhu/Desktop/1_papers_w:john/04_firm_size/github/firm_size_empirics/orbis/firm_growth_asset/data/asie_readytouse.dta')"
   ]
  },
  {
   "cell_type": "code",
   "execution_count": null,
   "metadata": {},
   "outputs": [],
   "source": [
    "# convert the database from dta to csv\n",
    "df.to_csv('/Users/shuhu/Desktop/1_papers_w:john/04_firm_size/github/firm_size_empirics/orbis/firm_growth_asset/data/asie_readytouse.csv')"
   ]
  },
  {
   "cell_type": "markdown",
   "metadata": {},
   "source": [
    "##### Please start from the code below."
   ]
  },
  {
   "cell_type": "markdown",
   "metadata": {},
   "source": [
    "The ``asie_readytouse.dta`` database collects financially corporate data for all firms over total asset ¥5 million from 1998 to 2013 in the mainland China.\n",
    "- Since the data in 2010 are fake, we delete all observations in 2010.\n",
    "- The observations for an individual firm are not consecutive over years."
   ]
  },
  {
   "cell_type": "code",
   "execution_count": null,
   "metadata": {
    "scrolled": true
   },
   "outputs": [],
   "source": [
    "df= pd.read_csv('/Users/shuhu/Desktop/1_papers_w:john/04_firm_size/github/firm_size_empirics/orbis/firm_growth_asset/data/asie_readytouse.csv')"
   ]
  },
  {
   "cell_type": "code",
   "execution_count": null,
   "metadata": {},
   "outputs": [],
   "source": [
    "df = df[['asie_id', 'year', 'tasset']] # asie_id ascending denotes each individual firm\n",
    "df1=df.astype({'asie_id':int, 'year': int}).set_index(['asie_id', 'year'])\n",
    "dfx = df1.unstack().stack(dropna=False) # This treatment solves the missing-value issue"
   ]
  },
  {
   "cell_type": "markdown",
   "metadata": {},
   "source": [
    "# 2 process the data"
   ]
  },
  {
   "cell_type": "markdown",
   "metadata": {},
   "source": [
    "## 2.1 generating the firm-growth vs firm size database\n",
    "\n",
    "### 2.1.1 the firm-growth as $\\frac{S_+- S}{S_+}$"
   ]
  },
  {
   "cell_type": "code",
   "execution_count": null,
   "metadata": {},
   "outputs": [],
   "source": [
    "df2 = dfx\n",
    "df2 = df2[df2['tasset'] != 0.0]\n",
    "df2['fgrow'] = df2.groupby('asie_id')['tasset'].pct_change(periods=1) * 100\n",
    "df3 = df2.dropna()\n",
    "df4 = df3[(df3.index != 1998) & (df3.index != 2011)]\n",
    "df5 = df4.reset_index()\n",
    "df5['logtasset'] = np.log(df5['tasset'])"
   ]
  },
  {
   "cell_type": "code",
   "execution_count": null,
   "metadata": {},
   "outputs": [],
   "source": [
    "fq.scatterplot(df5, x='tasset', y='fgrow')"
   ]
  },
  {
   "cell_type": "markdown",
   "metadata": {},
   "source": [
    "There are two missing-data issues in this data processing:\n",
    "- Since we delete observations in 2010, the firm growth rates corresponding to firms in 2011 must be wrong.\n",
    "  - we want to delete those observations in 2011.\n",
    "  - **Solved!**\n",
    "- Since for some firms, their observations are consecutive over years.\n",
    "  - e.g., for the firm with ``asie_id == 1``, there are only 2011 & 2012 observations.\n",
    "  - the firm growth rate we calculated might not be the annually firm growth rate.\n",
    "  - Solution: consider filling in missing rows in their consecutive years.\n",
    "    - For example, there is a possible way to solve this issue: https://stackoverflow.com/questions/40093971/pandas-dataframe-insert-fill-missing-rows-from-previous-dates\n",
    "    \n",
    "Also, we want to change the growth rates as $\\ln S_{+} - \\ln S$ and firm size as $S$."
   ]
  },
  {
   "cell_type": "markdown",
   "metadata": {},
   "source": [
    "### 2.1.2 the firm-growth as $\\ln (S_+) - \\ln (S) $ against firm size $S$ or log firm size $\\ln S$"
   ]
  },
  {
   "cell_type": "code",
   "execution_count": null,
   "metadata": {},
   "outputs": [],
   "source": [
    "df7 = dfx.reset_index('asie_id')\n",
    "df7['logtasset'] = np.log(df7['tasset'])\n",
    "df7['fgrow_log'] = df7.groupby('asie_id')['logtasset'].diff(periods=-1) * 100\n",
    "df8 = df7.dropna()\n",
    "df9 = df8[(df8.index != 1998) & (df8.index != 2011)]\n",
    "\n",
    "df7"
   ]
  },
  {
   "cell_type": "code",
   "execution_count": null,
   "metadata": {},
   "outputs": [],
   "source": [
    "fq.scatterplot(df9, y='fgrow_log')"
   ]
  },
  {
   "cell_type": "code",
   "execution_count": null,
   "metadata": {},
   "outputs": [],
   "source": [
    "fq.scatterplot(df9, x='logtasset', y='fgrow_log', xlabel='Log Size (Log Total Assets)')"
   ]
  },
  {
   "cell_type": "markdown",
   "metadata": {},
   "source": [
    "### 2.1.3 Ruling out some outliers at the lower bound of the firm size"
   ]
  },
  {
   "cell_type": "code",
   "execution_count": null,
   "metadata": {},
   "outputs": [],
   "source": [
    "df10 = df9[df9['tasset'] > 10]\n",
    "df10"
   ]
  },
  {
   "cell_type": "code",
   "execution_count": null,
   "metadata": {},
   "outputs": [],
   "source": [
    "fq.scatterplot(df10, y='fgrow_log')"
   ]
  },
  {
   "cell_type": "code",
   "execution_count": null,
   "metadata": {},
   "outputs": [],
   "source": [
    "fq.scatterplot(df10, x='logtasset',y='fgrow_log', xlabel='Log Size (Log Total Assets)')"
   ]
  },
  {
   "cell_type": "code",
   "execution_count": null,
   "metadata": {},
   "outputs": [],
   "source": []
  },
  {
   "cell_type": "markdown",
   "metadata": {},
   "source": [
    "## 2.2 generating double-log plots with a $45$-degree line"
   ]
  },
  {
   "cell_type": "markdown",
   "metadata": {},
   "source": [
    "### 2.2.1 process"
   ]
  },
  {
   "cell_type": "code",
   "execution_count": null,
   "metadata": {},
   "outputs": [],
   "source": [
    "df12 = fq.process45line(dfx, ID='asie_id')"
   ]
  },
  {
   "cell_type": "code",
   "execution_count": null,
   "metadata": {},
   "outputs": [],
   "source": [
    "df13 = df12[(df12.index != 1998) & (df12.index != 2011)]\n",
    "df13"
   ]
  },
  {
   "cell_type": "markdown",
   "metadata": {},
   "source": [
    "### 2.2.2 Scatter Plots with Linear Regression Approximation (with 45 degree line)"
   ]
  },
  {
   "cell_type": "code",
   "execution_count": null,
   "metadata": {},
   "outputs": [],
   "source": [
    "fq.plots(df13,reg=True)"
   ]
  },
  {
   "cell_type": "code",
   "execution_count": null,
   "metadata": {},
   "outputs": [],
   "source": [
    "fq.plots(df13, x='logtasset_prev', y='logtasset', reg=True)"
   ]
  },
  {
   "cell_type": "markdown",
   "metadata": {},
   "source": [
    "### 2.2.3 Scatter Plots with 3rd-Degree Polynomial Approximation (with 45 degree line)"
   ]
  },
  {
   "cell_type": "code",
   "execution_count": null,
   "metadata": {},
   "outputs": [],
   "source": [
    "fq.plots(df13)"
   ]
  },
  {
   "cell_type": "code",
   "execution_count": null,
   "metadata": {},
   "outputs": [],
   "source": []
  },
  {
   "cell_type": "code",
   "execution_count": null,
   "metadata": {},
   "outputs": [],
   "source": []
  }
 ],
 "metadata": {
  "kernelspec": {
   "display_name": "Python 3",
   "language": "python",
   "name": "python3"
  },
  "language_info": {
   "codemirror_mode": {
    "name": "ipython",
    "version": 3
   },
   "file_extension": ".py",
   "mimetype": "text/x-python",
   "name": "python",
   "nbconvert_exporter": "python",
   "pygments_lexer": "ipython3",
   "version": "3.7.6"
  }
 },
 "nbformat": 4,
 "nbformat_minor": 4
}
