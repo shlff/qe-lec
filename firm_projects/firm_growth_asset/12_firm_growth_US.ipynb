{
 "cells": [
  {
   "cell_type": "markdown",
   "metadata": {},
   "source": [
    "# 12_firm_growth_US_v18"
   ]
  },
  {
   "cell_type": "code",
   "execution_count": 1,
   "metadata": {},
   "outputs": [],
   "source": [
    "import numpy as np\n",
    "import pandas as pd\n",
    "\n",
    "import fs_qe as fq"
   ]
  },
  {
   "cell_type": "markdown",
   "metadata": {},
   "source": [
    "In this notebook, we \n",
    "1. focus on US firm data with a firm-size cut off of $\\exp(8)$,\n",
    "2. use Maximum Likelihood method to estimate 4 parameters and their standard errors with the US dataset from point $1.$ above,\n",
    "   - also estimate the tail index for the firm size distribution from this dataset,\n",
    "3. do scatter plots of $\\log (S_{t+1}/S_t)$ against $\\log S_t$ \n",
    "   - for the US dataset from point $1.$ above and \n",
    "   - for simulated data with the estimated parameters from point $2.$ above.\n"
   ]
  },
  {
   "cell_type": "markdown",
   "metadata": {},
   "source": [
    "# 1 log-likelihood function and tail index: specification and implementation"
   ]
  },
  {
   "cell_type": "markdown",
   "metadata": {},
   "source": [
    "## 1.1 log-likelihood specification\n",
    "\n",
    "First we state the specification of the log-likelihood function we use here.\n",
    "\n",
    "Assume that the law of motion for the firm size is\n",
    "\n",
    "$$\n",
    "\\ln \\frac{S_{t+1}}{S_{t}} = a + b \\frac{1}{\\ln S_t} \\tag{1}\n",
    "$$\n",
    "where\n",
    "- $S_t$ is the firm size at time $t$\n",
    "- $a \\sim_{iid} N(\\mu_{a}, \\sigma^2_{a})$\n",
    "- $b \\sim_{iid} N(\\mu_{b}, \\sigma^2_{b})$"
   ]
  },
  {
   "cell_type": "markdown",
   "metadata": {},
   "source": [
    "Let $X_t := \\frac{1}{\\ln S_t}$ and $Y_t:=\\ln \\frac{S_{t+1}}{S_{t}}$.\n",
    "The above law of motion can be rewritten as\n",
    "$$\n",
    "Y_t = a + b X_t \\tag{2}\n",
    "$$\n",
    "while other intepretations are the same.\n",
    "\n"
   ]
  },
  {
   "cell_type": "markdown",
   "metadata": {},
   "source": [
    "For the sum of independent random variables (you can find the wikipedia [here](https://en.wikipedia.org/wiki/Sum_of_normally_distributed_random_variables)), we have the following conclusion that \n",
    "\n",
    "if\n",
    "$$\n",
    "X_i \\sim_{iid} N(\\mu_i, \\sigma^2_i), i=1, \\cdots, n\n",
    "$$\n",
    "then\n",
    "$$\n",
    "\\sum^n_{i=1} a_i X_i \\sim N( \\sum^n_{i=1} a_i \\mu_i, \\sum^n_{i=1} (a_i \\sigma_i)^2 )\n",
    "$$"
   ]
  },
  {
   "cell_type": "markdown",
   "metadata": {},
   "source": [
    "The above normal regression model can be regarded, equivalently, as a statement about the density of $Y$ given $X$.\n",
    "\n",
    "The conditional density is\n",
    "$$\n",
    "f_{Y|X} (y |x, \\mu_{a}, \\mu_{b}, \\sigma^2_{a}, \\sigma^2_{b}) = \\frac{1}{\\sqrt{2 \\pi \\sigma^2}} \\exp (- \\frac{1}{2 \\sigma^2} (y - \\mu_{a} - \\mu_{b} x )^2 ) \\tag{3}\n",
    "$$\n",
    "where\n",
    "- $\\sigma^2 = \\sigma^2_{a} + \\sigma^2_{b} (x)^2$"
   ]
  },
  {
   "cell_type": "markdown",
   "metadata": {},
   "source": [
    "The likelihood function is\n",
    "$$\n",
    "\\mathscr L (\\mu_{a}, \\mu_{b}, \\sigma^2_{a}, \\sigma^2_{b} | x, y) = \\prod^n_{i=1} \\frac{1}{\\sqrt{2 \\pi \\sigma^2}} \\exp (- \\frac{1}{2 \\sigma^2} (y - \\mu_{a} - \\mu_{b} x )^2 )  \\tag{4}\n",
    "$$"
   ]
  },
  {
   "cell_type": "markdown",
   "metadata": {},
   "source": [
    "Taking log of $(4)$, we have the log-likelihood function\n",
    "$$\n",
    "L (\\mu_{a}, \\mu_{b}, \\sigma^2_{a}, \\sigma^2_{b} | x, y) = \\sum^n_{i=1}\\ln \\frac{1}{\\sqrt{2 \\pi \\sigma^2}} \\exp (- \\frac{1}{2 \\sigma^2} (y - \\mu_{a} - \\mu_{b} x )^2 )  \\tag{5}\n",
    "$$"
   ]
  },
  {
   "cell_type": "markdown",
   "metadata": {},
   "source": [
    "## 1.2 tail index specification\n",
    "\n",
    "Recall equation [(1)](#), let $S_t \\to \\infty$, we have\n",
    "\n",
    "$$\n",
    "\\ln \\frac{S_{t+1}}{S_{t}} = a \\tag{6}\n",
    "$$\n",
    "\n",
    "Taking logarithm of both yields\n",
    "\n",
    "$$\n",
    "\\frac{S_{t+1}}{S_{t}} = \\exp (a) \\tag{7}\n",
    "$$\n",
    "\n",
    "By [Kesten-Goldien Theorem](https://python.quantecon.org/kesten_processes.html#The-Kesten%E2%80%93Goldie-Theorem), we have a positive constant $\\alpha$, which is the tail index of the Pareto distribution followed by the stationary firm size distribution, such that\n",
    "\n",
    "$$\n",
    "\\mathbb E (\\exp (a)^{\\alpha} ) = 1 \\tag{8}\n",
    "$$\n",
    "\n",
    "By the property of exponential functions, $a \\sim N(\\mu_a, \\sigma^2_a)$ and lognormal distribution, let $\\epsilon \\sim N(0, 1)$ equation [(8)](#) can be rewritten as\n",
    "\n",
    "$$\n",
    "\\mathbb E (\\exp (a)^{\\alpha} ) =  \\mathbb E (\\exp (\\mu_a + \\sigma_a \\epsilon)^{\\alpha} )\\\\\n",
    "= \\mathbb E (\\exp (\\mu_a \\alpha + \\sigma_a \\epsilon \\alpha) ) \\\\\n",
    "= \\exp (  \\alpha \\mu_a + \\frac{\\sigma^2_a \\alpha^2}{2} ) =1 \\tag{9}\n",
    "$$\n",
    "or equivalently\n",
    "$$\n",
    "\\exp (  \\alpha \\mu_a + \\frac{\\sigma^2_a \\alpha^2}{2} ) =1 \\tag{10}\n",
    "$$\n",
    "\n",
    "Taking logarithm of both sides of [(10)](#) yields\n",
    "\n",
    "$$\n",
    "\\alpha \\mu_a + \\frac{\\sigma^2_a \\alpha^2}{2} =0 \\tag{11}\n",
    "$$\n",
    "\n",
    "Rearrange [(11)](#), we get\n",
    "\n",
    "$$\n",
    "\\alpha = - \\frac{2 \\mu_a}{\\sigma^2_a} \\tag{12}\n",
    "$$\n",
    "\n",
    "For the following parts, we estimate the tail index $\\alpha$ of the stationary distribution using equation [(12)](#)."
   ]
  },
  {
   "cell_type": "markdown",
   "metadata": {},
   "source": [
    "## 1.3 implementation\n",
    "\n",
    "Then we implement the log-likelihood function and the tail index measure, $\\alpha$."
   ]
  },
  {
   "cell_type": "markdown",
   "metadata": {},
   "source": [
    "# 2 ML estimations for sample with cutoff of $\\exp (8)$ and initial set of parameters $(0, 0, 10,10)$\n",
    "\n",
    "Now we import the US firm database with firm-size cutoff of $\\exp(8)$."
   ]
  },
  {
   "cell_type": "code",
   "execution_count": 2,
   "metadata": {},
   "outputs": [
    {
     "name": "stdout",
     "output_type": "stream",
     "text": [
      "CPU times: user 264 ms, sys: 57.8 ms, total: 322 ms\n",
      "Wall time: 338 ms\n"
     ]
    },
    {
     "data": {
      "text/html": [
       "<div>\n",
       "<style scoped>\n",
       "    .dataframe tbody tr th:only-of-type {\n",
       "        vertical-align: middle;\n",
       "    }\n",
       "\n",
       "    .dataframe tbody tr th {\n",
       "        vertical-align: top;\n",
       "    }\n",
       "\n",
       "    .dataframe thead th {\n",
       "        text-align: right;\n",
       "    }\n",
       "</style>\n",
       "<table border=\"1\" class=\"dataframe\">\n",
       "  <thead>\n",
       "    <tr style=\"text-align: right;\">\n",
       "      <th></th>\n",
       "      <th>year</th>\n",
       "      <th>id</th>\n",
       "      <th>tasset</th>\n",
       "      <th>logtasset</th>\n",
       "      <th>fgrow_log</th>\n",
       "      <th>logtasset_inv</th>\n",
       "    </tr>\n",
       "  </thead>\n",
       "  <tbody>\n",
       "    <tr>\n",
       "      <th>0</th>\n",
       "      <td>2010</td>\n",
       "      <td>1</td>\n",
       "      <td>180782000.0</td>\n",
       "      <td>19.012802</td>\n",
       "      <td>-6.749972</td>\n",
       "      <td>0.052596</td>\n",
       "    </tr>\n",
       "    <tr>\n",
       "      <th>1</th>\n",
       "      <td>2011</td>\n",
       "      <td>1</td>\n",
       "      <td>193406000.0</td>\n",
       "      <td>19.080302</td>\n",
       "      <td>-4.893148</td>\n",
       "      <td>0.052410</td>\n",
       "    </tr>\n",
       "    <tr>\n",
       "      <th>2</th>\n",
       "      <td>2012</td>\n",
       "      <td>1</td>\n",
       "      <td>203105000.0</td>\n",
       "      <td>19.129234</td>\n",
       "      <td>-0.807152</td>\n",
       "      <td>0.052276</td>\n",
       "    </tr>\n",
       "    <tr>\n",
       "      <th>3</th>\n",
       "      <td>2013</td>\n",
       "      <td>1</td>\n",
       "      <td>204751000.0</td>\n",
       "      <td>19.137305</td>\n",
       "      <td>0.617774</td>\n",
       "      <td>0.052254</td>\n",
       "    </tr>\n",
       "    <tr>\n",
       "      <th>4</th>\n",
       "      <td>2014</td>\n",
       "      <td>1</td>\n",
       "      <td>203490000.0</td>\n",
       "      <td>19.131127</td>\n",
       "      <td>1.939669</td>\n",
       "      <td>0.052271</td>\n",
       "    </tr>\n",
       "    <tr>\n",
       "      <th>...</th>\n",
       "      <td>...</td>\n",
       "      <td>...</td>\n",
       "      <td>...</td>\n",
       "      <td>...</td>\n",
       "      <td>...</td>\n",
       "      <td>...</td>\n",
       "    </tr>\n",
       "    <tr>\n",
       "      <th>197111</th>\n",
       "      <td>2018</td>\n",
       "      <td>39566</td>\n",
       "      <td>971579.0</td>\n",
       "      <td>13.786678</td>\n",
       "      <td>87.515404</td>\n",
       "      <td>0.072534</td>\n",
       "    </tr>\n",
       "    <tr>\n",
       "      <th>197112</th>\n",
       "      <td>2018</td>\n",
       "      <td>39582</td>\n",
       "      <td>96026.0</td>\n",
       "      <td>11.472374</td>\n",
       "      <td>0.000000</td>\n",
       "      <td>0.087166</td>\n",
       "    </tr>\n",
       "    <tr>\n",
       "      <th>197113</th>\n",
       "      <td>2017</td>\n",
       "      <td>39592</td>\n",
       "      <td>99948.0</td>\n",
       "      <td>11.512405</td>\n",
       "      <td>0.000000</td>\n",
       "      <td>0.086863</td>\n",
       "    </tr>\n",
       "    <tr>\n",
       "      <th>197114</th>\n",
       "      <td>2018</td>\n",
       "      <td>39592</td>\n",
       "      <td>99948.0</td>\n",
       "      <td>11.512405</td>\n",
       "      <td>0.000000</td>\n",
       "      <td>0.086863</td>\n",
       "    </tr>\n",
       "    <tr>\n",
       "      <th>197115</th>\n",
       "      <td>2018</td>\n",
       "      <td>39593</td>\n",
       "      <td>984577.0</td>\n",
       "      <td>13.799967</td>\n",
       "      <td>1.903482</td>\n",
       "      <td>0.072464</td>\n",
       "    </tr>\n",
       "  </tbody>\n",
       "</table>\n",
       "<p>197116 rows × 6 columns</p>\n",
       "</div>"
      ],
      "text/plain": [
       "        year     id       tasset  logtasset  fgrow_log  logtasset_inv\n",
       "0       2010      1  180782000.0  19.012802  -6.749972       0.052596\n",
       "1       2011      1  193406000.0  19.080302  -4.893148       0.052410\n",
       "2       2012      1  203105000.0  19.129234  -0.807152       0.052276\n",
       "3       2013      1  204751000.0  19.137305   0.617774       0.052254\n",
       "4       2014      1  203490000.0  19.131127   1.939669       0.052271\n",
       "...      ...    ...          ...        ...        ...            ...\n",
       "197111  2018  39566     971579.0  13.786678  87.515404       0.072534\n",
       "197112  2018  39582      96026.0  11.472374   0.000000       0.087166\n",
       "197113  2017  39592      99948.0  11.512405   0.000000       0.086863\n",
       "197114  2018  39592      99948.0  11.512405   0.000000       0.086863\n",
       "197115  2018  39593     984577.0  13.799967   1.903482       0.072464\n",
       "\n",
       "[197116 rows x 6 columns]"
      ]
     },
     "execution_count": 2,
     "metadata": {},
     "output_type": "execute_result"
    }
   ],
   "source": [
    "%%time\n",
    "df = pd.read_csv('data/usa_chop_log8.csv')\n",
    "df"
   ]
  },
  {
   "cell_type": "code",
   "execution_count": 3,
   "metadata": {},
   "outputs": [
    {
     "data": {
      "text/html": [
       "<div>\n",
       "<style scoped>\n",
       "    .dataframe tbody tr th:only-of-type {\n",
       "        vertical-align: middle;\n",
       "    }\n",
       "\n",
       "    .dataframe tbody tr th {\n",
       "        vertical-align: top;\n",
       "    }\n",
       "\n",
       "    .dataframe thead th {\n",
       "        text-align: right;\n",
       "    }\n",
       "</style>\n",
       "<table border=\"1\" class=\"dataframe\">\n",
       "  <thead>\n",
       "    <tr style=\"text-align: right;\">\n",
       "      <th></th>\n",
       "      <th>year</th>\n",
       "      <th>id</th>\n",
       "      <th>tasset</th>\n",
       "      <th>logtasset</th>\n",
       "      <th>fgrow_log</th>\n",
       "      <th>logtasset_inv</th>\n",
       "      <th>const</th>\n",
       "      <th>tasset_inv</th>\n",
       "      <th>tasset_inv_onehalf</th>\n",
       "      <th>tasset_inv_onefour</th>\n",
       "      <th>tasset_logmax</th>\n",
       "    </tr>\n",
       "  </thead>\n",
       "  <tbody>\n",
       "    <tr>\n",
       "      <th>0</th>\n",
       "      <td>2010</td>\n",
       "      <td>1</td>\n",
       "      <td>180782000.0</td>\n",
       "      <td>19.012802</td>\n",
       "      <td>-6.749972</td>\n",
       "      <td>0.052596</td>\n",
       "      <td>1</td>\n",
       "      <td>5.531524e-09</td>\n",
       "      <td>0.000074</td>\n",
       "      <td>0.008624</td>\n",
       "      <td>0.987198</td>\n",
       "    </tr>\n",
       "    <tr>\n",
       "      <th>1</th>\n",
       "      <td>2011</td>\n",
       "      <td>1</td>\n",
       "      <td>193406000.0</td>\n",
       "      <td>19.080302</td>\n",
       "      <td>-4.893148</td>\n",
       "      <td>0.052410</td>\n",
       "      <td>1</td>\n",
       "      <td>5.170470e-09</td>\n",
       "      <td>0.000072</td>\n",
       "      <td>0.008480</td>\n",
       "      <td>0.919698</td>\n",
       "    </tr>\n",
       "    <tr>\n",
       "      <th>2</th>\n",
       "      <td>2012</td>\n",
       "      <td>1</td>\n",
       "      <td>203105000.0</td>\n",
       "      <td>19.129234</td>\n",
       "      <td>-0.807152</td>\n",
       "      <td>0.052276</td>\n",
       "      <td>1</td>\n",
       "      <td>4.923562e-09</td>\n",
       "      <td>0.000070</td>\n",
       "      <td>0.008377</td>\n",
       "      <td>0.870766</td>\n",
       "    </tr>\n",
       "    <tr>\n",
       "      <th>3</th>\n",
       "      <td>2013</td>\n",
       "      <td>1</td>\n",
       "      <td>204751000.0</td>\n",
       "      <td>19.137305</td>\n",
       "      <td>0.617774</td>\n",
       "      <td>0.052254</td>\n",
       "      <td>1</td>\n",
       "      <td>4.883981e-09</td>\n",
       "      <td>0.000070</td>\n",
       "      <td>0.008360</td>\n",
       "      <td>0.862695</td>\n",
       "    </tr>\n",
       "    <tr>\n",
       "      <th>4</th>\n",
       "      <td>2014</td>\n",
       "      <td>1</td>\n",
       "      <td>203490000.0</td>\n",
       "      <td>19.131127</td>\n",
       "      <td>1.939669</td>\n",
       "      <td>0.052271</td>\n",
       "      <td>1</td>\n",
       "      <td>4.914246e-09</td>\n",
       "      <td>0.000070</td>\n",
       "      <td>0.008373</td>\n",
       "      <td>0.868873</td>\n",
       "    </tr>\n",
       "    <tr>\n",
       "      <th>...</th>\n",
       "      <td>...</td>\n",
       "      <td>...</td>\n",
       "      <td>...</td>\n",
       "      <td>...</td>\n",
       "      <td>...</td>\n",
       "      <td>...</td>\n",
       "      <td>...</td>\n",
       "      <td>...</td>\n",
       "      <td>...</td>\n",
       "      <td>...</td>\n",
       "      <td>...</td>\n",
       "    </tr>\n",
       "    <tr>\n",
       "      <th>197111</th>\n",
       "      <td>2018</td>\n",
       "      <td>39566</td>\n",
       "      <td>971579.0</td>\n",
       "      <td>13.786678</td>\n",
       "      <td>87.515404</td>\n",
       "      <td>0.072534</td>\n",
       "      <td>1</td>\n",
       "      <td>1.029252e-06</td>\n",
       "      <td>0.001015</td>\n",
       "      <td>0.031852</td>\n",
       "      <td>6.213322</td>\n",
       "    </tr>\n",
       "    <tr>\n",
       "      <th>197112</th>\n",
       "      <td>2018</td>\n",
       "      <td>39582</td>\n",
       "      <td>96026.0</td>\n",
       "      <td>11.472374</td>\n",
       "      <td>0.000000</td>\n",
       "      <td>0.087166</td>\n",
       "      <td>1</td>\n",
       "      <td>1.041385e-05</td>\n",
       "      <td>0.003227</td>\n",
       "      <td>0.056807</td>\n",
       "      <td>8.527626</td>\n",
       "    </tr>\n",
       "    <tr>\n",
       "      <th>197113</th>\n",
       "      <td>2017</td>\n",
       "      <td>39592</td>\n",
       "      <td>99948.0</td>\n",
       "      <td>11.512405</td>\n",
       "      <td>0.000000</td>\n",
       "      <td>0.086863</td>\n",
       "      <td>1</td>\n",
       "      <td>1.000520e-05</td>\n",
       "      <td>0.003163</td>\n",
       "      <td>0.056241</td>\n",
       "      <td>8.487595</td>\n",
       "    </tr>\n",
       "    <tr>\n",
       "      <th>197114</th>\n",
       "      <td>2018</td>\n",
       "      <td>39592</td>\n",
       "      <td>99948.0</td>\n",
       "      <td>11.512405</td>\n",
       "      <td>0.000000</td>\n",
       "      <td>0.086863</td>\n",
       "      <td>1</td>\n",
       "      <td>1.000520e-05</td>\n",
       "      <td>0.003163</td>\n",
       "      <td>0.056241</td>\n",
       "      <td>8.487595</td>\n",
       "    </tr>\n",
       "    <tr>\n",
       "      <th>197115</th>\n",
       "      <td>2018</td>\n",
       "      <td>39593</td>\n",
       "      <td>984577.0</td>\n",
       "      <td>13.799967</td>\n",
       "      <td>1.903482</td>\n",
       "      <td>0.072464</td>\n",
       "      <td>1</td>\n",
       "      <td>1.015665e-06</td>\n",
       "      <td>0.001008</td>\n",
       "      <td>0.031746</td>\n",
       "      <td>6.200033</td>\n",
       "    </tr>\n",
       "  </tbody>\n",
       "</table>\n",
       "<p>197116 rows × 11 columns</p>\n",
       "</div>"
      ],
      "text/plain": [
       "        year     id       tasset  logtasset  fgrow_log  logtasset_inv  const  \\\n",
       "0       2010      1  180782000.0  19.012802  -6.749972       0.052596      1   \n",
       "1       2011      1  193406000.0  19.080302  -4.893148       0.052410      1   \n",
       "2       2012      1  203105000.0  19.129234  -0.807152       0.052276      1   \n",
       "3       2013      1  204751000.0  19.137305   0.617774       0.052254      1   \n",
       "4       2014      1  203490000.0  19.131127   1.939669       0.052271      1   \n",
       "...      ...    ...          ...        ...        ...            ...    ...   \n",
       "197111  2018  39566     971579.0  13.786678  87.515404       0.072534      1   \n",
       "197112  2018  39582      96026.0  11.472374   0.000000       0.087166      1   \n",
       "197113  2017  39592      99948.0  11.512405   0.000000       0.086863      1   \n",
       "197114  2018  39592      99948.0  11.512405   0.000000       0.086863      1   \n",
       "197115  2018  39593     984577.0  13.799967   1.903482       0.072464      1   \n",
       "\n",
       "          tasset_inv  tasset_inv_onehalf  tasset_inv_onefour  tasset_logmax  \n",
       "0       5.531524e-09            0.000074            0.008624       0.987198  \n",
       "1       5.170470e-09            0.000072            0.008480       0.919698  \n",
       "2       4.923562e-09            0.000070            0.008377       0.870766  \n",
       "3       4.883981e-09            0.000070            0.008360       0.862695  \n",
       "4       4.914246e-09            0.000070            0.008373       0.868873  \n",
       "...              ...                 ...                 ...            ...  \n",
       "197111  1.029252e-06            0.001015            0.031852       6.213322  \n",
       "197112  1.041385e-05            0.003227            0.056807       8.527626  \n",
       "197113  1.000520e-05            0.003163            0.056241       8.487595  \n",
       "197114  1.000520e-05            0.003163            0.056241       8.487595  \n",
       "197115  1.015665e-06            0.001008            0.031746       6.200033  \n",
       "\n",
       "[197116 rows x 11 columns]"
      ]
     },
     "execution_count": 3,
     "metadata": {},
     "output_type": "execute_result"
    }
   ],
   "source": [
    "df['const'] = 1\n",
    "df['tasset_inv'] = 1 / df['tasset']\n",
    "df['tasset_inv_onehalf'] = (df['tasset_inv']) ** (1/2)\n",
    "df['tasset_inv_onefour'] = (df['tasset_inv']) ** (1/4)\n",
    "df['tasset_logmax'] = 20 - df['logtasset']\n",
    "df.loc[df['tasset_logmax'] < 0.0, 'tasset_logmax'] = 0.0\n",
    "# df['fgrow_log'] = df['fgrow_log'] / 100\n",
    "df"
   ]
  },
  {
   "cell_type": "markdown",
   "metadata": {},
   "source": [
    "For equation [(2)](), we consider three cases of $X$:\n",
    "- $X= 1/ S^{1/4}_t$\n",
    "- $X = 1/ \\ln (S_t)$\n",
    "- $X = max \\{ u - \\ln S_t,  0 \\}$, where $u =20$"
   ]
  },
  {
   "cell_type": "markdown",
   "metadata": {},
   "source": [
    "\n",
    "## 2.1 when $\\mu_b$ free\n",
    "\n",
    "### 2.1.1 case i: when $X= S^{-1/4}_t$"
   ]
  },
  {
   "cell_type": "code",
   "execution_count": 4,
   "metadata": {},
   "outputs": [],
   "source": [
    "opt_res1, μ_σ1, se1 = fq.mle_mean_var_se(df, x='tasset_inv_onefour', y='fgrow_log')"
   ]
  },
  {
   "cell_type": "markdown",
   "metadata": {},
   "source": [
    "The following shows a summary of the maximum likelihood estimators for $(\\mu_{a}, \\mu_{b}, \\sigma^2_{a}, \\sigma^2_{b})$, respectively:"
   ]
  },
  {
   "cell_type": "code",
   "execution_count": 5,
   "metadata": {},
   "outputs": [
    {
     "name": "stdout",
     "output_type": "stream",
     "text": [
      "      fun: 925207.417778822\n",
      " hess_inv: array([[ 0.00253906, -0.00200901,  0.0004416 , -0.00391475],\n",
      "       [-0.00200901,  0.001594  , -0.00029121,  0.00292856],\n",
      "       [ 0.0004416 , -0.00029121,  0.00085544, -0.00294073],\n",
      "       [-0.00391475,  0.00292856, -0.00294073,  0.0125947 ]])\n",
      "      jac: array([-18.5234375,   0.921875 ,  29.0390625,   0.421875 ])\n",
      "  message: 'Desired error not necessarily achieved due to precision loss.'\n",
      "     nfev: 1077\n",
      "      nit: 25\n",
      "     njev: 177\n",
      "   status: 2\n",
      "  success: False\n",
      "        x: array([  -5.98004036,    5.38873027,   19.291511  , 1876.46951545])\n"
     ]
    }
   ],
   "source": [
    "print(opt_res1)"
   ]
  },
  {
   "cell_type": "code",
   "execution_count": 6,
   "metadata": {},
   "outputs": [
    {
     "name": "stdout",
     "output_type": "stream",
     "text": [
      "estimated μ_a, μ_b, σ^2_a,  σ^2_b are -5.9800403644432585 5.388730268790827 19.291510998337984 1876.4695154544597\n"
     ]
    }
   ],
   "source": [
    "print('estimated μ_a, μ_b, σ^2_a,  σ^2_b are', μ_σ1[0], μ_σ1[1], μ_σ1[2],  μ_σ1[3])"
   ]
  },
  {
   "cell_type": "markdown",
   "metadata": {},
   "source": [
    "The following shows the standard errors for the estimators of $(\\mu_{\\alpha}, \\mu_{\\beta}, \\sigma^2_{\\alpha}, \\sigma^2_{\\beta})$, respectively:"
   ]
  },
  {
   "cell_type": "code",
   "execution_count": 7,
   "metadata": {},
   "outputs": [
    {
     "name": "stdout",
     "output_type": "stream",
     "text": [
      "[0.05038905 0.03992488 0.02924798 0.11222611]\n"
     ]
    }
   ],
   "source": [
    "print(se1)"
   ]
  },
  {
   "cell_type": "markdown",
   "metadata": {},
   "source": [
    "The following shows the estimated tail index $\\alpha$ using the estimators $(\\mu_a, \\sigma^2_a)$ and equation [(12)]() above."
   ]
  },
  {
   "cell_type": "code",
   "execution_count": 8,
   "metadata": {},
   "outputs": [
    {
     "name": "stdout",
     "output_type": "stream",
     "text": [
      "The tail index α of the stationary firm size distribution is 2.2194617530133365\n"
     ]
    }
   ],
   "source": [
    "α = fq.alpha(μ_σ1[0], μ_σ1[1])\n",
    "print('The tail index α of the stationary firm size distribution is', α)"
   ]
  },
  {
   "cell_type": "markdown",
   "metadata": {},
   "source": [
    "We can compare our this with the tail index $\\alpha$ of the stationary firm size distribution, measured by [Axtell (2001)](https://science.sciencemag.org/content/293/5536/1818) using OLS, which is $1.059$."
   ]
  },
  {
   "cell_type": "code",
   "execution_count": null,
   "metadata": {},
   "outputs": [],
   "source": []
  },
  {
   "cell_type": "markdown",
   "metadata": {},
   "source": [
    "### 2.1.2 case ii: when $X = 1/ \\ln (S_t)$\n",
    "\n",
    "#### estimation"
   ]
  },
  {
   "cell_type": "code",
   "execution_count": 9,
   "metadata": {},
   "outputs": [],
   "source": [
    "opt_res2, μ_σ2, se2 = fq.mle_mean_var_se(df, x='logtasset_inv', y='fgrow_log')"
   ]
  },
  {
   "cell_type": "markdown",
   "metadata": {},
   "source": [
    "The following shows a summary of the maximum likelihood estimators for $(\\mu_{a}, \\mu_{b}, \\sigma^2_{a}, \\sigma^2_{b})$, respectively:"
   ]
  },
  {
   "cell_type": "code",
   "execution_count": 10,
   "metadata": {},
   "outputs": [
    {
     "name": "stdout",
     "output_type": "stream",
     "text": [
      "      fun: 926329.6828881726\n",
      " hess_inv: array([[ 0.00178051, -0.00535074,  0.00018954, -0.00587788],\n",
      "       [-0.00535074,  0.0651952 , -0.00394426,  0.05789564],\n",
      "       [ 0.00018954, -0.00394426,  0.00122719, -0.00289736],\n",
      "       [-0.00587788,  0.05789564, -0.00289736,  0.07986976]])\n",
      "      jac: array([ 0.8203125,  0.2578125, -0.90625  , -0.3046875])\n",
      "  message: 'Desired error not necessarily achieved due to precision loss.'\n",
      "     nfev: 642\n",
      "      nit: 39\n",
      "     njev: 105\n",
      "   status: 2\n",
      "  success: False\n",
      "        x: array([  -5.3861355 ,   -2.99627238,    9.84261865, 2225.667973  ])\n"
     ]
    }
   ],
   "source": [
    "print(opt_res2)"
   ]
  },
  {
   "cell_type": "code",
   "execution_count": 11,
   "metadata": {},
   "outputs": [
    {
     "name": "stdout",
     "output_type": "stream",
     "text": [
      "estimated μ_a, μ_b, σ^2_a,  σ^2_b are -5.386135496963321 -2.996272382154653 9.842618653237777 2225.667973001784\n"
     ]
    }
   ],
   "source": [
    "print('estimated μ_a, μ_b, σ^2_a,  σ^2_b are', μ_σ2[0], μ_σ2[1], μ_σ2[2],  μ_σ2[3])"
   ]
  },
  {
   "cell_type": "markdown",
   "metadata": {},
   "source": [
    "The following shows the standard errors for the estimators of $(\\mu_{\\alpha}, \\mu_{\\beta}, \\sigma^2_{\\alpha}, \\sigma^2_{\\beta})$, respectively:"
   ]
  },
  {
   "cell_type": "code",
   "execution_count": 12,
   "metadata": {},
   "outputs": [
    {
     "name": "stdout",
     "output_type": "stream",
     "text": [
      "[0.04219614 0.25533351 0.03503124 0.28261238]\n"
     ]
    }
   ],
   "source": [
    "print(se2)"
   ]
  },
  {
   "cell_type": "markdown",
   "metadata": {},
   "source": [
    "The following shows the estimated tail index $\\alpha$ using the estimators $(\\mu_a, \\sigma^2_a)$ and equation [(12)]() above."
   ]
  },
  {
   "cell_type": "code",
   "execution_count": 13,
   "metadata": {},
   "outputs": [
    {
     "name": "stdout",
     "output_type": "stream",
     "text": [
      "The tail index α of the stationary firm size distribution is -3.595224205277419\n"
     ]
    }
   ],
   "source": [
    "α = fq.alpha(μ_σ2[0], μ_σ2[1])\n",
    "print('The tail index α of the stationary firm size distribution is', α)"
   ]
  },
  {
   "cell_type": "markdown",
   "metadata": {},
   "source": [
    "We can compare our this with the tail index $\\alpha$ of the stationary firm size distribution, measured by [Axtell (2001)](https://science.sciencemag.org/content/293/5536/1818) using OLS, which is $1.059$."
   ]
  },
  {
   "cell_type": "markdown",
   "metadata": {},
   "source": [
    "### 2.1.3 case iii: when $X = max\\{ u - \\ln (S_t), 0\\}$, where $u=20$"
   ]
  },
  {
   "cell_type": "code",
   "execution_count": 14,
   "metadata": {},
   "outputs": [],
   "source": [
    "opt_res3, μ_σ3, se3 = fq.mle_mean_var_se(df, x='tasset_logmax', y='fgrow_log')"
   ]
  },
  {
   "cell_type": "markdown",
   "metadata": {},
   "source": [
    "The following shows a summary of the maximum likelihood estimators for $(\\mu_{a}, \\mu_{b}, \\sigma^2_{a}, \\sigma^2_{b})$, respectively:"
   ]
  },
  {
   "cell_type": "code",
   "execution_count": 15,
   "metadata": {},
   "outputs": [
    {
     "name": "stdout",
     "output_type": "stream",
     "text": [
      "      fun: 1446935.6855437276\n",
      " hess_inv: array([[1, 0, 0, 0],\n",
      "       [0, 1, 0, 0],\n",
      "       [0, 0, 1, 0],\n",
      "       [0, 0, 0, 1]])\n",
      "      jac: array([   22.46875,    46.8125 ,   382.15625, 19105.375  ])\n",
      "  message: 'Desired error not necessarily achieved due to precision loss.'\n",
      "     nfev: 120\n",
      "      nit: 0\n",
      "     njev: 19\n",
      "   status: 2\n",
      "  success: False\n",
      "        x: array([ 0.,  0., 10., 10.])\n"
     ]
    }
   ],
   "source": [
    "print(opt_res3)"
   ]
  },
  {
   "cell_type": "code",
   "execution_count": 16,
   "metadata": {},
   "outputs": [
    {
     "name": "stdout",
     "output_type": "stream",
     "text": [
      "estimated μ_a, μ_b, σ^2_a,  σ^2_b are 0.0 0.0 10.0 10.0\n"
     ]
    }
   ],
   "source": [
    "print('estimated μ_a, μ_b, σ^2_a,  σ^2_b are', μ_σ3[0], μ_σ3[1], μ_σ3[2],  μ_σ3[3])"
   ]
  },
  {
   "cell_type": "markdown",
   "metadata": {},
   "source": [
    "The following shows the standard errors for the estimators of $(\\mu_{\\alpha}, \\mu_{\\beta}, \\sigma^2_{\\alpha}, \\sigma^2_{\\beta})$, respectively:"
   ]
  },
  {
   "cell_type": "code",
   "execution_count": 17,
   "metadata": {},
   "outputs": [
    {
     "name": "stdout",
     "output_type": "stream",
     "text": [
      "[1. 1. 1. 1.]\n"
     ]
    }
   ],
   "source": [
    "print(se3)"
   ]
  },
  {
   "cell_type": "markdown",
   "metadata": {},
   "source": [
    "The following shows the estimated tail index $\\alpha$ using the estimators $(\\mu_a, \\sigma^2_a)$ and equation [(12)]() above."
   ]
  },
  {
   "cell_type": "code",
   "execution_count": 18,
   "metadata": {},
   "outputs": [
    {
     "name": "stdout",
     "output_type": "stream",
     "text": [
      "The tail index α of the stationary firm size distribution is nan\n"
     ]
    },
    {
     "name": "stderr",
     "output_type": "stream",
     "text": [
      "/Users/shuhu/Desktop/1_papers_w:john/04_firm_size/github/firm_size_empirics/orbis/firm_growth_asset/fs_qe.py:244: RuntimeWarning: invalid value encountered in double_scalars\n",
      "  return - 2 * μ / σ2\n"
     ]
    }
   ],
   "source": [
    "α = fq.alpha(μ_σ3[0], μ_σ3[1])\n",
    "print('The tail index α of the stationary firm size distribution is', α)"
   ]
  },
  {
   "cell_type": "markdown",
   "metadata": {},
   "source": [
    "We can compare our this with the tail index $\\alpha$ of the stationary firm size distribution, measured by [Axtell (2001)](https://science.sciencemag.org/content/293/5536/1818) using OLS, which is $1.059$."
   ]
  },
  {
   "cell_type": "code",
   "execution_count": null,
   "metadata": {},
   "outputs": [],
   "source": []
  },
  {
   "cell_type": "markdown",
   "metadata": {},
   "source": [
    "## 2.2 when $\\mu_b =0$"
   ]
  },
  {
   "cell_type": "markdown",
   "metadata": {},
   "source": [
    "### 2.2.1 case i: when $X= S^{-1/4}_t$"
   ]
  },
  {
   "cell_type": "code",
   "execution_count": 19,
   "metadata": {},
   "outputs": [],
   "source": [
    "opt_res4, μ_σ4, se4 = fq.mle_mean_var_se(df, x='tasset_inv_onefour', y='fgrow_log')"
   ]
  },
  {
   "cell_type": "markdown",
   "metadata": {},
   "source": [
    "The following shows a summary of the maximum likelihood estimators for $(\\mu_{a}, \\mu_{b}, \\sigma^2_{a}, \\sigma^2_{b})$, respectively:"
   ]
  },
  {
   "cell_type": "code",
   "execution_count": 20,
   "metadata": {},
   "outputs": [
    {
     "name": "stdout",
     "output_type": "stream",
     "text": [
      "      fun: 925207.417778822\n",
      " hess_inv: array([[ 0.00253906, -0.00200901,  0.0004416 , -0.00391475],\n",
      "       [-0.00200901,  0.001594  , -0.00029121,  0.00292856],\n",
      "       [ 0.0004416 , -0.00029121,  0.00085544, -0.00294073],\n",
      "       [-0.00391475,  0.00292856, -0.00294073,  0.0125947 ]])\n",
      "      jac: array([-18.5234375,   0.921875 ,  29.0390625,   0.421875 ])\n",
      "  message: 'Desired error not necessarily achieved due to precision loss.'\n",
      "     nfev: 1077\n",
      "      nit: 25\n",
      "     njev: 177\n",
      "   status: 2\n",
      "  success: False\n",
      "        x: array([  -5.98004036,    5.38873027,   19.291511  , 1876.46951545])\n"
     ]
    }
   ],
   "source": [
    "print(opt_res4)"
   ]
  },
  {
   "cell_type": "code",
   "execution_count": 21,
   "metadata": {},
   "outputs": [
    {
     "name": "stdout",
     "output_type": "stream",
     "text": [
      "estimated μ_a, μ_b, σ^2_a,  σ^2_b are -5.9800403644432585 5.388730268790827 19.291510998337984 1876.4695154544597\n"
     ]
    }
   ],
   "source": [
    "print('estimated μ_a, μ_b, σ^2_a,  σ^2_b are', μ_σ4[0], μ_σ4[1], μ_σ4[2],  μ_σ4[3])"
   ]
  },
  {
   "cell_type": "markdown",
   "metadata": {},
   "source": [
    "The following shows the standard errors for the estimators of $(\\mu_{\\alpha}, \\mu_{\\beta}, \\sigma^2_{\\alpha}, \\sigma^2_{\\beta})$, respectively:"
   ]
  },
  {
   "cell_type": "code",
   "execution_count": 22,
   "metadata": {},
   "outputs": [
    {
     "name": "stdout",
     "output_type": "stream",
     "text": [
      "[0.05038905 0.03992488 0.02924798 0.11222611]\n"
     ]
    }
   ],
   "source": [
    "print(se4)"
   ]
  },
  {
   "cell_type": "markdown",
   "metadata": {},
   "source": [
    "The following shows the estimated tail index $\\alpha$ using the estimators $(\\mu_a, \\sigma^2_a)$ and equation [(12)]() above."
   ]
  },
  {
   "cell_type": "code",
   "execution_count": 23,
   "metadata": {},
   "outputs": [
    {
     "name": "stdout",
     "output_type": "stream",
     "text": [
      "The tail index α of the stationary firm size distribution is 2.2194617530133365\n"
     ]
    }
   ],
   "source": [
    "α = fq.alpha(μ_σ4[0], μ_σ4[1])\n",
    "print('The tail index α of the stationary firm size distribution is', α)"
   ]
  },
  {
   "cell_type": "markdown",
   "metadata": {},
   "source": [
    "We can compare our this with the tail index $\\alpha$ of the stationary firm size distribution, measured by [Axtell (2001)](https://science.sciencemag.org/content/293/5536/1818) using OLS, which is $1.059$."
   ]
  },
  {
   "cell_type": "markdown",
   "metadata": {},
   "source": [
    "### 2.2.2 case ii: when $X = 1/ \\ln (S_t)$\n"
   ]
  },
  {
   "cell_type": "code",
   "execution_count": 24,
   "metadata": {},
   "outputs": [],
   "source": [
    "opt_res5, μ_σ5, se5 = fq.mle_mean_var_se(df, x='logtasset_inv', y='fgrow_log')"
   ]
  },
  {
   "cell_type": "markdown",
   "metadata": {},
   "source": [
    "The following shows a summary of the maximum likelihood estimators for $(\\mu_{a}, \\mu_{b}, \\sigma^2_{a}, \\sigma^2_{b})$, respectively:"
   ]
  },
  {
   "cell_type": "code",
   "execution_count": 25,
   "metadata": {},
   "outputs": [
    {
     "name": "stdout",
     "output_type": "stream",
     "text": [
      "      fun: 926329.6828881726\n",
      " hess_inv: array([[ 0.00178051, -0.00535074,  0.00018954, -0.00587788],\n",
      "       [-0.00535074,  0.0651952 , -0.00394426,  0.05789564],\n",
      "       [ 0.00018954, -0.00394426,  0.00122719, -0.00289736],\n",
      "       [-0.00587788,  0.05789564, -0.00289736,  0.07986976]])\n",
      "      jac: array([ 0.8203125,  0.2578125, -0.90625  , -0.3046875])\n",
      "  message: 'Desired error not necessarily achieved due to precision loss.'\n",
      "     nfev: 642\n",
      "      nit: 39\n",
      "     njev: 105\n",
      "   status: 2\n",
      "  success: False\n",
      "        x: array([  -5.3861355 ,   -2.99627238,    9.84261865, 2225.667973  ])\n"
     ]
    }
   ],
   "source": [
    "print(opt_res5)"
   ]
  },
  {
   "cell_type": "code",
   "execution_count": 26,
   "metadata": {},
   "outputs": [
    {
     "name": "stdout",
     "output_type": "stream",
     "text": [
      "estimated μ_a, μ_b, σ^2_a,  σ^2_b are -5.386135496963321 -2.996272382154653 9.842618653237777 2225.667973001784\n"
     ]
    }
   ],
   "source": [
    "print('estimated μ_a, μ_b, σ^2_a,  σ^2_b are', μ_σ5[0], μ_σ5[1], μ_σ5[2],  μ_σ5[3])"
   ]
  },
  {
   "cell_type": "markdown",
   "metadata": {},
   "source": [
    "The following shows the standard errors for the estimators of $(\\mu_{\\alpha}, \\mu_{\\beta}, \\sigma^2_{\\alpha}, \\sigma^2_{\\beta})$, respectively:"
   ]
  },
  {
   "cell_type": "code",
   "execution_count": 27,
   "metadata": {},
   "outputs": [
    {
     "name": "stdout",
     "output_type": "stream",
     "text": [
      "[0.04219614 0.25533351 0.03503124 0.28261238]\n"
     ]
    }
   ],
   "source": [
    "print(se5)"
   ]
  },
  {
   "cell_type": "markdown",
   "metadata": {},
   "source": [
    "The following shows the estimated tail index $\\alpha$ using the estimators $(\\mu_a, \\sigma^2_a)$ and equation [(12)]() above."
   ]
  },
  {
   "cell_type": "code",
   "execution_count": 28,
   "metadata": {},
   "outputs": [
    {
     "name": "stdout",
     "output_type": "stream",
     "text": [
      "The tail index α of the stationary firm size distribution is -3.595224205277419\n"
     ]
    }
   ],
   "source": [
    "α = fq.alpha(μ_σ5[0], μ_σ5[1])\n",
    "print('The tail index α of the stationary firm size distribution is', α)"
   ]
  },
  {
   "cell_type": "markdown",
   "metadata": {},
   "source": [
    "We can compare our this with the tail index $\\alpha$ of the stationary firm size distribution, measured by [Axtell (2001)](https://science.sciencemag.org/content/293/5536/1818) using OLS, which is $1.059$."
   ]
  },
  {
   "cell_type": "markdown",
   "metadata": {},
   "source": [
    "### 2.2.3 case iii: when $X = max\\{ u - \\ln (S_t), 0\\}$, where $u=20$"
   ]
  },
  {
   "cell_type": "code",
   "execution_count": 29,
   "metadata": {},
   "outputs": [],
   "source": [
    "opt_res6, μ_σ6, se6 = fq.mle_mean_var_se(df, x='tasset_logmax', y='fgrow_log')"
   ]
  },
  {
   "cell_type": "markdown",
   "metadata": {},
   "source": [
    "The following shows a summary of the maximum likelihood estimators for $(\\mu_{a}, \\mu_{b}, \\sigma^2_{a}, \\sigma^2_{b})$, respectively:"
   ]
  },
  {
   "cell_type": "code",
   "execution_count": 30,
   "metadata": {},
   "outputs": [
    {
     "name": "stdout",
     "output_type": "stream",
     "text": [
      "      fun: 1446935.6855437276\n",
      " hess_inv: array([[1, 0, 0, 0],\n",
      "       [0, 1, 0, 0],\n",
      "       [0, 0, 1, 0],\n",
      "       [0, 0, 0, 1]])\n",
      "      jac: array([   22.46875,    46.8125 ,   382.15625, 19105.375  ])\n",
      "  message: 'Desired error not necessarily achieved due to precision loss.'\n",
      "     nfev: 120\n",
      "      nit: 0\n",
      "     njev: 19\n",
      "   status: 2\n",
      "  success: False\n",
      "        x: array([ 0.,  0., 10., 10.])\n"
     ]
    }
   ],
   "source": [
    "print(opt_res6)"
   ]
  },
  {
   "cell_type": "code",
   "execution_count": 31,
   "metadata": {},
   "outputs": [
    {
     "name": "stdout",
     "output_type": "stream",
     "text": [
      "estimated μ_a, μ_b, σ^2_a,  σ^2_b are 0.0 0.0 10.0 10.0\n"
     ]
    }
   ],
   "source": [
    "print('estimated μ_a, μ_b, σ^2_a,  σ^2_b are', μ_σ6[0], μ_σ6[1], μ_σ6[2],  μ_σ6[3])"
   ]
  },
  {
   "cell_type": "markdown",
   "metadata": {},
   "source": [
    "The following shows the standard errors for the estimators of $(\\mu_{\\alpha}, \\mu_{\\beta}, \\sigma^2_{\\alpha}, \\sigma^2_{\\beta})$, respectively:"
   ]
  },
  {
   "cell_type": "code",
   "execution_count": 32,
   "metadata": {},
   "outputs": [
    {
     "name": "stdout",
     "output_type": "stream",
     "text": [
      "[1. 1. 1. 1.]\n"
     ]
    }
   ],
   "source": [
    "print(se6)"
   ]
  },
  {
   "cell_type": "markdown",
   "metadata": {},
   "source": [
    "The following shows the estimated tail index $\\alpha$ using the estimators $(\\mu_a, \\sigma^2_a)$ and equation [(12)]() above."
   ]
  },
  {
   "cell_type": "code",
   "execution_count": 33,
   "metadata": {},
   "outputs": [
    {
     "name": "stdout",
     "output_type": "stream",
     "text": [
      "The tail index α of the stationary firm size distribution is nan\n"
     ]
    },
    {
     "name": "stderr",
     "output_type": "stream",
     "text": [
      "/Users/shuhu/Desktop/1_papers_w:john/04_firm_size/github/firm_size_empirics/orbis/firm_growth_asset/fs_qe.py:244: RuntimeWarning: invalid value encountered in double_scalars\n",
      "  return - 2 * μ / σ2\n"
     ]
    }
   ],
   "source": [
    "α = fq.alpha(μ_σ6[0], μ_σ6[1])\n",
    "print('The tail index α of the stationary firm size distribution is', α)"
   ]
  },
  {
   "cell_type": "markdown",
   "metadata": {},
   "source": [
    "We can compare our this with the tail index $\\alpha$ of the stationary firm size distribution, measured by [Axtell (2001)](https://science.sciencemag.org/content/293/5536/1818) using OLS, which is $1.059$."
   ]
  },
  {
   "cell_type": "markdown",
   "metadata": {},
   "source": [
    "# 2*** initial set of parameters $(1, 1, 10,10)$\n",
    "\n",
    "## 2***.1 when $\\mu_b$ free\n",
    "\n",
    "### 2***.1.1 case i: when $X= S^{-1/4}_t$"
   ]
  },
  {
   "cell_type": "code",
   "execution_count": 34,
   "metadata": {},
   "outputs": [],
   "source": [
    "opt_res1, μ_σ1, se1 = fq.mle_mean_var_se(df, x='tasset_inv_onefour', y='fgrow_log', x_zero=[1, 1, 10, 10])"
   ]
  },
  {
   "cell_type": "markdown",
   "metadata": {},
   "source": [
    "The following shows a summary of the maximum likelihood estimators for $(\\mu_{a}, \\mu_{b}, \\sigma^2_{a}, \\sigma^2_{b})$, respectively:"
   ]
  },
  {
   "cell_type": "code",
   "execution_count": 35,
   "metadata": {},
   "outputs": [
    {
     "name": "stdout",
     "output_type": "stream",
     "text": [
      "      fun: 925223.6551428307\n",
      " hess_inv: array([[ 2.02125892e-03, -3.74071987e-03, -1.57157899e-04,\n",
      "         3.09773658e-03],\n",
      "       [-3.74071987e-03,  1.06993012e-01, -1.09910213e-03,\n",
      "        -7.48782509e-02],\n",
      "       [-1.57157899e-04, -1.09910213e-03,  6.43853575e-04,\n",
      "        -2.74595447e-03],\n",
      "       [ 3.09773658e-03, -7.48782509e-02, -2.74595447e-03,\n",
      "         1.26380794e+00]])\n",
      "      jac: array([ 1.734375 ,  0.6015625, -1.1171875,  0.078125 ])\n",
      "  message: 'Desired error not necessarily achieved due to precision loss.'\n",
      "     nfev: 714\n",
      "      nit: 33\n",
      "     njev: 117\n",
      "   status: 2\n",
      "  success: False\n",
      "        x: array([-5.66639932e+00,  2.71948238e-01,  1.97329634e+01,  1.70487307e+03])\n"
     ]
    }
   ],
   "source": [
    "print(opt_res1)"
   ]
  },
  {
   "cell_type": "code",
   "execution_count": 36,
   "metadata": {},
   "outputs": [
    {
     "name": "stdout",
     "output_type": "stream",
     "text": [
      "estimated μ_a, μ_b, σ^2_a,  σ^2_b are -5.66639931964878 0.2719482384111752 19.73296341932421 1704.873068670573\n"
     ]
    }
   ],
   "source": [
    "print('estimated μ_a, μ_b, σ^2_a,  σ^2_b are', μ_σ1[0], μ_σ1[1], μ_σ1[2],  μ_σ1[3])"
   ]
  },
  {
   "cell_type": "markdown",
   "metadata": {},
   "source": [
    "The following shows the standard errors for the estimators of $(\\mu_{\\alpha}, \\mu_{\\beta}, \\sigma^2_{\\alpha}, \\sigma^2_{\\beta})$, respectively:"
   ]
  },
  {
   "cell_type": "code",
   "execution_count": 37,
   "metadata": {},
   "outputs": [
    {
     "name": "stdout",
     "output_type": "stream",
     "text": [
      "[0.04495841 0.32709786 0.02537427 1.12419213]\n"
     ]
    }
   ],
   "source": [
    "print(se1)"
   ]
  },
  {
   "cell_type": "markdown",
   "metadata": {},
   "source": [
    "The following shows the estimated tail index $\\alpha$ using the estimators $(\\mu_a, \\sigma^2_a)$ and equation [(12)]() above."
   ]
  },
  {
   "cell_type": "code",
   "execution_count": 38,
   "metadata": {},
   "outputs": [
    {
     "name": "stdout",
     "output_type": "stream",
     "text": [
      "The tail index α of the stationary firm size distribution is 41.67263117977181\n"
     ]
    }
   ],
   "source": [
    "α = fq.alpha(μ_σ1[0], μ_σ1[1])\n",
    "print('The tail index α of the stationary firm size distribution is', α)"
   ]
  },
  {
   "cell_type": "markdown",
   "metadata": {},
   "source": [
    "We can compare our this with the tail index $\\alpha$ of the stationary firm size distribution, measured by [Axtell (2001)](https://science.sciencemag.org/content/293/5536/1818) using OLS, which is $1.059$."
   ]
  },
  {
   "cell_type": "code",
   "execution_count": null,
   "metadata": {},
   "outputs": [],
   "source": []
  },
  {
   "cell_type": "markdown",
   "metadata": {},
   "source": [
    "### 2***.1.2 case ii: when $X = 1/ \\ln (S_t)$\n",
    "\n",
    "#### estimation"
   ]
  },
  {
   "cell_type": "code",
   "execution_count": 39,
   "metadata": {},
   "outputs": [],
   "source": [
    "opt_res2, μ_σ2, se2 = fq.mle_mean_var_se(df, x='logtasset_inv', y='fgrow_log', x_zero=[1, 1, 10, 10])"
   ]
  },
  {
   "cell_type": "markdown",
   "metadata": {},
   "source": [
    "The following shows a summary of the maximum likelihood estimators for $(\\mu_{a}, \\mu_{b}, \\sigma^2_{a}, \\sigma^2_{b})$, respectively:"
   ]
  },
  {
   "cell_type": "code",
   "execution_count": 40,
   "metadata": {},
   "outputs": [
    {
     "name": "stdout",
     "output_type": "stream",
     "text": [
      "      fun: 926330.0884759661\n",
      " hess_inv: array([[ 6.00584268e-03, -4.13035523e-02, -1.52754223e-03,\n",
      "         2.81534063e-01],\n",
      "       [-4.13035523e-02,  4.17585258e-01,  1.58223599e-02,\n",
      "        -2.72727295e+00],\n",
      "       [-1.52754223e-03,  1.58223599e-02,  3.21312887e-03,\n",
      "        -2.71889388e-01],\n",
      "       [ 2.81534063e-01, -2.72727295e+00, -2.71889388e-01,\n",
      "         4.43075780e+01]])\n",
      "      jac: array([ 4.5546875,  0.671875 , -3.3984375, -0.0234375])\n",
      "  message: 'Desired error not necessarily achieved due to precision loss.'\n",
      "     nfev: 522\n",
      "      nit: 23\n",
      "     njev: 85\n",
      "   status: 2\n",
      "  success: False\n",
      "        x: array([  -4.66085871,  -11.88285111,    9.86334953, 2221.57291172])\n"
     ]
    }
   ],
   "source": [
    "print(opt_res2)"
   ]
  },
  {
   "cell_type": "code",
   "execution_count": 41,
   "metadata": {},
   "outputs": [
    {
     "name": "stdout",
     "output_type": "stream",
     "text": [
      "estimated μ_a, μ_b, σ^2_a,  σ^2_b are -4.660858714814596 -11.882851114811599 9.86334952938808 2221.572911722447\n"
     ]
    }
   ],
   "source": [
    "print('estimated μ_a, μ_b, σ^2_a,  σ^2_b are', μ_σ2[0], μ_σ2[1], μ_σ2[2],  μ_σ2[3])"
   ]
  },
  {
   "cell_type": "markdown",
   "metadata": {},
   "source": [
    "The following shows the standard errors for the estimators of $(\\mu_{\\alpha}, \\mu_{\\beta}, \\sigma^2_{\\alpha}, \\sigma^2_{\\beta})$, respectively:"
   ]
  },
  {
   "cell_type": "code",
   "execution_count": 42,
   "metadata": {},
   "outputs": [
    {
     "name": "stdout",
     "output_type": "stream",
     "text": [
      "[0.07749737 0.64620837 0.05668447 6.65639377]\n"
     ]
    }
   ],
   "source": [
    "print(se2)"
   ]
  },
  {
   "cell_type": "markdown",
   "metadata": {},
   "source": [
    "The following shows the estimated tail index $\\alpha$ using the estimators $(\\mu_a, \\sigma^2_a)$ and equation [(12)]() above."
   ]
  },
  {
   "cell_type": "code",
   "execution_count": 43,
   "metadata": {},
   "outputs": [
    {
     "name": "stdout",
     "output_type": "stream",
     "text": [
      "The tail index α of the stationary firm size distribution is -0.7844680825807845\n"
     ]
    }
   ],
   "source": [
    "α = fq.alpha(μ_σ2[0], μ_σ2[1])\n",
    "print('The tail index α of the stationary firm size distribution is', α)"
   ]
  },
  {
   "cell_type": "markdown",
   "metadata": {},
   "source": [
    "We can compare our this with the tail index $\\alpha$ of the stationary firm size distribution, measured by [Axtell (2001)](https://science.sciencemag.org/content/293/5536/1818) using OLS, which is $1.059$."
   ]
  },
  {
   "cell_type": "markdown",
   "metadata": {},
   "source": [
    "### 2***.1.3 case iii: when $X = max\\{ u - \\ln (S_t), 0\\}$, where $u=20$"
   ]
  },
  {
   "cell_type": "code",
   "execution_count": 44,
   "metadata": {},
   "outputs": [],
   "source": [
    "opt_res3, μ_σ3, se3 = fq.mle_mean_var_se(df, x='tasset_logmax', y='fgrow_log', x_zero=[1, 1, 10, 10])"
   ]
  },
  {
   "cell_type": "markdown",
   "metadata": {},
   "source": [
    "The following shows a summary of the maximum likelihood estimators for $(\\mu_{a}, \\mu_{b}, \\sigma^2_{a}, \\sigma^2_{b})$, respectively:"
   ]
  },
  {
   "cell_type": "code",
   "execution_count": 45,
   "metadata": {},
   "outputs": [
    {
     "name": "stdout",
     "output_type": "stream",
     "text": [
      "      fun: 1447038.3130164568\n",
      " hess_inv: array([[1, 0, 0, 0],\n",
      "       [0, 1, 0, 0],\n",
      "       [0, 0, 1, 0],\n",
      "       [0, 0, 0, 1]])\n",
      "      jac: array([   40.734375,    97.078125,   373.796875, 19081.671875])\n",
      "  message: 'Desired error not necessarily achieved due to precision loss.'\n",
      "     nfev: 120\n",
      "      nit: 0\n",
      "     njev: 19\n",
      "   status: 2\n",
      "  success: False\n",
      "        x: array([ 1.,  1., 10., 10.])\n"
     ]
    }
   ],
   "source": [
    "print(opt_res3)"
   ]
  },
  {
   "cell_type": "code",
   "execution_count": 46,
   "metadata": {},
   "outputs": [
    {
     "name": "stdout",
     "output_type": "stream",
     "text": [
      "estimated μ_a, μ_b, σ^2_a,  σ^2_b are 1.0 1.0 10.0 10.0\n"
     ]
    }
   ],
   "source": [
    "print('estimated μ_a, μ_b, σ^2_a,  σ^2_b are', μ_σ3[0], μ_σ3[1], μ_σ3[2],  μ_σ3[3])"
   ]
  },
  {
   "cell_type": "markdown",
   "metadata": {},
   "source": [
    "The following shows the standard errors for the estimators of $(\\mu_{\\alpha}, \\mu_{\\beta}, \\sigma^2_{\\alpha}, \\sigma^2_{\\beta})$, respectively:"
   ]
  },
  {
   "cell_type": "code",
   "execution_count": 47,
   "metadata": {},
   "outputs": [
    {
     "name": "stdout",
     "output_type": "stream",
     "text": [
      "[1. 1. 1. 1.]\n"
     ]
    }
   ],
   "source": [
    "print(se3)"
   ]
  },
  {
   "cell_type": "markdown",
   "metadata": {},
   "source": [
    "The following shows the estimated tail index $\\alpha$ using the estimators $(\\mu_a, \\sigma^2_a)$ and equation [(12)]() above."
   ]
  },
  {
   "cell_type": "code",
   "execution_count": 48,
   "metadata": {},
   "outputs": [
    {
     "name": "stdout",
     "output_type": "stream",
     "text": [
      "The tail index α of the stationary firm size distribution is -2.0\n"
     ]
    }
   ],
   "source": [
    "α = fq.alpha(μ_σ3[0], μ_σ3[1])\n",
    "print('The tail index α of the stationary firm size distribution is', α)"
   ]
  },
  {
   "cell_type": "markdown",
   "metadata": {},
   "source": [
    "We can compare our this with the tail index $\\alpha$ of the stationary firm size distribution, measured by [Axtell (2001)](https://science.sciencemag.org/content/293/5536/1818) using OLS, which is $1.059$."
   ]
  },
  {
   "cell_type": "code",
   "execution_count": null,
   "metadata": {},
   "outputs": [],
   "source": []
  },
  {
   "cell_type": "markdown",
   "metadata": {},
   "source": [
    "# 3 scatter plots of $\\log (S_{t+1}/S_t) * 100$ against $\\log S_t$\n",
    "\n",
    "Next we simulate firm-size and firm-growth data with those estimated parameters from ``2.``."
   ]
  },
  {
   "cell_type": "markdown",
   "metadata": {},
   "source": [
    "## 3.1 functions for simulations\n",
    "\n",
    "Here are two functions for simulations."
   ]
  },
  {
   "cell_type": "markdown",
   "metadata": {},
   "source": [
    "## 3.2 scatter plots for real-world data\n",
    "\n",
    "Let's plot the scatter points for the US firm-size data."
   ]
  },
  {
   "cell_type": "code",
   "execution_count": 49,
   "metadata": {},
   "outputs": [
    {
     "data": {
      "image/png": "[encoded data removed]",
      "text/plain": [
       "<Figure size 432x288 with 1 Axes>"
      ]
     },
     "metadata": {
      "needs_background": "light"
     },
     "output_type": "display_data"
    }
   ],
   "source": [
    "fq.scatterplot(df, x='logtasset', xlabel='Log Size (Total Assets)')"
   ]
  },
  {
   "cell_type": "markdown",
   "metadata": {},
   "source": [
    "## 3.3 scatter plots for simulated data when $\\mu_b$ is free"
   ]
  },
  {
   "cell_type": "markdown",
   "metadata": {},
   "source": [
    "### 3.3.1 simulating data and plots with the estimated parameters from ``2.1.1``: when $X= S^{-1/4}_t$"
   ]
  },
  {
   "cell_type": "code",
   "execution_count": 50,
   "metadata": {},
   "outputs": [
    {
     "data": {
      "image/png": "[encoded data removed]",
      "text/plain": [
       "<Figure size 432x288 with 1 Axes>"
      ]
     },
     "metadata": {
      "needs_background": "light"
     },
     "output_type": "display_data"
    }
   ],
   "source": [
    "fq.simplot(opt_res1, df)"
   ]
  },
  {
   "cell_type": "markdown",
   "metadata": {},
   "source": [
    "### 3.3.2 simulating data and plots with the estimated parameters from ``2.1.2``: when $X= 1/ \\ln S_t$"
   ]
  },
  {
   "cell_type": "code",
   "execution_count": 51,
   "metadata": {},
   "outputs": [
    {
     "data": {
      "image/png": "[encoded data removed]",
      "text/plain": [
       "<Figure size 432x288 with 1 Axes>"
      ]
     },
     "metadata": {
      "needs_background": "light"
     },
     "output_type": "display_data"
    }
   ],
   "source": [
    "fq.simplot(opt_res2, df, m='2')"
   ]
  },
  {
   "cell_type": "markdown",
   "metadata": {},
   "source": [
    "### 3.3.3 simulating data and plots with the estimated parameters from ``2.1.3``: when $X = max\\{ u - \\ln (S_t), 0\\}$, where $u=20$"
   ]
  },
  {
   "cell_type": "code",
   "execution_count": 52,
   "metadata": {},
   "outputs": [
    {
     "data": {
      "image/png": "[encoded data removed]",
      "text/plain": [
       "<Figure size 432x288 with 1 Axes>"
      ]
     },
     "metadata": {
      "needs_background": "light"
     },
     "output_type": "display_data"
    }
   ],
   "source": [
    "fq.simplot(opt_res3, df, m='3')"
   ]
  },
  {
   "cell_type": "markdown",
   "metadata": {},
   "source": [
    "## 3.4 scatter plots for simulated data when $\\mu_b=0$"
   ]
  },
  {
   "cell_type": "markdown",
   "metadata": {},
   "source": [
    "### 3.4.1 simulating data and plots with the estimated parameters from ``2.2.1``: when $X= S^{-1/4}_t$"
   ]
  },
  {
   "cell_type": "code",
   "execution_count": 53,
   "metadata": {},
   "outputs": [
    {
     "data": {
      "image/png": "[encoded data removed]",
      "text/plain": [
       "<Figure size 432x288 with 1 Axes>"
      ]
     },
     "metadata": {
      "needs_background": "light"
     },
     "output_type": "display_data"
    }
   ],
   "source": [
    "fq.simplot(opt_res4, df, m='1')"
   ]
  },
  {
   "cell_type": "markdown",
   "metadata": {},
   "source": [
    "### 3.4.2 simulating data and plots with the estimated parameters from ``2.2.2``: when $X = 1/ \\ln (S_t)$"
   ]
  },
  {
   "cell_type": "code",
   "execution_count": 54,
   "metadata": {},
   "outputs": [
    {
     "data": {
      "image/png": "[encoded data removed]",
      "text/plain": [
       "<Figure size 432x288 with 1 Axes>"
      ]
     },
     "metadata": {
      "needs_background": "light"
     },
     "output_type": "display_data"
    }
   ],
   "source": [
    "fq.simplot(opt_res5, df, m='2')"
   ]
  },
  {
   "cell_type": "markdown",
   "metadata": {},
   "source": [
    "### 3.4.3 simulating data and plots with the estimated parameters from ``2.2.3``: when $X = max\\{ u - \\ln (S_t), 0\\}$, where $u=20$"
   ]
  },
  {
   "cell_type": "code",
   "execution_count": 55,
   "metadata": {},
   "outputs": [
    {
     "data": {
      "image/png": "[encoded data removed]",
      "text/plain": [
       "<Figure size 432x288 with 1 Axes>"
      ]
     },
     "metadata": {
      "needs_background": "light"
     },
     "output_type": "display_data"
    }
   ],
   "source": [
    "fq.simplot(opt_res6, df, m='3')"
   ]
  },
  {
   "cell_type": "code",
   "execution_count": null,
   "metadata": {},
   "outputs": [],
   "source": []
  },
  {
   "cell_type": "markdown",
   "metadata": {},
   "source": [
    "# 4 histograms for mean and standard deviation of firm growth against $\\ln S$"
   ]
  },
  {
   "cell_type": "markdown",
   "metadata": {},
   "source": [
    "## 4.1 process real-world data"
   ]
  },
  {
   "cell_type": "code",
   "execution_count": 56,
   "metadata": {},
   "outputs": [
    {
     "data": {
      "text/html": [
       "<div>\n",
       "<style scoped>\n",
       "    .dataframe tbody tr th:only-of-type {\n",
       "        vertical-align: middle;\n",
       "    }\n",
       "\n",
       "    .dataframe tbody tr th {\n",
       "        vertical-align: top;\n",
       "    }\n",
       "\n",
       "    .dataframe thead th {\n",
       "        text-align: right;\n",
       "    }\n",
       "</style>\n",
       "<table border=\"1\" class=\"dataframe\">\n",
       "  <thead>\n",
       "    <tr style=\"text-align: right;\">\n",
       "      <th></th>\n",
       "      <th>id</th>\n",
       "      <th>year</th>\n",
       "      <th>tasset</th>\n",
       "      <th>logtasset</th>\n",
       "      <th>fgrow_log</th>\n",
       "    </tr>\n",
       "  </thead>\n",
       "  <tbody>\n",
       "    <tr>\n",
       "      <th>0</th>\n",
       "      <td>1</td>\n",
       "      <td>2010</td>\n",
       "      <td>180782000.0</td>\n",
       "      <td>19.012802</td>\n",
       "      <td>-6.749972</td>\n",
       "    </tr>\n",
       "    <tr>\n",
       "      <th>1</th>\n",
       "      <td>1</td>\n",
       "      <td>2011</td>\n",
       "      <td>193406000.0</td>\n",
       "      <td>19.080302</td>\n",
       "      <td>-4.893148</td>\n",
       "    </tr>\n",
       "    <tr>\n",
       "      <th>2</th>\n",
       "      <td>1</td>\n",
       "      <td>2012</td>\n",
       "      <td>203105000.0</td>\n",
       "      <td>19.129234</td>\n",
       "      <td>-0.807152</td>\n",
       "    </tr>\n",
       "    <tr>\n",
       "      <th>3</th>\n",
       "      <td>1</td>\n",
       "      <td>2013</td>\n",
       "      <td>204751000.0</td>\n",
       "      <td>19.137305</td>\n",
       "      <td>0.617774</td>\n",
       "    </tr>\n",
       "    <tr>\n",
       "      <th>4</th>\n",
       "      <td>1</td>\n",
       "      <td>2014</td>\n",
       "      <td>203490000.0</td>\n",
       "      <td>19.131127</td>\n",
       "      <td>1.939669</td>\n",
       "    </tr>\n",
       "    <tr>\n",
       "      <th>...</th>\n",
       "      <td>...</td>\n",
       "      <td>...</td>\n",
       "      <td>...</td>\n",
       "      <td>...</td>\n",
       "      <td>...</td>\n",
       "    </tr>\n",
       "    <tr>\n",
       "      <th>197111</th>\n",
       "      <td>39566</td>\n",
       "      <td>2018</td>\n",
       "      <td>971579.0</td>\n",
       "      <td>13.786678</td>\n",
       "      <td>87.515404</td>\n",
       "    </tr>\n",
       "    <tr>\n",
       "      <th>197112</th>\n",
       "      <td>39582</td>\n",
       "      <td>2018</td>\n",
       "      <td>96026.0</td>\n",
       "      <td>11.472374</td>\n",
       "      <td>0.000000</td>\n",
       "    </tr>\n",
       "    <tr>\n",
       "      <th>197113</th>\n",
       "      <td>39592</td>\n",
       "      <td>2017</td>\n",
       "      <td>99948.0</td>\n",
       "      <td>11.512405</td>\n",
       "      <td>0.000000</td>\n",
       "    </tr>\n",
       "    <tr>\n",
       "      <th>197114</th>\n",
       "      <td>39592</td>\n",
       "      <td>2018</td>\n",
       "      <td>99948.0</td>\n",
       "      <td>11.512405</td>\n",
       "      <td>0.000000</td>\n",
       "    </tr>\n",
       "    <tr>\n",
       "      <th>197115</th>\n",
       "      <td>39593</td>\n",
       "      <td>2018</td>\n",
       "      <td>984577.0</td>\n",
       "      <td>13.799967</td>\n",
       "      <td>1.903482</td>\n",
       "    </tr>\n",
       "  </tbody>\n",
       "</table>\n",
       "<p>197116 rows × 5 columns</p>\n",
       "</div>"
      ],
      "text/plain": [
       "           id  year       tasset  logtasset  fgrow_log\n",
       "0           1  2010  180782000.0  19.012802  -6.749972\n",
       "1           1  2011  193406000.0  19.080302  -4.893148\n",
       "2           1  2012  203105000.0  19.129234  -0.807152\n",
       "3           1  2013  204751000.0  19.137305   0.617774\n",
       "4           1  2014  203490000.0  19.131127   1.939669\n",
       "...       ...   ...          ...        ...        ...\n",
       "197111  39566  2018     971579.0  13.786678  87.515404\n",
       "197112  39582  2018      96026.0  11.472374   0.000000\n",
       "197113  39592  2017      99948.0  11.512405   0.000000\n",
       "197114  39592  2018      99948.0  11.512405   0.000000\n",
       "197115  39593  2018     984577.0  13.799967   1.903482\n",
       "\n",
       "[197116 rows x 5 columns]"
      ]
     },
     "execution_count": 56,
     "metadata": {},
     "output_type": "execute_result"
    }
   ],
   "source": [
    "df1 = df[['id', 'year', 'tasset', 'logtasset', 'fgrow_log']]\n",
    "df2 = df1[df1['fgrow_log'] != 0.0]\n",
    "df3 = df2.sort_values('logtasset').reset_index(drop=True)\n",
    "df3.index += 1\n",
    "df3.index.name = 'count'\n",
    "df4 = df3.reset_index()\n",
    "df4['quantile_ex_1'] = pd.qcut(df4['logtasset'], q=12)\n",
    "df5 = df4.groupby('quantile_ex_1').mean().reset_index()\n",
    "df6 = df4.groupby('quantile_ex_1').std().reset_index()\n",
    "df6['tasset_mean'] = df5['tasset']\n",
    "\n",
    "df1"
   ]
  },
  {
   "cell_type": "markdown",
   "metadata": {},
   "source": [
    "## 4.2 histogram for mean and standard deviation growth against $\\ln S$- from real-world data"
   ]
  },
  {
   "cell_type": "code",
   "execution_count": 57,
   "metadata": {},
   "outputs": [],
   "source": [
    "def barplots2(df):\n",
    "    ax = df.plot.bar('quantile_ex_1', 'fgrow_log')\n",
    "    ax.set_xlabel('log firm size bins',fontsize=14)\n",
    "    ax.set_ylabel('growth mean $\\%$',fontsize=14)"
   ]
  },
  {
   "cell_type": "markdown",
   "metadata": {},
   "source": [
    "### 4.2.1 histogram and simulated lines for mean growth against $\\ln S$"
   ]
  },
  {
   "cell_type": "code",
   "execution_count": 58,
   "metadata": {},
   "outputs": [
    {
     "data": {
      "image/png": "[encoded data removed]",
      "text/plain": [
       "<Figure size 432x288 with 1 Axes>"
      ]
     },
     "metadata": {
      "needs_background": "light"
     },
     "output_type": "display_data"
    }
   ],
   "source": [
    "fq.barplots2(df5)"
   ]
  },
  {
   "cell_type": "markdown",
   "metadata": {},
   "source": [
    "### 4.2.2 histogram for standard deviation of growth against $\\ln S$"
   ]
  },
  {
   "cell_type": "code",
   "execution_count": 59,
   "metadata": {},
   "outputs": [
    {
     "data": {
      "image/png": "[encoded data removed]",
      "text/plain": [
       "<Figure size 432x288 with 1 Axes>"
      ]
     },
     "metadata": {
      "needs_background": "light"
     },
     "output_type": "display_data"
    }
   ],
   "source": [
    "fq.barplots2(df6)"
   ]
  },
  {
   "cell_type": "markdown",
   "metadata": {},
   "source": [
    "# 5 analytical solutions and their plots for mean and standard deviation of growth from the model"
   ]
  },
  {
   "cell_type": "markdown",
   "metadata": {},
   "source": [
    "## 5.1 analytical solution for mean and sd of growth from the model\n",
    "\n",
    "Recall equation [(1)](), taking the expected value of its both sides yields\n",
    "\n",
    "$$\n",
    "\\mathbb E (\\ln \\frac{S_{t+1}}{S_{t}}) = \\mathbb E (a + b / \\ln (S_t))  \\\\\n",
    "= E(a) + E(b) / \\ln (S_t) \\\\\n",
    "= \\mu_a + \\mu_b / \\ln (S_t) \\tag{13}\n",
    "$$"
   ]
  },
  {
   "cell_type": "markdown",
   "metadata": {},
   "source": [
    "Taking the variance of the both sides of [(1)](), we have\n",
    "\n",
    "$$\n",
    "Var (\\ln \\frac{S_{t+1}}{S_{t}}) = Var ( a+ b / \\ln (S_t)) \\\\\n",
    "= \\sigma^2_a + \\sigma^2_b / (\\ln S_t)^2 \\tag{14}\n",
    "$$\n",
    "\n",
    "And taking square root of [(14)](), we get\n",
    "\n",
    "$$\n",
    "SD(\\ln \\frac{S_{t+1}}{S_{t}}) = \\sqrt{ \\sigma^2_a + \\sigma^2_b / (\\ln S_t)^2  } \\tag{15}\n",
    "$$\n",
    "\n",
    "We can implement these two analytical solutions with estimations from ``2.1.1`` as default parameters."
   ]
  },
  {
   "cell_type": "markdown",
   "metadata": {},
   "source": [
    "### process the data"
   ]
  },
  {
   "cell_type": "code",
   "execution_count": 71,
   "metadata": {},
   "outputs": [
    {
     "data": {
      "text/html": [
       "<div>\n",
       "<style scoped>\n",
       "    .dataframe tbody tr th:only-of-type {\n",
       "        vertical-align: middle;\n",
       "    }\n",
       "\n",
       "    .dataframe tbody tr th {\n",
       "        vertical-align: top;\n",
       "    }\n",
       "\n",
       "    .dataframe thead th {\n",
       "        text-align: right;\n",
       "    }\n",
       "</style>\n",
       "<table border=\"1\" class=\"dataframe\">\n",
       "  <thead>\n",
       "    <tr style=\"text-align: right;\">\n",
       "      <th></th>\n",
       "      <th>quantile_ex_1</th>\n",
       "      <th>count</th>\n",
       "      <th>id</th>\n",
       "      <th>year</th>\n",
       "      <th>tasset</th>\n",
       "      <th>logtasset</th>\n",
       "      <th>fgrow_log</th>\n",
       "      <th>fgrow_mean_sim1</th>\n",
       "      <th>fgrow_mean_sim2</th>\n",
       "      <th>fgrow_mean_sim3</th>\n",
       "      <th>fgrow_mean_sim4</th>\n",
       "      <th>fgrow_mean_sim5</th>\n",
       "      <th>fgrow_mean_sim6</th>\n",
       "    </tr>\n",
       "  </thead>\n",
       "  <tbody>\n",
       "    <tr>\n",
       "      <th>0</th>\n",
       "      <td>(7.999, 9.051]</td>\n",
       "      <td>8211.5</td>\n",
       "      <td>23697.767020</td>\n",
       "      <td>2014.032517</td>\n",
       "      <td>5.673371e+03</td>\n",
       "      <td>8.602317</td>\n",
       "      <td>-6.623679</td>\n",
       "      <td>-5.635065</td>\n",
       "      <td>-5.634937</td>\n",
       "      <td>12.356461</td>\n",
       "      <td>-5.359134</td>\n",
       "      <td>-5.732784</td>\n",
       "      <td>0.0</td>\n",
       "    </tr>\n",
       "    <tr>\n",
       "      <th>1</th>\n",
       "      <td>(9.051, 9.671]</td>\n",
       "      <td>24633.5</td>\n",
       "      <td>20830.174522</td>\n",
       "      <td>2014.099014</td>\n",
       "      <td>1.200433e+04</td>\n",
       "      <td>9.377457</td>\n",
       "      <td>-5.357622</td>\n",
       "      <td>-5.640419</td>\n",
       "      <td>-5.637447</td>\n",
       "      <td>11.606978</td>\n",
       "      <td>-5.465224</td>\n",
       "      <td>-5.705125</td>\n",
       "      <td>0.0</td>\n",
       "    </tr>\n",
       "    <tr>\n",
       "      <th>2</th>\n",
       "      <td>(9.671, 10.182]</td>\n",
       "      <td>41056.5</td>\n",
       "      <td>18819.908061</td>\n",
       "      <td>2014.171639</td>\n",
       "      <td>2.079348e+04</td>\n",
       "      <td>9.931652</td>\n",
       "      <td>-5.614329</td>\n",
       "      <td>-5.643753</td>\n",
       "      <td>-5.639047</td>\n",
       "      <td>11.057605</td>\n",
       "      <td>-5.531290</td>\n",
       "      <td>-5.687499</td>\n",
       "      <td>0.0</td>\n",
       "    </tr>\n",
       "    <tr>\n",
       "      <th>3</th>\n",
       "      <td>(10.182, 10.668]</td>\n",
       "      <td>57478.5</td>\n",
       "      <td>17476.217783</td>\n",
       "      <td>2014.198660</td>\n",
       "      <td>3.401399e+04</td>\n",
       "      <td>10.424658</td>\n",
       "      <td>-5.023661</td>\n",
       "      <td>-5.646374</td>\n",
       "      <td>-5.640337</td>\n",
       "      <td>10.565473</td>\n",
       "      <td>-5.583240</td>\n",
       "      <td>-5.673285</td>\n",
       "      <td>0.0</td>\n",
       "    </tr>\n",
       "    <tr>\n",
       "      <th>4</th>\n",
       "      <td>(10.668, 11.146]</td>\n",
       "      <td>73898.5</td>\n",
       "      <td>16082.868088</td>\n",
       "      <td>2014.287881</td>\n",
       "      <td>5.516903e+04</td>\n",
       "      <td>10.908609</td>\n",
       "      <td>-5.257733</td>\n",
       "      <td>-5.648655</td>\n",
       "      <td>-5.641491</td>\n",
       "      <td>10.081843</td>\n",
       "      <td>-5.628429</td>\n",
       "      <td>-5.660566</td>\n",
       "      <td>0.0</td>\n",
       "    </tr>\n",
       "    <tr>\n",
       "      <th>5</th>\n",
       "      <td>(11.146, 11.605]</td>\n",
       "      <td>90319.5</td>\n",
       "      <td>14721.195896</td>\n",
       "      <td>2014.285532</td>\n",
       "      <td>8.824301e+04</td>\n",
       "      <td>11.379081</td>\n",
       "      <td>-5.008835</td>\n",
       "      <td>-5.650621</td>\n",
       "      <td>-5.642519</td>\n",
       "      <td>9.612150</td>\n",
       "      <td>-5.667385</td>\n",
       "      <td>-5.649247</td>\n",
       "      <td>0.0</td>\n",
       "    </tr>\n",
       "    <tr>\n",
       "      <th>6</th>\n",
       "      <td>(11.605, 12.083]</td>\n",
       "      <td>106741.5</td>\n",
       "      <td>13122.123249</td>\n",
       "      <td>2014.229996</td>\n",
       "      <td>1.397616e+05</td>\n",
       "      <td>11.838114</td>\n",
       "      <td>-5.299331</td>\n",
       "      <td>-5.652334</td>\n",
       "      <td>-5.643446</td>\n",
       "      <td>9.152306</td>\n",
       "      <td>-5.701339</td>\n",
       "      <td>-5.639035</td>\n",
       "      <td>0.0</td>\n",
       "    </tr>\n",
       "    <tr>\n",
       "      <th>7</th>\n",
       "      <td>(12.083, 12.589]</td>\n",
       "      <td>123163.0</td>\n",
       "      <td>11473.795749</td>\n",
       "      <td>2014.191584</td>\n",
       "      <td>2.295087e+05</td>\n",
       "      <td>12.333205</td>\n",
       "      <td>-5.734996</td>\n",
       "      <td>-5.653975</td>\n",
       "      <td>-5.644368</td>\n",
       "      <td>8.656304</td>\n",
       "      <td>-5.733841</td>\n",
       "      <td>-5.628873</td>\n",
       "      <td>0.0</td>\n",
       "    </tr>\n",
       "    <tr>\n",
       "      <th>8</th>\n",
       "      <td>(12.589, 13.18]</td>\n",
       "      <td>139584.5</td>\n",
       "      <td>9676.860614</td>\n",
       "      <td>2014.288576</td>\n",
       "      <td>3.945910e+05</td>\n",
       "      <td>12.871177</td>\n",
       "      <td>-5.944172</td>\n",
       "      <td>-5.655549</td>\n",
       "      <td>-5.645295</td>\n",
       "      <td>8.114395</td>\n",
       "      <td>-5.765035</td>\n",
       "      <td>-5.618664</td>\n",
       "      <td>0.0</td>\n",
       "    </tr>\n",
       "    <tr>\n",
       "      <th>9</th>\n",
       "      <td>(13.18, 14.01]</td>\n",
       "      <td>156006.0</td>\n",
       "      <td>7758.848060</td>\n",
       "      <td>2014.337799</td>\n",
       "      <td>8.089018e+05</td>\n",
       "      <td>13.574690</td>\n",
       "      <td>-6.930366</td>\n",
       "      <td>-5.657331</td>\n",
       "      <td>-5.646408</td>\n",
       "      <td>7.396567</td>\n",
       "      <td>-5.800355</td>\n",
       "      <td>-5.606394</td>\n",
       "      <td>0.0</td>\n",
       "    </tr>\n",
       "    <tr>\n",
       "      <th>10</th>\n",
       "      <td>(14.01, 15.239]</td>\n",
       "      <td>172427.5</td>\n",
       "      <td>5238.158263</td>\n",
       "      <td>2014.325113</td>\n",
       "      <td>2.259282e+06</td>\n",
       "      <td>14.568738</td>\n",
       "      <td>-6.112890</td>\n",
       "      <td>-5.659385</td>\n",
       "      <td>-5.647812</td>\n",
       "      <td>6.369443</td>\n",
       "      <td>-5.841047</td>\n",
       "      <td>-5.590931</td>\n",
       "      <td>0.0</td>\n",
       "    </tr>\n",
       "    <tr>\n",
       "      <th>11</th>\n",
       "      <td>(15.239, 22.227]</td>\n",
       "      <td>188849.5</td>\n",
       "      <td>3441.048898</td>\n",
       "      <td>2014.371270</td>\n",
       "      <td>5.144981e+07</td>\n",
       "      <td>16.614833</td>\n",
       "      <td>-4.942773</td>\n",
       "      <td>-5.663188</td>\n",
       "      <td>-5.651084</td>\n",
       "      <td>3.243883</td>\n",
       "      <td>-5.916414</td>\n",
       "      <td>-5.554881</td>\n",
       "      <td>0.0</td>\n",
       "    </tr>\n",
       "  </tbody>\n",
       "</table>\n",
       "</div>"
      ],
      "text/plain": [
       "       quantile_ex_1     count            id         year        tasset  \\\n",
       "0     (7.999, 9.051]    8211.5  23697.767020  2014.032517  5.673371e+03   \n",
       "1     (9.051, 9.671]   24633.5  20830.174522  2014.099014  1.200433e+04   \n",
       "2    (9.671, 10.182]   41056.5  18819.908061  2014.171639  2.079348e+04   \n",
       "3   (10.182, 10.668]   57478.5  17476.217783  2014.198660  3.401399e+04   \n",
       "4   (10.668, 11.146]   73898.5  16082.868088  2014.287881  5.516903e+04   \n",
       "5   (11.146, 11.605]   90319.5  14721.195896  2014.285532  8.824301e+04   \n",
       "6   (11.605, 12.083]  106741.5  13122.123249  2014.229996  1.397616e+05   \n",
       "7   (12.083, 12.589]  123163.0  11473.795749  2014.191584  2.295087e+05   \n",
       "8    (12.589, 13.18]  139584.5   9676.860614  2014.288576  3.945910e+05   \n",
       "9     (13.18, 14.01]  156006.0   7758.848060  2014.337799  8.089018e+05   \n",
       "10   (14.01, 15.239]  172427.5   5238.158263  2014.325113  2.259282e+06   \n",
       "11  (15.239, 22.227]  188849.5   3441.048898  2014.371270  5.144981e+07   \n",
       "\n",
       "    logtasset  fgrow_log  fgrow_mean_sim1  fgrow_mean_sim2  fgrow_mean_sim3  \\\n",
       "0    8.602317  -6.623679        -5.635065        -5.634937        12.356461   \n",
       "1    9.377457  -5.357622        -5.640419        -5.637447        11.606978   \n",
       "2    9.931652  -5.614329        -5.643753        -5.639047        11.057605   \n",
       "3   10.424658  -5.023661        -5.646374        -5.640337        10.565473   \n",
       "4   10.908609  -5.257733        -5.648655        -5.641491        10.081843   \n",
       "5   11.379081  -5.008835        -5.650621        -5.642519         9.612150   \n",
       "6   11.838114  -5.299331        -5.652334        -5.643446         9.152306   \n",
       "7   12.333205  -5.734996        -5.653975        -5.644368         8.656304   \n",
       "8   12.871177  -5.944172        -5.655549        -5.645295         8.114395   \n",
       "9   13.574690  -6.930366        -5.657331        -5.646408         7.396567   \n",
       "10  14.568738  -6.112890        -5.659385        -5.647812         6.369443   \n",
       "11  16.614833  -4.942773        -5.663188        -5.651084         3.243883   \n",
       "\n",
       "    fgrow_mean_sim4  fgrow_mean_sim5  fgrow_mean_sim6  \n",
       "0         -5.359134        -5.732784              0.0  \n",
       "1         -5.465224        -5.705125              0.0  \n",
       "2         -5.531290        -5.687499              0.0  \n",
       "3         -5.583240        -5.673285              0.0  \n",
       "4         -5.628429        -5.660566              0.0  \n",
       "5         -5.667385        -5.649247              0.0  \n",
       "6         -5.701339        -5.639035              0.0  \n",
       "7         -5.733841        -5.628873              0.0  \n",
       "8         -5.765035        -5.618664              0.0  \n",
       "9         -5.800355        -5.606394              0.0  \n",
       "10        -5.841047        -5.590931              0.0  \n",
       "11        -5.916414        -5.554881              0.0  "
      ]
     },
     "execution_count": 71,
     "metadata": {},
     "output_type": "execute_result"
    }
   ],
   "source": [
    "df5['fgrow_mean_sim1'] = mean_growth1(df5['tasset'])\n",
    "df5['fgrow_mean_sim2'] = mean_growth2(df5['tasset'])\n",
    "df5['fgrow_mean_sim3'] = mean_growth3(df5['tasset'])\n",
    "df5['fgrow_mean_sim4'] = mean_growth1(df5['tasset'], paras=opt_res4.x)\n",
    "df5['fgrow_mean_sim5'] = mean_growth2(df5['tasset'], paras=opt_res5.x)\n",
    "df5['fgrow_mean_sim6'] = mean_growth3(df5['tasset'], paras=opt_res6.x)\n",
    "df5"
   ]
  },
  {
   "cell_type": "code",
   "execution_count": 72,
   "metadata": {},
   "outputs": [
    {
     "data": {
      "text/html": [
       "<div>\n",
       "<style scoped>\n",
       "    .dataframe tbody tr th:only-of-type {\n",
       "        vertical-align: middle;\n",
       "    }\n",
       "\n",
       "    .dataframe tbody tr th {\n",
       "        vertical-align: top;\n",
       "    }\n",
       "\n",
       "    .dataframe thead th {\n",
       "        text-align: right;\n",
       "    }\n",
       "</style>\n",
       "<table border=\"1\" class=\"dataframe\">\n",
       "  <thead>\n",
       "    <tr style=\"text-align: right;\">\n",
       "      <th></th>\n",
       "      <th>quantile_ex_1</th>\n",
       "      <th>count</th>\n",
       "      <th>id</th>\n",
       "      <th>year</th>\n",
       "      <th>tasset</th>\n",
       "      <th>logtasset</th>\n",
       "      <th>fgrow_log</th>\n",
       "      <th>tasset_mean</th>\n",
       "      <th>fgrow_log_var_sim1</th>\n",
       "      <th>fgrow_log_var_sim2</th>\n",
       "      <th>fgrow_log_var_sim3</th>\n",
       "      <th>fgrow_log_var_sim4</th>\n",
       "      <th>fgrow_log_var_sim5</th>\n",
       "      <th>fgrow_log_var_sim6</th>\n",
       "    </tr>\n",
       "  </thead>\n",
       "  <tbody>\n",
       "    <tr>\n",
       "      <th>0</th>\n",
       "      <td>(7.999, 9.051]</td>\n",
       "      <td>4740.767396</td>\n",
       "      <td>6920.606246</td>\n",
       "      <td>2.444321</td>\n",
       "      <td>1.580606e+03</td>\n",
       "      <td>0.292324</td>\n",
       "      <td>50.022291</td>\n",
       "      <td>5.673371e+03</td>\n",
       "      <td>6.509032</td>\n",
       "      <td>6.292773</td>\n",
       "      <td>36.051243</td>\n",
       "      <td>6.648625</td>\n",
       "      <td>6.295481</td>\n",
       "      <td>36.051243</td>\n",
       "    </tr>\n",
       "    <tr>\n",
       "      <th>1</th>\n",
       "      <td>(9.051, 9.671]</td>\n",
       "      <td>4740.767396</td>\n",
       "      <td>6412.874698</td>\n",
       "      <td>2.464621</td>\n",
       "      <td>2.100206e+03</td>\n",
       "      <td>0.177344</td>\n",
       "      <td>34.033297</td>\n",
       "      <td>1.200433e+04</td>\n",
       "      <td>5.940829</td>\n",
       "      <td>5.919714</td>\n",
       "      <td>33.690945</td>\n",
       "      <td>6.034747</td>\n",
       "      <td>5.921883</td>\n",
       "      <td>33.690945</td>\n",
       "    </tr>\n",
       "    <tr>\n",
       "      <th>2</th>\n",
       "      <td>(9.671, 10.182]</td>\n",
       "      <td>4741.344746</td>\n",
       "      <td>6373.638383</td>\n",
       "      <td>2.471184</td>\n",
       "      <td>3.038231e+03</td>\n",
       "      <td>0.146893</td>\n",
       "      <td>29.514057</td>\n",
       "      <td>2.079348e+04</td>\n",
       "      <td>5.617471</td>\n",
       "      <td>5.686586</td>\n",
       "      <td>31.961762</td>\n",
       "      <td>5.683707</td>\n",
       "      <td>5.688405</td>\n",
       "      <td>31.961762</td>\n",
       "    </tr>\n",
       "    <tr>\n",
       "      <th>3</th>\n",
       "      <td>(10.182, 10.668]</td>\n",
       "      <td>4740.190045</td>\n",
       "      <td>6674.619273</td>\n",
       "      <td>2.470830</td>\n",
       "      <td>4.775962e+03</td>\n",
       "      <td>0.140610</td>\n",
       "      <td>28.217548</td>\n",
       "      <td>3.401399e+04</td>\n",
       "      <td>5.383032</td>\n",
       "      <td>5.501576</td>\n",
       "      <td>30.413528</td>\n",
       "      <td>5.428260</td>\n",
       "      <td>5.503110</td>\n",
       "      <td>30.413528</td>\n",
       "    </tr>\n",
       "    <tr>\n",
       "      <th>4</th>\n",
       "      <td>(10.668, 11.146]</td>\n",
       "      <td>4740.190045</td>\n",
       "      <td>6827.434747</td>\n",
       "      <td>2.481875</td>\n",
       "      <td>7.614675e+03</td>\n",
       "      <td>0.138338</td>\n",
       "      <td>26.277170</td>\n",
       "      <td>5.516903e+04</td>\n",
       "      <td>5.195327</td>\n",
       "      <td>5.338515</td>\n",
       "      <td>28.892884</td>\n",
       "      <td>5.223077</td>\n",
       "      <td>5.339791</td>\n",
       "      <td>28.892884</td>\n",
       "    </tr>\n",
       "    <tr>\n",
       "      <th>5</th>\n",
       "      <td>(11.146, 11.605]</td>\n",
       "      <td>4740.767396</td>\n",
       "      <td>6897.814451</td>\n",
       "      <td>2.490688</td>\n",
       "      <td>1.165996e+04</td>\n",
       "      <td>0.132642</td>\n",
       "      <td>25.825230</td>\n",
       "      <td>8.824301e+04</td>\n",
       "      <td>5.046996</td>\n",
       "      <td>5.195587</td>\n",
       "      <td>27.416989</td>\n",
       "      <td>5.060472</td>\n",
       "      <td>5.196631</td>\n",
       "      <td>27.416989</td>\n",
       "    </tr>\n",
       "    <tr>\n",
       "      <th>6</th>\n",
       "      <td>(11.605, 12.083]</td>\n",
       "      <td>4740.767396</td>\n",
       "      <td>6639.245390</td>\n",
       "      <td>2.516208</td>\n",
       "      <td>1.937660e+04</td>\n",
       "      <td>0.138377</td>\n",
       "      <td>24.732990</td>\n",
       "      <td>1.397616e+05</td>\n",
       "      <td>4.928825</td>\n",
       "      <td>5.068545</td>\n",
       "      <td>25.973082</td>\n",
       "      <td>4.930605</td>\n",
       "      <td>5.069377</td>\n",
       "      <td>25.973082</td>\n",
       "    </tr>\n",
       "    <tr>\n",
       "      <th>7</th>\n",
       "      <td>(12.083, 12.589]</td>\n",
       "      <td>4740.478721</td>\n",
       "      <td>7078.691534</td>\n",
       "      <td>2.508564</td>\n",
       "      <td>3.324442e+04</td>\n",
       "      <td>0.144938</td>\n",
       "      <td>22.014511</td>\n",
       "      <td>2.295087e+05</td>\n",
       "      <td>4.826145</td>\n",
       "      <td>4.944064</td>\n",
       "      <td>24.417000</td>\n",
       "      <td>4.817510</td>\n",
       "      <td>4.944686</td>\n",
       "      <td>24.417000</td>\n",
       "    </tr>\n",
       "    <tr>\n",
       "      <th>8</th>\n",
       "      <td>(12.589, 13.18]</td>\n",
       "      <td>4740.767396</td>\n",
       "      <td>7071.281163</td>\n",
       "      <td>2.487377</td>\n",
       "      <td>6.731080e+04</td>\n",
       "      <td>0.169645</td>\n",
       "      <td>22.946830</td>\n",
       "      <td>3.945910e+05</td>\n",
       "      <td>4.737828</td>\n",
       "      <td>4.821119</td>\n",
       "      <td>22.718850</td>\n",
       "      <td>4.720036</td>\n",
       "      <td>4.821527</td>\n",
       "      <td>22.718850</td>\n",
       "    </tr>\n",
       "    <tr>\n",
       "      <th>9</th>\n",
       "      <td>(13.18, 14.01]</td>\n",
       "      <td>4740.478721</td>\n",
       "      <td>7092.393753</td>\n",
       "      <td>2.498346</td>\n",
       "      <td>1.949104e+05</td>\n",
       "      <td>0.239516</td>\n",
       "      <td>21.870344</td>\n",
       "      <td>8.089018e+05</td>\n",
       "      <td>4.650651</td>\n",
       "      <td>4.676365</td>\n",
       "      <td>20.473415</td>\n",
       "      <td>4.623623</td>\n",
       "      <td>4.676514</td>\n",
       "      <td>20.473415</td>\n",
       "    </tr>\n",
       "    <tr>\n",
       "      <th>10</th>\n",
       "      <td>(14.01, 15.239]</td>\n",
       "      <td>4740.767396</td>\n",
       "      <td>6519.943197</td>\n",
       "      <td>2.511786</td>\n",
       "      <td>8.081541e+05</td>\n",
       "      <td>0.349795</td>\n",
       "      <td>22.197154</td>\n",
       "      <td>2.259282e+06</td>\n",
       "      <td>4.568064</td>\n",
       "      <td>4.499106</td>\n",
       "      <td>17.271628</td>\n",
       "      <td>4.532099</td>\n",
       "      <td>4.498928</td>\n",
       "      <td>17.271628</td>\n",
       "    </tr>\n",
       "    <tr>\n",
       "      <th>11</th>\n",
       "      <td>(15.239, 22.227]</td>\n",
       "      <td>4740.767396</td>\n",
       "      <td>7590.070927</td>\n",
       "      <td>2.515930</td>\n",
       "      <td>2.002437e+08</td>\n",
       "      <td>1.184180</td>\n",
       "      <td>19.533036</td>\n",
       "      <td>5.144981e+07</td>\n",
       "      <td>4.468853</td>\n",
       "      <td>4.112141</td>\n",
       "      <td>7.768532</td>\n",
       "      <td>4.421891</td>\n",
       "      <td>4.111200</td>\n",
       "      <td>7.768532</td>\n",
       "    </tr>\n",
       "  </tbody>\n",
       "</table>\n",
       "</div>"
      ],
      "text/plain": [
       "       quantile_ex_1        count           id      year        tasset  \\\n",
       "0     (7.999, 9.051]  4740.767396  6920.606246  2.444321  1.580606e+03   \n",
       "1     (9.051, 9.671]  4740.767396  6412.874698  2.464621  2.100206e+03   \n",
       "2    (9.671, 10.182]  4741.344746  6373.638383  2.471184  3.038231e+03   \n",
       "3   (10.182, 10.668]  4740.190045  6674.619273  2.470830  4.775962e+03   \n",
       "4   (10.668, 11.146]  4740.190045  6827.434747  2.481875  7.614675e+03   \n",
       "5   (11.146, 11.605]  4740.767396  6897.814451  2.490688  1.165996e+04   \n",
       "6   (11.605, 12.083]  4740.767396  6639.245390  2.516208  1.937660e+04   \n",
       "7   (12.083, 12.589]  4740.478721  7078.691534  2.508564  3.324442e+04   \n",
       "8    (12.589, 13.18]  4740.767396  7071.281163  2.487377  6.731080e+04   \n",
       "9     (13.18, 14.01]  4740.478721  7092.393753  2.498346  1.949104e+05   \n",
       "10   (14.01, 15.239]  4740.767396  6519.943197  2.511786  8.081541e+05   \n",
       "11  (15.239, 22.227]  4740.767396  7590.070927  2.515930  2.002437e+08   \n",
       "\n",
       "    logtasset  fgrow_log   tasset_mean  fgrow_log_var_sim1  \\\n",
       "0    0.292324  50.022291  5.673371e+03            6.509032   \n",
       "1    0.177344  34.033297  1.200433e+04            5.940829   \n",
       "2    0.146893  29.514057  2.079348e+04            5.617471   \n",
       "3    0.140610  28.217548  3.401399e+04            5.383032   \n",
       "4    0.138338  26.277170  5.516903e+04            5.195327   \n",
       "5    0.132642  25.825230  8.824301e+04            5.046996   \n",
       "6    0.138377  24.732990  1.397616e+05            4.928825   \n",
       "7    0.144938  22.014511  2.295087e+05            4.826145   \n",
       "8    0.169645  22.946830  3.945910e+05            4.737828   \n",
       "9    0.239516  21.870344  8.089018e+05            4.650651   \n",
       "10   0.349795  22.197154  2.259282e+06            4.568064   \n",
       "11   1.184180  19.533036  5.144981e+07            4.468853   \n",
       "\n",
       "    fgrow_log_var_sim2  fgrow_log_var_sim3  fgrow_log_var_sim4  \\\n",
       "0             6.292773           36.051243            6.648625   \n",
       "1             5.919714           33.690945            6.034747   \n",
       "2             5.686586           31.961762            5.683707   \n",
       "3             5.501576           30.413528            5.428260   \n",
       "4             5.338515           28.892884            5.223077   \n",
       "5             5.195587           27.416989            5.060472   \n",
       "6             5.068545           25.973082            4.930605   \n",
       "7             4.944064           24.417000            4.817510   \n",
       "8             4.821119           22.718850            4.720036   \n",
       "9             4.676365           20.473415            4.623623   \n",
       "10            4.499106           17.271628            4.532099   \n",
       "11            4.112141            7.768532            4.421891   \n",
       "\n",
       "    fgrow_log_var_sim5  fgrow_log_var_sim6  \n",
       "0             6.295481           36.051243  \n",
       "1             5.921883           33.690945  \n",
       "2             5.688405           31.961762  \n",
       "3             5.503110           30.413528  \n",
       "4             5.339791           28.892884  \n",
       "5             5.196631           27.416989  \n",
       "6             5.069377           25.973082  \n",
       "7             4.944686           24.417000  \n",
       "8             4.821527           22.718850  \n",
       "9             4.676514           20.473415  \n",
       "10            4.498928           17.271628  \n",
       "11            4.111200            7.768532  "
      ]
     },
     "execution_count": 72,
     "metadata": {},
     "output_type": "execute_result"
    }
   ],
   "source": [
    "df6['fgrow_log_var_sim1'] = sd_growth1(df6['tasset_mean'])\n",
    "df6['fgrow_log_var_sim2'] = sd_growth2(df6['tasset_mean'])\n",
    "df6['fgrow_log_var_sim3'] = sd_growth3(df6['tasset_mean'])\n",
    "df6['fgrow_log_var_sim4'] = sd_growth1(df6['tasset_mean'], paras=opt_res4.x)\n",
    "df6['fgrow_log_var_sim5'] = sd_growth2(df6['tasset_mean'], paras=opt_res5.x)\n",
    "df6['fgrow_log_var_sim6'] = sd_growth3(df6['tasset_mean'], paras=opt_res6.x)\n",
    "df6"
   ]
  },
  {
   "cell_type": "code",
   "execution_count": null,
   "metadata": {},
   "outputs": [],
   "source": []
  },
  {
   "cell_type": "markdown",
   "metadata": {},
   "source": [
    "## 5.2 plots"
   ]
  },
  {
   "cell_type": "markdown",
   "metadata": {},
   "source": [
    "### 5.2.1 histogram and analytical solution line for mean growth against $\\ln S$"
   ]
  },
  {
   "cell_type": "markdown",
   "metadata": {},
   "source": [
    "#### 5.2.1.1 when $\\mu_b$ free\n",
    "\n",
    "##### case i: when $X= S^{-1/4}_t$"
   ]
  },
  {
   "cell_type": "code",
   "execution_count": 74,
   "metadata": {},
   "outputs": [
    {
     "data": {
      "image/png": "[encoded data removed]",
      "text/plain": [
       "<Figure size 432x288 with 1 Axes>"
      ]
     },
     "metadata": {
      "needs_background": "light"
     },
     "output_type": "display_data"
    }
   ],
   "source": [
    "fq.bslplot(df5, y='fgrow_mean_sim1')"
   ]
  },
  {
   "cell_type": "markdown",
   "metadata": {},
   "source": [
    "##### case ii: when $X = 1/ \\ln (S_t)$"
   ]
  },
  {
   "cell_type": "code",
   "execution_count": 75,
   "metadata": {},
   "outputs": [
    {
     "data": {
      "image/png": "[encoded data removed]",
      "text/plain": [
       "<Figure size 432x288 with 1 Axes>"
      ]
     },
     "metadata": {
      "needs_background": "light"
     },
     "output_type": "display_data"
    }
   ],
   "source": [
    "fq.bslplot(df5, y='fgrow_mean_sim2')"
   ]
  },
  {
   "cell_type": "markdown",
   "metadata": {},
   "source": [
    "##### case iii: when $X = max\\{ u - \\ln (S_t), 0\\}$, where $u=20$"
   ]
  },
  {
   "cell_type": "code",
   "execution_count": 76,
   "metadata": {},
   "outputs": [
    {
     "data": {
      "image/png": "[encoded data removed]",
      "text/plain": [
       "<Figure size 432x288 with 1 Axes>"
      ]
     },
     "metadata": {
      "needs_background": "light"
     },
     "output_type": "display_data"
    }
   ],
   "source": [
    "fq.bslplot(df5, y='fgrow_mean_sim3')"
   ]
  },
  {
   "cell_type": "markdown",
   "metadata": {},
   "source": [
    "#### 5.2.1.2 when $\\mu_b=0$\n",
    "\n",
    "##### case i: when $X= S^{-1/4}_t$"
   ]
  },
  {
   "cell_type": "code",
   "execution_count": 77,
   "metadata": {},
   "outputs": [
    {
     "data": {
      "image/png": "[encoded data removed]",
      "text/plain": [
       "<Figure size 432x288 with 1 Axes>"
      ]
     },
     "metadata": {
      "needs_background": "light"
     },
     "output_type": "display_data"
    }
   ],
   "source": [
    "fq.bslplot(df5, y='fgrow_mean_sim4')"
   ]
  },
  {
   "cell_type": "markdown",
   "metadata": {},
   "source": [
    "##### case ii: when $X = 1/ \\ln (S_t)$"
   ]
  },
  {
   "cell_type": "code",
   "execution_count": 78,
   "metadata": {},
   "outputs": [
    {
     "data": {
      "image/png": "[encoded data removed]",
      "text/plain": [
       "<Figure size 432x288 with 1 Axes>"
      ]
     },
     "metadata": {
      "needs_background": "light"
     },
     "output_type": "display_data"
    }
   ],
   "source": [
    "fq.bslplot(df5, y='fgrow_mean_sim5')"
   ]
  },
  {
   "cell_type": "markdown",
   "metadata": {},
   "source": [
    "##### case iii: when $X = max\\{ u - \\ln (S_t), 0\\}$, where $u=20$"
   ]
  },
  {
   "cell_type": "code",
   "execution_count": 79,
   "metadata": {},
   "outputs": [
    {
     "data": {
      "image/png": "[encoded data removed]",
      "text/plain": [
       "<Figure size 432x288 with 1 Axes>"
      ]
     },
     "metadata": {
      "needs_background": "light"
     },
     "output_type": "display_data"
    }
   ],
   "source": [
    "fq.bslplot(df5, y='fgrow_mean_sim6')"
   ]
  },
  {
   "cell_type": "markdown",
   "metadata": {},
   "source": [
    "### 5.2.2 histogram and analytical solution line for standard deviation of growth against $\\ln S$"
   ]
  },
  {
   "cell_type": "markdown",
   "metadata": {},
   "source": [
    "#### 5.2.2.1 when $\\mu_b$ free\n",
    "\n",
    "##### case i: when $X= S^{-1/4}_t$"
   ]
  },
  {
   "cell_type": "code",
   "execution_count": 80,
   "metadata": {},
   "outputs": [
    {
     "data": {
      "image/png": "[encoded data removed]",
      "text/plain": [
       "<Figure size 432x288 with 1 Axes>"
      ]
     },
     "metadata": {
      "needs_background": "light"
     },
     "output_type": "display_data"
    }
   ],
   "source": [
    "fq.bslplot(df6, y='fgrow_log_var_sim1')"
   ]
  },
  {
   "cell_type": "markdown",
   "metadata": {},
   "source": [
    "##### case ii: when $X = 1/ \\ln (S_t)$"
   ]
  },
  {
   "cell_type": "code",
   "execution_count": 81,
   "metadata": {},
   "outputs": [
    {
     "data": {
      "image/png": "[encoded data removed]",
      "text/plain": [
       "<Figure size 432x288 with 1 Axes>"
      ]
     },
     "metadata": {
      "needs_background": "light"
     },
     "output_type": "display_data"
    }
   ],
   "source": [
    "fq.bslplot(df6, y='fgrow_log_var_sim2')"
   ]
  },
  {
   "cell_type": "markdown",
   "metadata": {},
   "source": [
    "##### case iii: when $X = max\\{ u - \\ln (S_t), 0\\}$, where $u=20$"
   ]
  },
  {
   "cell_type": "code",
   "execution_count": 82,
   "metadata": {},
   "outputs": [
    {
     "data": {
      "image/png": "[encoded data removed]",
      "text/plain": [
       "<Figure size 432x288 with 1 Axes>"
      ]
     },
     "metadata": {
      "needs_background": "light"
     },
     "output_type": "display_data"
    }
   ],
   "source": [
    "fq.bslplot(df6, y='fgrow_log_var_sim3')"
   ]
  },
  {
   "cell_type": "markdown",
   "metadata": {},
   "source": [
    "#### 5.2.2.2 when $\\mu_b=0$\n",
    "\n",
    "##### case i: when $X= S^{-1/4}_t$"
   ]
  },
  {
   "cell_type": "code",
   "execution_count": 83,
   "metadata": {},
   "outputs": [
    {
     "data": {
      "image/png": "[encoded data removed]",
      "text/plain": [
       "<Figure size 432x288 with 1 Axes>"
      ]
     },
     "metadata": {
      "needs_background": "light"
     },
     "output_type": "display_data"
    }
   ],
   "source": [
    "fq.bslplot(df6, y='fgrow_log_var_sim4')"
   ]
  },
  {
   "cell_type": "markdown",
   "metadata": {},
   "source": [
    "##### case ii: when $X = 1/ \\ln (S_t)$"
   ]
  },
  {
   "cell_type": "code",
   "execution_count": 84,
   "metadata": {},
   "outputs": [
    {
     "data": {
      "image/png": "[encoded data removed]",
      "text/plain": [
       "<Figure size 432x288 with 1 Axes>"
      ]
     },
     "metadata": {
      "needs_background": "light"
     },
     "output_type": "display_data"
    }
   ],
   "source": [
    "fq.bslplot(df6, y='fgrow_log_var_sim5')"
   ]
  },
  {
   "cell_type": "markdown",
   "metadata": {},
   "source": [
    "##### case iii: when $X = max\\{ u - \\ln (S_t), 0\\}$, where $u=20$"
   ]
  },
  {
   "cell_type": "code",
   "execution_count": 85,
   "metadata": {},
   "outputs": [
    {
     "data": {
      "image/png": "[encoded data removed]",
      "text/plain": [
       "<Figure size 432x288 with 1 Axes>"
      ]
     },
     "metadata": {
      "needs_background": "light"
     },
     "output_type": "display_data"
    }
   ],
   "source": [
    "fq.bslplot(df6, y='fgrow_log_var_sim6')"
   ]
  },
  {
   "cell_type": "markdown",
   "metadata": {},
   "source": [
    "# 6 closed-form solutions for MLE"
   ]
  },
  {
   "cell_type": "markdown",
   "metadata": {},
   "source": [
    "Recall the log-likelihood function\n",
    "$$\n",
    "L (\\mu_{a}, \\mu_{b}, \\sigma^2_{a}, \\sigma^2_{b} | x, y) = \\sum^n_{i=1}\\ln \\frac{1}{\\sqrt{2 \\pi \\sigma^2}} \\exp (- \\frac{1}{2 \\sigma^2} (y - \\mu_{a} - \\mu_{b} x )^2 )  \\tag{5}\n",
    "$$"
   ]
  },
  {
   "cell_type": "markdown",
   "metadata": {},
   "source": [
    "Taking FOC with respect to $\\mu_a, \\mu_b, \\sigma^2_a $ and $\\sigma^2_b$ respectively, we have\n",
    "\n",
    "$$\n",
    "\\sum^N_{i=1} \\frac{y_i - \\mu_i}{\\sigma^2_i}=0 \\tag{16}\n",
    "$$\n",
    "\n",
    "$$\n",
    "\\sum^N_{i=1} \\frac{y_i - \\mu_i}{\\sigma^2_i} x_i=0 \\tag{17}\n",
    "$$\n",
    "\n",
    "\n",
    "$$\n",
    "\\sum^N_{i=1} [-1/2 (\\sigma^2_i)^{-1} + (y_i - \\mu_i)^2 (\\sigma^2_i)^{-2} ]=0 \\tag{18}\n",
    "$$\n",
    "\n",
    "$$\n",
    "\\sum^N_{i=1} [-1/2 (\\sigma^2_i)^{-1} + (y_i - \\mu_i)^2 (\\sigma^2_i)^{-2} ]x^2_i=0 \\tag{19}\n",
    "$$\n",
    "\n"
   ]
  },
  {
   "cell_type": "markdown",
   "metadata": {},
   "source": [
    "where\n",
    "- $\\mu_i = \\mu_a + \\mu_b x_i$,\n",
    "- $\\sigma^2_i= \\sigma^2_a + \\sigma^2_b x^2_i$."
   ]
  },
  {
   "cell_type": "markdown",
   "metadata": {},
   "source": [
    "Solving equations [(16)](), [(17)](), [(18)](), and [(19)]() for $\\mu_a, \\mu_b, \\sigma^2_a, \\sigma^2_b$."
   ]
  },
  {
   "cell_type": "code",
   "execution_count": null,
   "metadata": {},
   "outputs": [],
   "source": []
  },
  {
   "cell_type": "code",
   "execution_count": null,
   "metadata": {},
   "outputs": [],
   "source": []
  }
 ],
 "metadata": {
  "kernelspec": {
   "display_name": "Python 3",
   "language": "python",
   "name": "python3"
  },
  "language_info": {
   "codemirror_mode": {
    "name": "ipython",
    "version": 3
   },
   "file_extension": ".py",
   "mimetype": "text/x-python",
   "name": "python",
   "nbconvert_exporter": "python",
   "pygments_lexer": "ipython3",
   "version": "3.7.6"
  }
 },
 "nbformat": 4,
 "nbformat_minor": 4
}
