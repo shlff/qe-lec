{
 "cells": [
  {
   "cell_type": "markdown",
   "metadata": {},
   "source": [
    "# 09_mle_estimation_v5"
   ]
  },
  {
   "cell_type": "code",
   "execution_count": 1,
   "metadata": {},
   "outputs": [],
   "source": [
    "import numpy as np\n",
    "import pandas as pd\n",
    "import fs_qe as fq"
   ]
  },
  {
   "cell_type": "markdown",
   "metadata": {},
   "source": [
    "# 1 theorem\n",
    "\n",
    "## 1.1 log-likelihood function\n",
    "\n",
    "The law of motion for the firm size is\n",
    "\n",
    "$$\n",
    "\\ln \\frac{S_{t+1}}{S_{t}} = a + b \\frac{1}{\\ln S_t} \\tag{1}\n",
    "$$\n",
    "where\n",
    "- $S_t$ is the firm size at time $t$\n",
    "- $a \\sim N(\\mu_{a}, \\sigma^2_{a})$\n",
    "- $b \\sim N(\\mu_{b}, \\sigma^2_{b})$"
   ]
  },
  {
   "cell_type": "markdown",
   "metadata": {},
   "source": [
    "Let $X_t := \\frac{1}{\\ln S_t}$ and $Y_t:=\\ln \\frac{S_{t+1}}{S_{t}}$.\n",
    "The above law of motion can be rewritten as\n",
    "$$\n",
    "Y_t = a + b X_t \\tag{2}\n",
    "$$\n",
    "while other intepretations are the same.\n",
    "\n"
   ]
  },
  {
   "cell_type": "markdown",
   "metadata": {},
   "source": [
    "For the sum of independent random variables (you can find the wikipedia [here](https://en.wikipedia.org/wiki/Sum_of_normally_distributed_random_variables)), we have the following conclusion that \n",
    "\n",
    "if\n",
    "$$\n",
    "X_i \\sim_{iid} N(\\mu_i, \\sigma^2_i), i=1, \\cdots, n\n",
    "$$\n",
    "then\n",
    "$$\n",
    "\\sum^n_{i=1} a_i X_i \\sim N( \\sum^n_{i=1} a_i \\mu_i, \\sum^n_{i=1} (a_i \\sigma_i)^2 )\n",
    "$$"
   ]
  },
  {
   "cell_type": "markdown",
   "metadata": {},
   "source": [
    "The above normal regression model can be regarded, equivalently, as a statement about the density of $Y$ given $X$.\n",
    "\n",
    "The conditional density is\n",
    "$$\n",
    "f_{Y|X} (y |x, \\mu_{a}, \\mu_{b}, \\sigma^2_{a}, \\sigma^2_{b}) = \\frac{1}{\\sqrt{2 \\pi \\sigma^2}} \\exp (- \\frac{1}{2 \\sigma^2} (y - \\mu_{a} - \\mu_{b} x )^2 ) \\tag{3}\n",
    "$$\n",
    "where\n",
    "- $\\sigma^2 = \\sigma^2_{a} + \\sigma^2_{b} (x)^2$"
   ]
  },
  {
   "cell_type": "markdown",
   "metadata": {},
   "source": [
    "The likelihood function is\n",
    "$$\n",
    "\\mathscr L (\\mu_{a}, \\mu_{b}, \\sigma^2_{a}, \\sigma^2_{b} | x, y) = \\prod^n_{i=1} \\frac{1}{\\sqrt{2 \\pi \\sigma^2}} \\exp (- \\frac{1}{2 \\sigma^2} (y - \\mu_{a} - \\mu_{b} x )^2 )  \\tag{4}\n",
    "$$"
   ]
  },
  {
   "cell_type": "markdown",
   "metadata": {},
   "source": [
    "Taking log of $(4)$, we have the log-likelihood function\n",
    "$$\n",
    "L (\\mu_{a}, \\mu_{b}, \\sigma^2_{a}, \\sigma^2_{b} | x, y) = \\sum^n_{i=1}\\ln \\frac{1}{\\sqrt{2 \\pi \\sigma^2}} \\exp (- \\frac{1}{2 \\sigma^2} (y - \\mu_{a} - \\mu_{b} x )^2 )  \\tag{5}\n",
    "$$"
   ]
  },
  {
   "cell_type": "markdown",
   "metadata": {},
   "source": [
    "## 1.2 tail index estimation by the [Kesten-Goldien Theorem](https://python.quantecon.org/kesten_processes.html#The-Kesten%E2%80%93Goldie-Theorem)\n",
    "\n",
    "Recall equation [(1)](#), as $S_t \\to \\infty$, we have\n",
    "\n",
    "$$\n",
    "\\ln \\frac{S_{t+1}}{S_{t}} = a \\tag{6}\n",
    "$$\n",
    "\n",
    "Taking logarithm of both yields\n",
    "\n",
    "$$\n",
    "\\frac{S_{t+1}}{S_{t}} = \\exp (a) \\tag{7}\n",
    "$$\n",
    "\n",
    "By [Kesten-Goldien Theorem](https://python.quantecon.org/kesten_processes.html#The-Kesten%E2%80%93Goldie-Theorem), we have a positive constant $\\alpha$, which is the tail index of the Pareto distribution followed by the stationary firm size distribution, such that\n",
    "\n",
    "$$\n",
    "\\mathbb E (\\exp (a)^{\\alpha} ) = 1 \\tag{8}\n",
    "$$\n",
    "\n",
    "By the property of exponential functions, $a \\sim N(\\mu_a, \\sigma^2_a)$ and lognormal distribution, let $\\epsilon \\sim N(0, 1)$ equation [(8)](#) can be rewritten as\n",
    "\n",
    "$$\n",
    "\\mathbb E (\\exp (a)^{\\alpha} ) =  \\mathbb E (\\exp (\\mu_a + \\sigma_a \\epsilon)^{\\alpha} )\\\\\n",
    "= \\mathbb E (\\exp (\\mu_a \\alpha + \\sigma_a \\epsilon \\alpha) ) \\\\\n",
    "= \\exp (  \\alpha \\mu_a + \\frac{\\sigma^2_a \\alpha^2}{2} ) =1 \\tag{9}\n",
    "$$\n",
    "or equivalently\n",
    "$$\n",
    "\\exp (  \\alpha \\mu_a + \\frac{\\sigma^2_a \\alpha^2}{2} ) =1 \\tag{10}\n",
    "$$\n",
    "\n",
    "Taking logarithm of both sides of [(10)](#) yields\n",
    "\n",
    "$$\n",
    "\\alpha \\mu_a + \\frac{\\sigma^2_a \\alpha^2}{2} =0 \\tag{11}\n",
    "$$\n",
    "\n",
    "Rearrange [(11)](#), we get\n",
    "\n",
    "$$\n",
    "\\alpha = - \\frac{2 \\mu}{\\sigma^2} \\tag{12}\n",
    "$$\n",
    "\n",
    "For the following parts, we estimate the tail index $\\alpha$ of the stationary distribution using equation [(12)](#)."
   ]
  },
  {
   "cell_type": "markdown",
   "metadata": {},
   "source": [
    "# 2 implementation\n",
    "## 2.0 functions"
   ]
  },
  {
   "cell_type": "markdown",
   "metadata": {},
   "source": [
    "## 2.1 implementation 1: without chopping\n",
    "\n",
    "The file ``usa.csv`` comes from ``df7`` of [02_firm_size_plot_approximation_orbis_us](https://github.com/jstac/inequality_dynamics/blob/master/firm_size_empirics/02_firm_size_plot_approximation_orbis_us.ipynb) saved in our repo.\n",
    "\n",
    "### 2.1.1 case i: mle with whole sample"
   ]
  },
  {
   "cell_type": "code",
   "execution_count": 2,
   "metadata": {},
   "outputs": [],
   "source": [
    "df = pd.read_csv('data/usa.csv')\n",
    "opt_res, μ_σ, se = fq.mle_mean_var_se(df, x='logtasset_inv', y='fgrow_log')"
   ]
  },
  {
   "cell_type": "markdown",
   "metadata": {},
   "source": [
    "The following shows the maximum likelihood estimators for $(\\mu_{a}, \\mu_{b}, \\sigma^2_{a}, \\sigma^2_{b})$, respectively:"
   ]
  },
  {
   "cell_type": "code",
   "execution_count": 3,
   "metadata": {},
   "outputs": [
    {
     "name": "stdout",
     "output_type": "stream",
     "text": [
      "      fun: 1022697.3896839675\n",
      " hess_inv: array([[ 9.39936266e-04,  5.94488585e-03, -2.30456423e-04,\n",
      "        -8.08297212e-03],\n",
      "       [ 5.94488585e-03,  8.68205532e-01, -3.94388916e-02,\n",
      "        -6.39376679e-01],\n",
      "       [-2.30456423e-04, -3.94388916e-02,  2.33016824e-03,\n",
      "         2.65156663e-02],\n",
      "       [-8.08297212e-03, -6.39376679e-01,  2.65156663e-02,\n",
      "         5.38438236e-01]])\n",
      "      jac: array([ 3.8203125, -0.3125   , -2.0703125,  0.09375  ])\n",
      "  message: 'Desired error not necessarily achieved due to precision loss.'\n",
      "     nfev: 744\n",
      "      nit: 47\n",
      "     njev: 122\n",
      "   status: 2\n",
      "  success: False\n",
      "        x: array([  -4.30609945,  -16.4868412 ,    6.98391849, 2724.20439276])\n",
      "μ_a, μ_b, σ^2_a,  σ^2_b -4.306099452551644 -16.486841201415267 6.98391848920708 2724.204392764138\n"
     ]
    }
   ],
   "source": [
    "print(opt_res)\n",
    "print('μ_a, μ_b, σ^2_a,  σ^2_b', μ_σ[0], μ_σ[1], μ_σ[2],  μ_σ[3])"
   ]
  },
  {
   "cell_type": "markdown",
   "metadata": {},
   "source": [
    "The following shows the standard errors for the estimators of $(\\mu_{\\alpha}, \\mu_{\\beta}, \\sigma^2_{\\alpha}, \\sigma^2_{\\beta})$, respectively:"
   ]
  },
  {
   "cell_type": "code",
   "execution_count": 4,
   "metadata": {},
   "outputs": [
    {
     "name": "stdout",
     "output_type": "stream",
     "text": [
      "[0.03065838 0.93177547 0.04827182 0.73378351]\n"
     ]
    }
   ],
   "source": [
    "print(se)"
   ]
  },
  {
   "cell_type": "markdown",
   "metadata": {},
   "source": [
    "The following shows the estimated tail index $\\alpha$ using the estimators $(\\mu_a, \\sigma^2_a)$ and equation [(12)]() above."
   ]
  },
  {
   "cell_type": "code",
   "execution_count": 5,
   "metadata": {},
   "outputs": [
    {
     "name": "stdout",
     "output_type": "stream",
     "text": [
      "The tail index α of the stationary firm size distribution is -0.5223680388432441\n"
     ]
    }
   ],
   "source": [
    "α = fq.alpha(μ_σ[0], μ_σ[1])\n",
    "print('The tail index α of the stationary firm size distribution is', α)"
   ]
  },
  {
   "cell_type": "markdown",
   "metadata": {},
   "source": [
    "### 2.1.2 case ii: mle with most-recent observation for each firm in sample\n",
    "\n",
    "Next, we keep the only most-recent observation for each firm to avoid time correlation."
   ]
  },
  {
   "cell_type": "code",
   "execution_count": 6,
   "metadata": {},
   "outputs": [],
   "source": [
    "df1 = df.groupby('id', as_index=False).tail(1)\n",
    "opt_res1, μ_σ1, se1 = fq.mle_mean_var_se(df1, x='logtasset_inv', y='fgrow_log')"
   ]
  },
  {
   "cell_type": "code",
   "execution_count": 7,
   "metadata": {},
   "outputs": [],
   "source": [
    "df1.to_csv('data/usa_select.csv')"
   ]
  },
  {
   "cell_type": "markdown",
   "metadata": {},
   "source": [
    "The following shows the maximum likelihood estimators for $(\\mu_{a}, \\mu_{b}, \\sigma^2_{a}, \\sigma^2_{b})$, respectively, in this new case:"
   ]
  },
  {
   "cell_type": "code",
   "execution_count": 8,
   "metadata": {},
   "outputs": [
    {
     "name": "stdout",
     "output_type": "stream",
     "text": [
      "      fun: 137271.02156124418\n",
      " hess_inv: array([[ 2.25581736e-01, -4.11673566e+00,  1.68863789e-01,\n",
      "        -1.49725292e+01],\n",
      "       [-4.11673566e+00,  1.02384741e+02, -4.71013011e+00,\n",
      "         3.68638434e+02],\n",
      "       [ 1.68863789e-01, -4.71013011e+00,  2.44030921e-01,\n",
      "        -1.69076149e+01],\n",
      "       [-1.49725292e+01,  3.68638434e+02, -1.69076149e+01,\n",
      "         1.32766584e+03]])\n",
      "      jac: array([ 1.37695312,  0.1484375 , -2.07226562, -0.00976562])\n",
      "  message: 'Desired error not necessarily achieved due to precision loss.'\n",
      "     nfev: 421\n",
      "      nit: 46\n",
      "     njev: 70\n",
      "   status: 2\n",
      "  success: False\n",
      "        x: array([ -10.26413664,   53.40081162,    6.13113431, 3145.7609673 ])\n",
      "μ_a, μ_b, σ^2_a,  σ^2_b -10.264136644088985 53.40081162035649 6.131134310476635 3145.760967302879\n"
     ]
    }
   ],
   "source": [
    "print(opt_res1)\n",
    "print('μ_a, μ_b, σ^2_a,  σ^2_b', μ_σ1[0], μ_σ1[1], μ_σ1[2],  μ_σ1[3])"
   ]
  },
  {
   "cell_type": "markdown",
   "metadata": {},
   "source": [
    "The following shows the standard errors for the estimators of $(\\mu_{a}, \\mu_{b}, \\sigma^2_{a}, \\sigma^2_{b})$, respectively:"
   ]
  },
  {
   "cell_type": "code",
   "execution_count": 9,
   "metadata": {},
   "outputs": [
    {
     "name": "stdout",
     "output_type": "stream",
     "text": [
      "[ 0.47495446 10.11853455  0.49399486 36.4371492 ]\n"
     ]
    }
   ],
   "source": [
    "print(se1)"
   ]
  },
  {
   "cell_type": "markdown",
   "metadata": {},
   "source": [
    "The following shows the estimated tail index $\\alpha$ using the estimators $(\\mu_a, \\sigma^2_a)$ and equation [(12)]() above."
   ]
  },
  {
   "cell_type": "code",
   "execution_count": 10,
   "metadata": {},
   "outputs": [
    {
     "name": "stdout",
     "output_type": "stream",
     "text": [
      "The tail index α of the stationary firm size distribution is 0.38441875067592707\n"
     ]
    }
   ],
   "source": [
    "α = fq.alpha(μ_σ1[0], μ_σ1[1])\n",
    "print('The tail index α of the stationary firm size distribution is', α)"
   ]
  },
  {
   "cell_type": "markdown",
   "metadata": {},
   "source": [
    "## 2.2 implementation 2: with chopping\n",
    "\n",
    "The file ``usa_chop_log8.csv`` comes from ``df8`` of [02_firm_size_plot_approximation_orbis_us](https://github.com/jstac/inequality_dynamics/blob/master/firm_size_empirics/02_firm_size_plot_approximation_orbis_us.ipynb) saved in our repo.\n",
    "\n",
    "### 2.2.1 case i: mle with whole sample"
   ]
  },
  {
   "cell_type": "code",
   "execution_count": 11,
   "metadata": {},
   "outputs": [
    {
     "name": "stdout",
     "output_type": "stream",
     "text": [
      "CPU times: user 1min 4s, sys: 4.99 s, total: 1min 9s\n",
      "Wall time: 1min 5s\n"
     ]
    }
   ],
   "source": [
    "%%time\n",
    "df2 = pd.read_csv('data/usa_chop_log8.csv')\n",
    "opt_res2, μ_σ2, se2 = fq.mle_mean_var_se(df2, x='logtasset_inv', y='fgrow_log')"
   ]
  },
  {
   "cell_type": "markdown",
   "metadata": {},
   "source": [
    "The following shows the maximum likelihood estimators for $(\\mu_{a}, \\mu_{b}, \\sigma^2_{a}, \\sigma^2_{b})$, respectively:"
   ]
  },
  {
   "cell_type": "code",
   "execution_count": 12,
   "metadata": {},
   "outputs": [
    {
     "name": "stdout",
     "output_type": "stream",
     "text": [
      "      fun: 926329.6828881726\n",
      " hess_inv: array([[ 0.00178051, -0.00535074,  0.00018954, -0.00587788],\n",
      "       [-0.00535074,  0.0651952 , -0.00394426,  0.05789564],\n",
      "       [ 0.00018954, -0.00394426,  0.00122719, -0.00289736],\n",
      "       [-0.00587788,  0.05789564, -0.00289736,  0.07986976]])\n",
      "      jac: array([ 0.8203125,  0.2578125, -0.90625  , -0.3046875])\n",
      "  message: 'Desired error not necessarily achieved due to precision loss.'\n",
      "     nfev: 642\n",
      "      nit: 39\n",
      "     njev: 105\n",
      "   status: 2\n",
      "  success: False\n",
      "        x: array([  -5.3861355 ,   -2.99627238,    9.84261865, 2225.667973  ])\n",
      "μ_a, μ_b, σ^2_a,  σ^2_b -5.386135496963321 -2.996272382154653 9.842618653237777 2225.667973001784\n"
     ]
    }
   ],
   "source": [
    "print(opt_res2)\n",
    "print('μ_a, μ_b, σ^2_a,  σ^2_b', μ_σ2[0], μ_σ2[1], μ_σ2[2],  μ_σ2[3])"
   ]
  },
  {
   "cell_type": "markdown",
   "metadata": {},
   "source": [
    "The following shows the standard errors for the estimators of $(\\mu_{\\alpha}, \\mu_{\\beta}, \\sigma^2_{\\alpha}, \\sigma^2_{\\beta})$, respectively:"
   ]
  },
  {
   "cell_type": "code",
   "execution_count": 13,
   "metadata": {},
   "outputs": [
    {
     "name": "stdout",
     "output_type": "stream",
     "text": [
      "[0.04219614 0.25533351 0.03503124 0.28261238]\n"
     ]
    }
   ],
   "source": [
    "print(se2)"
   ]
  },
  {
   "cell_type": "markdown",
   "metadata": {},
   "source": [
    "The following shows the estimated tail index $\\alpha$ using the estimators $(\\mu_a, \\sigma^2_a)$ and equation [(12)]() above."
   ]
  },
  {
   "cell_type": "code",
   "execution_count": 14,
   "metadata": {},
   "outputs": [
    {
     "name": "stdout",
     "output_type": "stream",
     "text": [
      "The tail index α of the stationary firm size distribution is -3.595224205277419\n"
     ]
    }
   ],
   "source": [
    "α = fq.alpha(μ_σ2[0], μ_σ2[1])\n",
    "print('The tail index α of the stationary firm size distribution is', α)"
   ]
  },
  {
   "cell_type": "markdown",
   "metadata": {},
   "source": [
    "### 2.2.2 case ii: mle with most-recent observation for each firm in sample\n",
    "\n",
    "Next, we keep the only most-recent observation for each firm to avoid time correlation."
   ]
  },
  {
   "cell_type": "code",
   "execution_count": 15,
   "metadata": {},
   "outputs": [
    {
     "data": {
      "text/html": [
       "<div>\n",
       "<style scoped>\n",
       "    .dataframe tbody tr th:only-of-type {\n",
       "        vertical-align: middle;\n",
       "    }\n",
       "\n",
       "    .dataframe tbody tr th {\n",
       "        vertical-align: top;\n",
       "    }\n",
       "\n",
       "    .dataframe thead th {\n",
       "        text-align: right;\n",
       "    }\n",
       "</style>\n",
       "<table border=\"1\" class=\"dataframe\">\n",
       "  <thead>\n",
       "    <tr style=\"text-align: right;\">\n",
       "      <th></th>\n",
       "      <th>year</th>\n",
       "      <th>id</th>\n",
       "      <th>tasset</th>\n",
       "      <th>logtasset</th>\n",
       "      <th>fgrow_log</th>\n",
       "      <th>logtasset_inv</th>\n",
       "    </tr>\n",
       "  </thead>\n",
       "  <tbody>\n",
       "    <tr>\n",
       "      <th>8</th>\n",
       "      <td>2018</td>\n",
       "      <td>1</td>\n",
       "      <td>219295000.0</td>\n",
       "      <td>19.205928</td>\n",
       "      <td>-7.550921</td>\n",
       "      <td>0.052067</td>\n",
       "    </tr>\n",
       "    <tr>\n",
       "      <th>17</th>\n",
       "      <td>2018</td>\n",
       "      <td>2</td>\n",
       "      <td>162648000.0</td>\n",
       "      <td>18.907099</td>\n",
       "      <td>-32.561366</td>\n",
       "      <td>0.052890</td>\n",
       "    </tr>\n",
       "    <tr>\n",
       "      <th>26</th>\n",
       "      <td>2018</td>\n",
       "      <td>3</td>\n",
       "      <td>365725000.0</td>\n",
       "      <td>19.717392</td>\n",
       "      <td>7.731033</td>\n",
       "      <td>0.050717</td>\n",
       "    </tr>\n",
       "    <tr>\n",
       "      <th>35</th>\n",
       "      <td>2018</td>\n",
       "      <td>4</td>\n",
       "      <td>196456000.0</td>\n",
       "      <td>19.095949</td>\n",
       "      <td>-12.425937</td>\n",
       "      <td>0.052367</td>\n",
       "    </tr>\n",
       "    <tr>\n",
       "      <th>44</th>\n",
       "      <td>2018</td>\n",
       "      <td>5</td>\n",
       "      <td>346196000.0</td>\n",
       "      <td>19.662516</td>\n",
       "      <td>-4.628694</td>\n",
       "      <td>0.050858</td>\n",
       "    </tr>\n",
       "    <tr>\n",
       "      <th>...</th>\n",
       "      <td>...</td>\n",
       "      <td>...</td>\n",
       "      <td>...</td>\n",
       "      <td>...</td>\n",
       "      <td>...</td>\n",
       "      <td>...</td>\n",
       "    </tr>\n",
       "    <tr>\n",
       "      <th>197110</th>\n",
       "      <td>2017</td>\n",
       "      <td>39564</td>\n",
       "      <td>5133.0</td>\n",
       "      <td>8.543446</td>\n",
       "      <td>47.755202</td>\n",
       "      <td>0.117049</td>\n",
       "    </tr>\n",
       "    <tr>\n",
       "      <th>197111</th>\n",
       "      <td>2018</td>\n",
       "      <td>39566</td>\n",
       "      <td>971579.0</td>\n",
       "      <td>13.786678</td>\n",
       "      <td>87.515404</td>\n",
       "      <td>0.072534</td>\n",
       "    </tr>\n",
       "    <tr>\n",
       "      <th>197112</th>\n",
       "      <td>2018</td>\n",
       "      <td>39582</td>\n",
       "      <td>96026.0</td>\n",
       "      <td>11.472374</td>\n",
       "      <td>0.000000</td>\n",
       "      <td>0.087166</td>\n",
       "    </tr>\n",
       "    <tr>\n",
       "      <th>197114</th>\n",
       "      <td>2018</td>\n",
       "      <td>39592</td>\n",
       "      <td>99948.0</td>\n",
       "      <td>11.512405</td>\n",
       "      <td>0.000000</td>\n",
       "      <td>0.086863</td>\n",
       "    </tr>\n",
       "    <tr>\n",
       "      <th>197115</th>\n",
       "      <td>2018</td>\n",
       "      <td>39593</td>\n",
       "      <td>984577.0</td>\n",
       "      <td>13.799967</td>\n",
       "      <td>1.903482</td>\n",
       "      <td>0.072464</td>\n",
       "    </tr>\n",
       "  </tbody>\n",
       "</table>\n",
       "<p>25888 rows × 6 columns</p>\n",
       "</div>"
      ],
      "text/plain": [
       "        year     id       tasset  logtasset  fgrow_log  logtasset_inv\n",
       "8       2018      1  219295000.0  19.205928  -7.550921       0.052067\n",
       "17      2018      2  162648000.0  18.907099 -32.561366       0.052890\n",
       "26      2018      3  365725000.0  19.717392   7.731033       0.050717\n",
       "35      2018      4  196456000.0  19.095949 -12.425937       0.052367\n",
       "44      2018      5  346196000.0  19.662516  -4.628694       0.050858\n",
       "...      ...    ...          ...        ...        ...            ...\n",
       "197110  2017  39564       5133.0   8.543446  47.755202       0.117049\n",
       "197111  2018  39566     971579.0  13.786678  87.515404       0.072534\n",
       "197112  2018  39582      96026.0  11.472374   0.000000       0.087166\n",
       "197114  2018  39592      99948.0  11.512405   0.000000       0.086863\n",
       "197115  2018  39593     984577.0  13.799967   1.903482       0.072464\n",
       "\n",
       "[25888 rows x 6 columns]"
      ]
     },
     "execution_count": 15,
     "metadata": {},
     "output_type": "execute_result"
    }
   ],
   "source": [
    "df3 = df2.groupby('id', as_index=False).tail(1)\n",
    "opt_res3, μ_σ3, se3 = fq.mle_mean_var_se(df3, x='logtasset_inv', y='fgrow_log')\n",
    "df3"
   ]
  },
  {
   "cell_type": "code",
   "execution_count": 16,
   "metadata": {},
   "outputs": [],
   "source": [
    "df3.to_csv('data/usa_chop_log8_select.csv')"
   ]
  },
  {
   "cell_type": "markdown",
   "metadata": {},
   "source": [
    "The following shows the maximum likelihood estimators for $(\\mu_{a}, \\mu_{b}, \\sigma^2_{a}, \\sigma^2_{b})$, respectively, in this new case:"
   ]
  },
  {
   "cell_type": "code",
   "execution_count": 17,
   "metadata": {},
   "outputs": [
    {
     "name": "stdout",
     "output_type": "stream",
     "text": [
      "      fun: 196697.305559264\n",
      " hess_inv: array([[ 9.96510536e-01, -2.80461067e-04,  5.90325806e-02,\n",
      "         5.65993671e-04],\n",
      "       [-2.80461067e-04,  9.99977478e-01,  4.75178384e-03,\n",
      "         4.56400854e-05],\n",
      "       [ 5.90325806e-02,  4.75178384e-03,  3.84015301e-03,\n",
      "        -9.52241386e-03],\n",
      "       [ 5.65993671e-04,  4.56400854e-05, -9.52241386e-03,\n",
      "         9.99909300e-01]])\n",
      "      jac: array([   977.71484375,     75.57421875, -17604.09960938,   -180.8671875 ])\n",
      "  message: 'Desired error not necessarily achieved due to precision loss.'\n",
      "     nfev: 488\n",
      "      nit: 1\n",
      "     njev: 80\n",
      "   status: 2\n",
      "  success: False\n",
      "        x: array([-5.67548509e-02, -4.42528401e-03,  1.10083427e+01,  1.00102153e+01])\n",
      "μ_a, μ_b, σ^2_a,  σ^2_b -0.056754850924699 -0.004425284007126844 11.008342675829443 10.010215275771438\n"
     ]
    }
   ],
   "source": [
    "print(opt_res3)\n",
    "print('μ_a, μ_b, σ^2_a,  σ^2_b', μ_σ3[0], μ_σ3[1], μ_σ3[2],  μ_σ3[3])"
   ]
  },
  {
   "cell_type": "markdown",
   "metadata": {},
   "source": [
    "The following shows the standard errors for the estimators of $(\\mu_{a}, \\mu_{b}, \\sigma^2_{a}, \\sigma^2_{b})$, respectively:"
   ]
  },
  {
   "cell_type": "code",
   "execution_count": 18,
   "metadata": {},
   "outputs": [
    {
     "name": "stdout",
     "output_type": "stream",
     "text": [
      "[0.99825374 0.99998874 0.06196897 0.99995465]\n"
     ]
    }
   ],
   "source": [
    "print(se3)"
   ]
  },
  {
   "cell_type": "markdown",
   "metadata": {},
   "source": [
    "The following shows the estimated tail index $\\alpha$ using the estimators $(\\mu_a, \\sigma^2_a)$ and equation [(12)]() above."
   ]
  },
  {
   "cell_type": "code",
   "execution_count": 19,
   "metadata": {},
   "outputs": [
    {
     "name": "stdout",
     "output_type": "stream",
     "text": [
      "The tail index α of the stationary firm size distribution is -25.650263726936526\n"
     ]
    }
   ],
   "source": [
    "α = fq.alpha(μ_σ3[0], μ_σ3[1])\n",
    "print('The tail index α of the stationary firm size distribution is', α)"
   ]
  },
  {
   "cell_type": "code",
   "execution_count": null,
   "metadata": {},
   "outputs": [],
   "source": []
  },
  {
   "cell_type": "markdown",
   "metadata": {},
   "source": [
    "# 3 goodness-of-fit fest for MLE (TBD)"
   ]
  },
  {
   "cell_type": "markdown",
   "metadata": {},
   "source": [
    "## 3.1 statistical inference based on MLE for data points with Gaussian uncertainties\n",
    "\n",
    "A ML fit to data provides estimates for parameters and an error matrix. Inserting the estimates into the likelihood function yields a distribution that we want will model the data reasonably well. How well the data are modeled by that distribution is the goodness-of-fit.\n",
    "\n",
    "In general, extra work is needed to obtain a quantitative measure of the goodness-of-fit, and there is no universally accepted mathematical definition which is valid in all cases.\n",
    "\n",
    "According to Joel Heinrich's arguments (please see [here](https://www-cdf.fnal.gov/physics/statistics/recommendations/goodnessoffit.html)), if the data are represented by discrete points with Gaussian uncertainties, the chi-square test can be used to measure how well the fit matches the data.\n",
    "\n",
    "Next, we will do the chi-square test for MLE we did by using the same sample.\n",
    "- Definitions of [chi-square test](https://en.wikipedia.org/wiki/Chi-squared_test) and degrees of freedom can be find [here](http://onlinebooks.library.upenn.edu/webbin/book/lookupid?key=olbp12405).\n",
    "- [This one](https://www.cambridge.org/core/books/statistics-for-nuclear-and-particle-physicists/9544B39F3244D9457BEC324CD34F1571) has an excellent discussion in $4.5$.\n",
    "- [Numerical recipes]() provides some excellent advice on using chi-square for goodness-of-fit in $15.1$."
   ]
  },
  {
   "cell_type": "code",
   "execution_count": null,
   "metadata": {},
   "outputs": [],
   "source": []
  },
  {
   "cell_type": "code",
   "execution_count": null,
   "metadata": {},
   "outputs": [],
   "source": []
  },
  {
   "cell_type": "code",
   "execution_count": null,
   "metadata": {},
   "outputs": [],
   "source": []
  },
  {
   "cell_type": "code",
   "execution_count": null,
   "metadata": {},
   "outputs": [],
   "source": []
  },
  {
   "cell_type": "code",
   "execution_count": null,
   "metadata": {},
   "outputs": [],
   "source": []
  },
  {
   "cell_type": "code",
   "execution_count": null,
   "metadata": {},
   "outputs": [],
   "source": []
  },
  {
   "cell_type": "code",
   "execution_count": null,
   "metadata": {},
   "outputs": [],
   "source": []
  },
  {
   "cell_type": "code",
   "execution_count": null,
   "metadata": {},
   "outputs": [],
   "source": []
  }
 ],
 "metadata": {
  "kernelspec": {
   "display_name": "Python 3",
   "language": "python",
   "name": "python3"
  },
  "language_info": {
   "codemirror_mode": {
    "name": "ipython",
    "version": 3
   },
   "file_extension": ".py",
   "mimetype": "text/x-python",
   "name": "python",
   "nbconvert_exporter": "python",
   "pygments_lexer": "ipython3",
   "version": "3.7.6"
  }
 },
 "nbformat": 4,
 "nbformat_minor": 4
}
