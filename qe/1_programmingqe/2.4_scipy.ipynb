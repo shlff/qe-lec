{
 "cells": [
  {
   "cell_type": "markdown",
   "metadata": {},
   "source": [
    "# 2.4 scipy"
   ]
  },
  {
   "cell_type": "markdown",
   "metadata": {},
   "source": [
    "# 1 overview\n",
    "1. SciPy builds on top of NumPy to provide common tools for scientific programming(**PI:,**) such as\n",
    "   - linear algebra\n",
    "   - numerical integration\n",
    "   - interpolation\n",
    "   - optimization\n",
    "   - distributions and random number generation\n",
    "   - signal processing\n",
    "   - etc.\n",
    "2. Like NumPy, SciPy is stable, mature and widely used.\n",
    "   - Many SciPy routines are thin wrapper around industry-standard Fortran libraries(**PI:,**) such as LAPACK, BLAS, (**PI1: links should be attached?**) etc.\n",
    "   - It's not really necessary to \"learn\" SciPy as a whole, but we should get some idea of what's in the library and then look up [documentation](https://docs.scipy.org/doc/scipy/reference/index.html) as required.\n",
    "     - We aim only to highlight some useful parts of the package in this lecture."
   ]
  },
  {
   "cell_type": "markdown",
   "metadata": {},
   "source": [
    "# 2 scipy vs numpy\n",
    "\n",
    "1. SciPy is a package that contains various tools that are built on top of NumPy, using its array data type and related functionality.\n",
    "   - In fact, when we import SciPy(**PI:,**) we also get NumPy, as can be seen from this excerpt the SciPy initialization file (**PI2: problem with it?**), see Program 1.\n",
    "   - However, it's more common and better practice to use NumPy functionality explicitly, see Program 2.\n",
    "2. What is useful in SciPy is the **functionality in its sub-packages**.\n",
    "   - e.g.\n",
    "     - `scipy.optimize`, \n",
    "     - `scipy.integrate`, \n",
    "     - `scipy.stats`, etc.\n",
    "   - We explore some of the major sub-packages in this section."
   ]
  },
  {
   "cell_type": "code",
   "execution_count": 1,
   "metadata": {},
   "outputs": [],
   "source": [
    "# Program 1: import numpy symbols to scipy namespace\n",
    "\n",
    "from numpy import *\n",
    "from numpy.random import rand, randn\n",
    "from numpy.fft import fft, ifft\n",
    "from numpy.lib.scimath import *"
   ]
  },
  {
   "cell_type": "code",
   "execution_count": 2,
   "metadata": {},
   "outputs": [],
   "source": [
    "# Program 2\n",
    "\n",
    "import numpy as np\n",
    "\n",
    "a = np.identity(3)"
   ]
  },
  {
   "cell_type": "markdown",
   "metadata": {
    "lines_to_next_cell": 0
   },
   "source": [
    "# 3 statistics\n",
    "\n",
    "1. The `scipy.stats` subpackage supplies:\n",
    "   - numerous **random variable objects**,\n",
    "     - such as densities, cumulative distributions, random sampling, etc.\n",
    "   - some estimation procedures,\n",
    "   - some statistical tests.\n",
    "   \n",
    "## 3.1 random variables and distributions\n",
    "1. Recall that `numpy.random` provides functions for **generating random variables**, see Program 1.\n",
    "   - This generates a draw from the distribution (**PI3: with the density function**)below when $a, b = 5,5$ (**PI4:? from ` ` to dollar signs**)\n",
    "     $$\n",
    "     f(x; a, b) = \\frac{x^{a-1} (1-x)^{b-1} }{ \\int^1_0 u^{(a-1)} (1-u)^{(b-1)} du }  (0 \\leq x \\leq 1)\n",
    "     $$\n",
    "2. Sometimes(**PI:,**) we need access to the density itself, or the cdf, the quantities, etc.\n",
    "   - For this, we can use `scipy.stats`, which provides all of this functionality as well as random number generation in a single consistent interface.\n",
    "     - e.g., see Program 2.\n",
    "       - The object `q` that represents the distribution has **additional useful methods**, including cdf, ppf and mean, see Program 3-5.\n",
    "   - The general syntax for creating these objects that represent distributions (of type `rv_frozen`) is \n",
    "   \n",
    "     `name = scipy.stats.distribution_name(shape_parameters, loc=c, scale=d)`\n",
    "   \n",
    "      - Here(**PI:,**) `distribution_name` is one of the distribution names in scipy.stats.\n",
    "      - The `loc` and `scale` parameters transform the original random variable $X$ into $Y=c + d X$.\n"
   ]
  },
  {
   "cell_type": "code",
   "execution_count": 3,
   "metadata": {},
   "outputs": [
    {
     "data": {
      "text/plain": [
       "array([0.54065311, 0.5826938 , 0.48673274])"
      ]
     },
     "execution_count": 3,
     "metadata": {},
     "output_type": "execute_result"
    }
   ],
   "source": [
    "# Program 1\n",
    "\n",
    "np.random.beta(5, 5, size=3)"
   ]
  },
  {
   "cell_type": "code",
   "execution_count": 4,
   "metadata": {},
   "outputs": [
    {
     "data": {
      "image/png": "[encoded data removed]",
      "text/plain": [
       "<Figure size 432x288 with 1 Axes>"
      ]
     },
     "metadata": {
      "needs_background": "light"
     },
     "output_type": "display_data"
    }
   ],
   "source": [
    "# Program 2\n",
    "\n",
    "from scipy.stats import beta\n",
    "import matplotlib.pyplot as plt\n",
    "%matplotlib inline\n",
    "\n",
    "q = beta(5, 5)                         # Beta(a, b), with a = b = 5\n",
    "obs = q.rvs(2000)      \n",
    "\n",
    "\n",
    "# 2000 observations\n",
    "grid = np.linspace(0.01, 0.99, 100)\n",
    "\n",
    "fig, ax = plt.subplots()\n",
    "ax.hist(obs, bins=40, density=True)\n",
    "ax.plot(grid, q.pdf(grid), 'k-', linewidth=2)\n",
    "plt.show()"
   ]
  },
  {
   "cell_type": "code",
   "execution_count": 5,
   "metadata": {},
   "outputs": [
    {
     "data": {
      "text/plain": [
       "0.26656768000000003"
      ]
     },
     "execution_count": 5,
     "metadata": {},
     "output_type": "execute_result"
    }
   ],
   "source": [
    "# Program 3: cumulative distribution function\n",
    "\n",
    "q.cdf(0.4)"
   ]
  },
  {
   "cell_type": "code",
   "execution_count": 10,
   "metadata": {},
   "outputs": [
    {
     "data": {
      "text/plain": [
       "0.6339134834642708"
      ]
     },
     "execution_count": 10,
     "metadata": {},
     "output_type": "execute_result"
    }
   ],
   "source": [
    "# Program 4: quantile (inverse cdf) function\n",
    "\n",
    "q.ppf(0.8)"
   ]
  },
  {
   "cell_type": "code",
   "execution_count": 11,
   "metadata": {},
   "outputs": [
    {
     "data": {
      "text/plain": [
       "0.5"
      ]
     },
     "execution_count": 11,
     "metadata": {},
     "output_type": "execute_result"
    }
   ],
   "source": [
    "# Program 5: mean\n",
    "\n",
    "q.mean()"
   ]
  },
  {
   "cell_type": "markdown",
   "metadata": {},
   "source": [
    "## 3.2 alternative syntax\n",
    "\n",
    "1. There is an alternative way of calling the methods described above.\n",
    "   - e.g., the code that generates the figure above can be replaced by the Program 6."
   ]
  },
  {
   "cell_type": "code",
   "execution_count": 13,
   "metadata": {},
   "outputs": [
    {
     "data": {
      "image/png": "[encoded data removed]",
      "text/plain": [
       "<Figure size 432x288 with 1 Axes>"
      ]
     },
     "metadata": {
      "needs_background": "light"
     },
     "output_type": "display_data"
    }
   ],
   "source": [
    "# Program 6\n",
    "\n",
    "obs = beta.rvs(5, 5, size=2000) # Use the methods directly? PI5: not a big difference?\n",
    "grid = np.linspace(0.01, 0.99, 100)\n",
    "\n",
    "fig, ax = plt.subplots()\n",
    "ax.hist(obs, bins=40, density=True)\n",
    "ax.plot(grid, beta.pdf(grid, 5, 5), 'k-', linewidth=2)\n",
    "plt.show()"
   ]
  },
  {
   "cell_type": "markdown",
   "metadata": {},
   "source": [
    "## 3.3 other goodies in scipy.stats\n",
    "1. There are a variety (**PI6: of**) **statistical functions** in `scipy.stats`.\n",
    "   - e.g., `scipy.stats.linregress` implements simple linear regression, see Program 7.\n",
    "   - To see the full list, see the [documentation](https://docs.scipy.org/doc/scipy/reference/stats.html#statistical-functions-scipy-stats)."
   ]
  },
  {
   "cell_type": "code",
   "execution_count": 15,
   "metadata": {},
   "outputs": [
    {
     "data": {
      "text/plain": [
       "(2.0021555234517954, -0.0018780451963003597)"
      ]
     },
     "execution_count": 15,
     "metadata": {},
     "output_type": "execute_result"
    }
   ],
   "source": [
    "# Program 7\n",
    "\n",
    "from scipy.stats import linregress\n",
    "\n",
    "x = np.random.randn(200)\n",
    "y = 2 * x + 0.1 * np.random.randn(200) # Why this setting?\n",
    "\n",
    "gradient, intercept, r_value, p_value, std_err = linregress(x, y)\n",
    "gradient, intercept"
   ]
  },
  {
   "cell_type": "markdown",
   "metadata": {},
   "source": [
    "# 4 roots and fixed points\n",
    "\n",
    "1. A **root** or **zero** of a real function $f$ on $[a,b]$ is an $x \\in [a, b]$ such that $f(x)=0$.\n",
    "   - e.g., if we plot the function \n",
    "   $$f(x) = \\sin (4(x - \\frac{1}{4})) + x + x^{20} - 1 \\tag{2}\n",
    "   $$ \n",
    "   with $x \\in [0, 1] $, then we can see Program 1.\n",
    "     - The unique root is approximately $0.408$.\n",
    "   - Let's consider some numerical techniques for finding roots, see 4.1-4.5."
   ]
  },
  {
   "cell_type": "code",
   "execution_count": 13,
   "metadata": {},
   "outputs": [
    {
     "data": {
      "image/png": "[encoded data removed]",
      "text/plain": [
       "<Figure size 432x288 with 1 Axes>"
      ]
     },
     "metadata": {
      "needs_background": "light"
     },
     "output_type": "display_data"
    }
   ],
   "source": [
    "# Program 1: PI7: add labels or legend?\n",
    "\n",
    "f = lambda x: np.sin(4 * (x - 1/4)) + x + x**20 - 1\n",
    "x = np.linspace(0, 1, 100)\n",
    "\n",
    "fig, ax = plt.subplots()\n",
    "ax.plot(x, f(x), label='f(x)')\n",
    "ax.axhline(ls='--', c='k')\n",
    "ax.set_xlabel('x', fontsize=14)\n",
    "ax.set_ylabel('f(x)', fontsize=14)\n",
    "ax.legend(fontsize=14)\n",
    "plt.show()"
   ]
  },
  {
   "cell_type": "markdown",
   "metadata": {},
   "source": [
    "## 4.1 bisection\n",
    "1. One of the most common algorithms for numerical root-finding is **bisection**.\n",
    "   - To understand the idea, recall the well-known game where\n",
    "     - Player A thinks of a secret number between $1$ and $100$,\n",
    "     - Player B asks if it's less than $50$\n",
    "       - If yes, B asks if it's less than $25$.\n",
    "       - If no, B asks if it's less than $75$.\n",
    "         - And so on.\n",
    "   - This is bisection (**PI8: a [link](https://en.wikipedia.org/wiki/Bisection_method)?**)\n",
    "   - Here's a simplistic implementation of the algorithm in Python, see Program 2.\n",
    "     - It works for all sufficiently well(**PI: -**)behaved increasing continous functions with $f(a)< 0 < f(b)$(**PI: .**)\n",
    "     - Let's test it using the function $f$ defined in (2), see Program 3.\n",
    "   - Not surprisingly, **SciPy** provides its own bisection function.\n",
    "     - Let's test it using the same function $f$ defined in (2), see Program 4."
   ]
  },
  {
   "cell_type": "code",
   "execution_count": 12,
   "metadata": {},
   "outputs": [],
   "source": [
    "# Program 2\n",
    "\n",
    "def bisect(f, a, b, tol=10e-5):\n",
    "    \n",
    "    lower, upper = a, b\n",
    "    \n",
    "    while upper - lower > tol:\n",
    "        middle = 0.5 * (upper + lower)\n",
    "        if f(middle) > 0:  # PI: why not `if f(lower) * f(middle)< 0:`\n",
    "            lower, upper = lower, middle\n",
    "        else:\n",
    "            lower, upper = middle, upper\n",
    "    return 0.5 * (upper + lower)"
   ]
  },
  {
   "cell_type": "code",
   "execution_count": 19,
   "metadata": {},
   "outputs": [
    {
     "data": {
      "text/plain": [
       "0.4082935042806639"
      ]
     },
     "execution_count": 19,
     "metadata": {},
     "output_type": "execute_result"
    }
   ],
   "source": [
    "# Program 3\n",
    "\n",
    "bisect(f, 0, 1)"
   ]
  },
  {
   "cell_type": "code",
   "execution_count": 17,
   "metadata": {
    "scrolled": true
   },
   "outputs": [
    {
     "data": {
      "text/plain": [
       "0.4082935042806639"
      ]
     },
     "execution_count": 17,
     "metadata": {},
     "output_type": "execute_result"
    }
   ],
   "source": [
    "# Program 4\n",
    "\n",
    "from scipy.optimize import bisect\n",
    "\n",
    "bisect(f, 0, 1)"
   ]
  },
  {
   "cell_type": "markdown",
   "metadata": {},
   "source": [
    "## 4.2 the Newton-Raphson method\n",
    "1. Another very common root-finding algorithm is the [Newton-Raphson method](https://en.wikipedia.org/wiki/Newton%27s_method).\n",
    "   - In SciPy(**PI:,**) this algorithm is implemented by `scipy.optimize.newton`.\n",
    "2. Bisection V.S. Newton-Raphson: unlike bisection, the Newton-Raphson method uses **local slope information** in an attempt to increase the speed of convergence.\n",
    "   - Let's investigate this using the same function $f$ defined in (2).\n",
    "     - With a suitable initial condition for the search(**PI:,**) we get convergence, see Program 5.\n",
    "     - But other initial conditions lead to failure of convergence, see Program 6 (**PI: ?**)."
   ]
  },
  {
   "cell_type": "code",
   "execution_count": 28,
   "metadata": {},
   "outputs": [
    {
     "data": {
      "text/plain": [
       "0.40829350427935673"
      ]
     },
     "execution_count": 28,
     "metadata": {},
     "output_type": "execute_result"
    }
   ],
   "source": [
    "# Program 5\n",
    "\n",
    "from scipy.optimize import newton\n",
    "\n",
    "newton(f, 0.2) # Start the search at initial condition x = 0.2"
   ]
  },
  {
   "cell_type": "code",
   "execution_count": 29,
   "metadata": {},
   "outputs": [
    {
     "data": {
      "text/plain": [
       "0.7001700000000279"
      ]
     },
     "execution_count": 29,
     "metadata": {},
     "output_type": "execute_result"
    }
   ],
   "source": [
    "# Program 6\n",
    "\n",
    "newton(f, 0.7)  # Start the search at x = 0.7 instead"
   ]
  },
  {
   "cell_type": "markdown",
   "metadata": {},
   "source": [
    "## 4.3 hybrid methods\n",
    "\n",
    "1. A general principle of numerical methods is as follows:\n",
    "   - If we have specific knowledge about a given problem, then we might be able to exploit it to generate efficiency.\n",
    "   - If not, then the choice of (**PI: the**) algorithm involves a trade-off between **speed** and **robustness**.\n",
    "2. In practice, most default algorithms for **root-finding**, **optimization** and **fixed points** use **hybrid** methods.\n",
    "   - These methods typically combine a **fast method** with a **robust method** in the following manner:\n",
    "     - Attempt to use a fast method,\n",
    "     - Check diagnostics (**???**),\n",
    "     - If diagnostics are bad, then switch to a more robust algorithm.\n",
    "   - e.g., in `scipy.optimize`, the function `brentq` is such a hybrid method and(**PI: with?**) a good default, see Program 7.\n",
    "     - Here(**PI:,**) the correct solution is found and the speed is better than bisection, see Program 8-9."
   ]
  },
  {
   "cell_type": "code",
   "execution_count": 32,
   "metadata": {},
   "outputs": [
    {
     "data": {
      "text/plain": [
       "0.40829350427936706"
      ]
     },
     "execution_count": 32,
     "metadata": {},
     "output_type": "execute_result"
    }
   ],
   "source": [
    "# Program 7\n",
    "\n",
    "import scipy as sp\n",
    "from scipy.optimize import brentq\n",
    "\n",
    "brentq(f, 0, 1)\n",
    "sp.optimize.brentq(f, 0, 1) # PI9: replace `brentq` with `sp.optimize.brentq`"
   ]
  },
  {
   "cell_type": "code",
   "execution_count": 35,
   "metadata": {},
   "outputs": [
    {
     "name": "stdout",
     "output_type": "stream",
     "text": [
      "16.8 µs ± 263 ns per loop (mean ± std. dev. of 7 runs, 100000 loops each)\n"
     ]
    }
   ],
   "source": [
    "# Program 8-1: hybrid\n",
    "\n",
    "%timeit brentq(f, 0, 1)"
   ]
  },
  {
   "cell_type": "code",
   "execution_count": 36,
   "metadata": {},
   "outputs": [
    {
     "name": "stdout",
     "output_type": "stream",
     "text": [
      "16.9 µs ± 449 ns per loop (mean ± std. dev. of 7 runs, 100000 loops each)\n"
     ]
    }
   ],
   "source": [
    "# Program 8-2: hybrid\n",
    "\n",
    "%timeit sp.optimize.brentq(f, 0, 1)"
   ]
  },
  {
   "cell_type": "code",
   "execution_count": 34,
   "metadata": {},
   "outputs": [
    {
     "name": "stdout",
     "output_type": "stream",
     "text": [
      "60.5 µs ± 320 ns per loop (mean ± std. dev. of 7 runs, 10000 loops each)\n"
     ]
    }
   ],
   "source": [
    "# Program 9: bisection\n",
    "\n",
    "%timeit bisect(f, 0, 1)"
   ]
  },
  {
   "cell_type": "markdown",
   "metadata": {},
   "source": [
    "## 4.4 multivariate root-finding\n",
    "1. Use `scipy.optimize.fsolve`, a wrapper for a hybrid method in MINPACK (**PI10: MINPACK?**).\n",
    "   - See the [https://docs.scipy.org/doc/scipy/reference/generated/scipy.optimize.fsolve.html] (**PI11: a possible example of it**)."
   ]
  },
  {
   "cell_type": "markdown",
   "metadata": {},
   "source": [
    "## 4.5 fixed points\n",
    "\n",
    "1. A **fixed point** of a real function $f$ on $[a,b]$ is an $x \\in [a, b]$ such that $f(x)=x$.\n",
    "   - SciPy has a function for finding (scalar) fixed points(**PI: ,**) too(**PI: ,**) see Program 10.\n",
    "   - If we don't get good results, then we can always switch back to the `brentq` root finder, since the fixed point of a function $f$ is the root of $g(x) = x - f(x)$."
   ]
  },
  {
   "cell_type": "code",
   "execution_count": 44,
   "metadata": {},
   "outputs": [
    {
     "data": {
      "text/plain": [
       "array(1.)"
      ]
     },
     "execution_count": 44,
     "metadata": {},
     "output_type": "execute_result"
    }
   ],
   "source": [
    "# Program 10\n",
    "\n",
    "from scipy.optimize import fixed_point # PI12: Why this, not `import scipy as sp`?\n",
    "\n",
    "fixed_point(lambda x: x**2, 10.0) # 10.0 is an initial guess; failed if the initial is smaller than -1"
   ]
  },
  {
   "cell_type": "markdown",
   "metadata": {},
   "source": [
    "# 5 optimization\n",
    "\n",
    "1. Most numerical packages provide only functions for minimization.\n",
    "   - Maximization can be performed by recalling that the maximizer of a function $f$ on domain $D$ is the minimizer of $-f$ on $D$.\n",
    "   - Minimization is closely related to root-finding:\n",
    "     - For smooth functions, interior optima correspond to roots of the first derivative.\n",
    "2. The speed/robustness trade-off described above is present(**PI:ed**) with numerical optimization(**PI:,**) too.\n",
    "   - Unless we have some prior information we can exploit, it's usually best to use hybrid methods.\n",
    "   - For constrained (**PI:?**), univariate (i.e., scalar) minimization, a good hybrid option is `fminbound`, see Program 1.\n"
   ]
  },
  {
   "cell_type": "code",
   "execution_count": 45,
   "metadata": {},
   "outputs": [
    {
     "data": {
      "text/plain": [
       "0.0"
      ]
     },
     "execution_count": 45,
     "metadata": {},
     "output_type": "execute_result"
    }
   ],
   "source": [
    "from scipy.optimize import fminbound\n",
    "\n",
    "fminbound(lambda x: x**2, -1, 2)"
   ]
  },
  {
   "cell_type": "markdown",
   "metadata": {},
   "source": [
    "## 5.1 multivariate optimization\n",
    "1. Multivariate local optimizers (**?**) include `minimize`, `fmin`, `fmin_powell`, `fmin_cg`, `fmin_bfgs`, and `fmin_ncg`.\n",
    "2. Constrained multivariate local optimizers include `fmin_l_bfgs_b`, `fmin_tnc`, `fmin_cobyla`.\n",
    "3. See [documentation](https://docs.scipy.org/doc/scipy/reference/optimize.html#local-multivariate-optimization)."
   ]
  },
  {
   "cell_type": "markdown",
   "metadata": {},
   "source": [
    "# 6 integration\n",
    "\n",
    "1. Most numerical integration methods work by computing the integral of an approximating polynomial.\n",
    "   - The **resulting error** depends on how well the polynomial fits the integrand, which in turn depends on how \"regular\" the integrand is.\n",
    "2. In SciPy, the relevant module for numerical integration is `scipy.integrate`.\n",
    "   - A good default for univariate integration is `quad`, see Program 1.\n",
    "     - In fact, `quad` is an interface to a very standard numerical integration routine in the Fortran library QUADPACK.\n",
    "     - It uses [Clenshaw-Curtis quadrature](https://en.wikipedia.org/wiki/Clenshaw%E2%80%93Curtis_quadrature), based on expansion in terms of Chebychev polynomials.\n",
    "   - There are other options for univariate integration.\n",
    "     - A useful one is `fixed_quad`, which is fast and hence works well inside `for` loops. (**?**)\n",
    "   - There are also functions for multivariate integration (**?**).\n",
    "     - See [documentation](https://docs.scipy.org/doc/scipy/reference/integrate.html)."
   ]
  },
  {
   "cell_type": "code",
   "execution_count": 48,
   "metadata": {},
   "outputs": [
    {
     "name": "stdout",
     "output_type": "stream",
     "text": [
      "0.33333333333333337 3.700743415417189e-15\n"
     ]
    }
   ],
   "source": [
    "# Program 1\n",
    "\n",
    "from scipy.integrate import quad\n",
    "\n",
    "integral, error = quad(lambda x: x**2, 0, 1)\n",
    "print(integral, error) # PI13: add print()"
   ]
  },
  {
   "cell_type": "markdown",
   "metadata": {},
   "source": [
    "# 7 linear algebra\n",
    "\n",
    "1. We saw that **NumPy** provides a module for linear algebra called `linalg`. (**PI14: a link might be better?**)\n",
    "2. **SciPy** also provides a module for linear algebra with the same name.\n",
    "   - This one is not an exact superset of the former, but overall it has more functionality.\n",
    "   - We can investigate this [module](https://docs.scipy.org/doc/scipy/reference/linalg.html)."
   ]
  },
  {
   "cell_type": "markdown",
   "metadata": {},
   "source": [
    "# 8 exercises\n",
    "\n",
    "## Exercise 1\n",
    "\n",
    "Previously we discussed the concept of [recursive function calls](https://python.quantecon.org/python_advanced_features.html#recursive-functions). (PI15: we don't discuss it before this lecture, so it might not be so appropriate.)\n",
    "\n",
    "Try to write a recursive implementation of homemade bisection function [described above](#bisect-func). (PI16: more discussions on the recursive implementation and the task)\n",
    "\n",
    "Test it on the function [(2)](#equation-root-f)."
   ]
  },
  {
   "cell_type": "code",
   "execution_count": 71,
   "metadata": {},
   "outputs": [],
   "source": [
    "def bisect(f, a, b, tol=10e-10):\n",
    "    lower, upper = a, b\n",
    "    \n",
    "    if upper - lower < tol:\n",
    "        return 0.5 * (upper + lower)\n",
    "    else:\n",
    "        middle = 0.5 * (upper + lower)\n",
    "        print(f'Current mid point = {middle}')\n",
    "        if f(lower) * f(middle)< 0: # PI: same as above `bisect`\n",
    "            a, b = lower, middle\n",
    "            return bisect(f, a, b)\n",
    "        else:\n",
    "            a, b = middle, upper\n",
    "            return bisect(f, a, b)"
   ]
  },
  {
   "cell_type": "code",
   "execution_count": 72,
   "metadata": {},
   "outputs": [],
   "source": [
    "f = lambda x: np.sin(4 * (x - 1/4)) + x + x**20 - 1\n",
    "a, b = 0, 1"
   ]
  },
  {
   "cell_type": "code",
   "execution_count": 73,
   "metadata": {},
   "outputs": [
    {
     "name": "stdout",
     "output_type": "stream",
     "text": [
      "Current mid point = 0.5\n",
      "Current mid point = 0.25\n",
      "Current mid point = 0.375\n",
      "Current mid point = 0.4375\n",
      "Current mid point = 0.40625\n",
      "Current mid point = 0.421875\n",
      "Current mid point = 0.4140625\n",
      "Current mid point = 0.41015625\n",
      "Current mid point = 0.408203125\n",
      "Current mid point = 0.4091796875\n",
      "Current mid point = 0.40869140625\n",
      "Current mid point = 0.408447265625\n",
      "Current mid point = 0.4083251953125\n",
      "Current mid point = 0.40826416015625\n",
      "Current mid point = 0.408294677734375\n",
      "Current mid point = 0.4082794189453125\n",
      "Current mid point = 0.40828704833984375\n",
      "Current mid point = 0.4082908630371094\n",
      "Current mid point = 0.4082927703857422\n",
      "Current mid point = 0.4082937240600586\n",
      "Current mid point = 0.4082932472229004\n",
      "Current mid point = 0.4082934856414795\n",
      "Current mid point = 0.40829360485076904\n",
      "Current mid point = 0.40829354524612427\n",
      "Current mid point = 0.4082935154438019\n",
      "Current mid point = 0.4082935005426407\n",
      "Current mid point = 0.4082935079932213\n",
      "Current mid point = 0.408293504267931\n",
      "Current mid point = 0.40829350613057613\n",
      "Current mid point = 0.40829350519925356\n"
     ]
    },
    {
     "data": {
      "text/plain": [
       "0.40829350473359227"
      ]
     },
     "execution_count": 73,
     "metadata": {},
     "output_type": "execute_result"
    }
   ],
   "source": [
    "bisect(f, a, b)"
   ]
  },
  {
   "cell_type": "code",
   "execution_count": null,
   "metadata": {},
   "outputs": [],
   "source": []
  }
 ],
 "metadata": {
  "jupytext": {
   "formats": "ipynb,md"
  },
  "kernelspec": {
   "display_name": "Python 3",
   "language": "python",
   "name": "python3"
  },
  "language_info": {
   "codemirror_mode": {
    "name": "ipython",
    "version": 3
   },
   "file_extension": ".py",
   "mimetype": "text/x-python",
   "name": "python",
   "nbconvert_exporter": "python",
   "pygments_lexer": "ipython3",
   "version": "3.7.6"
  }
 },
 "nbformat": 4,
 "nbformat_minor": 2
}
