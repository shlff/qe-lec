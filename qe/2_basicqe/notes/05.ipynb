{
 "cells": [
  {
   "cell_type": "markdown",
   "id": "d97fe160",
   "metadata": {},
   "source": [
    "QElec-I\n",
    "\n",
    "# 5 consumption, savings and growth\n",
    "\n",
    "## 5.1 cake eating 1: intro to optimal saving\n",
    "\n",
    "## 5.2 ce2: numerical methods\n",
    "\n",
    "## 5.3 og1 stochastic optimal growth model\n",
    "\n",
    "## 5.4 og2 accelerating the code with numba\n",
    "\n",
    "## 5.5 og3 time iteration\n",
    "\n",
    "## 5.6 og4 the endogenous grid method\n",
    "\n",
    "## 5.7 income fluctuation problem 1: basic model\n",
    "\n",
    "## 5.8 income fluctuation problem 2: stochastic returns on assets"
   ]
  }
 ],
 "metadata": {
  "jupytext": {
   "cell_metadata_filter": "-all",
   "formats": "ipynb,md:myst"
  },
  "kernelspec": {
   "display_name": "Python 3 (ipykernel)",
   "language": "python",
   "name": "python3"
  },
  "language_info": {
   "codemirror_mode": {
    "name": "ipython",
    "version": 3
   },
   "file_extension": ".py",
   "mimetype": "text/x-python",
   "name": "python",
   "nbconvert_exporter": "python",
   "pygments_lexer": "ipython3",
   "version": "3.8.12"
  }
 },
 "nbformat": 4,
 "nbformat_minor": 5
}
