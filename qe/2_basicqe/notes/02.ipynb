{
 "cells": [
  {
   "cell_type": "markdown",
   "id": "8ca7503e",
   "metadata": {},
   "source": [
    "QElec-I\n",
    "\n",
    "# 2 linear programming\n",
    "\n",
    "## 2.1 linear programming\n",
    "\n",
    "## 2.2 optimal transport"
   ]
  }
 ],
 "metadata": {
  "jupytext": {
   "cell_metadata_filter": "-all",
   "formats": "ipynb,md:myst"
  },
  "kernelspec": {
   "display_name": "Python 3 (ipykernel)",
   "language": "python",
   "name": "python3"
  },
  "language_info": {
   "codemirror_mode": {
    "name": "ipython",
    "version": 3
   },
   "file_extension": ".py",
   "mimetype": "text/x-python",
   "name": "python",
   "nbconvert_exporter": "python",
   "pygments_lexer": "ipython3",
   "version": "3.8.12"
  }
 },
 "nbformat": 4,
 "nbformat_minor": 5
}
