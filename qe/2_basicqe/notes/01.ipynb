{
 "cells": [
  {
   "cell_type": "markdown",
   "id": "ec43292c",
   "metadata": {},
   "source": [
    "QElec-I\n",
    "\n",
    "# 1 tools and techniques\n",
    "\n",
    "## 1.1 geometric series for elementary economics\n",
    "\n",
    "## 1.2 multivariate hypergeometric distribution\n",
    "\n",
    "## 1.3 modeling covid-19\n",
    "\n",
    "## 1.4 linear algebra\n",
    "\n",
    "## 1.5 OR decomposition\n",
    "\n",
    "## 1.6 singular value decomposition (SVD)\n",
    "\n",
    "## 1.7 complex numbers and trigonometry\n",
    "\n",
    "## 1.8 LLN and CLT\n",
    "\n",
    "## 1.9 two meanings of probability\n",
    "\n",
    "## 1.10 heavy-tailed distributions\n",
    "\n",
    "## 1.11 multivariate normal distribution\n",
    "\n",
    "## 1.12 univariate time series with matrix algebra"
   ]
  }
 ],
 "metadata": {
  "jupytext": {
   "cell_metadata_filter": "-all",
   "formats": "ipynb,md:myst"
  },
  "kernelspec": {
   "display_name": "Python 3 (ipykernel)",
   "language": "python",
   "name": "python3"
  },
  "language_info": {
   "codemirror_mode": {
    "name": "ipython",
    "version": 3
   },
   "file_extension": ".py",
   "mimetype": "text/x-python",
   "name": "python",
   "nbconvert_exporter": "python",
   "pygments_lexer": "ipython3",
   "version": "3.8.12"
  }
 },
 "nbformat": 4,
 "nbformat_minor": 5
}
