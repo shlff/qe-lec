{
 "cells": [
  {
   "cell_type": "markdown",
   "id": "50580d7d",
   "metadata": {},
   "source": [
    "# 7 LQ control \n",
    "\n",
    "## 7.1 foundations\n",
    "\n",
    "## 7.2 permanent income model\n",
    "\n",
    "## 7.3 PI2 LQ techniques\n",
    "\n",
    "## 7.4 production smoothing via inventories"
   ]
  }
 ],
 "metadata": {
  "jupytext": {
   "cell_metadata_filter": "-all",
   "formats": "ipynb,md:myst"
  },
  "kernelspec": {
   "display_name": "Python 3 (ipykernel)",
   "language": "python",
   "name": "python3"
  },
  "language_info": {
   "codemirror_mode": {
    "name": "ipython",
    "version": 3
   },
   "file_extension": ".py",
   "mimetype": "text/x-python",
   "name": "python",
   "nbconvert_exporter": "python",
   "pygments_lexer": "ipython3",
   "version": "3.8.12"
  }
 },
 "nbformat": 4,
 "nbformat_minor": 5
}
