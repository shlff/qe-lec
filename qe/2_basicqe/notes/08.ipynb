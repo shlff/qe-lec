{
 "cells": [
  {
   "cell_type": "markdown",
   "id": "47ceed46",
   "metadata": {},
   "source": [
    "# 8 multiple agent models\n",
    "\n",
    "## 8.1 schelling's segregation model\n",
    "\n",
    "## 8.2 a lake model of employment and unemployment\n",
    "\n",
    "## 8.3 rational expectations equilibrium\n",
    "\n",
    "## 8.4 stability in linear rational expectations models\n",
    "\n",
    "## 8.5 markov perfect equilibrium\n",
    "\n",
    "## 8.6 uncertainty traps\n",
    "\n",
    "## 8.7 the aiyagari model"
   ]
  }
 ],
 "metadata": {
  "jupytext": {
   "cell_metadata_filter": "-all",
   "formats": "ipynb,md:myst"
  },
  "kernelspec": {
   "display_name": "Python 3 (ipykernel)",
   "language": "python",
   "name": "python3"
  },
  "language_info": {
   "codemirror_mode": {
    "name": "ipython",
    "version": 3
   },
   "file_extension": ".py",
   "mimetype": "text/x-python",
   "name": "python",
   "nbconvert_exporter": "python",
   "pygments_lexer": "ipython3",
   "version": "3.8.12"
  }
 },
 "nbformat": 4,
 "nbformat_minor": 5
}
