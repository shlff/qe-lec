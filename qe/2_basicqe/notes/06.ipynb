{
 "cells": [
  {
   "cell_type": "markdown",
   "id": "c2fbe0bd",
   "metadata": {},
   "source": [
    "# 6 information\n",
    "\n",
    "## 6.1 js6 search with learning\n",
    "\n",
    "## 6.2 likelihood ratio processes\n",
    "\n",
    "## 6.3 computing mean of a likelihood ratio process\n",
    "\n",
    "## 6.4 a problem that stumped Milton friedman\n",
    "\n",
    "## 6.5 exchangeability and bayesian updating\n",
    "\n",
    "## 6.6 likelihood ratio processes and bayesian learning\n",
    "\n",
    "## 6.7 bayesian vs frequentist decision rules"
   ]
  }
 ],
 "metadata": {
  "jupytext": {
   "cell_metadata_filter": "-all",
   "formats": "ipynb,md:myst"
  },
  "kernelspec": {
   "display_name": "Python 3 (ipykernel)",
   "language": "python",
   "name": "python3"
  },
  "language_info": {
   "codemirror_mode": {
    "name": "ipython",
    "version": 3
   },
   "file_extension": ".py",
   "mimetype": "text/x-python",
   "name": "python",
   "nbconvert_exporter": "python",
   "pygments_lexer": "ipython3",
   "version": "3.8.12"
  }
 },
 "nbformat": 4,
 "nbformat_minor": 5
}
