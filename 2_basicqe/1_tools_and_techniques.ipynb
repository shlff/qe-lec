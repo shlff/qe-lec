{
 "cells": [
  {
   "cell_type": "markdown",
   "id": "28031fab",
   "metadata": {},
   "source": [
    "# 1 geometric series\n",
    "\n",
    "Let $c \\in (-1, 1)$.\n",
    "- Infinite series\n",
    "   $$\n",
    "   1 + c + c^2 + \\cdots = \\frac{1}{1-c}\n",
    "   $$\n",
    "- finite series\n",
    "    $$\n",
    "    1 + c + c^2 + \\cdots + c^T = \\frac{1 - c^{T+1}}{1 - c}\n",
    "    $$\n",
    "    - it works for any $c$.\n",
    "    \n"
   ]
  },
  {
   "cell_type": "markdown",
   "id": "5cc373c1",
   "metadata": {},
   "source": [
    "Examples\n",
    "- money multiplier\n",
    "- keynesian multiplier\n",
    "- interest rates and present values"
   ]
  },
  {
   "cell_type": "markdown",
   "id": "0ae50d12",
   "metadata": {},
   "source": [
    "# 2 SIR model\n",
    "\n",
    "- 4 states: susceptible, exposed, infected and removed.\n",
    "- let\n",
    "    - $\\beta(t)$ denote the transmission rate\n",
    "    - $\\sigma$ be the infection rate\n",
    "    - $\\gamma$ be the recovery rate\n",
    "    - $\\dot{y}$ be the time derivative $dy / dt$.\n",
    "\n",
    "The dynamics of populaiton fraction at each state is\n",
    "$$\n",
    "\\dot{s} (t) = - \\beta (t) s(t) i(t) \\\\\n",
    "\\dot{e} (t) = \\beta (t) s(t) i(t) - \\sigma e (t) \\\\\n",
    "\\dot{i} = \\sigma e (t) - \\gamma i(t)\n",
    "$$\n",
    "The removed fraction of population is\n",
    "$$\n",
    "\\dot{r} = 1 - \\dot{s} - \\dot{e} - \\dot{i} \n",
    "$$\n",
    "Cumulative caseload is $c = i + r$.\n",
    "- all those who have or have had the infection."
   ]
  },
  {
   "cell_type": "markdown",
   "id": "906c5889",
   "metadata": {},
   "source": [
    "The system can be rewritten as\n",
    "$$\n",
    "\\dot{x} = F(x, t), \\quad x := (s, e, i)\n",
    "$$\n",
    "for suitable definition of $F$.\n",
    "\n",
    "calibration\n",
    "- $\\sigma, \\gamma$ fixed biologically to $1/5/2$ and $1/18$ respectively.\n",
    "- transmission rate is $\\beta(t): = R0(t) \\gamma$,\n",
    "    - $R0(t)$ is the effective reproduction number at time $t$."
   ]
  },
  {
   "cell_type": "markdown",
   "id": "3bc03e47",
   "metadata": {},
   "source": [
    "# 3 linear algebra"
   ]
  },
  {
   "cell_type": "code",
   "execution_count": null,
   "id": "ce6709ff",
   "metadata": {},
   "outputs": [],
   "source": []
  },
  {
   "cell_type": "code",
   "execution_count": null,
   "id": "d48aed6c",
   "metadata": {},
   "outputs": [],
   "source": []
  },
  {
   "cell_type": "code",
   "execution_count": null,
   "id": "3419ddfd",
   "metadata": {},
   "outputs": [],
   "source": []
  },
  {
   "cell_type": "markdown",
   "id": "c65b32aa",
   "metadata": {},
   "source": [
    "# 4 QR decomposition"
   ]
  },
  {
   "cell_type": "code",
   "execution_count": null,
   "id": "0b4c1a77",
   "metadata": {},
   "outputs": [],
   "source": []
  },
  {
   "cell_type": "code",
   "execution_count": null,
   "id": "abb3416b",
   "metadata": {},
   "outputs": [],
   "source": []
  },
  {
   "cell_type": "code",
   "execution_count": null,
   "id": "25f15ef8",
   "metadata": {},
   "outputs": [],
   "source": []
  },
  {
   "cell_type": "code",
   "execution_count": null,
   "id": "b38bcefa",
   "metadata": {},
   "outputs": [],
   "source": []
  }
 ],
 "metadata": {
  "kernelspec": {
   "display_name": "Python 3 (ipykernel)",
   "language": "python",
   "name": "python3"
  },
  "language_info": {
   "codemirror_mode": {
    "name": "ipython",
    "version": 3
   },
   "file_extension": ".py",
   "mimetype": "text/x-python",
   "name": "python",
   "nbconvert_exporter": "python",
   "pygments_lexer": "ipython3",
   "version": "3.9.7"
  }
 },
 "nbformat": 4,
 "nbformat_minor": 5
}
