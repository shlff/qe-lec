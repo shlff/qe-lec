{
 "cells": [
  {
   "cell_type": "markdown",
   "id": "dying-southwest",
   "metadata": {},
   "source": [
    "Here are links:\n",
    "\n",
    "- rst: https://python.quantecon.org/geom_series.html\n",
    "- myst: https://quantecon.github.io/lecture-python.myst/geom_series.html\n",
    "\n",
    "# 01_geom_series\n",
    "\n",
    "- infinite vs finite geometric series\n",
    "- examples\n",
    "  - multipliers\n",
    "    - Keynesian multiplier\n",
    "    - money multiplier\n",
    "  - interest rates and present values of streams of payouts from assets\n"
   ]
  },
  {
   "cell_type": "code",
   "execution_count": 3,
   "id": "cosmetic-thickness",
   "metadata": {},
   "outputs": [
    {
     "data": {
      "text/plain": [
       "4520.0"
      ]
     },
     "execution_count": 3,
     "metadata": {},
     "output_type": "execute_result"
    }
   ],
   "source": [
    "(5500 + 7800 * 2 + 1000 + 500) / 5"
   ]
  },
  {
   "cell_type": "markdown",
   "id": "3827ec92",
   "metadata": {},
   "source": [
    "# 02_multi_hyper"
   ]
  },
  {
   "cell_type": "code",
   "execution_count": null,
   "id": "dirty-valuation",
   "metadata": {},
   "outputs": [],
   "source": []
  },
  {
   "cell_type": "markdown",
   "id": "94d45486",
   "metadata": {},
   "source": [
    "# 03_sir_model"
   ]
  },
  {
   "cell_type": "code",
   "execution_count": null,
   "id": "255efadd",
   "metadata": {},
   "outputs": [],
   "source": []
  },
  {
   "cell_type": "markdown",
   "id": "22e384d1",
   "metadata": {},
   "source": [
    "# 04_linear_algebra"
   ]
  },
  {
   "cell_type": "code",
   "execution_count": null,
   "id": "1b32ac9f",
   "metadata": {},
   "outputs": [],
   "source": []
  },
  {
   "cell_type": "markdown",
   "id": "e7fcb62d",
   "metadata": {},
   "source": [
    "# 05_complex_and_trig"
   ]
  },
  {
   "cell_type": "code",
   "execution_count": null,
   "id": "93066224",
   "metadata": {},
   "outputs": [],
   "source": []
  },
  {
   "cell_type": "markdown",
   "id": "4cdb0c4b",
   "metadata": {},
   "source": [
    "# 06_lln_clt"
   ]
  },
  {
   "cell_type": "code",
   "execution_count": null,
   "id": "295ad6dd",
   "metadata": {},
   "outputs": [],
   "source": []
  },
  {
   "cell_type": "code",
   "execution_count": null,
   "id": "5c5331fd",
   "metadata": {},
   "outputs": [],
   "source": []
  },
  {
   "cell_type": "code",
   "execution_count": null,
   "id": "09ec9b9d",
   "metadata": {},
   "outputs": [],
   "source": []
  }
 ],
 "metadata": {
  "kernelspec": {
   "display_name": "Python 3",
   "language": "python",
   "name": "python3"
  },
  "language_info": {
   "codemirror_mode": {
    "name": "ipython",
    "version": 3
   },
   "file_extension": ".py",
   "mimetype": "text/x-python",
   "name": "python",
   "nbconvert_exporter": "python",
   "pygments_lexer": "ipython3",
   "version": "3.8.8"
  }
 },
 "nbformat": 4,
 "nbformat_minor": 5
}
