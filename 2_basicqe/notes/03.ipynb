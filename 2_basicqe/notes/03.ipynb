{
 "cells": [
  {
   "cell_type": "markdown",
   "id": "59ced967",
   "metadata": {},
   "source": [
    "QElec-I\n",
    "\n",
    "# 3 introduction to dynamics\n",
    "\n",
    "## 3.1 dynamics in one dimension\n",
    "\n",
    "## 3.2 AR1 processes\n",
    "\n",
    "## 3.3 finite markov chains\n",
    "\n",
    "## 3.4 inventory dynamics\n",
    "\n",
    "## 3.5 linear state space models\n",
    "\n",
    "## 3.6 application: the Samuelson multiplier-accelerator\n",
    "\n",
    "## 3.7 kesten processes and firm dynamics\n",
    "\n",
    "## 3.8 wealth distribution dynamics\n",
    "\n",
    "## 3.9 a first look at the Kalman filter\n",
    "\n",
    "## 3.10 shortest paths\n",
    "\n",
    "## 3.11cass-koopmans planning problem\n",
    "\n",
    "## 3.12 cass-koopmans competitive equilibrium"
   ]
  }
 ],
 "metadata": {
  "jupytext": {
   "cell_metadata_filter": "-all",
   "formats": "ipynb,md:myst"
  },
  "kernelspec": {
   "display_name": "Python 3 (ipykernel)",
   "language": "python",
   "name": "python3"
  },
  "language_info": {
   "codemirror_mode": {
    "name": "ipython",
    "version": 3
   },
   "file_extension": ".py",
   "mimetype": "text/x-python",
   "name": "python",
   "nbconvert_exporter": "python",
   "pygments_lexer": "ipython3",
   "version": "3.8.12"
  }
 },
 "nbformat": 4,
 "nbformat_minor": 5
}
