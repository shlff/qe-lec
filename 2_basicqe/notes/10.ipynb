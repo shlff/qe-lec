{
 "cells": [
  {
   "cell_type": "markdown",
   "id": "cd774371",
   "metadata": {},
   "source": [
    "# 10 data and empirics\n",
    "\n",
    "## 10.1 pandas for panel data\n",
    "\n",
    "## 10.2 linear regression in python\n",
    "\n",
    "## 10.3 maximum likelihood estimation"
   ]
  }
 ],
 "metadata": {
  "jupytext": {
   "cell_metadata_filter": "-all",
   "formats": "ipynb,md:myst"
  },
  "kernelspec": {
   "display_name": "Python 3 (ipykernel)",
   "language": "python",
   "name": "python3"
  },
  "language_info": {
   "codemirror_mode": {
    "name": "ipython",
    "version": 3
   },
   "file_extension": ".py",
   "mimetype": "text/x-python",
   "name": "python",
   "nbconvert_exporter": "python",
   "pygments_lexer": "ipython3",
   "version": "3.8.12"
  }
 },
 "nbformat": 4,
 "nbformat_minor": 5
}
