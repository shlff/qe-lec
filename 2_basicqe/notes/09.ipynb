{
 "cells": [
  {
   "cell_type": "markdown",
   "id": "9b6874f4",
   "metadata": {},
   "source": [
    "# 9 asset pricing and finance\n",
    "\n",
    "## 9.1 AP: finite state models\n",
    "\n",
    "## 9.2 competitive equilibria with arrow securities\n",
    "\n",
    "## 9.3 heterogeneous beliefs and bubbles"
   ]
  }
 ],
 "metadata": {
  "jupytext": {
   "cell_metadata_filter": "-all",
   "formats": "ipynb,md:myst"
  },
  "kernelspec": {
   "display_name": "Python 3 (ipykernel)",
   "language": "python",
   "name": "python3"
  },
  "language_info": {
   "codemirror_mode": {
    "name": "ipython",
    "version": 3
   },
   "file_extension": ".py",
   "mimetype": "text/x-python",
   "name": "python",
   "nbconvert_exporter": "python",
   "pygments_lexer": "ipython3",
   "version": "3.8.12"
  }
 },
 "nbformat": 4,
 "nbformat_minor": 5
}
