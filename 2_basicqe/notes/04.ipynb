{
 "cells": [
  {
   "cell_type": "markdown",
   "id": "3ff430c2",
   "metadata": {},
   "source": [
    "QElec-I\n",
    "\n",
    "# 4 search\n",
    "\n",
    "## 4.1 js1: mccall search model\n",
    "\n",
    "## 4.2 js2: search and separation\n",
    "\n",
    "## 4.3 js3: fitted value function iteration\n",
    "\n",
    "## 4.4 js4: correlated wage offers\n",
    "\n",
    "## 4.5 js5: modeling career choice\n",
    "\n",
    "## 4.6 js6: on-the-job search"
   ]
  }
 ],
 "metadata": {
  "jupytext": {
   "cell_metadata_filter": "-all",
   "formats": "ipynb,md:myst"
  },
  "kernelspec": {
   "display_name": "Python 3 (ipykernel)",
   "language": "python",
   "name": "python3"
  },
  "language_info": {
   "codemirror_mode": {
    "name": "ipython",
    "version": 3
   },
   "file_extension": ".py",
   "mimetype": "text/x-python",
   "name": "python",
   "nbconvert_exporter": "python",
   "pygments_lexer": "ipython3",
   "version": "3.8.12"
  }
 },
 "nbformat": 4,
 "nbformat_minor": 5
}
