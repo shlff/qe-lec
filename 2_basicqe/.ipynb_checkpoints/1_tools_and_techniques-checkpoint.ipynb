{
 "cells": [
  {
   "cell_type": "markdown",
   "id": "55283bf9",
   "metadata": {},
   "source": [
    "# 1 geometric series\n",
    "\n",
    "Let $c \\in (-1, 1)$.\n",
    "- Infinite series\n",
    "   $$\n",
    "   1 + c + c^2 + \\cdots = \\frac{1}{1-c}\n",
    "   $$\n",
    "- finite series\n",
    "    $$\n",
    "    1 + c + c^2 + \\cdots + c^T = \\frac{1 - c^{T+1}}{1 - c}\n",
    "    $$\n",
    "    - it works for any $c$.\n",
    "    \n"
   ]
  },
  {
   "cell_type": "markdown",
   "id": "0d0217a1",
   "metadata": {},
   "source": [
    "Examples\n",
    "- money multiplier\n",
    "- keynesian multiplier\n",
    "- interest rates and present values"
   ]
  },
  {
   "cell_type": "code",
   "execution_count": null,
   "id": "1966b10d",
   "metadata": {},
   "outputs": [],
   "source": []
  },
  {
   "cell_type": "code",
   "execution_count": null,
   "id": "db6dbc0c",
   "metadata": {},
   "outputs": [],
   "source": []
  },
  {
   "cell_type": "code",
   "execution_count": null,
   "id": "2f5078e8",
   "metadata": {},
   "outputs": [],
   "source": []
  }
 ],
 "metadata": {
  "kernelspec": {
   "display_name": "Python 3 (ipykernel)",
   "language": "python",
   "name": "python3"
  },
  "language_info": {
   "codemirror_mode": {
    "name": "ipython",
    "version": 3
   },
   "file_extension": ".py",
   "mimetype": "text/x-python",
   "name": "python",
   "nbconvert_exporter": "python",
   "pygments_lexer": "ipython3",
   "version": "3.9.7"
  }
 },
 "nbformat": 4,
 "nbformat_minor": 5
}
