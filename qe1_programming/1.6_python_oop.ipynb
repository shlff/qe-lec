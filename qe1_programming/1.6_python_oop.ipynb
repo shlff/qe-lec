{
 "cells": [
  {
   "cell_type": "markdown",
   "metadata": {},
   "source": [
    "# 1.6 python_oop"
   ]
  },
  {
   "cell_type": "markdown",
   "metadata": {},
   "source": [
    "# 1 Overview\n",
    "1. In lecture \"1.5\", we learned some foundations of object-oriented programming.\n",
    "2. The objectives of this lecture are\n",
    "   - cover(**PI: ing**) OOP in more depth and\n",
    "   - learn(**PI: ing**) how to build our own objects, specialized to our needs.\n",
    "3. e.g.\n",
    "   - We already know how to\n",
    "     - create lists, strings and other Python objects and\n",
    "     - use their methods to modify their contents.\n",
    "   - Imagine now we want to write a program with consumers, who can\n",
    "     - hold and spend cash\n",
    "     - consume goods\n",
    "     - work and earn cash\n",
    "   - A natural solution in Python would be to create consumers as objects with\n",
    "     - data, such as cash on hand,\n",
    "     - methods, such as `buy` or `work` that affect this data.\n",
    "4. Python makes it easy to do this, (**PI: remove ','**) by providing us with **class definitions**.\n",
    "   - Classes are **blueprints** that help us build objects according to our specifications (**how to under this sentence?**)\n",
    "   - It takes a little while to get used to the **syntax** so we will provide **plenty of examples**."
   ]
  },
  {
   "cell_type": "code",
   "execution_count": 253,
   "metadata": {},
   "outputs": [],
   "source": [
    "import numpy as np\n",
    "import matplotlib.pyplot as plt\n",
    "%matplotlib inline"
   ]
  },
  {
   "cell_type": "markdown",
   "metadata": {},
   "source": [
    "# 2 OOP Review\n",
    "1. OOP is supported in many languages:\n",
    "   - JAVA and Ruby are relatively pure OOP.\n",
    "   - Python supports both procedural and object-oriented programming.\n",
    "   - Fortran and MATLAB are mainly procedural, some OOP recently tacked on.\n",
    "   - C is a procedural language, while C++ is C with OOP added on top.\n",
    "   \n",
    "2. Let's cover general OOP concepts before we specialize to(**PI: 'to' -> 'in'**) Python.\n",
    "\n",
    "## 2.1 Key Concepts\n",
    "\n",
    "1. As discussed (**PI: in**) \"1.5\", in the OOP paradigm, data and functions are **bundled together** into \"objects\".\n",
    "   - An example is a **Python list**, \n",
    "     - It not only **stores data** but also \n",
    "     - knows how to **sort** itself, etc.\n",
    "       - As we know, `sort` is a function that is \"part of\" the list object-- and hence called a **method**.\n",
    "   - If we want to make our own types of objects(**PI:,**) we need to use **class** definitions.\n",
    "2. A **class definition** is a **blueprint** for a particular class of objects (e.g., lists, strings or complex numbers).\n",
    "   - It describes\n",
    "     - what **kind of data** the class **stores** and\n",
    "     - what **methods** it has for **acting** on these data.\n",
    "   - An **object** or **instance** is a realization of the class, created from the blueprint\n",
    "     - each **instance** has its own **unique** data, and \n",
    "     - **methods** set out in the class definition act on this (and other) data.\n",
    "   - In Python, the data and methods of an object are collectively referred to as **attributes**.\n",
    "     - **Attributes** are accessed via \"dotted attribute notation\".\n",
    "       - `object_name.data`\n",
    "       - `object_name.method_name()`\n",
    "     - In the following e.g.\n",
    "       - part 1: `x` is an object or instance, created from the definition for Python lists, but with its own practicular data.\n",
    "       - part 2: `x.sort()` and `x.__class__` are two attributes of `x`.\n",
    "       - part 3: `dir(x)` can be used to view all the attributes of `x` (**PI1: no example about `dir(x)`**)."
   ]
  },
  {
   "cell_type": "code",
   "execution_count": 4,
   "metadata": {},
   "outputs": [
    {
     "data": {
      "text/plain": [
       "[1, 4, 5]"
      ]
     },
     "execution_count": 4,
     "metadata": {},
     "output_type": "execute_result"
    }
   ],
   "source": [
    "# part 1\n",
    "x = [1, 5, 4]\n",
    "x.sort() # Sort elements in `x` ascendingly\n",
    "x"
   ]
  },
  {
   "cell_type": "code",
   "execution_count": 5,
   "metadata": {},
   "outputs": [
    {
     "data": {
      "text/plain": [
       "list"
      ]
     },
     "execution_count": 5,
     "metadata": {},
     "output_type": "execute_result"
    }
   ],
   "source": [
    "# part 2\n",
    "x = [1, 5, 4]\n",
    "x.sort() # Sort elements in `x` ascendingly\n",
    "x.__class__ # attributes"
   ]
  },
  {
   "cell_type": "code",
   "execution_count": 6,
   "metadata": {},
   "outputs": [
    {
     "data": {
      "text/plain": [
       "['__add__',\n",
       " '__class__',\n",
       " '__contains__',\n",
       " '__delattr__',\n",
       " '__delitem__',\n",
       " '__dir__',\n",
       " '__doc__',\n",
       " '__eq__',\n",
       " '__format__',\n",
       " '__ge__',\n",
       " '__getattribute__',\n",
       " '__getitem__',\n",
       " '__gt__',\n",
       " '__hash__',\n",
       " '__iadd__',\n",
       " '__imul__',\n",
       " '__init__',\n",
       " '__init_subclass__',\n",
       " '__iter__',\n",
       " '__le__',\n",
       " '__len__',\n",
       " '__lt__',\n",
       " '__mul__',\n",
       " '__ne__',\n",
       " '__new__',\n",
       " '__reduce__',\n",
       " '__reduce_ex__',\n",
       " '__repr__',\n",
       " '__reversed__',\n",
       " '__rmul__',\n",
       " '__setattr__',\n",
       " '__setitem__',\n",
       " '__sizeof__',\n",
       " '__str__',\n",
       " '__subclasshook__',\n",
       " 'append',\n",
       " 'clear',\n",
       " 'copy',\n",
       " 'count',\n",
       " 'extend',\n",
       " 'index',\n",
       " 'insert',\n",
       " 'pop',\n",
       " 'remove',\n",
       " 'reverse',\n",
       " 'sort']"
      ]
     },
     "execution_count": 6,
     "metadata": {},
     "output_type": "execute_result"
    }
   ],
   "source": [
    "# part 3\n",
    "dir(x)"
   ]
  },
  {
   "cell_type": "markdown",
   "metadata": {},
   "source": [
    "## 2.2 Why is OOP useful?\n",
    "1. **OOP** is useful for **recognizing and exploiting** the common **structure**.\n",
    "   - The same reason why abstraction is useful.\n",
    "   - e.g.,\n",
    "     - a **Markov chain** consists of a set of states and a collection of transition probabilities for moving across states.\n",
    "     - a **general equilibrium** theory consists of a commodity space, preferences, technologies, and an equilibrium definition.\n",
    "     - a **game** consists of a list of players, lists of actions available to each player, player payoffs as functions of all players' actions, and a timing protocal.\n",
    "   - These are all **abstractions** that collect together \"**objects**\" of the same \"**type**\".\n",
    "     - Recognizing **common structure** allows us to employ **common tools**.\n",
    "       - In economic theory, this might be a **proposition** that applies to **all games of a certain type**.\n",
    "       - In Python, this might be a **method** that's useful for **all Markov chains** (e.g., `simulate`).\n",
    "         - When we use OOP, the **`simulate` method** is conveniently bundled together with the **Markov chain object**."
   ]
  },
  {
   "cell_type": "markdown",
   "metadata": {},
   "source": [
    "# 3 Defining Our Own Classes\n",
    "We will build some simple classes.\n",
    "\n",
    "## 3.1 Example1: A Consumer Class\n",
    "1. We will build a `Consumer` class with\n",
    "   - a `wealth` **attribute** that stores the consumer's **wealth (data)**,\n",
    "   - an `earn` **method**, \n",
    "     - where `earn(y)` increments the consumer's wealth by `y`,\n",
    "   - a `spend` **method**, \n",
    "     - where `spend(x)` either decreases wealth by `x` or returns an error if insufficient funds exist.\n",
    "2. There are some special syntax to step through carefully:\n",
    "   - The `class` keyword indicates that we are building a class.\n",
    "   - This **class** defines **instance data `wealth`** and **three methods**: `__init__`, `earn` and `spend`,\n",
    "     - `wealth` is **instance data** because each consumer we create (each instance of the `Consumer` class) will have its own separate wealth data.\n",
    "     - The ideas behind the `earn` and `spend` methods are discussed in \"1\".\n",
    "       - Both of these act on the instance data `wealth`.\n",
    "     - The `__init__` method is a **constructor method**.\n",
    "       - Whenever we create an instance of the class, this method will be called **automatically**.\n",
    "       - Calling `__init__` sets up a \"**namespace**\" to hold the instance data.\n",
    "         - We will discuss it more soon.\n",
    "         - We will also discuss the role of `self` soon.   "
   ]
  },
  {
   "cell_type": "code",
   "execution_count": 8,
   "metadata": {},
   "outputs": [],
   "source": [
    "class Consumer:\n",
    "    \n",
    "    def __init__(self, w):\n",
    "        \"initialize consumer with w dollars of wealth\"\n",
    "        self.wealth = w\n",
    "        \n",
    "    def earn(self, y):\n",
    "        \"The consumer earns y dollars\"\n",
    "        self.wealth += y\n",
    "        \n",
    "    def spend(self, x):\n",
    "        \"The consumer spend x dollars if feasible\"\n",
    "        new_wealth = self.wealth - x\n",
    "        if new_wealth < 0:\n",
    "            print(\"Insufficient funds\")\n",
    "        else:\n",
    "            self.wealth = new_wealth"
   ]
  },
  {
   "cell_type": "markdown",
   "metadata": {},
   "source": [
    "### Usage of the class"
   ]
  },
  {
   "cell_type": "code",
   "execution_count": 9,
   "metadata": {},
   "outputs": [
    {
     "data": {
      "text/plain": [
       "5"
      ]
     },
     "execution_count": 9,
     "metadata": {},
     "output_type": "execute_result"
    }
   ],
   "source": [
    "c1 = Consumer(10) # Create (**PI: an**) instance with initial wealth 10\n",
    "c1.spend(5)       # \n",
    "c1.wealth"
   ]
  },
  {
   "cell_type": "code",
   "execution_count": 11,
   "metadata": {},
   "outputs": [
    {
     "name": "stdout",
     "output_type": "stream",
     "text": [
      "Insufficient funds\n"
     ]
    }
   ],
   "source": [
    "c1.earn(15)\n",
    "c1.spend(100)"
   ]
  },
  {
   "cell_type": "code",
   "execution_count": 10,
   "metadata": {},
   "outputs": [
    {
     "data": {
      "text/plain": [
       "8"
      ]
     },
     "execution_count": 10,
     "metadata": {},
     "output_type": "execute_result"
    }
   ],
   "source": [
    "# We can create multiple instances each with its own data.\n",
    "c1 = Consumer(10)\n",
    "c2 = Consumer(12)\n",
    "c2.spend(4)\n",
    "c2.wealth"
   ]
  },
  {
   "cell_type": "code",
   "execution_count": 11,
   "metadata": {},
   "outputs": [
    {
     "data": {
      "text/plain": [
       "10"
      ]
     },
     "execution_count": 11,
     "metadata": {},
     "output_type": "execute_result"
    }
   ],
   "source": [
    "c1.wealth"
   ]
  },
  {
   "cell_type": "markdown",
   "metadata": {},
   "source": [
    "1. Each instance stores its data in a separate namespace dictionary.\n",
    "2. When we access or set attributes(**PI:,**) we are actually just modifying the dictionary maintained by the instance."
   ]
  },
  {
   "cell_type": "code",
   "execution_count": 14,
   "metadata": {},
   "outputs": [
    {
     "data": {
      "text/plain": [
       "{'wealth': 10}"
      ]
     },
     "execution_count": 14,
     "metadata": {},
     "output_type": "execute_result"
    }
   ],
   "source": [
    "c1.__dict__"
   ]
  },
  {
   "cell_type": "code",
   "execution_count": 15,
   "metadata": {},
   "outputs": [
    {
     "data": {
      "text/plain": [
       "{'wealth': 8}"
      ]
     },
     "execution_count": 15,
     "metadata": {},
     "output_type": "execute_result"
    }
   ],
   "source": [
    "c2.__dict__"
   ]
  },
  {
   "cell_type": "markdown",
   "metadata": {},
   "source": [
    "### Self\n",
    "\n",
    "1. If we look at the `Consumer` class definition again(**PI:,**) we will see the word `self`(**PI:**) throughout the code.\n",
    "2. The **rules with `self`** are that\n",
    "   - Any **instance data** should be prepared with `self`,\n",
    "     - e.g., the `earn` method references `self.wealth` rather than just `wealth`.\n",
    "   - Any **method defined within** the class should have `self` as its first argument,\n",
    "     - e.g., `def earn(self, y)` rather than just `def earn(y)`.\n",
    "   - Any **method referenced within** the class should be called as `self.method_name`.\n",
    "     - We will see it shortly.\n",
    "\n",
    "### Details of Self and Class\n",
    "1. We look at some more formal details related to **classes** and **`self`**,\n",
    "   - We might wish to skip to Example 2 (**PI: 'the' between 'on' and 'first'**).\n",
    "   - We can return to these details after we've familized ourselves with more examples.\n",
    "2. Methods actually live inside a class object formed when the interpreter reads the class definition.\n",
    "   - Note how the three methods `__init__`, `earn` and `spend` are stored in the class object.\n",
    "   - Consider the code in Part 2.\n",
    "     - When we call `earn` via `c1.earn(10)`(**PI: ,**) the interpreter passes the **instance `c1`** and the **argument `10`** to `Consumer.earn`.\n",
    "     - In fact, `c1.earn(10)` and `Consumer.earn(c1, 10)` are equivalent.\n",
    "       - In the function call `Consumer.earn(c1, 10)` note that `c1` is the first argument.\n",
    "       - Recall that in the definition of the `earn` method, `self` is the first parameter.\n",
    "         - The end result is that `self` is **bound** to the instance `c1` inside the function call.\n",
    "         - That's why the statement `self.wealth += y` inside `earn` ends up modifying `c1.wealth`."
   ]
  },
  {
   "cell_type": "code",
   "execution_count": null,
   "metadata": {},
   "outputs": [],
   "source": [
    "# Part 1: Show __dict__ attribute of class object\n",
    "print(Consumer.__dict__) "
   ]
  },
  {
   "cell_type": "code",
   "execution_count": 12,
   "metadata": {},
   "outputs": [
    {
     "data": {
      "text/plain": [
       "20"
      ]
     },
     "execution_count": 12,
     "metadata": {},
     "output_type": "execute_result"
    }
   ],
   "source": [
    "# Part 2\n",
    "c1 = Consumer(10)\n",
    "c1.earn(10)\n",
    "c1.wealth"
   ]
  },
  {
   "cell_type": "markdown",
   "metadata": {},
   "source": [
    "## 3.2 Example2: The Solow Growth Model\n",
    "1. For Example 2, we write a simple class to implement the **Solow growth model**.\n",
    "   - The Solow growth model is neoclassical growth model where the amount of capital stock per capita $k_t$ evolves according to the rule\n",
    "   <a id='equation-solow-lom'></a>\n",
    "   $$\n",
    "   k_{t+1} = \\frac{sz k^{\\alpha}_{t} + (1-\\delta)k_t }{1 + n} \\tag{1}\n",
    "   $$\n",
    "   - where\n",
    "     - $s$ is an exogenously given savings rate,\n",
    "     - $z$ is a productive parameter,\n",
    "     - $\\alpha$ is capital's share of income,\n",
    "     - $n$ is the population growth rate,\n",
    "     - $\\delta$ is the depreciation rate.\n",
    "   - The **steady state** of the model is the $k$ that solves [(1)](#equation-solow-lom) when $k_{t+1} = k_t = k$.\n",
    "2. Here's a class that implements this model.\n",
    "   - Some points of interest in the code are\n",
    "     - An instance maintains a record of its current capital stock in the variable `self.k`.\n",
    "     - The `h` method implements the right-hand side of [(1)](#equation-solow-lom).\n",
    "     - The `update` method uses `h` to update capital as per [(1)](#equation-solow-lom).\n",
    "       - Notice how inside `update` the reference to the local method `h` is `self.h`. (**?**)\n",
    "   - The methods `steady_state` and `generate_sequence` are fairly self-explanatory(**PI:.**)"
   ]
  },
  {
   "cell_type": "code",
   "execution_count": 25,
   "metadata": {},
   "outputs": [],
   "source": [
    "class Solow:\n",
    "    r\"\"\"\n",
    "    Implements the Solow growth model with the update rule (1)\n",
    "    \n",
    "    \"\"\"\n",
    "    def __init__(self, n=0.05, s=0.25, δ=0.1, α=0.3, z=2.0, k=1.0):\n",
    "        self.n, self.s, self.δ, self.α, self.z = n, s, δ, α, z\n",
    "        self.k = k\n",
    "        \n",
    "    def h(self):\n",
    "        \"Evaluate the h function\"\n",
    "        \n",
    "        # Unpack parameters (aim: getting rid of `self` to simplify notation, but can we just use `self.xx`?)\n",
    "        n, s, δ, α, z = self.n, self.s, self.δ, self.α, self.z\n",
    "        \n",
    "        # Apply the update rule\n",
    "        return (s * z * self.k**α + (1- δ) * self.k) / (1+n)\n",
    "    \n",
    "    def update(self):\n",
    "        \"Update the current state (i.e., the capital stock).\"\n",
    "        self.k = self.h()\n",
    "        \n",
    "    def steady_state(self):\n",
    "        \"Compute the steady state value of capital.\"\n",
    "        \n",
    "        # Unpack parameters (aim: getting rid of `self` to simplify notation, but can we just use `self.xx`?)\n",
    "        n, s, δ, α, z = self.n, self.s, self.δ, self.α, self.z\n",
    "        \n",
    "        # Compute and return steady state\n",
    "        return ((s * z) / (n + δ)) ** (1 / (1 - α))\n",
    "    \n",
    "    def generate_sequence(self, t):\n",
    "        \"Generate and return a time series of length t\"\n",
    "        path = []\n",
    "        for i in range(t):\n",
    "            path.append(self.k)\n",
    "            self.update()\n",
    "        return path"
   ]
  },
  {
   "cell_type": "code",
   "execution_count": 35,
   "metadata": {},
   "outputs": [
    {
     "data": {
      "image/png": "[encoded data removed]",
      "text/plain": [
       "<Figure size 648x432 with 1 Axes>"
      ]
     },
     "metadata": {
      "needs_background": "light"
     },
     "output_type": "display_data"
    }
   ],
   "source": [
    "# We use the class to compute time series and the common steady state from two different initial conditions\n",
    "\n",
    "s1 = Solow()\n",
    "s2 = Solow(k=8)\n",
    "\n",
    "T = 60\n",
    "fig, ax = plt.subplots(figsize=(9, 6))\n",
    "\n",
    "# Plot the common steady state value of capital\n",
    "ax.plot([s1.steady_state()]*T, 'k-', label='steady state')\n",
    "\n",
    "# Plot time series for each economy\n",
    "\n",
    "for s in s1, s2:\n",
    "    lb = f'capital series from initial state {s.k}' # s.k ???\n",
    "    ax.plot(s.generate_sequence(T), 'o-', lw=2, alpha=0.6, label=lb)\n",
    "    \n",
    "ax.legend()\n",
    "plt.show()"
   ]
  },
  {
   "cell_type": "markdown",
   "metadata": {},
   "source": [
    "## 3.3 Example3: A Market\n",
    "1. For Example 3, we write a simple one good market where agents are price takers.\n",
    "   - The market consists of\n",
    "     - A linear demand curve $Q = a_d - b_d p$\n",
    "     - A linear supply curve $Q = a_z + b_z (p-t)$\n",
    "     - where\n",
    "       - $p$ is (**PI: the**) price paid by the consumer,\n",
    "       - $Q$ is (**PI: the**) quantity,\n",
    "       - $t$ is a per-unit tax.\n",
    "       - Other symbols are demand and supply parameters.\n",
    "    - The class provides methods to compute various values of interest, including \n",
    "      - competitive equilibrium price and quantity, \n",
    "      - tax revenue raised,\n",
    "      - consumer surplus and producer surplus.\n",
    "2. Here's our implementation.\n",
    "   - It uses a function from SciPy, called quad for numerical integration. \n",
    "     - We will discuss it later on.\n",
    "   - Applications\n",
    "     - Program 1 uses this class to plot an inverse demand curve together with inverse supply curves with and without taxes\n",
    "     - Program 2 provides a function that\n",
    "       - takes an instance of `Market` as a parameter, and\n",
    "       - computes **dead (**PI: (no space)**)weight loss** from the imposition of the tax."
   ]
  },
  {
   "cell_type": "code",
   "execution_count": 56,
   "metadata": {},
   "outputs": [],
   "source": [
    "from scipy.integrate import quad\n",
    "\n",
    "class Market:\n",
    "    \n",
    "    def __init__(self, ad, bd, az, bz, tax):\n",
    "        \"\"\"\n",
    "        Set up market parameters. All parameters are scalars (?).\n",
    "        \"\"\"\n",
    "        self.ad, self.bd, self.az, self.bz, self.tax = ad, bd, az, bz, tax\n",
    "        if ad < az:\n",
    "            raise ValueError('Insufficient demand.')\n",
    "            \n",
    "    def price(self):\n",
    "        \"Return equilibrium price\"\n",
    "        return (self.ad - self.az + self.bz * self.tax) / (self.bd + self.bz)\n",
    "    \n",
    "    def quantity(self):\n",
    "        \"Compute equilibrium quantity\"\n",
    "        return self.ad - self.bd * self.price()\n",
    "    \n",
    "    def consumer_surp(self):\n",
    "        \"Compute consumer surplus\"\n",
    "        \n",
    "        # Compute (the) area under (the) inverse demand function\n",
    "        integrand = lambda x: (self.ad /self.bd ) - (1 / self.bd) * x\n",
    "        area, error = quad(integrand, 0, self.quantity())\n",
    "        return area - self.price() * self.quantity()\n",
    "    \n",
    "    def producer_surp(self):\n",
    "        \"Compute producer surplus\"\n",
    "        \n",
    "        # Compute (the) area above inverse supply curve, excluding tax\n",
    "        integrand = lambda x: -(self.az / self.bz) + (1 / self.bz) * x\n",
    "        area, error = quad(integrand, 0, self.quantity())\n",
    "        return (self.price()-self.tax) * self.quantity() - area\n",
    "    \n",
    "    def taxrev(self):\n",
    "        \"Compute tax revenue\"\n",
    "        return self.tax * self.quantity()\n",
    "    \n",
    "    def inverse_demand(self, x):\n",
    "        \"Compute inverse demand\"\n",
    "        return self.ad / self.bd - (1 / self.bd) * x\n",
    "    \n",
    "    def inverse_supply(self, x):\n",
    "        \"Compute inverse supply curve\"\n",
    "        return -(self.az /self.bz) + (1 /self.bz) * x + self.tax\n",
    "    \n",
    "    def inverse_supply_no_tax(self, x):\n",
    "        \"Compute inverse supply curve without tax\"\n",
    "        return - (self.az / self.bz ) + (1 / self.bz) * x"
   ]
  },
  {
   "cell_type": "code",
   "execution_count": 57,
   "metadata": {},
   "outputs": [
    {
     "name": "stdout",
     "output_type": "stream",
     "text": [
      "equilibrium price =  18.5\n",
      "consumer surplus =  33.0625\n"
     ]
    }
   ],
   "source": [
    "# Value Assignment and Compute equilibrium price\n",
    "\n",
    "baseline_params = 15, .5, -2, .5, 3\n",
    "m = Market(*baseline_params) # Why there is a star? PI: clarify the usage of * in *baseline_params\n",
    "print(\"equilibrium price = \", m.price())\n",
    "\n",
    "# Compute equilibrium quantity\n",
    "print(\"consumer surplus = \", m.consumer_surp())"
   ]
  },
  {
   "cell_type": "code",
   "execution_count": 58,
   "metadata": {
    "scrolled": true
   },
   "outputs": [
    {
     "data": {
      "image/png": "[encoded data removed]",
      "text/plain": [
       "<Figure size 432x288 with 1 Axes>"
      ]
     },
     "metadata": {
      "needs_background": "light"
     },
     "output_type": "display_data"
    }
   ],
   "source": [
    "# Program 1\n",
    "\n",
    "q_max = m.quantity() * 2\n",
    "q_grid = np.linspace(0.0, q_max, 100)\n",
    "pd = m.inverse_demand(q_grid)\n",
    "ps = m.inverse_supply(q_grid)\n",
    "psno = m.inverse_supply_no_tax(q_grid)\n",
    "\n",
    "fig, ax = plt.subplots()\n",
    "ax.plot(q_grid, pd, lw=2, alpha=0.6, label='demand')\n",
    "ax.plot(q_grid, ps, lw=2, alpha=0.6, label='supply with tax')\n",
    "ax.plot(q_grid, psno, '--k', lw=2, alpha=0.6, label='supply without tax')\n",
    "ax.set_xlabel('quantity', fontsize=14)\n",
    "ax.set_xlim(0, q_max)\n",
    "ax.set_ylabel('price', fontsize=14)\n",
    "ax.legend(loc='lower right', frameon=False, fontsize=14)\n",
    "plt.show()"
   ]
  },
  {
   "cell_type": "code",
   "execution_count": 61,
   "metadata": {},
   "outputs": [],
   "source": [
    "# Program 2\n",
    "def deadw(m):\n",
    "    \"Computes deadweight loss for market m.\"\n",
    "    \n",
    "    # Create analogous market with no tax\n",
    "    m_no_tax = Market(m.ad, m.bd, m.az, m.bz, 0) # Use values stored in Class\n",
    "    \n",
    "    # Compare surplus, return difference\n",
    "    surp1 = m_no_tax.consumer_surp() + m_no_tax.producer_surp()\n",
    "    surp2 = m.consumer_surp() + m.producer_surp() + m.taxrev()\n",
    "    return surp1 - surp2"
   ]
  },
  {
   "cell_type": "code",
   "execution_count": 62,
   "metadata": {},
   "outputs": [
    {
     "data": {
      "text/plain": [
       "1.125"
      ]
     },
     "execution_count": 62,
     "metadata": {},
     "output_type": "execute_result"
    }
   ],
   "source": [
    "# A usage of Program 2\n",
    "baseline_params = 15, .5, -2, .5, 3\n",
    "m = Market(*baseline_params)\n",
    "deadw(m)"
   ]
  },
  {
   "cell_type": "markdown",
   "metadata": {},
   "source": [
    "## 3.4 Example4: Chaos\n",
    "1. For Example 4, we write a simple class for **chaotic dynamics in nonlinear systems**.\n",
    "   - One simple transition rule that can generate complex dynamics is the **logistic map**\n",
    "   $$\n",
    "   x_{t+1} = r x_t (1 - x_t) \\tag{2}\n",
    "   $$\n",
    "   - where\n",
    "     - $x_0 \\in [0, 1]$,\n",
    "     - $r \\in [0, 4]$\n",
    "2. The implementation sees the following:\n",
    "   - Program 1 plots a longeer trajectory.\n",
    "   - Program 2 provides a bifurcation diagram.\n",
    "     - On the horizontal axis is the parameter $r$ in (2), and the vertical axis is the state space $[0, 1]$.\n",
    "     - For each $r$(**PI:,**) we compute a long time series and then plot the tail (the last 50 points).\n",
    "       - Why the tail of the sequence: the **tail of the sequence** shows us where the trajectory concentrates after settling down to some kind of **steady state**, if a steady state exists.\n",
    "     - Whether it settles down, and the character of the steady state to which it does settle down, depend on the value of $r$.\n",
    "       - For $r$ between $2.5$ and $3$, the time series settles into a **single fixed point** plotted on the vertical axis.\n",
    "       - For $r$ between $3$ and $3.45$, the time series settles down to **oscillating** between the **two values** plotted on the vertical axis.\n",
    "       - For $r$ a little bit higher than $3.45$, the time series settles down to **oscillating** among the **four values** plotted on the vertical axis.\n",
    "       - Notice that there is no value of $r$ that leads to a steady state oscillating among three values. (**PI: Clarification needed???**)"
   ]
  },
  {
   "cell_type": "code",
   "execution_count": 254,
   "metadata": {},
   "outputs": [],
   "source": [
    "class Chaos:\n",
    "    \"\"\"\n",
    "    It models the dynamical system with `x_{t+1} = r * x_t * (1 - x_t)`\n",
    "    \"\"\"\n",
    "    def __init__(self, x0, r):\n",
    "        \"\"\"\n",
    "        Initialize with state x0 and parameter r\n",
    "        \"\"\"\n",
    "        self.x, self.r = x0, r\n",
    "        \n",
    "    def update(self):\n",
    "        \"Apply the map to update state.\"\n",
    "        self.x = self.r * self.x * (1 - self.x)\n",
    "        \n",
    "    def generate_sequence(self, n):\n",
    "        \"Generate and return a sequence of length n.\"\n",
    "        path = []\n",
    "        for i in range(n):\n",
    "            path.append(self.x)\n",
    "            self.update()\n",
    "        return path"
   ]
  },
  {
   "cell_type": "code",
   "execution_count": 255,
   "metadata": {},
   "outputs": [
    {
     "data": {
      "text/plain": [
       "[0.1, 0.36000000000000004, 0.9216, 0.28901376000000006, 0.8219392261226498]"
      ]
     },
     "execution_count": 255,
     "metadata": {},
     "output_type": "execute_result"
    }
   ],
   "source": [
    "ch = Chaos(0.1, 4.0)  # x0 = 0.1 and r = 0.4\n",
    "ch.generate_sequence(5)  # First 5 iterates"
   ]
  },
  {
   "cell_type": "code",
   "execution_count": 256,
   "metadata": {},
   "outputs": [
    {
     "data": {
      "image/png": "[encoded data removed]",
      "text/plain": [
       "<Figure size 432x288 with 1 Axes>"
      ]
     },
     "metadata": {
      "needs_background": "light"
     },
     "output_type": "display_data"
    }
   ],
   "source": [
    "# Program 1\n",
    "ch = Chaos(0.1, 4.0)\n",
    "ts_length = 250\n",
    "\n",
    "fig, ax = plt.subplots()\n",
    "ax.set_xlabel('$t$', fontsize=14)\n",
    "ax.set_ylabel('$x_t$', fontsize=14)\n",
    "x = ch.generate_sequence(ts_length)\n",
    "ax.plot(range(ts_length), x, 'bo-', alpha=0.5, lw=2, label='$x_t$')\n",
    "plt.show()"
   ]
  },
  {
   "cell_type": "code",
   "execution_count": 258,
   "metadata": {},
   "outputs": [
    {
     "data": {
      "image/png": "[encoded data removed]",
      "text/plain": [
       "<Figure size 432x288 with 1 Axes>"
      ]
     },
     "metadata": {
      "needs_background": "light"
     },
     "output_type": "display_data"
    }
   ],
   "source": [
    "# Program 2\n",
    "fig, ax = plt.subplots()\n",
    "ch = Chaos(0.1, 4)\n",
    "r = 1\n",
    "while r < 4:\n",
    "    ch.r = r\n",
    "    t = ch.generate_sequence(1000)[950:]\n",
    "    ax.plot([r] * len(t), t, 'b.', ms=0.6)\n",
    "    r = r + 0.001\n",
    "    \n",
    "ax.set_xlabel('$r$', fontsize=16) # y label required?\n",
    "plt.show()"
   ]
  },
  {
   "cell_type": "markdown",
   "metadata": {},
   "source": [
    "# 4 Special Methods to define callable instances\n",
    "1. Python provides **special methods** with which some neat tricks can be performed.\n",
    "   - e.g.1, \n",
    "     - Recall that **lists and tuples** have a notion of **length** and that this **length** can be queried via the **`len` function**, see Part 1.\n",
    "     - If we want to provide a return value for the `len` function when applied to your user-defined object, use the `__len__` special method, see Part 2 (**This is a customizing process**).\n",
    "   - A special method we will use regularly is the `__call__` method.\n",
    "     - This method can be used to **make our instances callable**, just **like functions**."
   ]
  },
  {
   "cell_type": "code",
   "execution_count": 78,
   "metadata": {},
   "outputs": [
    {
     "data": {
      "text/plain": [
       "3"
      ]
     },
     "execution_count": 78,
     "metadata": {},
     "output_type": "execute_result"
    }
   ],
   "source": [
    "# Part 1\n",
    "x = (10, 20, 10)\n",
    "len(x)"
   ]
  },
  {
   "cell_type": "code",
   "execution_count": 81,
   "metadata": {},
   "outputs": [
    {
     "data": {
      "text/plain": [
       "42"
      ]
     },
     "execution_count": 81,
     "metadata": {},
     "output_type": "execute_result"
    }
   ],
   "source": [
    "# Part 2\n",
    "class Foo:\n",
    "    \n",
    "    def __len__(self):\n",
    "        return 42\n",
    "\n",
    "f = Foo()\n",
    "len(f)"
   ]
  },
  {
   "cell_type": "code",
   "execution_count": 83,
   "metadata": {},
   "outputs": [
    {
     "data": {
      "text/plain": [
       "50"
      ]
     },
     "execution_count": 83,
     "metadata": {},
     "output_type": "execute_result"
    }
   ],
   "source": [
    "# Part 3\n",
    "class Foo:\n",
    "    \n",
    "    def __call__(self, x):\n",
    "        return x + 42\n",
    "\n",
    "f = Foo()\n",
    "f(8) # Exactly equivalent to f.__call__"
   ]
  },
  {
   "cell_type": "code",
   "execution_count": 85,
   "metadata": {},
   "outputs": [
    {
     "data": {
      "text/plain": [
       "50"
      ]
     },
     "execution_count": 85,
     "metadata": {},
     "output_type": "execute_result"
    }
   ],
   "source": [
    "f.__call__(8)"
   ]
  },
  {
   "cell_type": "markdown",
   "metadata": {},
   "source": [
    "# 5 Exercises and Solutions"
   ]
  },
  {
   "cell_type": "markdown",
   "metadata": {},
   "source": [
    "### Exercise 1\n",
    "\n",
    "The [empirical cumulative distribution function (ecdf)](https://en.wikipedia.org/wiki/Empirical_distribution_function) corresponding to a sample $ \\{X_i\\}_{i=1}^n $ is defined as\n",
    "\n",
    "\n",
    "<a id='equation-emdist'></a>\n",
    "$$\n",
    "F_n(x) := \\frac{1}{n}  \\sum_{i=1}^n \\mathbf{1}\\{X_i \\leq x\\}\n",
    "  \\qquad (x \\in \\mathbb{R}) \\tag{3}\n",
    "$$\n",
    "\n",
    "Here $ \\mathbf{1}\\{X_i \\leq x\\} $ is an indicator function (one if $ X_i \\leq x $ and zero otherwise)\n",
    "and hence $ F_n(x) $ is the fraction of the sample that falls below $ x $.\n",
    "\n",
    "The Glivenko–Cantelli Theorem states that, provided that the sample is IID, the ecdf $ F_n $ converges to the true distribution function $ F $.\n",
    "\n",
    "Implement $ F_n $ as a class called `ECDF`, where\n",
    "\n",
    "- A given sample $ \\{X_i\\}_{i=1}^n $ are the instance data, stored as `self.observations`.  \n",
    "- The class implements a `__call__` method that returns $ F_n(x) $ for any $ x $.  \n",
    "\n",
    "\n",
    "Your code should work as follows (modulo randomness)"
   ]
  },
  {
   "cell_type": "code",
   "execution_count": 114,
   "metadata": {},
   "outputs": [
    {
     "data": {
      "text/plain": [
       "[0.30362378967148007,\n",
       " 0.06505201545752881,\n",
       " 0.0021948437289728284,\n",
       " 0.9298179956148758,\n",
       " 0.7274474298509132,\n",
       " 0.44614878818370696,\n",
       " 0.871079383575385,\n",
       " 0.03243806807433114,\n",
       " 0.8890090095786823,\n",
       " 0.5847107394613417]"
      ]
     },
     "execution_count": 114,
     "metadata": {},
     "output_type": "execute_result"
    }
   ],
   "source": [
    "# PI3: wierd conversion in the jupyter notebook\n",
    "\n",
    "from random import uniform\n",
    "\n",
    "samples = [uniform(0, 1) for i in range(10)]\n",
    "F = ECDF(samples)\n",
    "F(0.5)  # Evaluate ecdf at x = 0.5"
   ]
  },
  {
   "cell_type": "code",
   "execution_count": null,
   "metadata": {},
   "outputs": [],
   "source": [
    "F.observations = [uniform(0, 1) for i in range(1000)]\n",
    "F(0.5)"
   ]
  },
  {
   "cell_type": "code",
   "execution_count": 115,
   "metadata": {},
   "outputs": [],
   "source": [
    "class ECDF:\n",
    "    \n",
    "    def __init__(self, sample):\n",
    "        self.observations = sample\n",
    "        \n",
    "    def __call__(self, x):\n",
    "        f = 0\n",
    "        i = 0\n",
    "        while i < len(self.observations)-1:\n",
    "            if self.observations[i] <= x:\n",
    "                f += 1\n",
    "            i += 1\n",
    "        F = f / len(self.observations)\n",
    "        return F"
   ]
  },
  {
   "cell_type": "code",
   "execution_count": 128,
   "metadata": {},
   "outputs": [
    {
     "data": {
      "text/plain": [
       "0.6"
      ]
     },
     "execution_count": 128,
     "metadata": {},
     "output_type": "execute_result"
    }
   ],
   "source": [
    "from random import uniform\n",
    "\n",
    "samples = [uniform(0, 1) for i in range(10)]\n",
    "F = ECDF(samples)\n",
    "F(0.5)  # Evaluate ecdf at x = 0.5"
   ]
  },
  {
   "cell_type": "code",
   "execution_count": 117,
   "metadata": {
    "scrolled": true
   },
   "outputs": [
    {
     "data": {
      "text/plain": [
       "0.521"
      ]
     },
     "execution_count": 117,
     "metadata": {},
     "output_type": "execute_result"
    }
   ],
   "source": [
    "F.observations = [uniform(0, 1) for i in range(1000)]\n",
    "F(0.5)"
   ]
  },
  {
   "cell_type": "code",
   "execution_count": 118,
   "metadata": {},
   "outputs": [],
   "source": [
    "class ECDF:\n",
    "    \n",
    "    def __init__(self, sample):\n",
    "        self.observations = sample\n",
    "        \n",
    "    def __call__(self, x):\n",
    "        f = 0\n",
    "        for i in self.observations:\n",
    "            if i <= x:\n",
    "                f += 1\n",
    "        F = f / len(self.observations)\n",
    "        return F"
   ]
  },
  {
   "cell_type": "code",
   "execution_count": 129,
   "metadata": {},
   "outputs": [
    {
     "data": {
      "text/plain": [
       "0.5"
      ]
     },
     "execution_count": 129,
     "metadata": {},
     "output_type": "execute_result"
    }
   ],
   "source": [
    "from random import uniform\n",
    "\n",
    "samples = [uniform(0, 1) for i in range(10)]\n",
    "F = ECDF(samples)\n",
    "F(0.5)  # Evaluate ecdf at x = 0.5"
   ]
  },
  {
   "cell_type": "code",
   "execution_count": 130,
   "metadata": {},
   "outputs": [
    {
     "data": {
      "text/plain": [
       "0.49991784"
      ]
     },
     "execution_count": 130,
     "metadata": {},
     "output_type": "execute_result"
    }
   ],
   "source": [
    "F.observations = [uniform(0, 1) for i in range(100000000)]\n",
    "F(0.5)"
   ]
  },
  {
   "cell_type": "markdown",
   "metadata": {},
   "source": [
    "### Exercise 2\n",
    "\n",
    "In an [earlier exercise](https://python.quantecon.org/python_essentials.html#pyess-ex2), you wrote a function for evaluating polynomials.\n",
    "\n",
    "This exercise is an extension, where the task is to build a simple class called `Polynomial` for representing and manipulating polynomial functions such as\n",
    "\n",
    "\n",
    "<a id='equation-polynom'></a>\n",
    "$$\n",
    "p(x) = a_0 + a_1 x + a_2 x^2 + \\cdots a_N x^N = \\sum_{n=0}^N a_n x^n\n",
    "    \\qquad (x \\in \\mathbb{R}) \\tag{4}\n",
    "$$\n",
    "\n",
    "The instance data for the class `Polynomial` will be the coefficients (in the case of [(4)](#equation-polynom), the numbers $ a_0, \\ldots, a_N $).\n",
    "\n",
    "Provide methods that\n",
    "\n",
    "1. Evaluate the polynomial [(4)](#equation-polynom), returning $ p(x) $ for any $ x $.  \n",
    "1. Differentiate the polynomial, replacing the original coefficients with those of its derivative $ p' $ (**PI4: replace \"returning the coefficients of its derivative $ p' $\"**).  \n",
    "\n",
    "\n",
    "Avoid using any `import` statements."
   ]
  },
  {
   "cell_type": "code",
   "execution_count": 247,
   "metadata": {},
   "outputs": [],
   "source": [
    "class Polynomial:\n",
    "    \n",
    "    def __init__(self, coeff):\n",
    "        self.c = coeff\n",
    "    \n",
    "    def p(self, x):\n",
    "        p=0\n",
    "        for c, a in enumerate(self.c):\n",
    "            p = p + a* (x**c)\n",
    "        return p\n",
    "    \n",
    "    def p_d(self):\n",
    "        new_c = []\n",
    "        for c, a in enumerate(self.c):\n",
    "            new_c.append(a * c)\n",
    "        del new_c[0]\n",
    "        self.c = new_c # PI: this line seems useless\n",
    "        return self.c"
   ]
  },
  {
   "cell_type": "code",
   "execution_count": 248,
   "metadata": {},
   "outputs": [],
   "source": [
    "coeff = [1, 1, 1, 1, 1, 1]\n",
    "f = Polynomial(coeff)"
   ]
  },
  {
   "cell_type": "code",
   "execution_count": 249,
   "metadata": {},
   "outputs": [
    {
     "data": {
      "text/plain": [
       "6"
      ]
     },
     "execution_count": 249,
     "metadata": {},
     "output_type": "execute_result"
    }
   ],
   "source": [
    "f.p(1)"
   ]
  },
  {
   "cell_type": "code",
   "execution_count": 250,
   "metadata": {},
   "outputs": [
    {
     "data": {
      "text/plain": [
       "[1, 2, 3, 4, 5]"
      ]
     },
     "execution_count": 250,
     "metadata": {},
     "output_type": "execute_result"
    }
   ],
   "source": [
    "f.p_d()"
   ]
  },
  {
   "cell_type": "code",
   "execution_count": null,
   "metadata": {},
   "outputs": [],
   "source": []
  }
 ],
 "metadata": {
  "jupytext": {
   "formats": "ipynb,md"
  },
  "kernelspec": {
   "display_name": "Python 3",
   "language": "python",
   "name": "python3"
  },
  "language_info": {
   "codemirror_mode": {
    "name": "ipython",
    "version": 3
   },
   "file_extension": ".py",
   "mimetype": "text/x-python",
   "name": "python",
   "nbconvert_exporter": "python",
   "pygments_lexer": "ipython3",
   "version": "3.7.3"
  }
 },
 "nbformat": 4,
 "nbformat_minor": 2
}
