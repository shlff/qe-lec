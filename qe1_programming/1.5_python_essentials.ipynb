{
 "cells": [
  {
   "cell_type": "markdown",
   "metadata": {},
   "source": [
    "# 1.4 python_essentials\n",
    "\n",
    "**PI = Potential Improvement**"
   ]
  },
  {
   "cell_type": "markdown",
   "metadata": {},
   "source": [
    "In this lecture, we will cover **features of the language** that are essential to \n",
    "- reading and \n",
    "- writing Python code.\n",
    "\n",
    "# 1 Data types\n",
    "\n",
    "1. Several built-in Python data types we met before, and we will learn a bit more about them:\n",
    "   - Strings\n",
    "   - Integers\n",
    "   - Floats\n",
    "   - Lists\n",
    "\n",
    "## 1.1 Primitive data types: Boolean, Integers, Floats and Complex Numbers\n",
    "\n",
    "1. **Boolean values** can be either `True` or `False`.\n",
    "   - In arithmetic expressions, `True` is converted to `1` and `False` is converted to `0` (**PI:**).\n",
    "     - This is called **Boolean arithmetic**\n",
    "     - It is often useful in programming.\n",
    "     \n",
    "2. The two most common data types used to represent numbers are **integers** and **floats**.\n",
    "   - Computers distinguish between the two because, \n",
    "      - while floats are more informative, \n",
    "      - arithmetic operations on integers are **faster and more accurate**.\n",
    "   - **Division of integers** yields **floats** in Python 3.x\n",
    "     - In Python 2.x, division of two integers returns only the integer part.\n",
    "   - For **integer division** in Python 3.x, use `//` instead of `/` (**PI1: 'Python 3.x' should be 'Python 2.x'**).\n",
    "   \n",
    "3. **Complex numbers** are another primitive data type in Python.\n",
    "\n"
   ]
  },
  {
   "cell_type": "code",
   "execution_count": 1,
   "metadata": {},
   "outputs": [
    {
     "data": {
      "text/plain": [
       "True"
      ]
     },
     "execution_count": 1,
     "metadata": {},
     "output_type": "execute_result"
    }
   ],
   "source": [
    "# Boolean values\n",
    "x = True\n",
    "x"
   ]
  },
  {
   "cell_type": "code",
   "execution_count": 5,
   "metadata": {},
   "outputs": [
    {
     "data": {
      "text/plain": [
       "False"
      ]
     },
     "execution_count": 5,
     "metadata": {},
     "output_type": "execute_result"
    }
   ],
   "source": [
    "# The interpreter evaluates the expression on the right of = and\n",
    "# binds y to this value\n",
    "y = 100 < 10\n",
    "y"
   ]
  },
  {
   "cell_type": "code",
   "execution_count": 6,
   "metadata": {},
   "outputs": [
    {
     "data": {
      "text/plain": [
       "bool"
      ]
     },
     "execution_count": 6,
     "metadata": {},
     "output_type": "execute_result"
    }
   ],
   "source": [
    "type(y)"
   ]
  },
  {
   "cell_type": "code",
   "execution_count": 8,
   "metadata": {},
   "outputs": [
    {
     "data": {
      "text/plain": [
       "1"
      ]
     },
     "execution_count": 8,
     "metadata": {},
     "output_type": "execute_result"
    }
   ],
   "source": [
    "x + y"
   ]
  },
  {
   "cell_type": "code",
   "execution_count": 5,
   "metadata": {},
   "outputs": [
    {
     "data": {
      "text/plain": [
       "0"
      ]
     },
     "execution_count": 5,
     "metadata": {},
     "output_type": "execute_result"
    }
   ],
   "source": [
    "x * y"
   ]
  },
  {
   "cell_type": "code",
   "execution_count": 6,
   "metadata": {},
   "outputs": [
    {
     "data": {
      "text/plain": [
       "2"
      ]
     },
     "execution_count": 6,
     "metadata": {},
     "output_type": "execute_result"
    }
   ],
   "source": [
    "True + True"
   ]
  },
  {
   "cell_type": "code",
   "execution_count": 7,
   "metadata": {},
   "outputs": [
    {
     "data": {
      "text/plain": [
       "3"
      ]
     },
     "execution_count": 7,
     "metadata": {},
     "output_type": "execute_result"
    }
   ],
   "source": [
    "bools = [True, True, False, True] # List of Boolean values\n",
    "\n",
    "sum(bools)"
   ]
  },
  {
   "cell_type": "code",
   "execution_count": 8,
   "metadata": {},
   "outputs": [
    {
     "data": {
      "text/plain": [
       "float"
      ]
     },
     "execution_count": 8,
     "metadata": {},
     "output_type": "execute_result"
    }
   ],
   "source": [
    "# Integers and floats\n",
    "\n",
    "a, b = 1, 2       # Integers\n",
    "c, d = 2.5, 10.0  # Floats\n",
    "type(c)"
   ]
  },
  {
   "cell_type": "code",
   "execution_count": 9,
   "metadata": {},
   "outputs": [
    {
     "data": {
      "text/plain": [
       "0.5"
      ]
     },
     "execution_count": 9,
     "metadata": {},
     "output_type": "execute_result"
    }
   ],
   "source": [
    "# Division\n",
    "\n",
    "1 / 2 # Division of integers yields floats."
   ]
  },
  {
   "cell_type": "code",
   "execution_count": 11,
   "metadata": {},
   "outputs": [
    {
     "data": {
      "text/plain": [
       "3"
      ]
     },
     "execution_count": 11,
     "metadata": {},
     "output_type": "execute_result"
    }
   ],
   "source": [
    "9 // 3 # Integer division (??? Why equal 0?)"
   ]
  },
  {
   "cell_type": "markdown",
   "metadata": {},
   "source": [
    "## 1.2 Containers: list vs tuples and set vs dictionary\n",
    "\n",
    "### 1.2.1 Lists, Tuples and their Slice Notation\n",
    "\n",
    "#### A. Lists vs Tuples\n",
    "\n",
    "1. Python has several basic types for storing collections of (possibly heterogeneous) data.\n",
    "   - Python **Lists** are mutable.\n",
    "   - **Tuples**, which are \"immutable\" lists.\n",
    "     - In Python, an object is called **immutable** if, once created, the object cannot be changed.\n",
    "     - Conversely, an object is **mutable** if it can still be altered after creation.\n",
    "   - Python lists are mutable, but tuples are not.\n",
    "     - The role of mutable and immutable data will be introduced a bit later.\n",
    "2. Tuples (and lists) can be \"unpacked\" (**??? extract values from the tuple or list.**).\n",
    "   - Since **Tuple unpacking** is convenient, we'll use it often.\n",
    "   "
   ]
  },
  {
   "cell_type": "code",
   "execution_count": 15,
   "metadata": {},
   "outputs": [
    {
     "data": {
      "text/plain": [
       "('a', 'b')"
      ]
     },
     "execution_count": 15,
     "metadata": {},
     "output_type": "execute_result"
    }
   ],
   "source": [
    "# Tuples\n",
    "\n",
    "x = ('a', 'b') # Parentheses instead of the square brackets\n",
    "x = 'a', 'b'   # Or no brackets -- the meaning is identical\n",
    "x"
   ]
  },
  {
   "cell_type": "code",
   "execution_count": 16,
   "metadata": {},
   "outputs": [
    {
     "data": {
      "text/plain": [
       "tuple"
      ]
     },
     "execution_count": 16,
     "metadata": {},
     "output_type": "execute_result"
    }
   ],
   "source": [
    "type(x)"
   ]
  },
  {
   "cell_type": "code",
   "execution_count": 17,
   "metadata": {},
   "outputs": [
    {
     "data": {
      "text/plain": [
       "[10, 2]"
      ]
     },
     "execution_count": 17,
     "metadata": {},
     "output_type": "execute_result"
    }
   ],
   "source": [
    "# Python lists are mutable\n",
    "\n",
    "x = [1, 2]\n",
    "x[0] = 10\n",
    "x"
   ]
  },
  {
   "cell_type": "code",
   "execution_count": 18,
   "metadata": {},
   "outputs": [
    {
     "ename": "TypeError",
     "evalue": "'tuple' object does not support item assignment",
     "output_type": "error",
     "traceback": [
      "\u001b[0;31m---------------------------------------------------------------------------\u001b[0m",
      "\u001b[0;31mTypeError\u001b[0m                                 Traceback (most recent call last)",
      "\u001b[0;32m<ipython-input-18-1162fbba0a28>\u001b[0m in \u001b[0;36m<module>\u001b[0;34m\u001b[0m\n\u001b[1;32m      1\u001b[0m \u001b[0;31m# Python tuples are immutable\u001b[0m\u001b[0;34m\u001b[0m\u001b[0;34m\u001b[0m\u001b[0;34m\u001b[0m\u001b[0m\n\u001b[1;32m      2\u001b[0m \u001b[0mx\u001b[0m \u001b[0;34m=\u001b[0m \u001b[0;34m(\u001b[0m\u001b[0;36m1\u001b[0m\u001b[0;34m,\u001b[0m \u001b[0;36m2\u001b[0m\u001b[0;34m)\u001b[0m\u001b[0;34m\u001b[0m\u001b[0;34m\u001b[0m\u001b[0m\n\u001b[0;32m----> 3\u001b[0;31m \u001b[0mx\u001b[0m\u001b[0;34m[\u001b[0m\u001b[0;36m0\u001b[0m\u001b[0;34m]\u001b[0m \u001b[0;34m=\u001b[0m \u001b[0;36m10\u001b[0m\u001b[0;34m\u001b[0m\u001b[0;34m\u001b[0m\u001b[0m\n\u001b[0m\u001b[1;32m      4\u001b[0m \u001b[0mx\u001b[0m\u001b[0;34m\u001b[0m\u001b[0;34m\u001b[0m\u001b[0m\n",
      "\u001b[0;31mTypeError\u001b[0m: 'tuple' object does not support item assignment"
     ]
    }
   ],
   "source": [
    "# Python tuples are immutable\n",
    "x = (1, 2)\n",
    "x[0] = 10\n",
    "x"
   ]
  },
  {
   "cell_type": "markdown",
   "metadata": {},
   "source": [
    "#### B. Slice notation\n",
    "1. We can use Python's **slice notation** to access multiple elements of a list or tuple.\n",
    "   - The general rule is that `a[m:n]` returns `n - m` elements, starting at `a[m]`.\n",
    "     - Negative numbers for m or n are also permissible.\n",
    "   - The same slice notation works on tuples and strings."
   ]
  },
  {
   "cell_type": "code",
   "execution_count": 28,
   "metadata": {},
   "outputs": [
    {
     "data": {
      "text/plain": [
       "[4, 6, 8]"
      ]
     },
     "execution_count": 28,
     "metadata": {},
     "output_type": "execute_result"
    }
   ],
   "source": [
    "a = [2, 4, 6, 8]\n",
    "a[1:]"
   ]
  },
  {
   "cell_type": "code",
   "execution_count": 33,
   "metadata": {},
   "outputs": [
    {
     "data": {
      "text/plain": [
       "[8]"
      ]
     },
     "execution_count": 33,
     "metadata": {},
     "output_type": "execute_result"
    }
   ],
   "source": [
    "a[-1:]"
   ]
  },
  {
   "cell_type": "code",
   "execution_count": 34,
   "metadata": {},
   "outputs": [
    {
     "data": {
      "text/plain": [
       "'bar'"
      ]
     },
     "execution_count": 34,
     "metadata": {},
     "output_type": "execute_result"
    }
   ],
   "source": [
    "s = 'foobar'\n",
    "s[-3:] # Select the last three elements"
   ]
  },
  {
   "cell_type": "markdown",
   "metadata": {},
   "source": [
    "### 1.2.2 Sets and dictionaries\n",
    "1. Two other container types are **[sets](https://docs.python.org/3/tutorial/datastructures.html#sets)** and **[dictionaries](https://docs.python.org/3/tutorial/datastructures.html#dictionaries)**.\n",
    "   - **Dictionaries** are much like lists, except that the items are named instead of numbered.\n",
    "     - The names `name` and `age` in the example are called the **keys**.\n",
    "     - The objects that the keys are mapped to (`'Frodo'` and `33`) are called the **values**(**PI**).\n",
    "     - (**PI2: dict comprehensions are also supported.**)\n",
    "   - **Sets** are unordered collections without duplicates.\n",
    "     - The **set methods** provide the usual set-theoretical operations.\n",
    "     - The `set()` function creates sets from sequences.\n",
    "     - (**PI3: set comprehensions are also supported.**)"
   ]
  },
  {
   "cell_type": "code",
   "execution_count": 35,
   "metadata": {},
   "outputs": [
    {
     "data": {
      "text/plain": [
       "dict"
      ]
     },
     "execution_count": 35,
     "metadata": {},
     "output_type": "execute_result"
    }
   ],
   "source": [
    "# Dictionaries\n",
    "\n",
    "d = {'name': 'Frodo', 'age': 33}\n",
    "type(d)"
   ]
  },
  {
   "cell_type": "code",
   "execution_count": 39,
   "metadata": {},
   "outputs": [
    {
     "data": {
      "text/plain": [
       "'Frodo'"
      ]
     },
     "execution_count": 39,
     "metadata": {},
     "output_type": "execute_result"
    }
   ],
   "source": [
    "d['name']"
   ]
  },
  {
   "cell_type": "code",
   "execution_count": 40,
   "metadata": {},
   "outputs": [
    {
     "data": {
      "text/plain": [
       "set"
      ]
     },
     "execution_count": 40,
     "metadata": {},
     "output_type": "execute_result"
    }
   ],
   "source": [
    "# Sets\n",
    "\n",
    "s1 = {'a', 'b'}\n",
    "type(s1)"
   ]
  },
  {
   "cell_type": "code",
   "execution_count": 42,
   "metadata": {},
   "outputs": [
    {
     "data": {
      "text/plain": [
       "True"
      ]
     },
     "execution_count": 42,
     "metadata": {},
     "output_type": "execute_result"
    }
   ],
   "source": [
    "s2 = { 'a', 'b'}\n",
    "s1.issubset(s2)"
   ]
  },
  {
   "cell_type": "code",
   "execution_count": 43,
   "metadata": {},
   "outputs": [
    {
     "data": {
      "text/plain": [
       "{'a', 'b'}"
      ]
     },
     "execution_count": 43,
     "metadata": {},
     "output_type": "execute_result"
    }
   ],
   "source": [
    "s1.intersection(s2)"
   ]
  },
  {
   "cell_type": "code",
   "execution_count": 44,
   "metadata": {},
   "outputs": [
    {
     "data": {
      "text/plain": [
       "{'bar', 'foo'}"
      ]
     },
     "execution_count": 44,
     "metadata": {},
     "output_type": "execute_result"
    }
   ],
   "source": [
    "s3 = set(('foo', 'bar', 'foo'))\n",
    "s3"
   ]
  },
  {
   "cell_type": "markdown",
   "metadata": {},
   "source": [
    "# 2 Input and output\n",
    "\n",
    "1. Review reading and writing to text files.\n",
    "   - Writing\n",
    "     - The built-in function `open()` creates a file object for writing to.\n",
    "     - Both `write()` and `close()` are **methods of file objects**.\n",
    "     - The file we've created is stored in the path of the present working directory (pwd), if a different path is not specified. (**PI: remove \"to\" after \"writes\"**)\n",
    "   - Reading\n",
    "     - The built-in function `open()` creates a file object for reading.\n",
    "     - The built-in function `read()` enables us to read a file."
   ]
  },
  {
   "cell_type": "code",
   "execution_count": 15,
   "metadata": {},
   "outputs": [
    {
     "data": {
      "text/plain": [
       "'/Users/shuhu/Desktop/6_learn with John/0a qe'"
      ]
     },
     "execution_count": 15,
     "metadata": {},
     "output_type": "execute_result"
    }
   ],
   "source": [
    "# Writing\n",
    "# Open 'newfile.txt' in current pwd for writing\n",
    "\n",
    "f = open('newfile.txt', 'w') \n",
    "f.write('Testing\\n')\n",
    "f.write('Testing again')\n",
    "f.close()\n",
    "\n",
    "%pwd"
   ]
  },
  {
   "cell_type": "code",
   "execution_count": 19,
   "metadata": {},
   "outputs": [
    {
     "name": "stdout",
     "output_type": "stream",
     "text": [
      "Testing\n",
      "Testing again\n"
     ]
    }
   ],
   "source": [
    "# Reading\n",
    "\n",
    "f = open('newfile.txt', 'r')\n",
    "out = f.read()\n",
    "print(out)"
   ]
  },
  {
   "cell_type": "markdown",
   "metadata": {},
   "source": [
    "## Paths\n",
    "1. Note that if `newfile.txt` is not in the present working directory (pwd), then this call to `open()` fails.\n",
    "   - In this case, we can either shift the file to the pwd or specify the full path to the file."
   ]
  },
  {
   "cell_type": "code",
   "execution_count": null,
   "metadata": {},
   "outputs": [],
   "source": [
    "f = open('insert_full_path_to_file/newfile.txt', 'r') # A failure case"
   ]
  },
  {
   "cell_type": "markdown",
   "metadata": {},
   "source": [
    "# 3 Iterating\n",
    "\n",
    "1. One of the most important tasks in computing is \n",
    "   - stepping through a sequence of data and \n",
    "   - performing a given action.\n",
    "2. One of Python's strength is its simple, flexible interface to this kind of of iteration via the `for` loop.\n",
    "\n",
    "## 3.1 Looping over different objects\n",
    "\n",
    "1. Many **python objects** are \"iterable\", in the sense that they can be looped over.\n",
    "   - Which are not iterable (**PI4: might be important**).\n",
    "\n",
    "2. To give an example, \n",
    "   - we write the file `us_cities.txt`, which lists U.S. cities and their population, to the present working directory.\n",
    "     - Note that `%%file` (=`%%writefile`, an IPython \"magic\" command): it puts the content following into a file named by its parameter (**PI5: add clarifications about `%%file`**)\n",
    "   - we want to make the information more readable, by \n",
    "     - **capitalizing names** and \n",
    "     - adding commas to mark thousands."
   ]
  },
  {
   "cell_type": "code",
   "execution_count": 38,
   "metadata": {},
   "outputs": [
    {
     "name": "stdout",
     "output_type": "stream",
     "text": [
      "Overwriting us_cities.txt\n"
     ]
    }
   ],
   "source": [
    "%%file us_cities.txt  \n",
    "new york: 8244910\n",
    "los angeles: 3819702\n",
    "chicago: 2707120\n",
    "houston: 2145146\n",
    "philadelphia: 1536471\n",
    "phoenix: 1469471\n",
    "san antonio: 1359758\n",
    "san diego: 1326179\n",
    "dallas: 1223229"
   ]
  },
  {
   "cell_type": "code",
   "execution_count": 49,
   "metadata": {
    "scrolled": true
   },
   "outputs": [
    {
     "name": "stdout",
     "output_type": "stream",
     "text": [
      "New York        8,244,910\n",
      "Los Angeles     3,819,702\n",
      "Chicago         2,707,120\n",
      "Houston         2,145,146\n",
      "Philadelphia    1,536,471\n",
      "Phoenix         1,469,471\n",
      "San Antonio     1,359,758\n",
      "San Diego       1,326,179\n",
      "Dallas          1,223,229\n"
     ]
    }
   ],
   "source": [
    "# It reads the data in and makes the conversion.\n",
    "data_file = open('us_cities.txt', 'r')  # `r`: open for reading\n",
    "for line in data_file:\n",
    "    city, population = line.split(':')  # tuple unpacking\n",
    "    city = city.title()                 # capitalize city names\n",
    "    population = f'{int(population):,}' # add commas to numbers\n",
    "    print(city.ljust(16) + population)  # ljust(): return the string left justified in a string of length width\n",
    "data_file.close()                       # remember to close the file"
   ]
  },
  {
   "cell_type": "markdown",
   "metadata": {},
   "source": [
    "3. The `format()` or equivalent `f''` is a string method used for inserting variables into strings (**PI6: clarify `format()`**).\n",
    "4. The reformatting of each line is the result of **three different string methods**.\n",
    "   - We will discuss them later (**PI7: it should be clarified.**)\n",
    "5. The line 3 is an interesting part of this program, which shows that\n",
    "   - The file object `f` (**PI8: `f` should be `data_file`?**) is iterable, in the sense that it can be placed to the right of `in` within a `for` loop.\n",
    "   - Iteration steps through each line in the file.\n",
    "6. This iteration leads to the clean, convenient syntax shown in our program.\n",
    "   - We will discuss some of many other kinds of **iterable** objects later.\n",
    "   \n",
    "## 3.2 Looping without indices\n",
    "\n",
    "1. Python tends to favor **looping without explicit indexing**.\n",
    "   - Python provides some facilities to simplify looping without indices.\n",
    "     - One is `zip()`, \n",
    "       - Usage 1: used for stepping through **pairs for two sequences**.\n",
    "       - Usage 2: used to **create dictionaries**.\n",
    "     - If we actually need the index from a list, then one option is to use `enumerate()`.\n",
    "       - The output of the loop is shown below (**PI8: One more output**)."
   ]
  },
  {
   "cell_type": "code",
   "execution_count": 21,
   "metadata": {},
   "outputs": [
    {
     "name": "stdout",
     "output_type": "stream",
     "text": [
      "1\n",
      "4\n",
      "9\n",
      "1\n",
      "4\n",
      "9\n"
     ]
    }
   ],
   "source": [
    "x_values = [1, 2, 3]\n",
    "\n",
    "# Looping without explicit indexing\n",
    "for x in x_values:\n",
    "    print(x * x)\n",
    "\n",
    "# Looping with explicit indexing\n",
    "for i in range(len(x_values)):\n",
    "    print(x_values[i] * x_values[i])"
   ]
  },
  {
   "cell_type": "code",
   "execution_count": 22,
   "metadata": {},
   "outputs": [
    {
     "name": "stdout",
     "output_type": "stream",
     "text": [
      "The capital of Japan is Tokyo\n",
      "The capital of Korea is Seoul\n",
      "The capital of China is Beijing\n"
     ]
    }
   ],
   "source": [
    "# Usage 1 of zip(): step through two sequences\n",
    "\n",
    "countries = ('Japan', 'Korea', 'China')\n",
    "cities = ('Tokyo', 'Seoul', 'Beijing')\n",
    "for country, city in zip(countries, cities):\n",
    "    print(f'The capital of {country} is {city}')"
   ]
  },
  {
   "cell_type": "code",
   "execution_count": 23,
   "metadata": {},
   "outputs": [
    {
     "data": {
      "text/plain": [
       "{'Tom': 'E', 'John': 'F'}"
      ]
     },
     "execution_count": 23,
     "metadata": {},
     "output_type": "execute_result"
    }
   ],
   "source": [
    "# Usage 2 of zip(): create dictionaries\n",
    "names = ['Tom', 'John']\n",
    "marks = ['E', 'F']\n",
    "dict(zip(names, marks))"
   ]
  },
  {
   "cell_type": "code",
   "execution_count": 57,
   "metadata": {
    "scrolled": true
   },
   "outputs": [
    {
     "name": "stdout",
     "output_type": "stream",
     "text": [
      "letter_list[0] = 'a' \n",
      "letter_list[1] = 'b' \n",
      "letter_list[2] = 'c' \n"
     ]
    }
   ],
   "source": [
    "letter_list = ['a', 'b', 'c']\n",
    "for index, letter in enumerate(letter_list):\n",
    "    print(f\"letter_list[{index}] = '{letter}' \")"
   ]
  },
  {
   "cell_type": "markdown",
   "metadata": {},
   "source": [
    "# 4 Comparisons and logical operators\n",
    "\n",
    "## 4.1 Comparisons\n",
    "\n",
    "1. Many different kinds of **expressions** evaluate to **one of the Boolean values** (i.e., `True` or `False`), and a common type is **comparisons**.\n",
    "   - Comparison vs. Equality.\n",
    "     - We use `==` to test for equality.\n",
    "     - We use `!=` to test for being not equal.\n",
    "   - One of the features of Python is that we can **chain inequalities**.\n",
    "   \n",
    "2. Note that when testing conditions, we can use any valid Python expression. The rule is:\n",
    "   - If expressions evaluate to any of $0$, empty sequences, containers (strings, lists etc.) or `None`, then they are all equivalent to `False`.\n",
    "     - e.g., `[]` and `()` are equivalent to `False` in an `if` clause.\n",
    "   - All other values are equivalent to `True`.\n",
    "     - e.g., `42` is equivalent to `True` in an `if` clause."
   ]
  },
  {
   "cell_type": "code",
   "execution_count": 61,
   "metadata": {},
   "outputs": [
    {
     "data": {
      "text/plain": [
       "True"
      ]
     },
     "execution_count": 61,
     "metadata": {},
     "output_type": "execute_result"
    }
   ],
   "source": [
    "# Inequality\n",
    "\n",
    "x, y = 1, 2\n",
    "x < y "
   ]
  },
  {
   "cell_type": "code",
   "execution_count": 62,
   "metadata": {},
   "outputs": [
    {
     "data": {
      "text/plain": [
       "True"
      ]
     },
     "execution_count": 62,
     "metadata": {},
     "output_type": "execute_result"
    }
   ],
   "source": [
    "# Chain Inequalities\n",
    "\n",
    "1 < 2 < 3"
   ]
  },
  {
   "cell_type": "code",
   "execution_count": 66,
   "metadata": {},
   "outputs": [
    {
     "data": {
      "text/plain": [
       "False"
      ]
     },
     "execution_count": 66,
     "metadata": {},
     "output_type": "execute_result"
    }
   ],
   "source": [
    "# Assignment vs Comparison\n",
    "\n",
    "x = 1   # Assignment\n",
    "x == 2  # Comparison "
   ]
  },
  {
   "cell_type": "code",
   "execution_count": 67,
   "metadata": {},
   "outputs": [
    {
     "data": {
      "text/plain": [
       "True"
      ]
     },
     "execution_count": 67,
     "metadata": {},
     "output_type": "execute_result"
    }
   ],
   "source": [
    "# not equal\n",
    "\n",
    "1 != 2"
   ]
  },
  {
   "cell_type": "code",
   "execution_count": 68,
   "metadata": {},
   "outputs": [
    {
     "data": {
      "text/plain": [
       "'yes'"
      ]
     },
     "execution_count": 68,
     "metadata": {},
     "output_type": "execute_result"
    }
   ],
   "source": [
    "# Any Python expression for comparisons\n",
    "x = 'yes' if 42 else 'no'\n",
    "x"
   ]
  },
  {
   "cell_type": "code",
   "execution_count": 25,
   "metadata": {},
   "outputs": [
    {
     "data": {
      "text/plain": [
       "'no'"
      ]
     },
     "execution_count": 25,
     "metadata": {},
     "output_type": "execute_result"
    }
   ],
   "source": [
    "x = 'yes' if [] else 'no'\n",
    "x"
   ]
  },
  {
   "cell_type": "markdown",
   "metadata": {},
   "source": [
    "## 4.2 Combining expressions with 3 logical connectives\n",
    "1. We can combine expressions using `and`, `or` and `not`.\n",
    "   - These are the standard logical connectives (conjunction, disjunction and denial)\n",
    "2. Remember that (recall the truth table.)\n",
    "   - `P and Q` is `True` if both are `True`, else `False`.\n",
    "   - `P or Q` is `False` if both are `False`, else `True`."
   ]
  },
  {
   "cell_type": "code",
   "execution_count": 4,
   "metadata": {},
   "outputs": [
    {
     "data": {
      "text/plain": [
       "True"
      ]
     },
     "execution_count": 4,
     "metadata": {},
     "output_type": "execute_result"
    }
   ],
   "source": [
    "1 < 2 and 'f' in 'foo'"
   ]
  },
  {
   "cell_type": "code",
   "execution_count": 5,
   "metadata": {},
   "outputs": [
    {
     "data": {
      "text/plain": [
       "False"
      ]
     },
     "execution_count": 5,
     "metadata": {},
     "output_type": "execute_result"
    }
   ],
   "source": [
    "1 < 2 and 'g' in 'foo'"
   ]
  },
  {
   "cell_type": "code",
   "execution_count": 6,
   "metadata": {},
   "outputs": [
    {
     "data": {
      "text/plain": [
       "True"
      ]
     },
     "execution_count": 6,
     "metadata": {},
     "output_type": "execute_result"
    }
   ],
   "source": [
    "1 < 2 or 'g' in 'foo'"
   ]
  },
  {
   "cell_type": "code",
   "execution_count": 7,
   "metadata": {},
   "outputs": [
    {
     "data": {
      "text/plain": [
       "False"
      ]
     },
     "execution_count": 7,
     "metadata": {},
     "output_type": "execute_result"
    }
   ],
   "source": [
    "not True"
   ]
  },
  {
   "cell_type": "code",
   "execution_count": 8,
   "metadata": {},
   "outputs": [
    {
     "data": {
      "text/plain": [
       "True"
      ]
     },
     "execution_count": 8,
     "metadata": {},
     "output_type": "execute_result"
    }
   ],
   "source": [
    "not not True"
   ]
  },
  {
   "cell_type": "markdown",
   "metadata": {},
   "source": [
    "# 5 More functions: user-defined functions\n",
    "1. Functions are all important for good programming style.\n",
    "2. Python has a number of **built-in functions** that are available without `import`.\n",
    "   - There are many we have already met.\n",
    "     - `max()`\n",
    "     - `range()`\n",
    "     - `list(range())`\n",
    "     - `str()`\n",
    "     - `type()`\n",
    "   - There are Two more useful built-in functions: `any()` and `all()`(**PI: .**)\n",
    "     - `all(argument)` evaluates to True if all in the argument are True and False otherwise.\n",
    "     - `any(argument)` evaluates to False if all in the argument are False and True otherwise.\n",
    "   - The full list of Python built-in functions is [here](https://docs.python.org/3/library/functions.html). (**PI9: The link here should be updated to python 3.8.**)\n",
    "3. In this section, we discuss more about user-fined functions constructed using the keyword `def`."
   ]
  },
  {
   "cell_type": "code",
   "execution_count": 26,
   "metadata": {},
   "outputs": [
    {
     "data": {
      "text/plain": [
       "200"
      ]
     },
     "execution_count": 26,
     "metadata": {},
     "output_type": "execute_result"
    }
   ],
   "source": [
    "# maximal function\n",
    "max(19, 200)"
   ]
  },
  {
   "cell_type": "code",
   "execution_count": 29,
   "metadata": {},
   "outputs": [
    {
     "data": {
      "text/plain": [
       "range(0, 10)"
      ]
     },
     "execution_count": 29,
     "metadata": {},
     "output_type": "execute_result"
    }
   ],
   "source": [
    "# It (range(n)) returns a range iterator object starting from 0 to n.\n",
    "range(10)"
   ]
  },
  {
   "cell_type": "code",
   "execution_count": 16,
   "metadata": {},
   "outputs": [
    {
     "data": {
      "text/plain": [
       "[0, 1, 2, 3, 4, 5]"
      ]
     },
     "execution_count": 16,
     "metadata": {},
     "output_type": "execute_result"
    }
   ],
   "source": [
    "# It evaluates the range iterator and create a list starting from 0 with n numbers\n",
    "list(range(6))"
   ]
  },
  {
   "cell_type": "code",
   "execution_count": 17,
   "metadata": {},
   "outputs": [
    {
     "data": {
      "text/plain": [
       "'22'"
      ]
     },
     "execution_count": 17,
     "metadata": {},
     "output_type": "execute_result"
    }
   ],
   "source": [
    "str(22)"
   ]
  },
  {
   "cell_type": "code",
   "execution_count": 20,
   "metadata": {},
   "outputs": [
    {
     "data": {
      "text/plain": [
       "int"
      ]
     },
     "execution_count": 20,
     "metadata": {},
     "output_type": "execute_result"
    }
   ],
   "source": [
    "type(22)"
   ]
  },
  {
   "cell_type": "code",
   "execution_count": 21,
   "metadata": {},
   "outputs": [
    {
     "data": {
      "text/plain": [
       "False"
      ]
     },
     "execution_count": 21,
     "metadata": {},
     "output_type": "execute_result"
    }
   ],
   "source": [
    "bools = False, True, True\n",
    "all(bools) # True if all are True and False otherwise"
   ]
  },
  {
   "cell_type": "code",
   "execution_count": null,
   "metadata": {},
   "outputs": [],
   "source": [
    "any(bools) # False if all are False and True otherwise"
   ]
  },
  {
   "cell_type": "markdown",
   "metadata": {},
   "source": [
    "## 5.1 Why write functions\n",
    "1. User-defined functions are important for improving the clarity of our code by\n",
    "   - separating different strands of logic,\n",
    "   - facilitating code reuse.\n",
    "     - Writing the same thing twice is [almost always a bad idea](https://en.wikipedia.org/wiki/Don%27t_repeat_yourself)(**PI: .**)\n",
    "     - Do not repeat yourself.\n",
    "2. The basics of user-defined functions were discussed in lecture 1.3.\n",
    "\n",
    "## 5.2 The flexibility of Python functions\n",
    "1. As we discussed in 1.3, Python functions are very flexible.\n",
    "   - **Any number** of functions can be defined in a given file.\n",
    "   - Functions can be (and often are) **defined inside** other functions.\n",
    "   - **Any object** can be **passed to a function as an argument**, including other functions.\n",
    "     - We already gave an example in 1.3 of how straightforward it is to pass a function to a function.\n",
    "   - A function can **return any kind of object**, including functions.\n",
    "2. Note that a function can have **arbitrarily many** `return` statements (including zero (**PI10: statement?**)).\n",
    "   - Execution of the function terminates when the first return is hit, allowing code like the following example\n",
    "   - Functions without a return statement automatically return the special Python object `None`."
   ]
  },
  {
   "cell_type": "code",
   "execution_count": 30,
   "metadata": {},
   "outputs": [],
   "source": [
    "def f(x):\n",
    "    if x < 0:\n",
    "        return 'negative'\n",
    "    return 'nonnegative'"
   ]
  },
  {
   "cell_type": "code",
   "execution_count": 31,
   "metadata": {},
   "outputs": [
    {
     "name": "stdout",
     "output_type": "stream",
     "text": [
      "nonnegative negative\n"
     ]
    }
   ],
   "source": [
    "# (**PI: an additional example like below might be good.**)\n",
    "\n",
    "print(f(1), f(-1))"
   ]
  },
  {
   "cell_type": "markdown",
   "metadata": {},
   "source": [
    "## 5.3 Docstrings\n",
    "1. Python has a system for **adding comments** to functions, modules, etc. called **docstrings**.\n",
    "   - The nice thing about docstring is that they are **available at run-time**.\n",
    "   - With one question mark(**PI:,**) we bring up the docstring, and with two(**PI:,**) we get the source code as well."
   ]
  },
  {
   "cell_type": "code",
   "execution_count": 30,
   "metadata": {},
   "outputs": [],
   "source": [
    "def f(x):\n",
    "    \"\"\"\n",
    "    This function squares its argument\n",
    "    \"\"\"\n",
    "    return x**2"
   ]
  },
  {
   "cell_type": "code",
   "execution_count": 31,
   "metadata": {},
   "outputs": [],
   "source": [
    "f?"
   ]
  },
  {
   "cell_type": "code",
   "execution_count": 32,
   "metadata": {},
   "outputs": [],
   "source": [
    "f??"
   ]
  },
  {
   "cell_type": "markdown",
   "metadata": {},
   "source": [
    "## 5.4 One-line functions: `lambda`\n",
    "1. The `lambda` keyword is used to create simple functions on one line.\n",
    "   - Functions 1 and 2 are entirely equivalent.\n",
    "   - The function created by `lambda` is anonymous because it was never given a name."
   ]
  },
  {
   "cell_type": "code",
   "execution_count": null,
   "metadata": {},
   "outputs": [],
   "source": [
    "# Function 1\n",
    "def f(x):\n",
    "    return x**3\n",
    "\n",
    "# Function 2\n",
    "f = lambda x: x**3\n"
   ]
  },
  {
   "cell_type": "markdown",
   "metadata": {},
   "source": [
    "2. To see why `lambda` is useful, suppose that we want to calculate $\\int^2_0 x^3 dx$ and have forgotten our high-school calculus.\n",
    "   - The `SciPy` library has a function called `quad` that will do this calculation for us.\n",
    "   - The syntax of the `quad` function is `quad(f,a,b)`, where\n",
    "      - `f` is a function,\n",
    "      - `a` and `b` are numbers.\n",
    "   - To create the function $f(x)=x^3$(**PI:,**) we can use `lambda` as follows\n",
    "     - Here the function created by `lambda` is said to be **anonymous** because it was never given a name."
   ]
  },
  {
   "cell_type": "code",
   "execution_count": 35,
   "metadata": {},
   "outputs": [
    {
     "data": {
      "text/plain": [
       "(4.0, 4.440892098500626e-14)"
      ]
     },
     "execution_count": 35,
     "metadata": {},
     "output_type": "execute_result"
    }
   ],
   "source": [
    "from scipy.integrate import quad\n",
    "\n",
    "quad(lambda x: x**3, 0, 2)"
   ]
  },
  {
   "cell_type": "markdown",
   "metadata": {},
   "source": [
    "## 5.5 Keyword Arguments vs. Positional Argument\n",
    "1. The argument passed in `name=argument` syntax is called a **keyword argument**.\n",
    "   - e.g., `plt.plot(x, 'b-', label=\"white noise\")`.\n",
    "     - For the last argument, `label` is the keyword.\n",
    "\n",
    "2. Non-keyword arguments are called **positional arguments**, since their meaning is determined by (**PI: the**) order\n",
    "   - e.g., `plot(x, 'b-', label=\"white noise\")` is different from `plot('b-', x, label=\"white noise\")`.\n",
    "3. **Keyword arguments** are particularly useful when a function has a lot of arguments, in which case it's hard to remember the right order.\n",
    "   - We can adopt keyword arguments in user-defined functions with no difficulty.\n",
    "   - Keyword arugments can be customized."
   ]
  },
  {
   "cell_type": "code",
   "execution_count": 36,
   "metadata": {},
   "outputs": [
    {
     "data": {
      "text/plain": [
       "3"
      ]
     },
     "execution_count": 36,
     "metadata": {},
     "output_type": "execute_result"
    }
   ],
   "source": [
    "def f(x, a=1, b=1):\n",
    "    return a + b * x\n",
    "\n",
    "f(2)"
   ]
  },
  {
   "cell_type": "code",
   "execution_count": 39,
   "metadata": {},
   "outputs": [
    {
     "data": {
      "text/plain": [
       "5"
      ]
     },
     "execution_count": 39,
     "metadata": {},
     "output_type": "execute_result"
    }
   ],
   "source": [
    "# This function can be modified as follows\n",
    "f(2, a=1, b=2)"
   ]
  },
  {
   "cell_type": "markdown",
   "metadata": {},
   "source": [
    "# 6 Coding style and PEP8 (?)\n",
    "1. To learn more about the Python programming philosophy type `import this` at the prompt.\n",
    "   - Among other things, Python strongly favors consistency in programming style.\n",
    "   - We've all heard the saying about consistency and little minds.\n",
    "   - In programming, as in mathematics, the opposite is true:\n",
    "     - A mathematical paper where the symbols $\\cap$ and $\\cup$ were reversed would be very hard to read, even if the author told us so on the first page.\n",
    "2. In Python, the standard style is set out in [PEP8](https://www.python.org/dev/peps/pep-0008/)\n",
    "   - Occasionally we will deviate from PEP8 in these lectures to better match mathematical notation(**PI:s.**)"
   ]
  },
  {
   "cell_type": "markdown",
   "metadata": {},
   "source": [
    "# 7 My answer to exercise and solutions\n",
    "\n",
    "## 7.1 Exercise 1\n",
    "1. Part 1: given two numeric lists or tuples `x_vals` and `y_vals` of equal length, compute their inner product using `zip()`.\n",
    "2. Part 2: in one line, count the number of even number of numbers in $0, \\cdots, 99$.\n",
    "3. Part 3: given `pairs = ((2, 5), (4, 2), (9, 8), (12, 10))`, count the number of pairs `(a, b)` such that both `a` and `b` are even.\n",
    "\n",
    "\n"
   ]
  },
  {
   "cell_type": "code",
   "execution_count": 78,
   "metadata": {
    "scrolled": true
   },
   "outputs": [
    {
     "name": "stdout",
     "output_type": "stream",
     "text": [
      "32\n"
     ]
    }
   ],
   "source": [
    "# My answer to P1\n",
    "\n",
    "x_vals = [1, 2, 3]\n",
    "y_vals = [4, 5, 6]\n",
    "\n",
    "a = 0\n",
    "for x, y in zip(x_vals, y_vals):\n",
    "    a = a + x * y\n",
    "\n",
    "print(a)"
   ]
  },
  {
   "cell_type": "code",
   "execution_count": 61,
   "metadata": {},
   "outputs": [],
   "source": [
    "# My answer to P2***\n",
    "\n",
    "numbers = []\n",
    "n = 99\n",
    "even=0\n",
    "\n",
    "for number in range(n+1):\n",
    "    numbers.append(number)\n",
    "    \n",
    "for number in numbers:\n",
    "    if number % 2 == 0:\n",
    "        even += 1\n",
    "\n",
    "print(even)\n"
   ]
  },
  {
   "cell_type": "code",
   "execution_count": 155,
   "metadata": {},
   "outputs": [
    {
     "name": "stdout",
     "output_type": "stream",
     "text": [
      "50\n"
     ]
    }
   ],
   "source": [
    "#  Using only 1 row\n",
    "\n",
    "z= sum(x % 2 == 0 for x in numbers)\n",
    "print(z)"
   ]
  },
  {
   "cell_type": "code",
   "execution_count": 156,
   "metadata": {},
   "outputs": [
    {
     "name": "stdout",
     "output_type": "stream",
     "text": [
      "2\n"
     ]
    }
   ],
   "source": [
    "# My answer to P3***\n",
    "\n",
    "x_vals = [2, 4, 9, 12]\n",
    "y_vals = [5, 2, 8, 10]\n",
    "\n",
    "n = 0\n",
    "for x, y in zip(x_vals, y_vals):\n",
    "    if (x % 2 == 0) and (y % 2 == 0):\n",
    "        n += 1\n",
    "\n",
    "print(n)"
   ]
  },
  {
   "cell_type": "markdown",
   "metadata": {},
   "source": [
    "## 7.2 Exericise 2\n",
    "1. Consider the polynomial\n",
    "$$\n",
    "p(x) = a_0 + a_1 x + a_2 x^2 + \\cdots + a_n x^n = \\sum^n_{i=0} a_i x^i\n",
    "$$\n",
    "2. Write a function `p` such that `p(x, coeff)` that computes the value  above, given a point `x` and a list of coefficients `coeff`.\n",
    "   - Try to use `enumerate()` in our loop (**PI: See [enumerate()](http://book.pythontips.com/en/latest/enumerate.html)**)."
   ]
  },
  {
   "cell_type": "code",
   "execution_count": 160,
   "metadata": {},
   "outputs": [],
   "source": [
    "def p(x, coeff):\n",
    "    p=0\n",
    "    for c, a in enumerate(coeff):\n",
    "        p = p + a * (x**c)\n",
    "    return p"
   ]
  },
  {
   "cell_type": "code",
   "execution_count": 188,
   "metadata": {},
   "outputs": [],
   "source": [
    "coeff = [1, 1, 1, 1, 1, 1]\n",
    "f = p(x, coeff)"
   ]
  },
  {
   "cell_type": "markdown",
   "metadata": {},
   "source": [
    "## 7.3 Exercise 3\n",
    "1. Write a function that takes a string as an argument and returns the number of capital letters in the string.\n",
    "   - Hint: `'foo'.upper()` returns `'FOO'`."
   ]
  },
  {
   "cell_type": "code",
   "execution_count": 157,
   "metadata": {},
   "outputs": [],
   "source": [
    "# The function n() counts the number of capital letters in the argument***\n",
    "def n(string):\n",
    "    number = 0\n",
    "    for i in string:\n",
    "        if i == i.upper() and i.isalpha():\n",
    "            number += 1\n",
    "    return number"
   ]
  },
  {
   "cell_type": "code",
   "execution_count": 159,
   "metadata": {},
   "outputs": [
    {
     "data": {
      "text/plain": [
       "3"
      ]
     },
     "execution_count": 159,
     "metadata": {},
     "output_type": "execute_result"
    }
   ],
   "source": [
    "n('John And Tom')"
   ]
  },
  {
   "cell_type": "markdown",
   "metadata": {},
   "source": [
    "## 7.4 Exercise 4\n",
    "1. Write a function that takes two sequences `seq_a` and `seq_b` as arguments and returns `True` if every element in `seq_a` is also an element of `seq_b`, else `False`.\n",
    "   - By \"sequence\" we mean a list, a tuple or a string.\n",
    "   - Do the exercise without using sets and set methods.\n"
   ]
  },
  {
   "cell_type": "code",
   "execution_count": 127,
   "metadata": {},
   "outputs": [],
   "source": [
    "def a_issubset_b(seq_a, seq_b):\n",
    "    x = 0\n",
    "    for i in enumerate(seq_a):\n",
    "        for j in enumerate(seq_b):\n",
    "            if i == j:\n",
    "                x += 1\n",
    "    if x == len(seq_a) :\n",
    "        return 'True'\n",
    "    else:\n",
    "        return 'False'"
   ]
  },
  {
   "cell_type": "code",
   "execution_count": 132,
   "metadata": {},
   "outputs": [
    {
     "name": "stdout",
     "output_type": "stream",
     "text": [
      "False\n"
     ]
    }
   ],
   "source": [
    "seq_a = ['John', 'Tom']\n",
    "seq_b = ['John']\n",
    "\n",
    "z = a_issubset_b(seq_a, seq_b)\n",
    "print(z)"
   ]
  },
  {
   "cell_type": "markdown",
   "metadata": {},
   "source": [
    "## 7.5 Exercise 5\n",
    "1. When we cover the numerical libraries, we will see that they include many alternatives for interpolation and function approximation.\n",
    "2.Let's write our own function approximation routine as an exercise.\n",
    "  - In particular, without using any imports(**PI: import**), write a function `linapprox` that takes as arguments:\n",
    "    - A function `f` mapping some interval $[a,b]$ into $\\mathbb R$.\n",
    "    - Two scalars `a` and `b` providing the limits of this interval.\n",
    "    - An integer `n` determining the number of grid points.\n",
    "    - A number `x` satisfying `a <= x <= b`.\n",
    "  - and returns the [piecewise linear interpolation](https://en.wikipedia.org/wiki/Linear_interpolation) of `f` at `x`, based on `n` evenly spaced grid points `a = point[0]< point[1] < \\dots < point[n-1] = b `.\n",
    "  - Aim for clarity, not efficiency."
   ]
  },
  {
   "cell_type": "code",
   "execution_count": 189,
   "metadata": {},
   "outputs": [],
   "source": [
    "# My answer***\n",
    "\n",
    "def linapprox(f, a, b, n, x):\n",
    "    s = (b-a)/(n-1)\n",
    "    for i in range(n):\n",
    "        c = a + s * (i-1)\n",
    "        d = a + s * i\n",
    "        if x > c and x <= d:\n",
    "            return f(c) + (x - c) * (f(d)-f(c)) / (d - c)"
   ]
  },
  {
   "cell_type": "code",
   "execution_count": 191,
   "metadata": {},
   "outputs": [],
   "source": [
    "# Answer modified according to John's solution\n",
    "\n",
    "def linapprox_1(f, a, b, n, x):\n",
    "    s = (b-a)/(n-1)\n",
    "    z = a\n",
    "    while z <= x:\n",
    "        z += s\n",
    "    c, d = z -s, z\n",
    "    return f(c) + (x - c) * (f(d)-f(c)) / (d - c)"
   ]
  },
  {
   "cell_type": "code",
   "execution_count": null,
   "metadata": {},
   "outputs": [],
   "source": []
  },
  {
   "cell_type": "code",
   "execution_count": null,
   "metadata": {},
   "outputs": [],
   "source": []
  },
  {
   "cell_type": "code",
   "execution_count": null,
   "metadata": {},
   "outputs": [],
   "source": []
  }
 ],
 "metadata": {
  "jupytext": {
   "formats": "ipynb,md"
  },
  "kernelspec": {
   "display_name": "Python 3",
   "language": "python",
   "name": "python3"
  },
  "language_info": {
   "codemirror_mode": {
    "name": "ipython",
    "version": 3
   },
   "file_extension": ".py",
   "mimetype": "text/x-python",
   "name": "python",
   "nbconvert_exporter": "python",
   "pygments_lexer": "ipython3",
   "version": "3.7.3"
  }
 },
 "nbformat": 4,
 "nbformat_minor": 2
}
