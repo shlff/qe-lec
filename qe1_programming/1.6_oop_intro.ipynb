{
 "cells": [
  {
   "cell_type": "markdown",
   "metadata": {},
   "source": [
    "# 1.5 oop_intro"
   ]
  },
  {
   "cell_type": "markdown",
   "metadata": {},
   "source": [
    "# 1 Overview\n",
    "\n",
    "1. OOP, Object Oriented Programming, is one of the major paradigms in programming.\n",
    "   - **Data and functions** are \"bundled together\" into \"**objects**\"(**PI:.**)\n",
    "     - Functions in this context are referred to as **methods**(**PI:.**)\n",
    "2. The traditional programming paradigm (such as Fortran, C, MATLAB, etc.) is called **procedural**, it works as follows\n",
    "   - The program has a **state** corresponding to the **values of its variables**.\n",
    "   - **Functions** are called to act on these **data**.\n",
    "   - **Data** are passed back and forth via **function calls**.\n",
    "\n",
    "## Python and OOP\n",
    "1. Python is a pragmatic language that blends **object-oriented** and **procedural** styles, rather than taking a purist approach.\n",
    "   - However, at a foundational level, Python is **object-oriented**.\n",
    "     - In particular, in Python, **everything is an object**.\n",
    "   - In this lecture, we explain \n",
    "     - what this statement means and\n",
    "     - why it matters."
   ]
  },
  {
   "cell_type": "markdown",
   "metadata": {},
   "source": [
    "# 2 Objects\n",
    "1. In Python, an **object** is a collection of **data and instructions** held in computer memory that consists of \n",
    "   - a **type**\n",
    "   - a **unique identity**\n",
    "   - **data (i.e., content)**\n",
    "   - **methods**\n",
    "2. These concepts are defined and discussed sequentially below.\n",
    "\n",
    "## 2.1 Type\n",
    "1. Python provides for different **types of objects**, to accommodate different **categories of data**.\n",
    "   - See 1 & 2.\n",
    "2. The type of an object matters for many expressions.\n",
    "   - e.g.\n",
    "     - The **addition** operator between **two strings** means **concatenation**.\n",
    "     - The same **addition** operator between **two numbers** means **ordinary addition**.\n",
    "   - If there are **mixing types**, it is **unclear** to Python whether the user wants to\n",
    "     - convert `'300'` to an integer and then add it to `400`, or\n",
    "     - convert `400` to string and then concatenate it with `'300'`.\n",
    "3. Python is **strongly typed**, though some languages might try to guess.\n",
    "   - **Type** is important, and **implicit type conversion** is **rare** in Python (**PI: Unclear**).\n",
    "   - Python will respond instead by raising a `TypeError`.\n",
    "   - To avoid this error, we need to clarify by changing the relevant type."
   ]
  },
  {
   "cell_type": "code",
   "execution_count": 1,
   "metadata": {},
   "outputs": [
    {
     "data": {
      "text/plain": [
       "str"
      ]
     },
     "execution_count": 1,
     "metadata": {},
     "output_type": "execute_result"
    }
   ],
   "source": [
    "# Different types of objects for different categories of data 1\n",
    "s = 'This is a string'\n",
    "type(s)"
   ]
  },
  {
   "cell_type": "code",
   "execution_count": 4,
   "metadata": {},
   "outputs": [
    {
     "data": {
      "text/plain": [
       "int"
      ]
     },
     "execution_count": 4,
     "metadata": {},
     "output_type": "execute_result"
    }
   ],
   "source": [
    "# Different types of objects for different categories of data 2\n",
    "x = 42\n",
    "type(x)"
   ]
  },
  {
   "cell_type": "code",
   "execution_count": 3,
   "metadata": {},
   "outputs": [
    {
     "data": {
      "text/plain": [
       "'300cc'"
      ]
     },
     "execution_count": 3,
     "metadata": {},
     "output_type": "execute_result"
    }
   ],
   "source": [
    "# Addition of strings: Concatenation\n",
    "'300' + 'cc'"
   ]
  },
  {
   "cell_type": "code",
   "execution_count": 4,
   "metadata": {},
   "outputs": [
    {
     "data": {
      "text/plain": [
       "700"
      ]
     },
     "execution_count": 4,
     "metadata": {},
     "output_type": "execute_result"
    }
   ],
   "source": [
    "# Addition of numbers: Numbers\n",
    "300 + 400"
   ]
  },
  {
   "cell_type": "code",
   "execution_count": 5,
   "metadata": {},
   "outputs": [
    {
     "ename": "TypeError",
     "evalue": "can only concatenate str (not \"int\") to str",
     "output_type": "error",
     "traceback": [
      "\u001b[0;31m---------------------------------------------------------------------------\u001b[0m",
      "\u001b[0;31mTypeError\u001b[0m                                 Traceback (most recent call last)",
      "\u001b[0;32m<ipython-input-5-122941d3d134>\u001b[0m in \u001b[0;36m<module>\u001b[0;34m\u001b[0m\n\u001b[1;32m      1\u001b[0m \u001b[0;31m# Mixing-type operations might return Errors.\u001b[0m\u001b[0;34m\u001b[0m\u001b[0;34m\u001b[0m\u001b[0;34m\u001b[0m\u001b[0m\n\u001b[0;32m----> 2\u001b[0;31m \u001b[0;34m'300'\u001b[0m \u001b[0;34m+\u001b[0m \u001b[0;36m400\u001b[0m\u001b[0;34m\u001b[0m\u001b[0;34m\u001b[0m\u001b[0m\n\u001b[0m",
      "\u001b[0;31mTypeError\u001b[0m: can only concatenate str (not \"int\") to str"
     ]
    }
   ],
   "source": [
    "# Mixing-type operations might return Errors.\n",
    "'300' + 400 "
   ]
  },
  {
   "cell_type": "code",
   "execution_count": 5,
   "metadata": {},
   "outputs": [
    {
     "data": {
      "text/plain": [
       "700"
      ]
     },
     "execution_count": 5,
     "metadata": {},
     "output_type": "execute_result"
    }
   ],
   "source": [
    "# Solve 'TypeError' above by clarifying\n",
    "int('300') + 400  # to add as numbers, change the string to an integer"
   ]
  },
  {
   "cell_type": "markdown",
   "metadata": {},
   "source": [
    "## 2.2 Identity\n",
    "1. In Python, each object has a **unique** identifier (identity), which helps Python (and us) keep track of the object.\n",
    "2. The identity of an object can be obtained via the `id()` function.\n",
    "   - The identity of an object is(**PI:,**) in fact(**PI:,**) just the **address of the object in memory**.\n",
    "     - The memory is temporary, so the identity of object may change every time we excute the code including the object.\n",
    "   - e.g. `y` and `z` happen to have the same value (i.e., `2.5`), but they are not the same object."
   ]
  },
  {
   "cell_type": "code",
   "execution_count": 10,
   "metadata": {},
   "outputs": [
    {
     "data": {
      "text/plain": [
       "140524354897528"
      ]
     },
     "execution_count": 10,
     "metadata": {},
     "output_type": "execute_result"
    }
   ],
   "source": [
    "y = 2.5\n",
    "z = 2.5\n",
    "id(z)"
   ]
  },
  {
   "cell_type": "code",
   "execution_count": 11,
   "metadata": {},
   "outputs": [
    {
     "data": {
      "text/plain": [
       "140524354897552"
      ]
     },
     "execution_count": 11,
     "metadata": {},
     "output_type": "execute_result"
    }
   ],
   "source": [
    "id(y)"
   ]
  },
  {
   "cell_type": "markdown",
   "metadata": {},
   "source": [
    "## 2.3 Object content: data and attributes\n",
    "1. If we set `x = 42`(**PI:,**) then we create an object of type `int` that contains the data `42`.\n",
    "   - In fact, it contains more (see the example below).\n",
    "   - When Python creates this integer object, it stores with it **various auxiliary information**, such as \n",
    "     - the **imaginary part**, and \n",
    "     - the **type**.\n",
    "2. Any **name following a dot** is called an **attribute** of the **object to the left of the dot**.\n",
    "   - e.g., `imag` and `__class__` are attributes of `x`.\n",
    "3. We see from this example that \n",
    "   - **objects have attributes** that contain **auxiliary information**.\n",
    "   - They also have attributes that act like functions, called **methods**.\n",
    "     - These attributes are important, so we will discuss them in-depth (**PI: where?**)"
   ]
  },
  {
   "cell_type": "code",
   "execution_count": 12,
   "metadata": {},
   "outputs": [
    {
     "data": {
      "text/plain": [
       "42"
      ]
     },
     "execution_count": 12,
     "metadata": {},
     "output_type": "execute_result"
    }
   ],
   "source": [
    "x = 42\n",
    "x"
   ]
  },
  {
   "cell_type": "code",
   "execution_count": 13,
   "metadata": {},
   "outputs": [
    {
     "data": {
      "text/plain": [
       "0"
      ]
     },
     "execution_count": 13,
     "metadata": {},
     "output_type": "execute_result"
    }
   ],
   "source": [
    "x.imag"
   ]
  },
  {
   "cell_type": "code",
   "execution_count": 14,
   "metadata": {},
   "outputs": [
    {
     "data": {
      "text/plain": [
       "int"
      ]
     },
     "execution_count": 14,
     "metadata": {},
     "output_type": "execute_result"
    }
   ],
   "source": [
    "x.__class__"
   ]
  },
  {
   "cell_type": "markdown",
   "metadata": {},
   "source": [
    "## 2.4 Methods\n",
    "1. Formally, **methods** are **attributes of objects** that are **callable** (i.e., can be called as functions)(**PI: .**)\n",
    "   - e.g., \n",
    "   - **Methods** are **functions that are bundled with objects**.\n",
    "2. **Methods** typically \n",
    "   - **act on the data** contained in the **object** they belong to, or \n",
    "   - **combine that data** with **other data**(**PI: .**)\n",
    "3. A great deal of Python functionality is organized around **method calls**.\n",
    "   - e.g., see part 3 below.\n",
    "   - It does not look like there are any methods(**PI: remove 's'**) used here, but in fact the **square bracket assignment notation** is just a convenient interface to a **method call**.\n",
    "   - What actually happens is that Python calls the `__setitem__` method.\n",
    "     - If we wanted to(**PI: ,**) then we could modify the `__setitem__` method, so that square bracket assignment does something totally different (**PI: what/how**).   "
   ]
  },
  {
   "cell_type": "code",
   "execution_count": 15,
   "metadata": {},
   "outputs": [
    {
     "data": {
      "text/plain": [
       "True"
      ]
     },
     "execution_count": 15,
     "metadata": {},
     "output_type": "execute_result"
    }
   ],
   "source": [
    "# 1\n",
    "x = ['foo', 'bar']\n",
    "callable(x.append)"
   ]
  },
  {
   "cell_type": "code",
   "execution_count": 16,
   "metadata": {},
   "outputs": [
    {
     "data": {
      "text/plain": [
       "False"
      ]
     },
     "execution_count": 16,
     "metadata": {},
     "output_type": "execute_result"
    }
   ],
   "source": [
    "# 1\n",
    "callable(x.__doc__)"
   ]
  },
  {
   "cell_type": "code",
   "execution_count": 17,
   "metadata": {},
   "outputs": [
    {
     "data": {
      "text/plain": [
       "'THIS IS A STRING'"
      ]
     },
     "execution_count": 17,
     "metadata": {},
     "output_type": "execute_result"
    }
   ],
   "source": [
    "# 2 Methods act on data contained in objects\n",
    "x = ['a', 'b']\n",
    "x.append('c')\n",
    "s = 'This is a string'\n",
    "s.upper()"
   ]
  },
  {
   "cell_type": "code",
   "execution_count": 18,
   "metadata": {},
   "outputs": [
    {
     "data": {
      "text/plain": [
       "'this is a string'"
      ]
     },
     "execution_count": 18,
     "metadata": {},
     "output_type": "execute_result"
    }
   ],
   "source": [
    "# 2 Methods act on data contained in objects\n",
    "s.lower()"
   ]
  },
  {
   "cell_type": "code",
   "execution_count": 20,
   "metadata": {},
   "outputs": [
    {
     "data": {
      "text/plain": [
       "'That is a string'"
      ]
     },
     "execution_count": 20,
     "metadata": {},
     "output_type": "execute_result"
    }
   ],
   "source": [
    "# 2 Methods combine data with other data\n",
    "s.replace('This', 'That')"
   ]
  },
  {
   "cell_type": "code",
   "execution_count": 22,
   "metadata": {},
   "outputs": [
    {
     "data": {
      "text/plain": [
       "['a', 'aa']"
      ]
     },
     "execution_count": 22,
     "metadata": {},
     "output_type": "execute_result"
    }
   ],
   "source": [
    "# 3 \n",
    "x = ['a', 'b']\n",
    "x[1] = 'aa'  # Item assignment using square bracket notation\n",
    "x"
   ]
  },
  {
   "cell_type": "code",
   "execution_count": 23,
   "metadata": {},
   "outputs": [
    {
     "data": {
      "text/plain": [
       "['a', 'aa']"
      ]
     },
     "execution_count": 23,
     "metadata": {},
     "output_type": "execute_result"
    }
   ],
   "source": [
    "# 3\n",
    "x = ['a', 'b']\n",
    "x.__setitem__(1, 'aa')  # Item assignment using square bracket notation\n",
    "x"
   ]
  },
  {
   "cell_type": "markdown",
   "metadata": {},
   "source": [
    "# 3 Summary\n",
    "1. In Python, **everything in memory** is treated as **an object**.\n",
    "   - This includes not just **lists, strings**, etc., but also less obvious things, such as\n",
    "     - **functions** (once they have been read into memory)\n",
    "     - **modules** (ditto)\n",
    "     - **files opened for reading or writing**\n",
    "     - **integers**, etc.\n",
    "2. Consider functions and modules for example.\n",
    "   - When Python reads a **function definition** (**PI: clarify???**), it creates a **function object** and stores it in memory.\n",
    "     - We can see that `f` has type, identity, attributes and so on.\n",
    "       - Just like any other object.\n",
    "     - `f` also has methods.\n",
    "       - One example is the `__call__` method, which just **evaluates the function**.\n",
    "       - Another is the `__dir__` method, which **returns a list of attributes**.\n",
    "   - Modules loaded in memory are also treated as objects.\n",
    "3. This **uniform treatment of data** in Python (everything is an object) helps keep the language **simple and consistent**."
   ]
  },
  {
   "cell_type": "code",
   "execution_count": 6,
   "metadata": {},
   "outputs": [
    {
     "data": {
      "text/plain": [
       "<function __main__.f(x)>"
      ]
     },
     "execution_count": 6,
     "metadata": {},
     "output_type": "execute_result"
    }
   ],
   "source": [
    "def f(x): return x**2\n",
    "f"
   ]
  },
  {
   "cell_type": "code",
   "execution_count": 2,
   "metadata": {},
   "outputs": [
    {
     "data": {
      "text/plain": [
       "function"
      ]
     },
     "execution_count": 2,
     "metadata": {},
     "output_type": "execute_result"
    }
   ],
   "source": [
    "# Type of `f`\n",
    "type(f)"
   ]
  },
  {
   "cell_type": "code",
   "execution_count": 7,
   "metadata": {},
   "outputs": [
    {
     "data": {
      "text/plain": [
       "140483018117736"
      ]
     },
     "execution_count": 7,
     "metadata": {},
     "output_type": "execute_result"
    }
   ],
   "source": [
    "# Identity of `f`\n",
    "id(f)"
   ]
  },
  {
   "cell_type": "code",
   "execution_count": 8,
   "metadata": {},
   "outputs": [
    {
     "data": {
      "text/plain": [
       "'f'"
      ]
     },
     "execution_count": 8,
     "metadata": {},
     "output_type": "execute_result"
    }
   ],
   "source": [
    "# Attributes of `f`\n",
    "f.__name__"
   ]
  },
  {
   "cell_type": "code",
   "execution_count": 9,
   "metadata": {},
   "outputs": [
    {
     "data": {
      "text/plain": [
       "9"
      ]
     },
     "execution_count": 9,
     "metadata": {},
     "output_type": "execute_result"
    }
   ],
   "source": [
    "# Methods of `f`: `__call__` method\n",
    "f.__call__(3)"
   ]
  },
  {
   "cell_type": "code",
   "execution_count": 10,
   "metadata": {},
   "outputs": [
    {
     "data": {
      "text/plain": [
       "<function function.__dir__()>"
      ]
     },
     "execution_count": 10,
     "metadata": {},
     "output_type": "execute_result"
    }
   ],
   "source": [
    "# Methods of `f`: `__dir__` method\n",
    "f.__dir__"
   ]
  },
  {
   "cell_type": "code",
   "execution_count": 11,
   "metadata": {
    "lines_to_next_cell": 0
   },
   "outputs": [
    {
     "data": {
      "text/plain": [
       "140481400960488"
      ]
     },
     "execution_count": 11,
     "metadata": {},
     "output_type": "execute_result"
    }
   ],
   "source": [
    "# Modules in memory treated as objects\n",
    "import math\n",
    "\n",
    "id(math)"
   ]
  },
  {
   "cell_type": "markdown",
   "metadata": {},
   "source": [
    "\n"
   ]
  }
 ],
 "metadata": {
  "jupytext": {
   "formats": "ipynb,md"
  },
  "kernelspec": {
   "display_name": "Python 3",
   "language": "python",
   "name": "python3"
  },
  "language_info": {
   "codemirror_mode": {
    "name": "ipython",
    "version": 3
   },
   "file_extension": ".py",
   "mimetype": "text/x-python",
   "name": "python",
   "nbconvert_exporter": "python",
   "pygments_lexer": "ipython3",
   "version": "3.7.3"
  }
 },
 "nbformat": 4,
 "nbformat_minor": 2
}
