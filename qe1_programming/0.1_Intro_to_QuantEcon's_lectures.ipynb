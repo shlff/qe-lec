{
 "cells": [
  {
   "cell_type": "markdown",
   "metadata": {},
   "source": [
    "# 0.1 Intro to QuantEcon's lectures\n",
    "\n",
    "**TBC=To Be Checked**\n",
    "\n",
    "**PI=Potential improvement**"
   ]
  },
  {
   "cell_type": "markdown",
   "metadata": {},
   "source": [
    "# 1 Overview\n",
    "Topics of this course include\n",
    "1. algorithms and numerical methods for studying economic problems,\n",
    "2. related mathematic and statistical concepts, and\n",
    "3. basics of coding skills and software engineering."
   ]
  },
  {
   "cell_type": "markdown",
   "metadata": {},
   "source": [
    "# 2 Python\n",
    "\n",
    "1. Differences between Python and Julia:\n",
    "   - Python is a general(**PI: -**)purpose language featuring a massive user community in the sciences and an outstanding scientific ecosystem. (how to understand ecosystem?)\n",
    "     - Advantage:\n",
    "        - Supported by a vast collection of scientific libraries\n",
    "        - A highly marketable skill.\n",
    "   - Julia is (**PI: a**) more recent language with many exciting features.\n",
    "       - Advantage: 3rd-party libraries are often written entirely in Julia itself.\n",
    "\n",
    "2. Common:\n",
    "   - Both are modern, open(**PI: -**)source, high productivity languages with all the key features needed for high(**PI: -**)performance computing."
   ]
  },
  {
   "cell_type": "markdown",
   "metadata": {},
   "source": [
    "# 2 Open source\n",
    "All the computing environments we work with are free and open(**PI: -**)source.\n",
    "Advantages of open sources:\n",
    "1. Free;\n",
    "2. You can read them and learn how they work:\n",
    "   - While dipping into external code libraries takes a bit of coding maturity, it is very useful for\n",
    "     - helping you understand the **details** of a particular implementation, and\n",
    "     - building your programming skills by showing you code written by first(**PI: -**)rate programmers.\n",
    "3. Modify the library to suit your needs:\n",
    "   - if the functionality provided is not exactly what you want, you are free to change it.\n",
    "4. It conforms to the [(scientific ideal of reproducibility)](https://en.wikipedia.org/wiki/Scientific_method). (?)\n",
    "   - The ability to replicate the analysis process?\n",
    "   - It is (**PI: a**) more philosophical advantage of open(**PI: -**)source software."
   ]
  },
  {
   "cell_type": "markdown",
   "metadata": {},
   "source": [
    "# 3 Other languages?\n",
    "\n",
    "## 3.1 Matlab\n",
    "\n",
    "Disadvantages:\n",
    "1. It cannot match Python or Julia in terms of performance and design.\n",
    "2. Its proprietary.\n",
    "Given its availability now, it is hard to find any good reasons(**PI: reason**) to invest in MATLAB.\n",
    "\n",
    "## 3.2 R\n",
    "\n",
    "1. [R](https://cran.r-project.org/) is also a useful openHow about Other Languages?\n",
    "But why don’t you use language XYZ?\n",
    "\n",
    "2. However, Python is more general(**PI: -**)purpose than $R$ and hence a better fit for this course. \n",
    "   - If there are $R$ libraries you find you want to use, then you can now call them from within Python or Julia (**TBC**)\n",
    "\n",
    "## 3.3 C/C++/Fortran\n",
    "\n",
    "Fortran/C/C++ is slower than Python due to two reasons:\n",
    "1. We can achieve speeds equal to faster than those of compiled languages in Python through features like (**PI: a**) **just-in-time compilation** (**TBC**).\n",
    "2. Writing a program can be thought of as \"optimization\", and our objective function to minimize is\n",
    "$$\n",
    "total \\ time = development \\ time + executive \\ time\n",
    "$$\n",
    "There is a trade(**PI: -**)off between development time and executive time that \n",
    "   - Our time is a far more valuable resource than the computer's time;\n",
    "   - Languages like Python are much faster to write and debug in.\n",
    "   - In any one program, the vast majority of CPU time will be spent iterating over just a few lines of our code. (**make sense**)\n",
    "\n",
    "Writing our entire program in Fortran/C/C++ is best thought of as \"premature optimization(**PI: .**)\"\n",
    "Since writing our entire program in Fortran/C/C++ requires a lot of development time but with little decreases in execution time compared to Python, this is a \"premature optimization\".\n",
    "   - We should forget about small efficiencies, say about 97% of the time: premature optimization is the root of all evil (Donald Knuth)."
   ]
  },
  {
   "cell_type": "code",
   "execution_count": null,
   "metadata": {},
   "outputs": [],
   "source": []
  }
 ],
 "metadata": {
  "jupytext": {
   "formats": "ipynb,md"
  },
  "kernelspec": {
   "display_name": "Python 3",
   "language": "python",
   "name": "python3"
  },
  "language_info": {
   "codemirror_mode": {
    "name": "ipython",
    "version": 3
   },
   "file_extension": ".py",
   "mimetype": "text/x-python",
   "name": "python",
   "nbconvert_exporter": "python",
   "pygments_lexer": "ipython3",
   "version": "3.7.3"
  }
 },
 "nbformat": 4,
 "nbformat_minor": 2
}
