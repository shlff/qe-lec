{
 "cells": [
  {
   "cell_type": "markdown",
   "metadata": {},
   "source": [
    "# 3.2 more language features"
   ]
  },
  {
   "cell_type": "markdown",
   "metadata": {},
   "source": [
    "# 1 overview\n",
    "\n",
    "1. With this last lecture (**PI1: why last? this is not the last one.**), our advice is to **skip it on first pass**, unless we have a burning desire to read it.\n",
    "   - It's here\n",
    "     - as a **reference**, so we can link back to it when required, and\n",
    "     - for those who have worked through a number of applications, and now want to learn more about the Python language.\n",
    "   - A variety of topics are treated in the lecture, including \n",
    "     - **generators**, \n",
    "     -  exceptions and \n",
    "     - descriptors."
   ]
  },
  {
   "cell_type": "markdown",
   "metadata": {},
   "source": [
    "# 2 iterable and iterators\n",
    "\n",
    "1. We've already said something in lecture 2.4 about iterating in Python.\n",
    "   - Now let's look more closely at how it all works, focusing in (**PI2: on**) Python's implementation of the `for` loop.\n",
    "\n",
    "## 2.1 iterators\n",
    "\n",
    "1. Iterators are a **uniform interface** (**???**) to stepping through elements in a collection.\n",
    "   - Here, we will talk about using iterators\n",
    "     - later we will learn how to build our own.\n",
    "2. Formally, an **iterator** is an object with **a `__next__` method**.\n",
    "   - e.g., **file objects** are iterators.\n",
    "     - To see this, let's have another look at the US cities data, which is written to the present working directory in Program 1.\n",
    "     - We see that file objects do indeed have a `__next__` method, and that calling this method returns the next line in the file, see Program 2-3.\n",
    "       - The next method (**PI3: add ` `**) can also be accessed visa the built-in function `next()`, which directly calls this method, see Program 4.\n",
    "   - The **objects returned by `enumerate()`** are also iterators, see Program 5-6.\n",
    "   - As are the **reader objects from the `csv` module**, see Program 7-9.\n",
    "     - Let's create a small csv file that contains data from the NIKKEI index."
   ]
  },
  {
   "cell_type": "code",
   "execution_count": 20,
   "metadata": {},
   "outputs": [
    {
     "name": "stdout",
     "output_type": "stream",
     "text": [
      "Overwriting us_cities.txt\n"
     ]
    }
   ],
   "source": [
    "%%file us_cities.txt    \n",
    "new york: 8244910\n",
    "los angeles: 3819702\n",
    "chicago: 2707120\n",
    "houston: 2145146\n",
    "philadelphia: 1536471\n",
    "phoenix: 1469471\n",
    "san antonio: 1359758\n",
    "san diego: 1326179\n",
    "dallas: 1223229\n",
    "# Program 1"
   ]
  },
  {
   "cell_type": "code",
   "execution_count": 21,
   "metadata": {},
   "outputs": [
    {
     "data": {
      "text/plain": [
       "'new york: 8244910\\n'"
      ]
     },
     "execution_count": 21,
     "metadata": {},
     "output_type": "execute_result"
    }
   ],
   "source": [
    "# Program 2\n",
    "\n",
    "f = open('us_cities.txt')\n",
    "f.__next__()"
   ]
  },
  {
   "cell_type": "code",
   "execution_count": 22,
   "metadata": {},
   "outputs": [
    {
     "data": {
      "text/plain": [
       "'los angeles: 3819702\\n'"
      ]
     },
     "execution_count": 22,
     "metadata": {},
     "output_type": "execute_result"
    }
   ],
   "source": [
    "# Program 3\n",
    "\n",
    "f.__next__()"
   ]
  },
  {
   "cell_type": "code",
   "execution_count": 23,
   "metadata": {},
   "outputs": [
    {
     "data": {
      "text/plain": [
       "'chicago: 2707120\\n'"
      ]
     },
     "execution_count": 23,
     "metadata": {},
     "output_type": "execute_result"
    }
   ],
   "source": [
    "# Program 4\n",
    "\n",
    "next(f)"
   ]
  },
  {
   "cell_type": "code",
   "execution_count": 24,
   "metadata": {},
   "outputs": [
    {
     "data": {
      "text/plain": [
       "(0, 'foo')"
      ]
     },
     "execution_count": 24,
     "metadata": {},
     "output_type": "execute_result"
    }
   ],
   "source": [
    "# Program 5\n",
    "\n",
    "e = enumerate(['foo', 'bar'])\n",
    "next(e)"
   ]
  },
  {
   "cell_type": "code",
   "execution_count": 25,
   "metadata": {},
   "outputs": [
    {
     "data": {
      "text/plain": [
       "(1, 'bar')"
      ]
     },
     "execution_count": 25,
     "metadata": {},
     "output_type": "execute_result"
    }
   ],
   "source": [
    "# Program 6\n",
    "\n",
    "next(e)"
   ]
  },
  {
   "cell_type": "code",
   "execution_count": 26,
   "metadata": {},
   "outputs": [
    {
     "name": "stdout",
     "output_type": "stream",
     "text": [
      "Overwriting test_table.csv\n"
     ]
    }
   ],
   "source": [
    "%%file test_table.csv\n",
    "Date,Open,High,Low,Close,Volume,Adj Close\n",
    "2009-05-21,9280.35,9286.35,9189.92,9264.15,133200,9264.15\n",
    "2009-05-20,9372.72,9399.40,9311.61,9344.64,143200,9344.64\n",
    "2009-05-19,9172.56,9326.75,9166.97,9290.29,167000,9290.29\n",
    "2009-05-18,9167.05,9167.82,8997.74,9038.69,147800,9038.69\n",
    "2009-05-15,9150.21,9272.08,9140.90,9265.02,172000,9265.02\n",
    "2009-05-14,9212.30,9223.77,9052.41,9093.73,169400,9093.73\n",
    "2009-05-13,9305.79,9379.47,9278.89,9340.49,176000,9340.49\n",
    "2009-05-12,9358.25,9389.61,9298.61,9298.61,188400,9298.61\n",
    "2009-05-11,9460.72,9503.91,9342.75,9451.98,230800,9451.98\n",
    "2009-05-08,9351.40,9464.43,9349.57,9432.83,220200,9432.83\n",
    "\n",
    "# Program 7"
   ]
  },
  {
   "cell_type": "code",
   "execution_count": 27,
   "metadata": {},
   "outputs": [
    {
     "data": {
      "text/plain": [
       "['Date', 'Open', 'High', 'Low', 'Close', 'Volume', 'Adj Close']"
      ]
     },
     "execution_count": 27,
     "metadata": {},
     "output_type": "execute_result"
    }
   ],
   "source": [
    "# Program 8\n",
    "\n",
    "from csv import reader\n",
    "\n",
    "f = open('test_table.csv', 'r')\n",
    "nikkei_data = reader(f)\n",
    "next(nikkei_data)"
   ]
  },
  {
   "cell_type": "code",
   "execution_count": 28,
   "metadata": {
    "scrolled": true
   },
   "outputs": [
    {
     "data": {
      "text/plain": [
       "['2009-05-21', '9280.35', '9286.35', '9189.92', '9264.15', '133200', '9264.15']"
      ]
     },
     "execution_count": 28,
     "metadata": {},
     "output_type": "execute_result"
    }
   ],
   "source": [
    "# Program 9\n",
    "\n",
    "next(nikkei_data)"
   ]
  },
  {
   "cell_type": "markdown",
   "metadata": {},
   "source": [
    "## 2.2 iterators in `For` loops\n",
    "\n",
    "1. All iterators can be replaced to the right of the `in` keyword in `for` loop statements.\n",
    "   - In fact, this is how the `for` loop works: \n",
    "     - if we write Program 1, then the interpreter\n",
    "       - calls `iterator.__next__()` and binds `x` to the result,\n",
    "       - executes the code block\n",
    "       - repeats until a `StopIteration` error occurs\n",
    "   - Now we know how this magical looking syntax in Program 2 works.\n",
    "     - The interpreter just keeps\n",
    "       - calling `f.__next__()` and binding `line` to the result,\n",
    "       - executing the body of the loop.\n",
    "     - This continues until a `StopIteration` error occurs."
   ]
  },
  {
   "cell_type": "code",
   "execution_count": null,
   "metadata": {},
   "outputs": [],
   "source": [
    "# Program 10\n",
    "for x in iterator:\n",
    "    <code block>`"
   ]
  },
  {
   "cell_type": "code",
   "execution_count": null,
   "metadata": {},
   "outputs": [],
   "source": [
    "# Program 11\n",
    "f = open('somefile.txt', 'r') \n",
    "for line in f:\n",
    "    # do something"
   ]
  },
  {
   "cell_type": "markdown",
   "metadata": {},
   "source": [
    "## 2.3 iterables\n",
    "\n",
    "1. We already know that we can put a Python list to the right of `in` in a `for` loop, e.g. see Program 12.\n",
    "   - So does that mean that a list is an iterator?\n",
    "     - The answer is no, see Program 13-14, due to the definition of iterators in 2.1.\n",
    "   - So why we can iterate over a list in a `for` loop?\n",
    "     - The reason is that a list is iterable (as opposed to an iterator).\n",
    "2. Formally, an object is **iterable** if it can be **converted to an iterator** using the **built-in function `iter()`**.\n",
    "   - **Lists** are one such object, see Program 15-19.\n",
    "   - Many other objects are iterable, such as **dictionaries and tuples**.\n",
    "   - But **not all objects are iterable**, see Program 20.\n",
    "3. To conclude our discussion of `for` loops\n",
    "   - `for` loops work on either **iterators or iterables**,\n",
    "   - in the second case (**Program 12?**), the iterable is converted into an iterator before the loop starts."
   ]
  },
  {
   "cell_type": "code",
   "execution_count": 29,
   "metadata": {},
   "outputs": [
    {
     "name": "stdout",
     "output_type": "stream",
     "text": [
      "spam\n",
      "eggs\n"
     ]
    }
   ],
   "source": [
    "# Program 12\n",
    "\n",
    "for i in ['spam', 'eggs']:\n",
    "    print(i)"
   ]
  },
  {
   "cell_type": "code",
   "execution_count": 30,
   "metadata": {},
   "outputs": [
    {
     "data": {
      "text/plain": [
       "list"
      ]
     },
     "execution_count": 30,
     "metadata": {},
     "output_type": "execute_result"
    }
   ],
   "source": [
    "# Program 13\n",
    "\n",
    "x = ['foo', 'bar']\n",
    "type(x)"
   ]
  },
  {
   "cell_type": "code",
   "execution_count": 31,
   "metadata": {},
   "outputs": [
    {
     "ename": "TypeError",
     "evalue": "'list' object is not an iterator",
     "output_type": "error",
     "traceback": [
      "\u001b[0;31m---------------------------------------------------------------------------\u001b[0m",
      "\u001b[0;31mTypeError\u001b[0m                                 Traceback (most recent call last)",
      "\u001b[0;32m<ipython-input-31-f83524c3571b>\u001b[0m in \u001b[0;36m<module>\u001b[0;34m\u001b[0m\n\u001b[1;32m      1\u001b[0m \u001b[0;31m# Program 14\u001b[0m\u001b[0;34m\u001b[0m\u001b[0;34m\u001b[0m\u001b[0;34m\u001b[0m\u001b[0m\n\u001b[0;32m----> 2\u001b[0;31m \u001b[0mnext\u001b[0m\u001b[0;34m(\u001b[0m\u001b[0mx\u001b[0m\u001b[0;34m)\u001b[0m\u001b[0;34m\u001b[0m\u001b[0;34m\u001b[0m\u001b[0m\n\u001b[0m",
      "\u001b[0;31mTypeError\u001b[0m: 'list' object is not an iterator"
     ]
    }
   ],
   "source": [
    "# Program 14\n",
    "next(x)"
   ]
  },
  {
   "cell_type": "code",
   "execution_count": 36,
   "metadata": {},
   "outputs": [
    {
     "data": {
      "text/plain": [
       "list"
      ]
     },
     "execution_count": 36,
     "metadata": {},
     "output_type": "execute_result"
    }
   ],
   "source": [
    "# Program 15\n",
    "\n",
    "x = ['foo', 'bar']\n",
    "type(x)"
   ]
  },
  {
   "cell_type": "code",
   "execution_count": 38,
   "metadata": {},
   "outputs": [
    {
     "data": {
      "text/plain": [
       "list_iterator"
      ]
     },
     "execution_count": 38,
     "metadata": {},
     "output_type": "execute_result"
    }
   ],
   "source": [
    "# Program 16\n",
    "\n",
    "y = iter(x)\n",
    "type(y)"
   ]
  },
  {
   "cell_type": "code",
   "execution_count": 39,
   "metadata": {},
   "outputs": [
    {
     "data": {
      "text/plain": [
       "'foo'"
      ]
     },
     "execution_count": 39,
     "metadata": {},
     "output_type": "execute_result"
    }
   ],
   "source": [
    "# Program 17\n",
    "\n",
    "next(y)"
   ]
  },
  {
   "cell_type": "code",
   "execution_count": 40,
   "metadata": {},
   "outputs": [
    {
     "data": {
      "text/plain": [
       "'bar'"
      ]
     },
     "execution_count": 40,
     "metadata": {},
     "output_type": "execute_result"
    }
   ],
   "source": [
    "# Program 18\n",
    "\n",
    "next(y)"
   ]
  },
  {
   "cell_type": "code",
   "execution_count": 41,
   "metadata": {},
   "outputs": [
    {
     "ename": "StopIteration",
     "evalue": "",
     "output_type": "error",
     "traceback": [
      "\u001b[0;31m---------------------------------------------------------------------------\u001b[0m",
      "\u001b[0;31mStopIteration\u001b[0m                             Traceback (most recent call last)",
      "\u001b[0;32m<ipython-input-41-5471b8f564af>\u001b[0m in \u001b[0;36m<module>\u001b[0;34m\u001b[0m\n\u001b[1;32m      1\u001b[0m \u001b[0;31m# Program 19\u001b[0m\u001b[0;34m\u001b[0m\u001b[0;34m\u001b[0m\u001b[0;34m\u001b[0m\u001b[0m\n\u001b[1;32m      2\u001b[0m \u001b[0;34m\u001b[0m\u001b[0m\n\u001b[0;32m----> 3\u001b[0;31m \u001b[0mnext\u001b[0m\u001b[0;34m(\u001b[0m\u001b[0my\u001b[0m\u001b[0;34m)\u001b[0m\u001b[0;34m\u001b[0m\u001b[0;34m\u001b[0m\u001b[0m\n\u001b[0m",
      "\u001b[0;31mStopIteration\u001b[0m: "
     ]
    }
   ],
   "source": [
    "# Program 19\n",
    "\n",
    "next(y)"
   ]
  },
  {
   "cell_type": "code",
   "execution_count": 42,
   "metadata": {},
   "outputs": [
    {
     "ename": "TypeError",
     "evalue": "'int' object is not iterable",
     "output_type": "error",
     "traceback": [
      "\u001b[0;31m---------------------------------------------------------------------------\u001b[0m",
      "\u001b[0;31mTypeError\u001b[0m                                 Traceback (most recent call last)",
      "\u001b[0;32m<ipython-input-42-7a8252412331>\u001b[0m in \u001b[0;36m<module>\u001b[0;34m\u001b[0m\n\u001b[1;32m      1\u001b[0m \u001b[0;31m# Program 20\u001b[0m\u001b[0;34m\u001b[0m\u001b[0;34m\u001b[0m\u001b[0;34m\u001b[0m\u001b[0m\n\u001b[1;32m      2\u001b[0m \u001b[0;34m\u001b[0m\u001b[0m\n\u001b[0;32m----> 3\u001b[0;31m \u001b[0miter\u001b[0m\u001b[0;34m(\u001b[0m\u001b[0;36m42\u001b[0m\u001b[0;34m)\u001b[0m\u001b[0;34m\u001b[0m\u001b[0;34m\u001b[0m\u001b[0m\n\u001b[0m",
      "\u001b[0;31mTypeError\u001b[0m: 'int' object is not iterable"
     ]
    }
   ],
   "source": [
    "# Program 20\n",
    "\n",
    "iter(42)"
   ]
  },
  {
   "cell_type": "markdown",
   "metadata": {},
   "source": [
    "## 2.4 iterables and built-ins\n",
    "\n",
    "1. Some **built-in functions** that act on **sequences** also work with **iterables**.\n",
    "   - `max()`, `min()`, `sum()`, `all()`, `any()`.\n",
    "     - e.g. see Programs 21-23.\n",
    "   - One thing to remember about iterators is that they are depleted by use (**PI: disposable**), see Program 24-25."
   ]
  },
  {
   "cell_type": "code",
   "execution_count": 43,
   "metadata": {},
   "outputs": [
    {
     "data": {
      "text/plain": [
       "10"
      ]
     },
     "execution_count": 43,
     "metadata": {},
     "output_type": "execute_result"
    }
   ],
   "source": [
    "# Program 21\n",
    "\n",
    "x = [10, -10]\n",
    "max(x)"
   ]
  },
  {
   "cell_type": "code",
   "execution_count": 44,
   "metadata": {},
   "outputs": [
    {
     "data": {
      "text/plain": [
       "list"
      ]
     },
     "execution_count": 44,
     "metadata": {},
     "output_type": "execute_result"
    }
   ],
   "source": [
    "# Program 22\n",
    "\n",
    "y = iter(x)\n",
    "type(x)"
   ]
  },
  {
   "cell_type": "code",
   "execution_count": 45,
   "metadata": {},
   "outputs": [
    {
     "data": {
      "text/plain": [
       "10"
      ]
     },
     "execution_count": 45,
     "metadata": {},
     "output_type": "execute_result"
    }
   ],
   "source": [
    "# Program 23\n",
    "\n",
    "max(y)"
   ]
  },
  {
   "cell_type": "code",
   "execution_count": 46,
   "metadata": {},
   "outputs": [
    {
     "data": {
      "text/plain": [
       "10"
      ]
     },
     "execution_count": 46,
     "metadata": {},
     "output_type": "execute_result"
    }
   ],
   "source": [
    "# Program 24\n",
    "\n",
    "x = [10, -10]\n",
    "y = iter(x)\n",
    "max(y)"
   ]
  },
  {
   "cell_type": "code",
   "execution_count": 48,
   "metadata": {},
   "outputs": [
    {
     "ename": "ValueError",
     "evalue": "max() arg is an empty sequence",
     "output_type": "error",
     "traceback": [
      "\u001b[0;31m---------------------------------------------------------------------------\u001b[0m",
      "\u001b[0;31mValueError\u001b[0m                                Traceback (most recent call last)",
      "\u001b[0;32m<ipython-input-48-5dbe2783621f>\u001b[0m in \u001b[0;36m<module>\u001b[0;34m\u001b[0m\n\u001b[1;32m      1\u001b[0m \u001b[0;31m# Program 25\u001b[0m\u001b[0;34m\u001b[0m\u001b[0;34m\u001b[0m\u001b[0;34m\u001b[0m\u001b[0m\n\u001b[1;32m      2\u001b[0m \u001b[0;34m\u001b[0m\u001b[0m\n\u001b[0;32m----> 3\u001b[0;31m \u001b[0mmax\u001b[0m\u001b[0;34m(\u001b[0m\u001b[0my\u001b[0m\u001b[0;34m)\u001b[0m\u001b[0;34m\u001b[0m\u001b[0;34m\u001b[0m\u001b[0m\n\u001b[0m",
      "\u001b[0;31mValueError\u001b[0m: max() arg is an empty sequence"
     ]
    }
   ],
   "source": [
    "# Program 25\n",
    "\n",
    "max(y)"
   ]
  },
  {
   "cell_type": "markdown",
   "metadata": {},
   "source": [
    "# 3 names and name resolution\n",
    "\n",
    "\n",
    "\n",
    "## 3.1 variable names in python\n",
    "\n",
    "1. Consider the Python statement in Program 1.\n",
    "   - We now know that when this statement is executed, Python creates an object of type `int` in our computer's memory, containing\n",
    "     - the value `42`,\n",
    "     - some associated attributes.\n",
    "   - But what is `x` itself?\n",
    "2. In Python, `x` is called a **name**, and the statement `x=42` **binds** the name `x` to the integer object we have just discussed.\n",
    "   - Under the hood (**?**), this **process of binding names to objects** is implemented as a **dictionary**.\n",
    "   - There is no problem binding two or more names to the one object, regardless of what that object is, see Program 2-3.\n",
    "     - In the first step, a function object is created, and the name `f` is bound to it.\n",
    "     - After binding the name `g` to the same object, we can use it anywhere we would use `f`.\n",
    "   - What happens when the number of names bound to an object goes to zero? (**?**)\n",
    "     - Here's an example of this situation, where the name `x` is first bound to one object and the rebound to another, see Program 4-5.\n",
    "       - What happens here is that the first object (**PI: x in Program 4**) is garbage collected.\n",
    "       - In other words, the memory slot that stores that object is deallocated, and returned to the operating system (**PI4: we cannot see it from Program 4-5, maybe we should add `id(x)` in Program 5.**)."
   ]
  },
  {
   "cell_type": "code",
   "execution_count": 52,
   "metadata": {},
   "outputs": [],
   "source": [
    "# Program 1\n",
    "\n",
    "x = 42"
   ]
  },
  {
   "cell_type": "code",
   "execution_count": 53,
   "metadata": {},
   "outputs": [
    {
     "data": {
      "text/plain": [
       "True"
      ]
     },
     "execution_count": 53,
     "metadata": {},
     "output_type": "execute_result"
    }
   ],
   "source": [
    "# Program 2: create a function called f that prints any string it's called\n",
    "\n",
    "def f(string):\n",
    "    print(string)\n",
    "    \n",
    "g = f\n",
    "id(g) == id(f)"
   ]
  },
  {
   "cell_type": "code",
   "execution_count": 54,
   "metadata": {
    "scrolled": true
   },
   "outputs": [
    {
     "name": "stdout",
     "output_type": "stream",
     "text": [
      "test\n"
     ]
    }
   ],
   "source": [
    "# Program 3\n",
    "\n",
    "g('test')"
   ]
  },
  {
   "cell_type": "code",
   "execution_count": 89,
   "metadata": {},
   "outputs": [
    {
     "data": {
      "text/plain": [
       "140553208819824"
      ]
     },
     "execution_count": 89,
     "metadata": {},
     "output_type": "execute_result"
    }
   ],
   "source": [
    "# Program 4\n",
    "\n",
    "x = 'foo'\n",
    "id(x)"
   ]
  },
  {
   "cell_type": "code",
   "execution_count": 59,
   "metadata": {},
   "outputs": [
    {
     "data": {
      "text/plain": [
       "140553208819760"
      ]
     },
     "execution_count": 59,
     "metadata": {},
     "output_type": "execute_result"
    }
   ],
   "source": [
    "# Program 5: No names bound to the first object (in the Program 4, how we know it?)\n",
    "\n",
    "x = 'bar'\n",
    "id(x) # add this or add `x`"
   ]
  },
  {
   "cell_type": "markdown",
   "metadata": {},
   "source": [
    "## 3.2 namespaces\n",
    "\n",
    "1. Recall from the preceding discussion that the statement in Program 1, binds the name `x` to the integer object on the right-hand side.\n",
    "   - We also mentioned that this process of binding `x` to the correct object is implemented as a dicitionary.\n",
    "     - The dictionary is called a **namespace**.\n",
    "     \n",
    "2. **Definition:** A **namespace** is a symbol table (**PI5: a [link](https://en.wikipedia.org/wiki/Symbol_table) clarifying the symbol table might be attached here.**) that maps names to objects in memory.\n",
    "   - Python uses multiple namespaces, creating them on the fly as necessary.\n",
    "     - e.g., every time we import a module, Python creates a namespace for that module.\n",
    "       - To see this in action, suppose we write a script `math2.py` with a single line, see Program 6.\n",
    "       - Now we start the **Python interpreter** and import it, see Program 7.\n",
    "       - Both of these modules (**PI7: add `math` and `math2`**) have an attribute called `pi`, see Program 9-10.\n",
    "         - These two different bindings of `pi` exist in different namespaces, each one implemented as a dictionary.\n",
    "   - We can look at the dictionary directly, using `module_name.__dict__` (**PI8: it is `module_name.__dict__.items()` in the code. Why math2 has more built-in functions?**) see Program 11-12.\n",
    "   - We access elements of the namespace using the **dotted attribute notation**, see Program 9.\n",
    "     - In fact, this is entirely equivalent to `math.__dict__['pi']`, see Program 13."
   ]
  },
  {
   "cell_type": "code",
   "execution_count": 60,
   "metadata": {},
   "outputs": [
    {
     "name": "stdout",
     "output_type": "stream",
     "text": [
      "Writing math2.py\n"
     ]
    }
   ],
   "source": [
    "%%file math2.py\n",
    "pi = 'foobar'"
   ]
  },
  {
   "cell_type": "code",
   "execution_count": 61,
   "metadata": {},
   "outputs": [],
   "source": [
    "# Program 7\n",
    "\n",
    "import math2"
   ]
  },
  {
   "cell_type": "code",
   "execution_count": 94,
   "metadata": {},
   "outputs": [],
   "source": [
    "# Program 8\n",
    "\n",
    "import math"
   ]
  },
  {
   "cell_type": "code",
   "execution_count": 63,
   "metadata": {},
   "outputs": [
    {
     "data": {
      "text/plain": [
       "3.141592653589793"
      ]
     },
     "execution_count": 63,
     "metadata": {},
     "output_type": "execute_result"
    }
   ],
   "source": [
    "# Program 9\n",
    "\n",
    "math.pi"
   ]
  },
  {
   "cell_type": "code",
   "execution_count": 64,
   "metadata": {},
   "outputs": [
    {
     "data": {
      "text/plain": [
       "'foobar'"
      ]
     },
     "execution_count": 64,
     "metadata": {},
     "output_type": "execute_result"
    }
   ],
   "source": [
    "# Program 10\n",
    "\n",
    "import math2 # PI9: it should be superfluous.\n",
    "\n",
    "math2.pi"
   ]
  },
  {
   "cell_type": "code",
   "execution_count": 68,
   "metadata": {},
   "outputs": [
    {
     "data": {
      "text/plain": [
       "dict_items([('__name__', 'math'), ('__doc__', 'This module provides access to the mathematical functions\\ndefined by the C standard.'), ('__package__', ''), ('__loader__', <_frozen_importlib_external.ExtensionFileLoader object at 0x7fd5480fe750>), ('__spec__', ModuleSpec(name='math', loader=<_frozen_importlib_external.ExtensionFileLoader object at 0x7fd5480fe750>, origin='/Users/shuhu/anaconda3/lib/python3.7/lib-dynload/math.cpython-37m-darwin.so')), ('acos', <built-in function acos>), ('acosh', <built-in function acosh>), ('asin', <built-in function asin>), ('asinh', <built-in function asinh>), ('atan', <built-in function atan>), ('atan2', <built-in function atan2>), ('atanh', <built-in function atanh>), ('ceil', <built-in function ceil>), ('copysign', <built-in function copysign>), ('cos', <built-in function cos>), ('cosh', <built-in function cosh>), ('degrees', <built-in function degrees>), ('erf', <built-in function erf>), ('erfc', <built-in function erfc>), ('exp', <built-in function exp>), ('expm1', <built-in function expm1>), ('fabs', <built-in function fabs>), ('factorial', <built-in function factorial>), ('floor', <built-in function floor>), ('fmod', <built-in function fmod>), ('frexp', <built-in function frexp>), ('fsum', <built-in function fsum>), ('gamma', <built-in function gamma>), ('gcd', <built-in function gcd>), ('hypot', <built-in function hypot>), ('isclose', <built-in function isclose>), ('isfinite', <built-in function isfinite>), ('isinf', <built-in function isinf>), ('isnan', <built-in function isnan>), ('ldexp', <built-in function ldexp>), ('lgamma', <built-in function lgamma>), ('log', <built-in function log>), ('log1p', <built-in function log1p>), ('log10', <built-in function log10>), ('log2', <built-in function log2>), ('modf', <built-in function modf>), ('pow', <built-in function pow>), ('radians', <built-in function radians>), ('remainder', <built-in function remainder>), ('sin', <built-in function sin>), ('sinh', <built-in function sinh>), ('sqrt', <built-in function sqrt>), ('tan', <built-in function tan>), ('tanh', <built-in function tanh>), ('trunc', <built-in function trunc>), ('pi', 3.141592653589793), ('e', 2.718281828459045), ('tau', 6.283185307179586), ('inf', inf), ('nan', nan), ('__file__', '/Users/shuhu/anaconda3/lib/python3.7/lib-dynload/math.cpython-37m-darwin.so')])"
      ]
     },
     "execution_count": 68,
     "metadata": {},
     "output_type": "execute_result"
    }
   ],
   "source": [
    "# Program 11\n",
    "\n",
    "import math # PI: it should be superfluous.\n",
    "\n",
    "math.__dict__.items() # PI9: it should be `math.__dict__`"
   ]
  },
  {
   "cell_type": "code",
   "execution_count": 69,
   "metadata": {},
   "outputs": [
    {
     "data": {
      "text/plain": [
       "dict_items([('__name__', 'math2'), ('__doc__', None), ('__package__', ''), ('__loader__', <_frozen_importlib_external.SourceFileLoader object at 0x7fd54805b4d0>), ('__spec__', ModuleSpec(name='math2', loader=<_frozen_importlib_external.SourceFileLoader object at 0x7fd54805b4d0>, origin='/Users/shuhu/Desktop/6_learn with John/0a qe/math2.py')), ('__file__', '/Users/shuhu/Desktop/6_learn with John/0a qe/math2.py'), ('__cached__', '/Users/shuhu/Desktop/6_learn with John/0a qe/__pycache__/math2.cpython-37.pyc'), ('__builtins__', {'__name__': 'builtins', '__doc__': \"Built-in functions, exceptions, and other objects.\\n\\nNoteworthy: None is the `nil' object; Ellipsis represents `...' in slices.\", '__package__': '', '__loader__': <class '_frozen_importlib.BuiltinImporter'>, '__spec__': ModuleSpec(name='builtins', loader=<class '_frozen_importlib.BuiltinImporter'>), '__build_class__': <built-in function __build_class__>, '__import__': <built-in function __import__>, 'abs': <built-in function abs>, 'all': <built-in function all>, 'any': <built-in function any>, 'ascii': <built-in function ascii>, 'bin': <built-in function bin>, 'breakpoint': <built-in function breakpoint>, 'callable': <built-in function callable>, 'chr': <built-in function chr>, 'compile': <built-in function compile>, 'delattr': <built-in function delattr>, 'dir': <built-in function dir>, 'divmod': <built-in function divmod>, 'eval': <built-in function eval>, 'exec': <built-in function exec>, 'format': <built-in function format>, 'getattr': <built-in function getattr>, 'globals': <built-in function globals>, 'hasattr': <built-in function hasattr>, 'hash': <built-in function hash>, 'hex': <built-in function hex>, 'id': <built-in function id>, 'input': <bound method Kernel.raw_input of <ipykernel.ipkernel.IPythonKernel object at 0x7fd54900a610>>, 'isinstance': <built-in function isinstance>, 'issubclass': <built-in function issubclass>, 'iter': <built-in function iter>, 'len': <built-in function len>, 'locals': <built-in function locals>, 'max': <built-in function max>, 'min': <built-in function min>, 'next': <built-in function next>, 'oct': <built-in function oct>, 'ord': <built-in function ord>, 'pow': <built-in function pow>, 'print': <built-in function print>, 'repr': <built-in function repr>, 'round': <built-in function round>, 'setattr': <built-in function setattr>, 'sorted': <built-in function sorted>, 'sum': <built-in function sum>, 'vars': <built-in function vars>, 'None': None, 'Ellipsis': Ellipsis, 'NotImplemented': NotImplemented, 'False': False, 'True': True, 'bool': <class 'bool'>, 'memoryview': <class 'memoryview'>, 'bytearray': <class 'bytearray'>, 'bytes': <class 'bytes'>, 'classmethod': <class 'classmethod'>, 'complex': <class 'complex'>, 'dict': <class 'dict'>, 'enumerate': <class 'enumerate'>, 'filter': <class 'filter'>, 'float': <class 'float'>, 'frozenset': <class 'frozenset'>, 'property': <class 'property'>, 'int': <class 'int'>, 'list': <class 'list'>, 'map': <class 'map'>, 'object': <class 'object'>, 'range': <class 'range'>, 'reversed': <class 'reversed'>, 'set': <class 'set'>, 'slice': <class 'slice'>, 'staticmethod': <class 'staticmethod'>, 'str': <class 'str'>, 'super': <class 'super'>, 'tuple': <class 'tuple'>, 'type': <class 'type'>, 'zip': <class 'zip'>, '__debug__': True, 'BaseException': <class 'BaseException'>, 'Exception': <class 'Exception'>, 'TypeError': <class 'TypeError'>, 'StopAsyncIteration': <class 'StopAsyncIteration'>, 'StopIteration': <class 'StopIteration'>, 'GeneratorExit': <class 'GeneratorExit'>, 'SystemExit': <class 'SystemExit'>, 'KeyboardInterrupt': <class 'KeyboardInterrupt'>, 'ImportError': <class 'ImportError'>, 'ModuleNotFoundError': <class 'ModuleNotFoundError'>, 'OSError': <class 'OSError'>, 'EnvironmentError': <class 'OSError'>, 'IOError': <class 'OSError'>, 'EOFError': <class 'EOFError'>, 'RuntimeError': <class 'RuntimeError'>, 'RecursionError': <class 'RecursionError'>, 'NotImplementedError': <class 'NotImplementedError'>, 'NameError': <class 'NameError'>, 'UnboundLocalError': <class 'UnboundLocalError'>, 'AttributeError': <class 'AttributeError'>, 'SyntaxError': <class 'SyntaxError'>, 'IndentationError': <class 'IndentationError'>, 'TabError': <class 'TabError'>, 'LookupError': <class 'LookupError'>, 'IndexError': <class 'IndexError'>, 'KeyError': <class 'KeyError'>, 'ValueError': <class 'ValueError'>, 'UnicodeError': <class 'UnicodeError'>, 'UnicodeEncodeError': <class 'UnicodeEncodeError'>, 'UnicodeDecodeError': <class 'UnicodeDecodeError'>, 'UnicodeTranslateError': <class 'UnicodeTranslateError'>, 'AssertionError': <class 'AssertionError'>, 'ArithmeticError': <class 'ArithmeticError'>, 'FloatingPointError': <class 'FloatingPointError'>, 'OverflowError': <class 'OverflowError'>, 'ZeroDivisionError': <class 'ZeroDivisionError'>, 'SystemError': <class 'SystemError'>, 'ReferenceError': <class 'ReferenceError'>, 'MemoryError': <class 'MemoryError'>, 'BufferError': <class 'BufferError'>, 'Warning': <class 'Warning'>, 'UserWarning': <class 'UserWarning'>, 'DeprecationWarning': <class 'DeprecationWarning'>, 'PendingDeprecationWarning': <class 'PendingDeprecationWarning'>, 'SyntaxWarning': <class 'SyntaxWarning'>, 'RuntimeWarning': <class 'RuntimeWarning'>, 'FutureWarning': <class 'FutureWarning'>, 'ImportWarning': <class 'ImportWarning'>, 'UnicodeWarning': <class 'UnicodeWarning'>, 'BytesWarning': <class 'BytesWarning'>, 'ResourceWarning': <class 'ResourceWarning'>, 'ConnectionError': <class 'ConnectionError'>, 'BlockingIOError': <class 'BlockingIOError'>, 'BrokenPipeError': <class 'BrokenPipeError'>, 'ChildProcessError': <class 'ChildProcessError'>, 'ConnectionAbortedError': <class 'ConnectionAbortedError'>, 'ConnectionRefusedError': <class 'ConnectionRefusedError'>, 'ConnectionResetError': <class 'ConnectionResetError'>, 'FileExistsError': <class 'FileExistsError'>, 'FileNotFoundError': <class 'FileNotFoundError'>, 'IsADirectoryError': <class 'IsADirectoryError'>, 'NotADirectoryError': <class 'NotADirectoryError'>, 'InterruptedError': <class 'InterruptedError'>, 'PermissionError': <class 'PermissionError'>, 'ProcessLookupError': <class 'ProcessLookupError'>, 'TimeoutError': <class 'TimeoutError'>, 'open': <built-in function open>, 'copyright': Copyright (c) 2001-2019 Python Software Foundation.\n",
       "All Rights Reserved.\n",
       "\n",
       "Copyright (c) 2000 BeOpen.com.\n",
       "All Rights Reserved.\n",
       "\n",
       "Copyright (c) 1995-2001 Corporation for National Research Initiatives.\n",
       "All Rights Reserved.\n",
       "\n",
       "Copyright (c) 1991-1995 Stichting Mathematisch Centrum, Amsterdam.\n",
       "All Rights Reserved., 'credits':     Thanks to CWI, CNRI, BeOpen.com, Zope Corporation and a cast of thousands\n",
       "    for supporting Python development.  See www.python.org for more information., 'license': Type license() to see the full license text, 'help': Type help() for interactive help, or help(object) for help about object., '__IPYTHON__': True, 'display': <function display at 0x7fd508077200>, 'get_ipython': <bound method InteractiveShell.get_ipython of <ipykernel.zmqshell.ZMQInteractiveShell object at 0x7fd5380a4790>>}), ('pi', 'foobar')])"
      ]
     },
     "execution_count": 69,
     "metadata": {},
     "output_type": "execute_result"
    }
   ],
   "source": [
    "# Program 12\n",
    "\n",
    "import math2 # PI: it should be superfluous.\n",
    "\n",
    "math2.__dict__.items() # PI: it should be `math2.__dict__`"
   ]
  },
  {
   "cell_type": "code",
   "execution_count": 70,
   "metadata": {},
   "outputs": [
    {
     "data": {
      "text/plain": [
       "True"
      ]
     },
     "execution_count": 70,
     "metadata": {},
     "output_type": "execute_result"
    }
   ],
   "source": [
    "# Program 13\n",
    "\n",
    "math.__dict__['pi']  == math.pi"
   ]
  },
  {
   "cell_type": "markdown",
   "metadata": {},
   "source": [
    "## 3.3 viewing namespaces\n",
    "1. As we saw above, the `math` namespace can be printed by typing `math.__dict__`.\n",
    "2. Another way to see its contents is to type `vars(math)`, see Program 14.\n",
    "   - If we just want to see the names (**PI10: `the first 10 names of the contents`**), then we can just type `dir(math)[0:10]`, see Program 15.\n",
    "2. Notice the special names `__doc__` and `__name__`.\n",
    "   - These are **initialized** in the namespace when any module is imported.\n",
    "     - `__doc__` is the **doc string of the module**, see Program 16,\n",
    "     - `__name__` is the **name of the module**, see Program 17."
   ]
  },
  {
   "cell_type": "code",
   "execution_count": 73,
   "metadata": {},
   "outputs": [
    {
     "data": {
      "text/plain": [
       "dict_items([('__name__', 'math'), ('__doc__', 'This module provides access to the mathematical functions\\ndefined by the C standard.'), ('__package__', ''), ('__loader__', <_frozen_importlib_external.ExtensionFileLoader object at 0x7fd5480fe750>), ('__spec__', ModuleSpec(name='math', loader=<_frozen_importlib_external.ExtensionFileLoader object at 0x7fd5480fe750>, origin='/Users/shuhu/anaconda3/lib/python3.7/lib-dynload/math.cpython-37m-darwin.so')), ('acos', <built-in function acos>), ('acosh', <built-in function acosh>), ('asin', <built-in function asin>), ('asinh', <built-in function asinh>), ('atan', <built-in function atan>), ('atan2', <built-in function atan2>), ('atanh', <built-in function atanh>), ('ceil', <built-in function ceil>), ('copysign', <built-in function copysign>), ('cos', <built-in function cos>), ('cosh', <built-in function cosh>), ('degrees', <built-in function degrees>), ('erf', <built-in function erf>), ('erfc', <built-in function erfc>), ('exp', <built-in function exp>), ('expm1', <built-in function expm1>), ('fabs', <built-in function fabs>), ('factorial', <built-in function factorial>), ('floor', <built-in function floor>), ('fmod', <built-in function fmod>), ('frexp', <built-in function frexp>), ('fsum', <built-in function fsum>), ('gamma', <built-in function gamma>), ('gcd', <built-in function gcd>), ('hypot', <built-in function hypot>), ('isclose', <built-in function isclose>), ('isfinite', <built-in function isfinite>), ('isinf', <built-in function isinf>), ('isnan', <built-in function isnan>), ('ldexp', <built-in function ldexp>), ('lgamma', <built-in function lgamma>), ('log', <built-in function log>), ('log1p', <built-in function log1p>), ('log10', <built-in function log10>), ('log2', <built-in function log2>), ('modf', <built-in function modf>), ('pow', <built-in function pow>), ('radians', <built-in function radians>), ('remainder', <built-in function remainder>), ('sin', <built-in function sin>), ('sinh', <built-in function sinh>), ('sqrt', <built-in function sqrt>), ('tan', <built-in function tan>), ('tanh', <built-in function tanh>), ('trunc', <built-in function trunc>), ('pi', 3.141592653589793), ('e', 2.718281828459045), ('tau', 6.283185307179586), ('inf', inf), ('nan', nan), ('__file__', '/Users/shuhu/anaconda3/lib/python3.7/lib-dynload/math.cpython-37m-darwin.so')])"
      ]
     },
     "execution_count": 73,
     "metadata": {},
     "output_type": "execute_result"
    }
   ],
   "source": [
    "# Program 14\n",
    "\n",
    "vars(math).items()"
   ]
  },
  {
   "cell_type": "code",
   "execution_count": 92,
   "metadata": {},
   "outputs": [
    {
     "data": {
      "text/plain": [
       "['__doc__',\n",
       " '__file__',\n",
       " '__loader__',\n",
       " '__name__',\n",
       " '__package__',\n",
       " '__spec__',\n",
       " 'acos',\n",
       " 'acosh',\n",
       " 'asin',\n",
       " 'asinh']"
      ]
     },
     "execution_count": 92,
     "metadata": {},
     "output_type": "execute_result"
    }
   ],
   "source": [
    "# Program 15\n",
    "\n",
    "dir(math)[0:10]"
   ]
  },
  {
   "cell_type": "code",
   "execution_count": 93,
   "metadata": {},
   "outputs": [
    {
     "name": "stdout",
     "output_type": "stream",
     "text": [
      "This module provides access to the mathematical functions\n",
      "defined by the C standard.\n"
     ]
    }
   ],
   "source": [
    "# Program 16 PI11: why `print()` here, not in Program 17? Should we make it consistent?\n",
    "\n",
    "print(math.__doc__)"
   ]
  },
  {
   "cell_type": "code",
   "execution_count": 81,
   "metadata": {},
   "outputs": [
    {
     "data": {
      "text/plain": [
       "'math'"
      ]
     },
     "execution_count": 81,
     "metadata": {},
     "output_type": "execute_result"
    }
   ],
   "source": [
    "# Program 17\n",
    "\n",
    "math.__name__"
   ]
  },
  {
   "cell_type": "markdown",
   "metadata": {},
   "source": [
    "## 3.4 interactive sessions\n",
    "\n",
    "1. In Python, **all** code executed by the interpreter runs in some module.\n",
    "   - What about commands typed at the prompt (**PI12: `prompt` can be replaced with `Jupyter Notebook Python cell`**)\n",
    "     - These are also regarded as being executed within a module.\n",
    "       - In this case, a module called `__main__`.\n",
    "       - To check this, we can **look at the current module name** via the value of `__name__` given at the prompt (**PI13: `prompt` can be replaced with `Jupyter Notebook Python cell`**), see Program 18.\n",
    "   - When we run a script using IPython's `run` command, the **contents of the file** are executed as **part of `__main__`** too.\n",
    "     - To see this, let's create a file `mod.py` that prints its own `__name__` attribute, see Program 19.\n",
    "     - Now let's look at **two different ways of running it** in IPython, see Program 20-21.\n",
    "       - In the second case (Program 21), the code is executed as part of `__main__`, so `__name__` is equal to `__main__`.\n",
    "     - To see the contents of the **namespace of `__main__`**(**PI:,**) we use `vars()` rather than `vars(__main__)`.\n",
    "       - If we do this in Python, then we will see a whole lot of **variables that IPython needs**, and has **initialized** when we started up our session (**PI14: as what we did above? Need an example to clarify it?**).\n",
    "       - If we prefer to see **only the variables we have initialized**, use `whos`, see Program 22."
   ]
  },
  {
   "cell_type": "code",
   "execution_count": 98,
   "metadata": {},
   "outputs": [
    {
     "name": "stdout",
     "output_type": "stream",
     "text": [
      "__main__\n"
     ]
    }
   ],
   "source": [
    "# Program 18\n",
    "\n",
    "print(__name__)"
   ]
  },
  {
   "cell_type": "code",
   "execution_count": 83,
   "metadata": {
    "scrolled": false
   },
   "outputs": [
    {
     "name": "stdout",
     "output_type": "stream",
     "text": [
      "Writing mod.py\n"
     ]
    }
   ],
   "source": [
    "%%file mod.py\n",
    "print(__name__)"
   ]
  },
  {
   "cell_type": "code",
   "execution_count": 84,
   "metadata": {},
   "outputs": [
    {
     "name": "stdout",
     "output_type": "stream",
     "text": [
      "mod\n"
     ]
    }
   ],
   "source": [
    "# Program 20: Way1-Standard import\n",
    "\n",
    "import mod"
   ]
  },
  {
   "cell_type": "code",
   "execution_count": 100,
   "metadata": {},
   "outputs": [
    {
     "name": "stdout",
     "output_type": "stream",
     "text": [
      "__main__\n"
     ]
    }
   ],
   "source": [
    "# Program 21: Way2\n",
    "\n",
    "%run mod.py  # Run interactively"
   ]
  },
  {
   "cell_type": "code",
   "execution_count": 103,
   "metadata": {},
   "outputs": [
    {
     "name": "stdout",
     "output_type": "stream",
     "text": [
      "Variable      Type                          Data/Info\n",
      "-----------------------------------------------------\n",
      "e             enumerate                     <enumerate object at 0x7fd51844d1e0>\n",
      "f             function                      <function f at 0x7fd5382434d0>\n",
      "g             function                      <function f at 0x7fd5382434d0>\n",
      "i             str                           eggs\n",
      "math          module                        <module 'math' from '/Use<...>h.cpython-37m-darwin.so'>\n",
      "math2         module                        <module 'math2' from '/Us<...>ith John/0a qe/math2.py'>\n",
      "mod           module                        <module 'mod' from '/User<...> with John/0a qe/mod.py'>\n",
      "name          str                           \n",
      "nikkei_data   reader                        <_csv.reader object at 0x7fd5184412d0>\n",
      "np            module                        <module 'numpy' from '/Us<...>kages/numpy/__init__.py'>\n",
      "reader        builtin_function_or_method    <built-in function reader>\n",
      "x             int                           2\n",
      "y             int                           3\n"
     ]
    }
   ],
   "source": [
    "# Program 22: see only the variables we have initialized\n",
    "\n",
    "x = 2\n",
    "y = 3\n",
    "\n",
    "import numpy as np\n",
    "%whos"
   ]
  },
  {
   "cell_type": "markdown",
   "metadata": {},
   "source": [
    "## 3.5 the global namespace\n",
    "\n",
    "1. Python documentation often makes reference to the \"global namespace\".\n",
    "   - The **global namespace** is the **namespace of the module currently being executed**.\n",
    "     - e.g., suppose that we start the interpreter and begin assignments.\n",
    "     - We are now working in the module `__main__`, and hence the namespace for `__main__` is the global namespace.\n",
    "     - Next, we import a module called `amodule`.\n",
    "       - At this point, the interpreter creates a namespace for the module `amodule` and starts executing commands in the module.\n",
    "       - While this occurs, the namespace `amodule.__dict__` is the global namespace.\n",
    "     - Once execution of the module finishes, the interpreter returns to the module from where the import statement was made.\n",
    "       - In this case, it's `__main__`, so the namespace of `__main__` again becomes the global namespace."
   ]
  },
  {
   "cell_type": "markdown",
   "metadata": {},
   "source": [
    "## 3.6 local namespaces\n",
    "\n",
    "1. **Important fact**: when we call a function, the interpreter **creates a local namespace** for that function, and **registers the variables in that namespace**.\n",
    "   - The reason for this will be explained in just a moment (where?).\n",
    "2. Variables in the local namespace are called **local variables**.\n",
    "   - After the function returns, the namespace is deallocated and lost.\n",
    "   - While the function is executing, we can **view the contents of the local namespace** with `locals()` (**PI15: A bit hard to understand it here**).\n",
    "     - e.g., consider Program 23.\n",
    "       - We can see the local namespace of `f` before it is destroyed."
   ]
  },
  {
   "cell_type": "code",
   "execution_count": 123,
   "metadata": {
    "scrolled": true
   },
   "outputs": [
    {
     "name": "stdout",
     "output_type": "stream",
     "text": [
      "{'x': 1, 'a': 2}\n"
     ]
    },
    {
     "data": {
      "text/plain": [
       "2"
      ]
     },
     "execution_count": 123,
     "metadata": {},
     "output_type": "execute_result"
    }
   ],
   "source": [
    "# Program 23\n",
    "\n",
    "def f(x):\n",
    "    a = 2\n",
    "    print(locals())\n",
    "    return a * x\n",
    "\n",
    "f(1)"
   ]
  },
  {
   "cell_type": "markdown",
   "metadata": {},
   "source": [
    "## 3.7 the `__builtins__` namespace\n",
    "\n",
    "1. We have been using various built-in functions, such as `max(), dir(), str(), list(), len(), range(), type()`, etc.\n",
    "   - How does access to these names work?\n",
    "     - These **definitions** (**PI16: definitions of those functions?**) are stored in a module called `__builtin__` (**PI17: it should be `__builtins__`? See https://docs.python.org/3/library/builtins.html#module-builtins**).\n",
    "     - They have there own namespace called `__builtins__`.\n",
    "   - We can access elements of the namespace as Program 26.\n",
    "     - But `__builtins__` is special, because we can always access them directly as well, see Program 27-28.\n",
    "     - Subsection 3.8 explains how this works (**PI18: only one dot is enough?**)\n",
    "   "
   ]
  },
  {
   "cell_type": "code",
   "execution_count": 110,
   "metadata": {},
   "outputs": [
    {
     "data": {
      "text/plain": [
       "['In', 'Out', '_', '_10', '_102', '_105', '_106', '_107', '_108', '_109']"
      ]
     },
     "execution_count": 110,
     "metadata": {},
     "output_type": "execute_result"
    }
   ],
   "source": [
    "# Program 24: PI: what's this?\n",
    "\n",
    "dir()[0:10]"
   ]
  },
  {
   "cell_type": "code",
   "execution_count": 109,
   "metadata": {},
   "outputs": [
    {
     "data": {
      "text/plain": [
       "['ArithmeticError',\n",
       " 'AssertionError',\n",
       " 'AttributeError',\n",
       " 'BaseException',\n",
       " 'BlockingIOError',\n",
       " 'BrokenPipeError',\n",
       " 'BufferError',\n",
       " 'BytesWarning',\n",
       " 'ChildProcessError',\n",
       " 'ConnectionAbortedError']"
      ]
     },
     "execution_count": 109,
     "metadata": {},
     "output_type": "execute_result"
    }
   ],
   "source": [
    "# Program 25\n",
    "\n",
    "dir(__builtins__)[0:10]"
   ]
  },
  {
   "cell_type": "code",
   "execution_count": 112,
   "metadata": {},
   "outputs": [
    {
     "data": {
      "text/plain": [
       "<function max>"
      ]
     },
     "execution_count": 112,
     "metadata": {},
     "output_type": "execute_result"
    }
   ],
   "source": [
    "# Program 26\n",
    "\n",
    "__builtins__.max"
   ]
  },
  {
   "cell_type": "code",
   "execution_count": 113,
   "metadata": {},
   "outputs": [
    {
     "data": {
      "text/plain": [
       "<function max>"
      ]
     },
     "execution_count": 113,
     "metadata": {},
     "output_type": "execute_result"
    }
   ],
   "source": [
    "# Program 27\n",
    "\n",
    "max"
   ]
  },
  {
   "cell_type": "code",
   "execution_count": 114,
   "metadata": {},
   "outputs": [
    {
     "data": {
      "text/plain": [
       "True"
      ]
     },
     "execution_count": 114,
     "metadata": {},
     "output_type": "execute_result"
    }
   ],
   "source": [
    "# Program 28\n",
    "\n",
    "__builtins__.max == max"
   ]
  },
  {
   "cell_type": "markdown",
   "metadata": {},
   "source": [
    "## 3.8 name resolution\n",
    "\n",
    "1. **Namespaces** are great because they **help us organize variable names**.\n",
    "   - Type `import this` at the prompt (**PI19: `prompt` should be replaced with `Jupyter Notebook Python cell`**) and look at the last item that's printed.\n",
    "2. However, we do need to understand how the **Python interpreter** works with **multiple namespaces**.\n",
    "   - At any point of execution, there are(**PI:,**) in fact(**PI:,**) **at least two** namespaces that can be **accessed directly**.\n",
    "     - \"Accessed directly\" means without using a dot, as in `pi` rather than `math.pi`.\n",
    "     - These namespaces are\n",
    "       - The global namespace (of the module being executed)\n",
    "       - The builtin namespace\n",
    "   - If the interpreter is executing a function, then the directly accessible namespaces are\n",
    "     - The local namespace of the function.\n",
    "     - The global namespace (of the module being executed)\n",
    "     - The builtin namespace\n",
    "   - Sometimes(**PI:,**) functions are defined within other functions, see Program 28.\n",
    "     - Here(**PI:,**) `f` is the enclosing function (**PI20: What is an enclosing function?**), and each function gets its own namespaces.\n",
    "3. Now(**PI:,**) we can give the rule for how namespace resolution works:\n",
    "   - The order in which the interpreter searches for names is\n",
    "     - the local namespace (if it exists)\n",
    "     - the hierarchy of enclosing namespaces (if they exist)\n",
    "     - the global namespace\n",
    "     - the builtin namespace\n",
    "   - If the **name** is not in any of these namespaces, the interpreter raises a `NameError`.\n",
    "     - This is called the **LEGB rule** (local, enclosing, global, builtin).\n",
    "     - Here's an example that helps to illustrate(**PI21: no space here**).\n",
    "       - Consider a script `test.py` that looks as follows, see Program 29.\n",
    "         - What happens when we run this script?\n",
    "           - See Program 30-31.\n",
    "       - First,\n",
    "         - The global namespace `{}` is created (**PI: where is it?**).\n",
    "         - The function object is created, and `g` is bound to it within the global namespace.\n",
    "         - The name `a` is bound to `0`, again in the global namespace.\n",
    "       - Next(**PI:,**) `g` is called via `y = g(10)`, leading to the following sequence of actions:\n",
    "         - The local namespace for the function is created.\n",
    "         - Local names `x` and `a` are bound, so that the local namespace becomes `{'x': 10, 'a': 1}`.\n",
    "         - Statement `x = x + a` uses the local `a` and local `x` to compute `x + a`, and binds local name `x` to the result.\n",
    "         - This value is returned, and `y` is bound to it in the global namespace.\n",
    "         - Local `x` and `a` are discarded, and the local namespace is deallocated.\n",
    "       - Note that the global `a` was not affected by the local `a`."
   ]
  },
  {
   "cell_type": "code",
   "execution_count": 116,
   "metadata": {},
   "outputs": [],
   "source": [
    "# Program 28\n",
    "\n",
    "def f():\n",
    "    a = 2\n",
    "    def g():\n",
    "        b = 4\n",
    "        print(a * b)\n",
    "    g()"
   ]
  },
  {
   "cell_type": "code",
   "execution_count": 118,
   "metadata": {},
   "outputs": [
    {
     "name": "stdout",
     "output_type": "stream",
     "text": [
      "Overwriting test.py\n"
     ]
    }
   ],
   "source": [
    "%%file test.py\n",
    "def g(x): # Program 29\n",
    "    a = 1\n",
    "    x = x + a\n",
    "    return x\n",
    "\n",
    "a = 0\n",
    "y = g(10)\n",
    "print(\"a = \", a, \"y = \", y)"
   ]
  },
  {
   "cell_type": "code",
   "execution_count": 119,
   "metadata": {},
   "outputs": [
    {
     "name": "stdout",
     "output_type": "stream",
     "text": [
      "a =  0 y =  11\n"
     ]
    }
   ],
   "source": [
    "# Program 30\n",
    "\n",
    "%run test.py"
   ]
  },
  {
   "cell_type": "code",
   "execution_count": 120,
   "metadata": {},
   "outputs": [
    {
     "data": {
      "text/plain": [
       "2"
      ]
     },
     "execution_count": 120,
     "metadata": {},
     "output_type": "execute_result"
    }
   ],
   "source": [
    "# Program 31\n",
    "\n",
    "x"
   ]
  },
  {
   "cell_type": "markdown",
   "metadata": {},
   "source": [
    "## 3.9 mutable vs immutable parameters\n",
    "\n",
    "1. This is a good time to say a little more about mutable vs immutable objects.\n",
    "   - Consider a mutable case, see Program 32.\n",
    "     - We now understand what will happen here:\n",
    "       - The code prints `2` as the value of `f(x)` and `1` as the value of `x`.\n",
    "       - The call `f(x)` creates a local namespace and adds `x` to it, bound to `1`.\n",
    "       - Next, this local `x` is rebound to the new integer object `2`, and this value is returned.\n",
    "     - None of this (**PI22: it should be `these`**) affects the global `x`.\n",
    "   - However, it's a different story when we use a **mutable** data type(**PI:,**) such as a **list**.\n",
    "     - e.g., see Program 33.\n",
    "       - This prints `[2]` as the value of `f(x)` and same for `x`.\n",
    "     - Here's what happens:\n",
    "       - `f` is registered as a function in the global namespace.\n",
    "       - `x` bound(**PI: s**) to `[1]` in the global namespace.\n",
    "       - The call `f(x)`\n",
    "         - Creates a local namespace\n",
    "         - Adds `x` to local namespace, bound to `[1]`\n",
    "         - The list `[1]` is modified to `[2]` (**PI23: maybe we can change it to `Modifies the list `[1]` to `[2]``**)\n",
    "         - Returns the list `[2]`.\n",
    "         - The local namespace is deallocated, and local `x` is lost. (**PI24: We should put it to a higher order.**)\n",
    "       - Global `x` has been modified."
   ]
  },
  {
   "cell_type": "code",
   "execution_count": 121,
   "metadata": {},
   "outputs": [
    {
     "name": "stdout",
     "output_type": "stream",
     "text": [
      "2 1\n"
     ]
    }
   ],
   "source": [
    "# Program 32\n",
    "\n",
    "def f(x):\n",
    "    x = x + 1\n",
    "    return x\n",
    "\n",
    "x = 1\n",
    "print(f(x), x)"
   ]
  },
  {
   "cell_type": "code",
   "execution_count": 122,
   "metadata": {},
   "outputs": [
    {
     "name": "stdout",
     "output_type": "stream",
     "text": [
      "[2] [2]\n"
     ]
    }
   ],
   "source": [
    "# Program 33\n",
    "\n",
    "def f(x):\n",
    "    x[0] = x[0] + 1\n",
    "    return x\n",
    "\n",
    "x = [1]\n",
    "print(f(x), x)"
   ]
  },
  {
   "cell_type": "markdown",
   "metadata": {},
   "source": [
    "# 4 handling errors\n",
    "\n",
    "1. Sometimes(**PI:,**) it's possible to anticipate errors as we're writing code.\n",
    "   - e.g., the unbiased sample variance of sample $y_1, \\dots, y_n$ is defined as \n",
    "     $$\n",
    "     s^2 = \\frac{1}{n-1} \\sum^n_{i=1} (y_i - \\bar y)^2 \\\\\n",
    "     \\bar y = sample \\ mean\n",
    "     $$\n",
    "     - This can be calculated in NumPy using `np.var`.\n",
    "     - But if we were writing a function to handle such a calculation, we might anticipate a divide-by-zero error when the sample size is one.\n",
    "     - One possible action is to do nothing--the program will just crash, and split out an error message.\n",
    "   - But sometimes it's worth writing our code in a way that anticipates and deals with runtime errors that we think might arise.\n",
    "     - Why?\n",
    "       - Because the debugging information provided by the interpreter is often **less useful** than the information on possible errors we have in our head when writing code.\n",
    "       - Because errors causing execution to stop are frustrating if we're in the middle of a large computation.\n",
    "       - Because it's reduces (**PI25: it has reduced/ it is reduced?**) confidence in our code on the part of our users (if we are writing for others).\n",
    "     \n",
    "## 4.1 assertions\n",
    "\n",
    "1. A relatively easy way to handle checks is with the `assert` keyword.\n",
    "   - e.g., pretend for a moment that the `np.var` function doesn't exist and we need to write our own, see Program 1.\n",
    "   - If we run this with an array of length one, the program will terminate and print our error message.\n",
    "2. The advantage is that we can\n",
    "   - fail early, as soon as we know there will be a problem,\n",
    "   - supply specific information on why a program is failing."
   ]
  },
  {
   "cell_type": "code",
   "execution_count": 125,
   "metadata": {},
   "outputs": [],
   "source": [
    "# Program 1\n",
    "\n",
    "def var(y):\n",
    "    n = len(y)\n",
    "    assert n > 1, 'Sample size must be greater than one.'\n",
    "    return np.sum((y - y.mean())**2) / float(n-1)"
   ]
  },
  {
   "cell_type": "code",
   "execution_count": 126,
   "metadata": {},
   "outputs": [
    {
     "ename": "AssertionError",
     "evalue": "Sample size must be greater than one.",
     "output_type": "error",
     "traceback": [
      "\u001b[0;31m---------------------------------------------------------------------------\u001b[0m",
      "\u001b[0;31mAssertionError\u001b[0m                            Traceback (most recent call last)",
      "\u001b[0;32m<ipython-input-126-12149ca20750>\u001b[0m in \u001b[0;36m<module>\u001b[0;34m\u001b[0m\n\u001b[1;32m      1\u001b[0m \u001b[0;31m# Program 2\u001b[0m\u001b[0;34m\u001b[0m\u001b[0;34m\u001b[0m\u001b[0;34m\u001b[0m\u001b[0m\n\u001b[1;32m      2\u001b[0m \u001b[0;34m\u001b[0m\u001b[0m\n\u001b[0;32m----> 3\u001b[0;31m \u001b[0mvar\u001b[0m\u001b[0;34m(\u001b[0m\u001b[0;34m[\u001b[0m\u001b[0;36m1\u001b[0m\u001b[0;34m]\u001b[0m\u001b[0;34m)\u001b[0m\u001b[0;34m\u001b[0m\u001b[0;34m\u001b[0m\u001b[0m\n\u001b[0m",
      "\u001b[0;32m<ipython-input-125-bb32097ac953>\u001b[0m in \u001b[0;36mvar\u001b[0;34m(y)\u001b[0m\n\u001b[1;32m      3\u001b[0m \u001b[0;32mdef\u001b[0m \u001b[0mvar\u001b[0m\u001b[0;34m(\u001b[0m\u001b[0my\u001b[0m\u001b[0;34m)\u001b[0m\u001b[0;34m:\u001b[0m\u001b[0;34m\u001b[0m\u001b[0;34m\u001b[0m\u001b[0m\n\u001b[1;32m      4\u001b[0m     \u001b[0mn\u001b[0m \u001b[0;34m=\u001b[0m \u001b[0mlen\u001b[0m\u001b[0;34m(\u001b[0m\u001b[0my\u001b[0m\u001b[0;34m)\u001b[0m\u001b[0;34m\u001b[0m\u001b[0;34m\u001b[0m\u001b[0m\n\u001b[0;32m----> 5\u001b[0;31m     \u001b[0;32massert\u001b[0m \u001b[0mn\u001b[0m \u001b[0;34m>\u001b[0m \u001b[0;36m1\u001b[0m\u001b[0;34m,\u001b[0m \u001b[0;34m'Sample size must be greater than one.'\u001b[0m\u001b[0;34m\u001b[0m\u001b[0;34m\u001b[0m\u001b[0m\n\u001b[0m\u001b[1;32m      6\u001b[0m     \u001b[0;32mreturn\u001b[0m \u001b[0mnp\u001b[0m\u001b[0;34m.\u001b[0m\u001b[0msum\u001b[0m\u001b[0;34m(\u001b[0m\u001b[0;34m(\u001b[0m\u001b[0my\u001b[0m \u001b[0;34m-\u001b[0m \u001b[0my\u001b[0m\u001b[0;34m.\u001b[0m\u001b[0mmean\u001b[0m\u001b[0;34m(\u001b[0m\u001b[0;34m)\u001b[0m\u001b[0;34m)\u001b[0m\u001b[0;34m**\u001b[0m\u001b[0;36m2\u001b[0m\u001b[0;34m)\u001b[0m \u001b[0;34m/\u001b[0m \u001b[0mfloat\u001b[0m\u001b[0;34m(\u001b[0m\u001b[0mn\u001b[0m\u001b[0;34m-\u001b[0m\u001b[0;36m1\u001b[0m\u001b[0;34m)\u001b[0m\u001b[0;34m\u001b[0m\u001b[0;34m\u001b[0m\u001b[0m\n",
      "\u001b[0;31mAssertionError\u001b[0m: Sample size must be greater than one."
     ]
    }
   ],
   "source": [
    "# Program 2\n",
    "\n",
    "var([1])"
   ]
  },
  {
   "cell_type": "markdown",
   "metadata": {},
   "source": [
    "## 4.2 handling errors during runtime\n",
    "\n",
    "1. The approach used above is a bit limited, because it always leads to termination.\n",
    "   - Sometimes, we can handle errors more **gracefully**, by treating special cases.\n",
    "     - Let's look at how this is done.\n",
    "\n",
    "### exceptions\n",
    "\n",
    "1. There are many different errors (**PI26: add error types**).\n",
    "   - Here's an example of a common error type, see Program 3.\n",
    "     - Since illegal syntax cannot be executed, a **syntax error** terminates execution of the program.\n",
    "   - Here's a different kind of error, called **ZeroDivisionError**, unrelated to syntax, see Program 4.\n",
    "   - Here's another, called **NameError**, see Program 5.\n",
    "   - And another, called **TypeError**, see Program 6.\n",
    "   - And another, called **IndexError**, see Program 7.\n",
    "2. On each occasion, the interpreter informs us of the error type:\n",
    "   - `NameError`, `TypeError`, `IndexError`, `ZeroDivisionError`, etc.\n",
    "   - In Python, these errors are called **exceptions**."
   ]
  },
  {
   "cell_type": "code",
   "execution_count": 127,
   "metadata": {},
   "outputs": [
    {
     "ename": "SyntaxError",
     "evalue": "invalid syntax (<ipython-input-127-84229afe8ed2>, line 3)",
     "output_type": "error",
     "traceback": [
      "\u001b[0;36m  File \u001b[0;32m\"<ipython-input-127-84229afe8ed2>\"\u001b[0;36m, line \u001b[0;32m3\u001b[0m\n\u001b[0;31m    def f:\u001b[0m\n\u001b[0m         ^\u001b[0m\n\u001b[0;31mSyntaxError\u001b[0m\u001b[0;31m:\u001b[0m invalid syntax\n"
     ]
    }
   ],
   "source": [
    "# Program 3: SyntaxError\n",
    "\n",
    "def f:"
   ]
  },
  {
   "cell_type": "code",
   "execution_count": 128,
   "metadata": {},
   "outputs": [
    {
     "ename": "ZeroDivisionError",
     "evalue": "division by zero",
     "output_type": "error",
     "traceback": [
      "\u001b[0;31m---------------------------------------------------------------------------\u001b[0m",
      "\u001b[0;31mZeroDivisionError\u001b[0m                         Traceback (most recent call last)",
      "\u001b[0;32m<ipython-input-128-1110c5827981>\u001b[0m in \u001b[0;36m<module>\u001b[0;34m\u001b[0m\n\u001b[1;32m      1\u001b[0m \u001b[0;31m# Program 4\u001b[0m\u001b[0;34m\u001b[0m\u001b[0;34m\u001b[0m\u001b[0;34m\u001b[0m\u001b[0m\n\u001b[1;32m      2\u001b[0m \u001b[0;34m\u001b[0m\u001b[0m\n\u001b[0;32m----> 3\u001b[0;31m \u001b[0;36m1\u001b[0m \u001b[0;34m/\u001b[0m \u001b[0;36m0\u001b[0m\u001b[0;34m\u001b[0m\u001b[0;34m\u001b[0m\u001b[0m\n\u001b[0m",
      "\u001b[0;31mZeroDivisionError\u001b[0m: division by zero"
     ]
    }
   ],
   "source": [
    "# Program 4: ZeroDivisionError\n",
    "\n",
    "1 / 0"
   ]
  },
  {
   "cell_type": "code",
   "execution_count": 130,
   "metadata": {},
   "outputs": [
    {
     "ename": "NameError",
     "evalue": "name 'y1' is not defined",
     "output_type": "error",
     "traceback": [
      "\u001b[0;31m---------------------------------------------------------------------------\u001b[0m",
      "\u001b[0;31mNameError\u001b[0m                                 Traceback (most recent call last)",
      "\u001b[0;32m<ipython-input-130-577f7f816b35>\u001b[0m in \u001b[0;36m<module>\u001b[0;34m\u001b[0m\n\u001b[1;32m      1\u001b[0m \u001b[0;31m# Program 5\u001b[0m\u001b[0;34m\u001b[0m\u001b[0;34m\u001b[0m\u001b[0;34m\u001b[0m\u001b[0m\n\u001b[1;32m      2\u001b[0m \u001b[0;34m\u001b[0m\u001b[0m\n\u001b[0;32m----> 3\u001b[0;31m \u001b[0mx1\u001b[0m \u001b[0;34m=\u001b[0m \u001b[0my1\u001b[0m\u001b[0;34m\u001b[0m\u001b[0;34m\u001b[0m\u001b[0m\n\u001b[0m",
      "\u001b[0;31mNameError\u001b[0m: name 'y1' is not defined"
     ]
    }
   ],
   "source": [
    "# Program 5: NameError\n",
    "\n",
    "x1 = y1"
   ]
  },
  {
   "cell_type": "code",
   "execution_count": 132,
   "metadata": {},
   "outputs": [
    {
     "ename": "TypeError",
     "evalue": "can only concatenate str (not \"int\") to str",
     "output_type": "error",
     "traceback": [
      "\u001b[0;31m---------------------------------------------------------------------------\u001b[0m",
      "\u001b[0;31mTypeError\u001b[0m                                 Traceback (most recent call last)",
      "\u001b[0;32m<ipython-input-132-e376fe4c75a9>\u001b[0m in \u001b[0;36m<module>\u001b[0;34m\u001b[0m\n\u001b[1;32m      1\u001b[0m \u001b[0;31m# Program 6\u001b[0m\u001b[0;34m\u001b[0m\u001b[0;34m\u001b[0m\u001b[0;34m\u001b[0m\u001b[0m\n\u001b[1;32m      2\u001b[0m \u001b[0;34m\u001b[0m\u001b[0m\n\u001b[0;32m----> 3\u001b[0;31m \u001b[0;34m'foo'\u001b[0m \u001b[0;34m+\u001b[0m \u001b[0;36m6\u001b[0m\u001b[0;34m\u001b[0m\u001b[0;34m\u001b[0m\u001b[0m\n\u001b[0m",
      "\u001b[0;31mTypeError\u001b[0m: can only concatenate str (not \"int\") to str"
     ]
    }
   ],
   "source": [
    "# Program 6: TypeError\n",
    "\n",
    "'foo' + 6"
   ]
  },
  {
   "cell_type": "code",
   "execution_count": 133,
   "metadata": {},
   "outputs": [
    {
     "ename": "IndexError",
     "evalue": "list index out of range",
     "output_type": "error",
     "traceback": [
      "\u001b[0;31m---------------------------------------------------------------------------\u001b[0m",
      "\u001b[0;31mIndexError\u001b[0m                                Traceback (most recent call last)",
      "\u001b[0;32m<ipython-input-133-0787dc236a39>\u001b[0m in \u001b[0;36m<module>\u001b[0;34m\u001b[0m\n\u001b[1;32m      2\u001b[0m \u001b[0;34m\u001b[0m\u001b[0m\n\u001b[1;32m      3\u001b[0m \u001b[0mX\u001b[0m \u001b[0;34m=\u001b[0m \u001b[0;34m[\u001b[0m\u001b[0;34m]\u001b[0m\u001b[0;34m\u001b[0m\u001b[0;34m\u001b[0m\u001b[0m\n\u001b[0;32m----> 4\u001b[0;31m \u001b[0mx\u001b[0m \u001b[0;34m=\u001b[0m \u001b[0mX\u001b[0m\u001b[0;34m[\u001b[0m\u001b[0;36m0\u001b[0m\u001b[0;34m]\u001b[0m\u001b[0;34m\u001b[0m\u001b[0;34m\u001b[0m\u001b[0m\n\u001b[0m",
      "\u001b[0;31mIndexError\u001b[0m: list index out of range"
     ]
    }
   ],
   "source": [
    "# Program 7: IndexError\n",
    "\n",
    "X = []\n",
    "x = X[0]"
   ]
  },
  {
   "cell_type": "markdown",
   "metadata": {},
   "source": [
    "### catching exceptions\n",
    "\n",
    "1. We can catch and deal with exceptions using `try-except` blocks (**PI27: attach a link https://docs.python.org/tutorial/errors.html#handling-exceptions**).\n",
    "   - e.g., see Program 8.\n",
    "   - When we call `f`(**PI: ,**) we get the following output, see Program 9-11.\n",
    "   - The error is caught and execution of the program is not terminated.\n",
    "   \n",
    "2. Note that other error types are not caught.\n",
    "   - If we are worried the user might pass in a string, then we can catch that error too, see Program 12.\n",
    "   - Here's what happens, see Program 13-15.\n",
    "   \n",
    "3. If we feel lazy(**PI:,**) then we can catch these errors together, see Program 16.\n",
    "   - Here's what happens, see Program 17-19.\n",
    "   \n",
    "4. If we feel lazy(**PI:,**) then we can catch all error types as in Program 20.\n",
    "\n",
    "5. In general(**PI:,**) it's better to be specific."
   ]
  },
  {
   "cell_type": "code",
   "execution_count": 134,
   "metadata": {},
   "outputs": [],
   "source": [
    "# Program 8\n",
    "\n",
    "def f(x):\n",
    "    try:\n",
    "        return 1.0 / x\n",
    "    except ZeroDivisionError:\n",
    "        print('Error: division by zero. Returned None')\n",
    "    return None"
   ]
  },
  {
   "cell_type": "code",
   "execution_count": 136,
   "metadata": {},
   "outputs": [
    {
     "data": {
      "text/plain": [
       "0.5"
      ]
     },
     "execution_count": 136,
     "metadata": {},
     "output_type": "execute_result"
    }
   ],
   "source": [
    "# Program 9\n",
    "\n",
    "f(2)"
   ]
  },
  {
   "cell_type": "code",
   "execution_count": 137,
   "metadata": {},
   "outputs": [
    {
     "name": "stdout",
     "output_type": "stream",
     "text": [
      "Error: division by zero. Returned None\n"
     ]
    }
   ],
   "source": [
    "# Program 10\n",
    "\n",
    "f(0)"
   ]
  },
  {
   "cell_type": "code",
   "execution_count": 138,
   "metadata": {},
   "outputs": [
    {
     "name": "stdout",
     "output_type": "stream",
     "text": [
      "Error: division by zero. Returned None\n"
     ]
    }
   ],
   "source": [
    "# Program 11\n",
    "\n",
    "f(0.0)"
   ]
  },
  {
   "cell_type": "code",
   "execution_count": 139,
   "metadata": {},
   "outputs": [],
   "source": [
    "# Program 12\n",
    "\n",
    "def f(x):\n",
    "    try:\n",
    "        return 1.0 / x\n",
    "    except ZeroDivisionError:\n",
    "        print('Error: Division by zero. Returned None')\n",
    "    except TypeError:\n",
    "        print('Error: Unsupported operation. Returned None')\n",
    "    return None"
   ]
  },
  {
   "cell_type": "code",
   "execution_count": 140,
   "metadata": {},
   "outputs": [
    {
     "data": {
      "text/plain": [
       "0.5"
      ]
     },
     "execution_count": 140,
     "metadata": {},
     "output_type": "execute_result"
    }
   ],
   "source": [
    "# Program 13\n",
    "\n",
    "f(2)"
   ]
  },
  {
   "cell_type": "code",
   "execution_count": 141,
   "metadata": {},
   "outputs": [
    {
     "name": "stdout",
     "output_type": "stream",
     "text": [
      "Error: Division by zero. Returned None\n"
     ]
    }
   ],
   "source": [
    "# Program 14\n",
    "\n",
    "f(0)"
   ]
  },
  {
   "cell_type": "code",
   "execution_count": 142,
   "metadata": {},
   "outputs": [
    {
     "name": "stdout",
     "output_type": "stream",
     "text": [
      "Error: Unsupported operation. Returned None\n"
     ]
    }
   ],
   "source": [
    "# Program 15\n",
    "\n",
    "f('foo')"
   ]
  },
  {
   "cell_type": "code",
   "execution_count": 143,
   "metadata": {},
   "outputs": [],
   "source": [
    "# Program 16\n",
    "\n",
    "def f(x):\n",
    "    try:\n",
    "        return 1.0 / x\n",
    "    except (TypeError, ZeroDivisionError):\n",
    "        print('Error: Unsupported operation. Returned None')\n",
    "    return None"
   ]
  },
  {
   "cell_type": "code",
   "execution_count": 144,
   "metadata": {},
   "outputs": [
    {
     "data": {
      "text/plain": [
       "0.5"
      ]
     },
     "execution_count": 144,
     "metadata": {},
     "output_type": "execute_result"
    }
   ],
   "source": [
    "# Program 17\n",
    "\n",
    "f(2)"
   ]
  },
  {
   "cell_type": "code",
   "execution_count": 145,
   "metadata": {},
   "outputs": [
    {
     "name": "stdout",
     "output_type": "stream",
     "text": [
      "Error: Unsupported operation. Returned None\n"
     ]
    }
   ],
   "source": [
    "# Program 18\n",
    "\n",
    "f(0)"
   ]
  },
  {
   "cell_type": "code",
   "execution_count": 146,
   "metadata": {},
   "outputs": [
    {
     "name": "stdout",
     "output_type": "stream",
     "text": [
      "Error: Unsupported operation. Returned None\n"
     ]
    }
   ],
   "source": [
    "# Program 19\n",
    "\n",
    "f('foo')"
   ]
  },
  {
   "cell_type": "code",
   "execution_count": 147,
   "metadata": {},
   "outputs": [],
   "source": [
    "# Program 20\n",
    "\n",
    "def f(x):\n",
    "    try:\n",
    "        return 1.0 / x\n",
    "    except:\n",
    "        print('Error. Returned None')\n",
    "    return None"
   ]
  },
  {
   "cell_type": "markdown",
   "metadata": {},
   "source": [
    "# 5 decorators and descriptors\n",
    "\n",
    "1. Let's look at **some specific syntax elements** that are routinely used by Python developers.\n",
    "   - We might not need the following concepts immediately, but we will see them in other people's code.\n",
    "   - Hence(**PI:,**) we need to understand them at some stage of our Python education.\n",
    "\n",
    "## 5.1 Decorators\n",
    "\n",
    "1. Decorators are a bit of syntactic sugar that, while easily avoided, have turned out to be popular.\n",
    "   - It's very easy to say what decorators do.\n",
    "   - On the other hand(**PI:,**) it takes a bit of effort to explain **why we might use them**.\n",
    "\n",
    "### an example\n",
    "\n",
    "1. Suppose we are working on a program that looks like in Program 1.\n",
    "   - Now suppose there's a **problem**:\n",
    "     - occasionally negative numbers get fed to `f` and `g` in the calculations that follow.\n",
    "   - If we try it, then we would see that when these functions are called with **negative numbers**, they return a NumPy object called `nan`.\n",
    "     - This stands for \"not a number\" (and indicates that we are trying to evaluate a mathematical function at a point where it is not defined).\n",
    "     - Perhaps this isn't what we want, because it causes other problems (**e.g.?**) that are hard to pick up later on.\n",
    "   - Suppose that instead we want the program to terminate whenever this happens, with a **sensible error message**.\n",
    "     - This change is easy enough to implement, see Program 2.\n",
    "2. Notice however that there is some repetition here, in the form of two identical lines of code.\n",
    "   - Repetition makes out code longer and harder to maintain, and hence is something we try hard to avoid.\n",
    "     - Here, it's not a big deal, but imagine now that instead of just `f` and `g`, we have 20 such functions that we need to modify in exactly the same way.\n",
    "       - This means we need to repeat the test logic (i.e., the `assert` line testing nonnegativity) 20 times.\n",
    "     - The situation is still worse if the test logic is longer and more complicated.\n",
    "   - In this kind of scenario, the following approach would be neater, see Program 3.\n",
    "     - This looks complicated, so let's work through it slowly.\n",
    "       - To unravel the logic, consider what happens when we say `f = check_nonneg(f)`.\n",
    "         - This calls the function `check_nonneg` with parameter `func` set equal to `f`.\n",
    "         - Now `check_nonneg` creates a new function called `safe_function` that verifies `x` as nonnegative and then calls `func` on it (which is the same as `f`).\n",
    "       - Finally, the global name `f` is then set equal to `safe_function`.\n",
    "         - Now the behavior of `f` is as we desire, and the same is true of `g`.\n",
    "         - At the same time, the test logic is written only once."
   ]
  },
  {
   "cell_type": "code",
   "execution_count": 148,
   "metadata": {},
   "outputs": [],
   "source": [
    "# Program 1\n",
    "\n",
    "import numpy as np\n",
    "\n",
    "def f(x):\n",
    "    return np.log(np.log(x))\n",
    "\n",
    "\n",
    "def g(x):\n",
    "    return np.sqrt(42 * x)\n",
    "\n",
    "# The program continues with various calculations (?) using f and g"
   ]
  },
  {
   "cell_type": "code",
   "execution_count": 1,
   "metadata": {},
   "outputs": [],
   "source": [
    "# Program 2\n",
    "\n",
    "import numpy as np\n",
    "\n",
    "def f(x):\n",
    "    assert x >= 0, \"Argument must be nonnegative\"\n",
    "    return np.log(np.log(x))\n",
    "\n",
    "\n",
    "def g(x):\n",
    "    assert x >= 0, \"Argument must be nonnegative\"\n",
    "    return np.sqrt(42 * x)\n",
    "\n",
    "# The program continues with various calculations (?) using f and g"
   ]
  },
  {
   "cell_type": "code",
   "execution_count": 2,
   "metadata": {},
   "outputs": [],
   "source": [
    "# Program 3\n",
    "\n",
    "import numpy as np\n",
    "\n",
    "def check_nonneg(func):\n",
    "    def safe_function(x):\n",
    "        assert x >= 0, \"Argument must be nonnegative\"\n",
    "        return safe_function\n",
    "\n",
    "def f(x):\n",
    "    return np.log(np.log(x))\n",
    "\n",
    "\n",
    "def g(x):\n",
    "    return np.sqrt(42 * x)\n",
    "\n",
    "f = check_nonneg(f)\n",
    "g = check_nonneg(g)\n",
    "\n",
    "# The program continues with various calculations (?) using f and g"
   ]
  },
  {
   "cell_type": "markdown",
   "metadata": {},
   "source": [
    "### enter decorators\n",
    "\n",
    "1. The last version of our code is still not ideal. \n",
    "   - e.g., if someone is reading our code and wants to know how `f` works, they will be looking for the function definition, which is in Program 4.\n",
    "     - This may well miss the line `f = check_nonneg(f)`.\n",
    "     - For this and other reasons, decorators were introduced to Python.\n",
    "   - With decorators, we can replace the lines in Program 5 with Program 6.\n",
    "     - These two pieces of code do exactly the same thing.\n",
    "       - If they do the same thing, do we really need decorator syntax?\n",
    "     - Well, notice that the decorators sit right on top of the function definitions.\n",
    "       - Hence, anyone looking at the definition of the function will see them and be aware that the function is modified.\n",
    "       - In the opinion of many people, this makes the decorator syntax a significant improvement to the language."
   ]
  },
  {
   "cell_type": "code",
   "execution_count": 3,
   "metadata": {},
   "outputs": [],
   "source": [
    "# Program 4\n",
    "\n",
    "def f(x):\n",
    "    return np.log(np.log(x))"
   ]
  },
  {
   "cell_type": "code",
   "execution_count": 4,
   "metadata": {},
   "outputs": [],
   "source": [
    "# Program 5\n",
    "\n",
    "def f(x):\n",
    "    return np.log(np.log(x))\n",
    "\n",
    "def g(x):\n",
    "    return np.sqrt(42 * x)\n",
    "\n",
    "f = check_nonneg(f)\n",
    "g = check_nonneg(g)"
   ]
  },
  {
   "cell_type": "code",
   "execution_count": 5,
   "metadata": {},
   "outputs": [],
   "source": [
    "# Program 6\n",
    "\n",
    "@check_nonneg\n",
    "def f(x):\n",
    "    return np.log(np.log(x))\n",
    "\n",
    "@check_nonneg\n",
    "def g(x):\n",
    "    return np.sqrt(42 * x)"
   ]
  },
  {
   "cell_type": "markdown",
   "metadata": {},
   "source": [
    "## 5.2 descriptors\n",
    "\n",
    "1. Descriptors solve a **common problem** regarding **management of variables**.\n",
    "   - To understand the issue, consider a `Car` class, that simulates a car.\n",
    "     - Suppose that this class defines the variables `miles` and `kms`.\n",
    "       - Which give the distance traveled in miles and kilometers respectively.\n",
    "     - A highly simplified version of the class might look like in Program 7.\n",
    "     - One potential problem we might have here is that **a user alters one of these variables but not the other**, see Program 8.\n",
    "       - In Program 10, we see that `miles` and `kms` are out of sync.\n",
    "       - What we really want is some mechanism whereby each time a user sets one of these variables, the other is automatically updated.\n"
   ]
  },
  {
   "cell_type": "code",
   "execution_count": 6,
   "metadata": {},
   "outputs": [],
   "source": [
    "# Program 7\n",
    "\n",
    "class Car:\n",
    "    \n",
    "    def __init__(self, miles=1000):\n",
    "        self.miles = miles\n",
    "        self.kms = miles * 1.61\n",
    "        \n",
    "    # Some other functionality, details omitted"
   ]
  },
  {
   "cell_type": "code",
   "execution_count": 7,
   "metadata": {},
   "outputs": [
    {
     "data": {
      "text/plain": [
       "1000"
      ]
     },
     "execution_count": 7,
     "metadata": {},
     "output_type": "execute_result"
    }
   ],
   "source": [
    "# Program 8\n",
    "\n",
    "car = Car()\n",
    "car.miles"
   ]
  },
  {
   "cell_type": "code",
   "execution_count": 8,
   "metadata": {},
   "outputs": [
    {
     "data": {
      "text/plain": [
       "1610.0"
      ]
     },
     "execution_count": 8,
     "metadata": {},
     "output_type": "execute_result"
    }
   ],
   "source": [
    "# Program 9\n",
    "\n",
    "car.kms"
   ]
  },
  {
   "cell_type": "code",
   "execution_count": 9,
   "metadata": {},
   "outputs": [
    {
     "data": {
      "text/plain": [
       "1610.0"
      ]
     },
     "execution_count": 9,
     "metadata": {},
     "output_type": "execute_result"
    }
   ],
   "source": [
    "# Program 10\n",
    "\n",
    "car.miles = 6000\n",
    "car.kms"
   ]
  },
  {
   "cell_type": "markdown",
   "metadata": {},
   "source": [
    "### a solution\n",
    "1. In Python, this issue is solved **using descriptors**.\n",
    "   - **A descriptor** is just **a Python object that implements certain methods**.\n",
    "   - These methods are **triggered** when **the object is assessed through dotted attribute notation**.\n",
    "2. The best way to understand this is to see it in action.\n",
    "   - Consider this alternative version of the `Car` class in Program 11.\n",
    "     - First let's check that we get the desired behavior, see Program 12.\n",
    "     - Yep, that's what we want-`car.kms` is automatically updated."
   ]
  },
  {
   "cell_type": "code",
   "execution_count": 11,
   "metadata": {},
   "outputs": [],
   "source": [
    "# Program 11\n",
    "\n",
    "class Car:\n",
    "    \n",
    "    def __init__(self, miles=1000):\n",
    "        self._miles = miles\n",
    "        self._kms = miles * 1.61\n",
    "        \n",
    "    def set_miles(self, value):\n",
    "        self._miles = value\n",
    "        self._kms = value * 1.61\n",
    "        \n",
    "    def set_kms(self, value):\n",
    "        self._kms = value\n",
    "        self._miles = value / 1.61\n",
    "        \n",
    "    def get_miles(self):\n",
    "        return self._miles\n",
    "    \n",
    "    def get_kms(self):\n",
    "        return self._kms\n",
    "    \n",
    "    miles = property(get_miles, set_miles)\n",
    "    kms = property(get_kms, set_kms)"
   ]
  },
  {
   "cell_type": "code",
   "execution_count": 12,
   "metadata": {},
   "outputs": [
    {
     "data": {
      "text/plain": [
       "1000"
      ]
     },
     "execution_count": 12,
     "metadata": {},
     "output_type": "execute_result"
    }
   ],
   "source": [
    "# Program 12\n",
    "car = Car()\n",
    "car.miles"
   ]
  },
  {
   "cell_type": "code",
   "execution_count": 13,
   "metadata": {},
   "outputs": [
    {
     "data": {
      "text/plain": [
       "9660.0"
      ]
     },
     "execution_count": 13,
     "metadata": {},
     "output_type": "execute_result"
    }
   ],
   "source": [
    "# Program 13\n",
    "\n",
    "car.miles = 6000\n",
    "car.kms"
   ]
  },
  {
   "cell_type": "markdown",
   "metadata": {},
   "source": [
    "### how it works\n",
    "\n",
    "1. The names `_miles` and `_kms` are arbitrary names we are using to store the values of the variables.\n",
    "2. The objects `miles` and `kms` are **properties**, a common kind of descriptor.\n",
    "   - The methods `get_miles`, `set_miles`, `get_kms` and `set_kms` **define what happens when we get (i.e., access) or set (bind) these variables**.\n",
    "     - So-called \"getter\" and \"setter\" methods.\n",
    "   - The builtin Python function `property`takes getter and setter methods and creates a **property**.\n",
    "     - e.g., after `car` is created as an instance of `Car`, the object `car.miles` is a property.\n",
    "     - Being a property, when we set its value via `car.miles = 6000`, its setter method is triggered.\n",
    "       - In this case `set_miles`.\n",
    "\n",
    "### decorators and properties\n",
    "\n",
    "1. These days(**PI:,**) it(**PI:'**)s very common to see the `property` function used via a decorator.\n",
    "   - Here's another version of our `Car` class that works as before but now uses decorators to set up the properties, see Program 14.\n",
    "     - We won't go through all the details here.\n",
    "   - For further information(**PI:,**) we can refer to the descriptor documentation."
   ]
  },
  {
   "cell_type": "code",
   "execution_count": 14,
   "metadata": {},
   "outputs": [],
   "source": [
    "# Program 14\n",
    "\n",
    "class Car:\n",
    "    \n",
    "    def __init__(self, miles=1000):\n",
    "        self._miles = miles\n",
    "        self._kms = miles * 1.61\n",
    "        \n",
    "    @property\n",
    "    def miles(self):\n",
    "        return self._miles\n",
    "    \n",
    "    @property\n",
    "    def kms(self):\n",
    "        return self._kms\n",
    "    \n",
    "    @miles.setter\n",
    "    def miles(self, value):\n",
    "        self._miles = value\n",
    "        self._kms = value * 1.61\n",
    "        \n",
    "    @kms.setter\n",
    "    def kms(self, value):\n",
    "        self._kms = value\n",
    "        self._miles = value / 1.61"
   ]
  },
  {
   "cell_type": "markdown",
   "metadata": {},
   "source": [
    "# 6 generators\n",
    "\n",
    "1. A generator is a kind of iterator (i.e., it works with a `next` function).\n",
    "   - We will study two ways to **build generators**:\n",
    "     - **generator expressions** and,\n",
    "     - **generator functions**.\n",
    "\n",
    "## 6.1 generator expressions\n",
    "\n",
    "1. The **easiest** way to build generators is using **generator expressions**.\n",
    "   - Just **like a list comprehension**, but **with round brackets**.\n",
    "     - Here is the list comprehension, see Program 1-3.\n",
    "     - And here is the generator expression, see Program 4-6.\n",
    "   - Since `sum()` can be called on iterators, we can do this, see Program 7 (**why this?**).\n",
    "     - The function `sum()` calls `next()` to get the items, adds successive terms.\n",
    "     - In fact, we can omit the outer brackets in this case, see Program 8."
   ]
  },
  {
   "cell_type": "code",
   "execution_count": 15,
   "metadata": {},
   "outputs": [
    {
     "data": {
      "text/plain": [
       "tuple"
      ]
     },
     "execution_count": 15,
     "metadata": {},
     "output_type": "execute_result"
    }
   ],
   "source": [
    "# Program 1\n",
    "\n",
    "singular = ('dog', 'cat', 'bird')\n",
    "type(singular)"
   ]
  },
  {
   "cell_type": "code",
   "execution_count": 16,
   "metadata": {},
   "outputs": [
    {
     "data": {
      "text/plain": [
       "['dogs', 'cats', 'birds']"
      ]
     },
     "execution_count": 16,
     "metadata": {},
     "output_type": "execute_result"
    }
   ],
   "source": [
    "# Program 2\n",
    "\n",
    "plural = [string + 's' for string in singular]\n",
    "plural"
   ]
  },
  {
   "cell_type": "code",
   "execution_count": 17,
   "metadata": {
    "scrolled": true
   },
   "outputs": [
    {
     "data": {
      "text/plain": [
       "list"
      ]
     },
     "execution_count": 17,
     "metadata": {},
     "output_type": "execute_result"
    }
   ],
   "source": [
    "# Program 3\n",
    "\n",
    "type(plural)"
   ]
  },
  {
   "cell_type": "code",
   "execution_count": 23,
   "metadata": {},
   "outputs": [
    {
     "data": {
      "text/plain": [
       "generator"
      ]
     },
     "execution_count": 23,
     "metadata": {},
     "output_type": "execute_result"
    }
   ],
   "source": [
    "# Program 4\n",
    "\n",
    "singular = ('dog', 'cat', 'bird')\n",
    "plural = (string + 's' for string in singular)\n",
    "type(plural)"
   ]
  },
  {
   "cell_type": "code",
   "execution_count": 19,
   "metadata": {},
   "outputs": [
    {
     "data": {
      "text/plain": [
       "'dogs'"
      ]
     },
     "execution_count": 19,
     "metadata": {},
     "output_type": "execute_result"
    }
   ],
   "source": [
    "# Program 5\n",
    "\n",
    "next(plural)"
   ]
  },
  {
   "cell_type": "code",
   "execution_count": 20,
   "metadata": {},
   "outputs": [
    {
     "data": {
      "text/plain": [
       "'cats'"
      ]
     },
     "execution_count": 20,
     "metadata": {},
     "output_type": "execute_result"
    }
   ],
   "source": [
    "# Program 6\n",
    "\n",
    "next(plural)"
   ]
  },
  {
   "cell_type": "code",
   "execution_count": 25,
   "metadata": {},
   "outputs": [
    {
     "data": {
      "text/plain": [
       "285"
      ]
     },
     "execution_count": 25,
     "metadata": {},
     "output_type": "execute_result"
    }
   ],
   "source": [
    "# Program 7\n",
    "\n",
    "sum((x * x for x in range(10)))"
   ]
  },
  {
   "cell_type": "code",
   "execution_count": 26,
   "metadata": {},
   "outputs": [
    {
     "data": {
      "text/plain": [
       "285"
      ]
     },
     "execution_count": 26,
     "metadata": {},
     "output_type": "execute_result"
    }
   ],
   "source": [
    "# Program 8\n",
    "\n",
    "sum(x * x for x in range(10))"
   ]
  },
  {
   "cell_type": "markdown",
   "metadata": {},
   "source": [
    "## 6.2 generator functions\n",
    "\n",
    "1. The **most flexible** way to create generator objects is to use **generator functions**.\n",
    "   - Let's look at 2 examples.\n",
    "\n",
    "### Example 1\n",
    "\n",
    "1. Here's a very simple example of a generator function, see Program 9.\n",
    "   - It looks like a function, but uses a keyword `yield` that we haven't met before.\n",
    "2. Let's see how it works after running this code, see Program 10-15.\n",
    "   - The generator function `f()` is used to **create generator objects**.\n",
    "     - In this case, `gen`.\n",
    "     - Generators are iterators, because they support a `next` method.\n",
    "   - The first call (Program 12) to `next(gen)`\n",
    "     - **executes** code in the body of `f()` until it meets a `yield` statement.\n",
    "     - **returns** that values to the caller of `next(gen)`.\n",
    "   - The second call (Program 13) to `next(gen)` starts executing **from the next line** of Program 9 and continues until the next `yield` statement.\n",
    "     - At that point(**PI:,**) it returns the value following `yield` to the caller of `next(gen)`, and so on.\n",
    "   - When the code block ends, the generator throws a `StopIteration` error, see Program 15. "
   ]
  },
  {
   "cell_type": "code",
   "execution_count": 27,
   "metadata": {},
   "outputs": [],
   "source": [
    "# Program 9\n",
    "\n",
    "def f():\n",
    "    yield 'start'\n",
    "    yield 'middle'\n",
    "    yield 'end'"
   ]
  },
  {
   "cell_type": "code",
   "execution_count": 28,
   "metadata": {},
   "outputs": [
    {
     "data": {
      "text/plain": [
       "function"
      ]
     },
     "execution_count": 28,
     "metadata": {},
     "output_type": "execute_result"
    }
   ],
   "source": [
    "# Program 10\n",
    "\n",
    "type(f)"
   ]
  },
  {
   "cell_type": "code",
   "execution_count": 29,
   "metadata": {},
   "outputs": [
    {
     "data": {
      "text/plain": [
       "<generator object f at 0x7fb1c90ffc50>"
      ]
     },
     "execution_count": 29,
     "metadata": {},
     "output_type": "execute_result"
    }
   ],
   "source": [
    "# Program 11\n",
    "\n",
    "gen = f()\n",
    "gen"
   ]
  },
  {
   "cell_type": "code",
   "execution_count": 30,
   "metadata": {},
   "outputs": [
    {
     "data": {
      "text/plain": [
       "'start'"
      ]
     },
     "execution_count": 30,
     "metadata": {},
     "output_type": "execute_result"
    }
   ],
   "source": [
    "# Program 12\n",
    "\n",
    "next(gen)"
   ]
  },
  {
   "cell_type": "code",
   "execution_count": 31,
   "metadata": {},
   "outputs": [
    {
     "data": {
      "text/plain": [
       "'middle'"
      ]
     },
     "execution_count": 31,
     "metadata": {},
     "output_type": "execute_result"
    }
   ],
   "source": [
    "# Program 13\n",
    "\n",
    "next(gen)"
   ]
  },
  {
   "cell_type": "code",
   "execution_count": 32,
   "metadata": {},
   "outputs": [
    {
     "data": {
      "text/plain": [
       "'end'"
      ]
     },
     "execution_count": 32,
     "metadata": {},
     "output_type": "execute_result"
    }
   ],
   "source": [
    "# Program 14\n",
    "\n",
    "next(gen)"
   ]
  },
  {
   "cell_type": "code",
   "execution_count": 33,
   "metadata": {
    "scrolled": true
   },
   "outputs": [
    {
     "ename": "StopIteration",
     "evalue": "",
     "output_type": "error",
     "traceback": [
      "\u001b[0;31m---------------------------------------------------------------------------\u001b[0m",
      "\u001b[0;31mStopIteration\u001b[0m                             Traceback (most recent call last)",
      "\u001b[0;32m<ipython-input-33-10773899e15d>\u001b[0m in \u001b[0;36m<module>\u001b[0;34m\u001b[0m\n\u001b[1;32m      1\u001b[0m \u001b[0;31m# Program 15\u001b[0m\u001b[0;34m\u001b[0m\u001b[0;34m\u001b[0m\u001b[0;34m\u001b[0m\u001b[0m\n\u001b[1;32m      2\u001b[0m \u001b[0;34m\u001b[0m\u001b[0m\n\u001b[0;32m----> 3\u001b[0;31m \u001b[0mnext\u001b[0m\u001b[0;34m(\u001b[0m\u001b[0mgen\u001b[0m\u001b[0;34m)\u001b[0m\u001b[0;34m\u001b[0m\u001b[0;34m\u001b[0m\u001b[0m\n\u001b[0m",
      "\u001b[0;31mStopIteration\u001b[0m: "
     ]
    }
   ],
   "source": [
    "# Program 15\n",
    "\n",
    "next(gen)"
   ]
  },
  {
   "cell_type": "markdown",
   "metadata": {},
   "source": [
    "### Example 2\n",
    "\n",
    "1. Our next example receives an argument `x` from the caller, see Program 16.\n",
    "2. Let's see how it works, see Program 17.\n",
    "   - The call `gen = g(2)` binds `gen` to a generator, see Program 18.\n",
    "     - Inside the generator, the name `x` is bound to `2`.\n",
    "   - When we call `next(gen)`, see Program 19.\n",
    "     - The body of `g()` executes until the line `yield x`, and the value of `x` is returned.\n",
    "     - Note that value of `x` is returned inside the generator.\n",
    "   - When we call `next(gen)` again, execution continues **from where it left off**.\n",
    "     - When `x < 100` fails, the generator throws a `StopIteration` error.\n",
    "     - Incidentally, the loop inside the generator can be infinite, see Program 23 (**PI28: briefly clarify why this is infinite**)."
   ]
  },
  {
   "cell_type": "code",
   "execution_count": 34,
   "metadata": {},
   "outputs": [],
   "source": [
    "# Program 16\n",
    "\n",
    "def g(x):\n",
    "    while x < 100:\n",
    "        yield x\n",
    "        x = x * x"
   ]
  },
  {
   "cell_type": "code",
   "execution_count": 35,
   "metadata": {},
   "outputs": [
    {
     "data": {
      "text/plain": [
       "<function __main__.g(x)>"
      ]
     },
     "execution_count": 35,
     "metadata": {},
     "output_type": "execute_result"
    }
   ],
   "source": [
    "# Program 17\n",
    "\n",
    "g"
   ]
  },
  {
   "cell_type": "code",
   "execution_count": 36,
   "metadata": {},
   "outputs": [
    {
     "data": {
      "text/plain": [
       "generator"
      ]
     },
     "execution_count": 36,
     "metadata": {},
     "output_type": "execute_result"
    }
   ],
   "source": [
    "# Program 18\n",
    "\n",
    "gen = g(2)\n",
    "type(gen)"
   ]
  },
  {
   "cell_type": "code",
   "execution_count": 37,
   "metadata": {},
   "outputs": [
    {
     "data": {
      "text/plain": [
       "2"
      ]
     },
     "execution_count": 37,
     "metadata": {},
     "output_type": "execute_result"
    }
   ],
   "source": [
    "# Program 19\n",
    "\n",
    "next(gen)"
   ]
  },
  {
   "cell_type": "code",
   "execution_count": 38,
   "metadata": {},
   "outputs": [
    {
     "data": {
      "text/plain": [
       "4"
      ]
     },
     "execution_count": 38,
     "metadata": {},
     "output_type": "execute_result"
    }
   ],
   "source": [
    "# Program 20\n",
    "\n",
    "next(gen)"
   ]
  },
  {
   "cell_type": "code",
   "execution_count": 39,
   "metadata": {},
   "outputs": [
    {
     "data": {
      "text/plain": [
       "16"
      ]
     },
     "execution_count": 39,
     "metadata": {},
     "output_type": "execute_result"
    }
   ],
   "source": [
    "# Program 21\n",
    "\n",
    "next(gen)"
   ]
  },
  {
   "cell_type": "code",
   "execution_count": 40,
   "metadata": {},
   "outputs": [
    {
     "ename": "StopIteration",
     "evalue": "",
     "output_type": "error",
     "traceback": [
      "\u001b[0;31m---------------------------------------------------------------------------\u001b[0m",
      "\u001b[0;31mStopIteration\u001b[0m                             Traceback (most recent call last)",
      "\u001b[0;32m<ipython-input-40-920ddbab247e>\u001b[0m in \u001b[0;36m<module>\u001b[0;34m\u001b[0m\n\u001b[1;32m      1\u001b[0m \u001b[0;31m# Program 22\u001b[0m\u001b[0;34m\u001b[0m\u001b[0;34m\u001b[0m\u001b[0;34m\u001b[0m\u001b[0m\n\u001b[1;32m      2\u001b[0m \u001b[0;34m\u001b[0m\u001b[0m\n\u001b[0;32m----> 3\u001b[0;31m \u001b[0mnext\u001b[0m\u001b[0;34m(\u001b[0m\u001b[0mgen\u001b[0m\u001b[0;34m)\u001b[0m\u001b[0;34m\u001b[0m\u001b[0;34m\u001b[0m\u001b[0m\n\u001b[0m",
      "\u001b[0;31mStopIteration\u001b[0m: "
     ]
    }
   ],
   "source": [
    "# Program 22\n",
    "\n",
    "next(gen)"
   ]
  },
  {
   "cell_type": "code",
   "execution_count": 84,
   "metadata": {},
   "outputs": [],
   "source": [
    "# Program 23\n",
    "\n",
    "def g(x):\n",
    "    while 1: # PI: Why this is infinite?\n",
    "        yield x\n",
    "        x = x * x"
   ]
  },
  {
   "cell_type": "markdown",
   "metadata": {},
   "source": [
    "## 6.3 advantages of iterators\n",
    "\n",
    "1. What's the advantage of using an iterator here?\n",
    "2. Suppose we want to sample a binomial(n, 0.5) (**PI29: add ` `**).\n",
    "   - One way to do it is as follows, see Program 24.\n",
    "     - But we are creating two huge lists here, `range(n)` and `draws`.\n",
    "     - This uses lots of memory and is very slow.\n",
    "       - If we make `n` even bigger(**PI:,**) then this happens, see Program 25 (**PI30: we cannot see the difference, maybe we can time it?**)\n",
    "   - We can avoid these problems using iterators.\n",
    "     - Here is the generator function, see Program 26.\n",
    "     \n",
    "3. In summary, iterables\n",
    "   - avoid the need to create big lists/tuples, and\n",
    "   - provide a uniform interface to iteration that can be used transparently in `for` loops."
   ]
  },
  {
   "cell_type": "code",
   "execution_count": 59,
   "metadata": {},
   "outputs": [
    {
     "data": {
      "text/plain": [
       "5001837"
      ]
     },
     "execution_count": 59,
     "metadata": {},
     "output_type": "execute_result"
    }
   ],
   "source": [
    "# Program 24\n",
    "\n",
    "import random\n",
    "n = 10000000   # PI: change it to `n = 10_000_000`\n",
    "draws = [random.uniform(0, 1) < 0.5 for i in range(n)]\n",
    "sum(draws)"
   ]
  },
  {
   "cell_type": "code",
   "execution_count": 54,
   "metadata": {},
   "outputs": [],
   "source": [
    "# Program 25\n",
    "\n",
    "n = 100000000  # PI: change it to `n = 100_000_000`\n",
    "draws = [random.uniform(0, 1) < 0.5 for i in range(n)]"
   ]
  },
  {
   "cell_type": "code",
   "execution_count": 55,
   "metadata": {},
   "outputs": [],
   "source": [
    "# Program 26\n",
    "\n",
    "def f(n):\n",
    "    i = 1\n",
    "    while i <= n:\n",
    "        yield random.uniform(0, 1) < 0.5\n",
    "        i += 1"
   ]
  },
  {
   "cell_type": "code",
   "execution_count": 57,
   "metadata": {},
   "outputs": [
    {
     "data": {
      "text/plain": [
       "<generator object f at 0x7fb1c90ffe50>"
      ]
     },
     "execution_count": 57,
     "metadata": {},
     "output_type": "execute_result"
    }
   ],
   "source": [
    "# Program 27\n",
    "\n",
    "n = 10000000  # PI: change it to `n = 10_000_000`\n",
    "draws = f(n)\n",
    "draws"
   ]
  },
  {
   "cell_type": "code",
   "execution_count": 58,
   "metadata": {},
   "outputs": [
    {
     "data": {
      "text/plain": [
       "5000775"
      ]
     },
     "execution_count": 58,
     "metadata": {},
     "output_type": "execute_result"
    }
   ],
   "source": [
    "# Program 28\n",
    "\n",
    "sum(draws)"
   ]
  },
  {
   "cell_type": "markdown",
   "metadata": {},
   "source": [
    "# 7 recursive function calls\n",
    "\n",
    "1. This is not something that we will use every day, but it is still useful.\n",
    "   - We should learn it at some stage.\n",
    "2. Basically, a recursive function is a function that calls itself.\n",
    "   - e.g., consider the problem of computing $x_t$ for some $t$ when\n",
    "     $$\n",
    "     x_{t+1} = 2x_t, \\ x_0 =1 \\tag{1}\n",
    "     $$\n",
    "     - Obviously, the answer is $2^t$.\n",
    "   - We can compute this easily enough with a loop, see Program 1.\n",
    "   - We can also use a recursive solution, see Program 2.\n",
    "     - What happens here is that each successive call uses it's (**PI31: its**) own **frame** in the **stack**.\n",
    "       - a frame is where the local variables of a given function call are held,\n",
    "       - stack is memory used to process function calls.\n",
    "         - a First In Last Out (FILO) queue (**PI32: what is it?**)\n",
    "     - This example is somewhat contrived, since the first (iterative) solution would usually be preferred to the recursive solution.\n",
    "       - We'll meet less contrived applications of recursion later on."
   ]
  },
  {
   "cell_type": "code",
   "execution_count": 60,
   "metadata": {},
   "outputs": [],
   "source": [
    "# Program 1\n",
    "\n",
    "def x_loop(t):\n",
    "    x = 1\n",
    "    for i in range(t):\n",
    "        x = 2 * x\n",
    "    return x"
   ]
  },
  {
   "cell_type": "code",
   "execution_count": 61,
   "metadata": {},
   "outputs": [],
   "source": [
    "# Program 2\n",
    "\n",
    "def x(t):\n",
    "    if t == 0:\n",
    "        return 1\n",
    "    else:\n",
    "        return 2 * x(t-1)"
   ]
  },
  {
   "cell_type": "code",
   "execution_count": null,
   "metadata": {},
   "outputs": [],
   "source": []
  },
  {
   "cell_type": "markdown",
   "metadata": {},
   "source": [
    "# 8 exercises"
   ]
  },
  {
   "cell_type": "markdown",
   "metadata": {},
   "source": [
    "### Exercise 1\n",
    "\n",
    "The Fibonacci numbers are defined by\n",
    "\n",
    "\n",
    "<a id='equation-fib'></a>\n",
    "$$\n",
    "x_{t+1} = x_t + x_{t-1}, \\quad x_0 = 0, \\; x_1 = 1 \\tag{2}\n",
    "$$\n",
    "\n",
    "The first few numbers in the sequence are $ 0, 1, 1, 2, 3, 5, 8, 13, 21, 34, 55 $.\n",
    "\n",
    "Write a function to recursively compute the $ t $-th Fibonacci number for any $ t $."
   ]
  },
  {
   "cell_type": "code",
   "execution_count": 65,
   "metadata": {},
   "outputs": [],
   "source": [
    "def x(t):\n",
    "    if t == 0:\n",
    "        return 0\n",
    "    if t == 1:\n",
    "        return 1\n",
    "    else:\n",
    "        return x(t-1) + x(t-2)"
   ]
  },
  {
   "cell_type": "code",
   "execution_count": null,
   "metadata": {},
   "outputs": [],
   "source": []
  },
  {
   "cell_type": "markdown",
   "metadata": {},
   "source": [
    "### Exercise 2\n",
    "\n",
    "Complete the following code, and test it using [this csv file](https://github.com/QuantEcon/QuantEcon.lectures.code/blob/master/python_advanced_features/test_table.csv) (**PI33: we can use `https://raw.githubusercontent.com/QuantEcon/QuantEcon.lectures.code/master/python_advanced_features/test_table.csv` and change the later assumption to make it smooth to implement the **), which we assume that you’ve put in your current working directory"
   ]
  },
  {
   "cell_type": "code",
   "execution_count": 186,
   "metadata": {},
   "outputs": [],
   "source": [
    "import pandas as pd"
   ]
  },
  {
   "cell_type": "code",
   "execution_count": 191,
   "metadata": {
    "incorrectly_encoded_metadata": "hide-output=false"
   },
   "outputs": [
    {
     "name": "stdout",
     "output_type": "stream",
     "text": [
      "2009-05-21\n",
      "2009-05-20\n",
      "2009-05-19\n",
      "2009-05-18\n",
      "2009-05-15\n",
      "2009-05-14\n",
      "2009-05-13\n",
      "2009-05-12\n",
      "2009-05-11\n",
      "2009-05-08\n"
     ]
    }
   ],
   "source": [
    "def column_iterator(target_file, column_number):\n",
    "    \"\"\"A generator function for CSV files.\n",
    "    When called with a file name target_file (string) and column number\n",
    "    column_number (integer), the generator function returns a generator\n",
    "    that steps through the elements of column column_number in file\n",
    "    target_file.\n",
    "    \"\"\"\n",
    "    # put your code here\n",
    "    n = column_number\n",
    "    df = pd.read_csv(target_file)\n",
    "    target = df.iloc[:, n-1]\n",
    "    return (t for t in target)\n",
    "    \n",
    "\n",
    "target_file = 'https://raw.githubusercontent.com/QuantEcon/QuantEcon.lectures.code/master/python_advanced_features/test_table.csv'\n",
    "dates = column_iterator(target_file, 1)\n",
    "\n",
    "i = 1\n",
    "for date in dates:\n",
    "    print(date)\n",
    "    if i == 10:\n",
    "        break\n",
    "    i += 1"
   ]
  },
  {
   "cell_type": "markdown",
   "metadata": {},
   "source": [
    "### Exercise 3\n",
    "\n",
    "Suppose we have a text file `numbers.txt` containing the following lines"
   ]
  },
  {
   "cell_type": "code",
   "execution_count": 3,
   "metadata": {
    "incorrectly_encoded_metadata": "hide-output=false"
   },
   "outputs": [
    {
     "name": "stdout",
     "output_type": "stream",
     "text": [
      "Writing numbers.txt\n"
     ]
    }
   ],
   "source": [
    "%%writefile numbers.txt\n",
    "prices\n",
    "3\n",
    "8\n",
    "\n",
    "7\n",
    "21"
   ]
  },
  {
   "cell_type": "markdown",
   "metadata": {},
   "source": [
    "Using `try` – `except` (**PI34: add `block`**), write a program to read in the contents of the file and sum the numbers, ignoring lines without numbers."
   ]
  },
  {
   "cell_type": "code",
   "execution_count": 2,
   "metadata": {},
   "outputs": [
    {
     "data": {
      "text/plain": [
       "['prices', '3', '8', '', '7', '21']"
      ]
     },
     "execution_count": 2,
     "metadata": {},
     "output_type": "execute_result"
    }
   ],
   "source": [
    "with open('numbers.txt') as f:\n",
    "    y = f.read()\n",
    "\n",
    "list = y.splitlines()\n",
    "list"
   ]
  },
  {
   "cell_type": "code",
   "execution_count": 3,
   "metadata": {},
   "outputs": [
    {
     "data": {
      "text/plain": [
       "['prices', '3', '8', '', '7', '21']"
      ]
     },
     "execution_count": 3,
     "metadata": {},
     "output_type": "execute_result"
    }
   ],
   "source": [
    "with open('numbers.txt') as f:\n",
    "    x = [line.strip() for line in f]\n",
    "\n",
    "x"
   ]
  },
  {
   "cell_type": "code",
   "execution_count": 7,
   "metadata": {},
   "outputs": [],
   "source": [
    "def f(target_file):\n",
    "    with open(target_file) as f:\n",
    "        x = [line for line in f]\n",
    "    sum = 0\n",
    "    for i in x:\n",
    "        try:\n",
    "            sum = sum + float(i) # or int(i)\n",
    "        except:\n",
    "            pass\n",
    "    return sum"
   ]
  },
  {
   "cell_type": "code",
   "execution_count": 8,
   "metadata": {},
   "outputs": [
    {
     "data": {
      "text/plain": [
       "39.0"
      ]
     },
     "execution_count": 8,
     "metadata": {},
     "output_type": "execute_result"
    }
   ],
   "source": [
    "target = 'numbers.txt'\n",
    "f(target)"
   ]
  },
  {
   "cell_type": "code",
   "execution_count": null,
   "metadata": {},
   "outputs": [],
   "source": []
  },
  {
   "cell_type": "code",
   "execution_count": null,
   "metadata": {},
   "outputs": [],
   "source": []
  }
 ],
 "metadata": {
  "jupytext": {
   "formats": "ipynb,md"
  },
  "kernelspec": {
   "display_name": "Python 3",
   "language": "python",
   "name": "python3"
  },
  "language_info": {
   "codemirror_mode": {
    "name": "ipython",
    "version": 3
   },
   "file_extension": ".py",
   "mimetype": "text/x-python",
   "name": "python",
   "nbconvert_exporter": "python",
   "pygments_lexer": "ipython3",
   "version": "3.7.6"
  }
 },
 "nbformat": 4,
 "nbformat_minor": 2
}
