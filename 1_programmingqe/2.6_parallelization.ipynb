{
 "cells": [
  {
   "cell_type": "markdown",
   "metadata": {},
   "source": [
    "# 2.6 parallelization"
   ]
  },
  {
   "cell_type": "markdown",
   "metadata": {},
   "source": [
    "# 1 overview\n",
    "1. The growth of CPU clock speed (i.e., the speed at which a single chain of logic can be run) has slowed dramatically in recently years.\n",
    "   - This is unlikely to change in the near future, due to inherent physical limitations on the construction of chips and circuit boards.\n",
    "2. Chip designers and computer programmers have responded to the slowdown by seeking a different path to fast execution: **parallelization**.\n",
    "   - Hardware makers have increased the number of cores (physical CPUs) embedded in each machine.\n",
    "   - For programmers, the challenge has been to exploit these multiple CPUs by running many processes in parallel (i.e., simultaneously).\n",
    "     - This is particularly important in scientific programming, which requires handling\n",
    "       - large amounts of data and\n",
    "       - CPU intensive simulations and other calculations.\n",
    "     - In this lecture(**PI:,**) we discuss parallelization for scientific computing, with a focus on \n",
    "       - the best tools for parallelization in Python and\n",
    "       - how these tools can be applied to quantitative economic problems."
   ]
  },
  {
   "cell_type": "code",
   "execution_count": 1,
   "metadata": {},
   "outputs": [
    {
     "name": "stdout",
     "output_type": "stream",
     "text": [
      "Requirement already up-to-date: quantecon in /Users/shuhu/anaconda3/lib/python3.7/site-packages (0.4.6)\n",
      "Requirement already satisfied, skipping upgrade: requests in /Users/shuhu/anaconda3/lib/python3.7/site-packages (from quantecon) (2.22.0)\n",
      "Requirement already satisfied, skipping upgrade: scipy>=1.0.0 in /Users/shuhu/anaconda3/lib/python3.7/site-packages (from quantecon) (1.3.1)\n",
      "Requirement already satisfied, skipping upgrade: numba>=0.38 in /Users/shuhu/anaconda3/lib/python3.7/site-packages (from quantecon) (0.47.0)\n",
      "Requirement already satisfied, skipping upgrade: sympy in /Users/shuhu/anaconda3/lib/python3.7/site-packages (from quantecon) (1.5.1)\n",
      "Requirement already satisfied, skipping upgrade: numpy in /Users/shuhu/anaconda3/lib/python3.7/site-packages (from quantecon) (1.18.1)\n",
      "Requirement already satisfied, skipping upgrade: urllib3!=1.25.0,!=1.25.1,<1.26,>=1.21.1 in /Users/shuhu/anaconda3/lib/python3.7/site-packages (from requests->quantecon) (1.25.7)\n",
      "Requirement already satisfied, skipping upgrade: certifi>=2017.4.17 in /Users/shuhu/anaconda3/lib/python3.7/site-packages (from requests->quantecon) (2019.11.28)\n",
      "Requirement already satisfied, skipping upgrade: idna<2.9,>=2.5 in /Users/shuhu/anaconda3/lib/python3.7/site-packages (from requests->quantecon) (2.8)\n",
      "Requirement already satisfied, skipping upgrade: chardet<3.1.0,>=3.0.2 in /Users/shuhu/anaconda3/lib/python3.7/site-packages (from requests->quantecon) (3.0.4)\n",
      "Requirement already satisfied, skipping upgrade: llvmlite>=0.31.0dev0 in /Users/shuhu/anaconda3/lib/python3.7/site-packages (from numba>=0.38->quantecon) (0.31.0)\n",
      "Requirement already satisfied, skipping upgrade: setuptools in /Users/shuhu/anaconda3/lib/python3.7/site-packages (from numba>=0.38->quantecon) (44.0.0.post20200106)\n",
      "Requirement already satisfied, skipping upgrade: mpmath>=0.19 in /Users/shuhu/anaconda3/lib/python3.7/site-packages (from sympy->quantecon) (1.1.0)\n"
     ]
    }
   ],
   "source": [
    "!pip install --upgrade quantecon\n",
    "import numpy as np\n",
    "import quantecon as qe\n",
    "import matplotlib.pyplot as plt\n",
    "\n",
    "%matplotlib inline"
   ]
  },
  {
   "cell_type": "markdown",
   "metadata": {},
   "source": [
    "# 2 types of parallelization\n",
    "\n",
    "1. Large textbooks have been written on different approaches to parallelization(**PI:,**) but we will keep a tight focus on what's most useful to us.\n",
    "   - We will briefly review the **two main** kinds of parallelization in common use in scientific computing and discuss their **pros and cons**.\n",
    "\n",
    "## 2.1 multiprocessing\n",
    "\n",
    "1. Multiprocessing means concurrent execution of multiple processes using more than one processor.\n",
    "   - **A process** is a chain of instructions (i.e., a program).\n",
    "   - Multiprocesing can be carried out on **one machine with multiple CPUs** or on **a collection of machines connected by a network**.\n",
    "     - In the latter case, the collection of machines is usually called a **cluster**.\n",
    "   - With multiprocessing, each process has its own memory space, although the physical memory chip might be shared.\n",
    "   \n",
    "\n",
    "## 2.2 multithreading\n",
    "\n",
    "1. Multithreading is similar to multiprocessing, except that, during execution, the **threads all share the same memory space**.\n",
    "   - Native Python struggles to implement multithreading due to some legacy design features.\n",
    "   - But this is not a restriction for scientific libraries like NumPy and Numba.\n",
    "     - Functions implemented from these libraries and JIT-compiled code run in low level execution environments where Python's legacy restrictions don't apply.\n",
    "\n",
    "## 2.3 advantages and disadvantages\n",
    "\n",
    "1. Multithreading is more lightweight because most system and memory resources are shared by the threads.\n",
    "2. In addition, the fact that multiple threads all access a shared pool of memory is extremely convenient for numerical programming.\n",
    "3. On the other hand, multiprocessing is more flexible and can be distributed across clusters.\n",
    "   - For the great majority of what we do in these lectures, multithreading will suffice."
   ]
  },
  {
   "cell_type": "markdown",
   "metadata": {},
   "source": [
    "# 3 implicit multithreading in numpy\n",
    "\n",
    "1. Actually, we have already been using multithreading in our Python code, although we might not have realized it.\n",
    "   - This is because NumPy cleverly implements multithreading in a lot of its compiled code.\n",
    "   - Let's look at some examples to see this in action.\n",
    "   \n",
    "## 3.1 a matrix operation\n",
    "\n",
    "1. The next piece of code computes the eigenvalues of a large number of randomly generated matrices, see Program 1.\n",
    "   - It takes a few seconds to run.\n",
    "   - We can see that 4 of the 8 cores (**PI1: threads**) are running at full speed.\n",
    "     - This is because NumPy's `eigvals` routine neatly splits up the tasks and distributes them to different threads."
   ]
  },
  {
   "cell_type": "code",
   "execution_count": 2,
   "metadata": {},
   "outputs": [],
   "source": [
    "# Program 1\n",
    "\n",
    "n = 20\n",
    "m = 1000\n",
    "\n",
    "for i in range(n):\n",
    "    X = np.random.randn(m, m)\n",
    "    λ = np.linalg.eigvals(X)"
   ]
  },
  {
   "cell_type": "markdown",
   "metadata": {},
   "source": [
    "## 3.2 a multithreading ufunc\n",
    "\n",
    "1. Over the last few years, **NumPy** has managed to push this kind of multithreading out to more and more operations.\n",
    "   - e.g., let's return to a maximization problem discussed in lecture 2.1, see Program 2.\n",
    "   - If we have a system monitor, such as htop (Linux/Mac) or perfmon (Windows) (**PI2: a link about tutorials should be attached here? htop:(https://hisham.hm/htop/); update \"performance monitor\" for windows 10, links(https://docs.microsoft.com/en-us/previous-versions/windows/it-pro/windows-server-2008-R2-and-2008/cc749154(v=ws.11)) about 'perfmon' are outdated**), then try running this and then observing the load on our CPUs.\n",
    "     - We will probably need to bump up the grid size to see large effects.\n",
    "   - The output shows that the **operation is successfully distributed across multipe threads**.\n",
    "     - This is one of the reasons why the vectorized code above is fast."
   ]
  },
  {
   "cell_type": "code",
   "execution_count": 3,
   "metadata": {},
   "outputs": [
    {
     "name": "stdout",
     "output_type": "stream",
     "text": [
      "511 ms ± 5.94 ms per loop (mean ± std. dev. of 7 runs, 1 loop each)\n"
     ]
    }
   ],
   "source": [
    "# Program 2: Numpy\n",
    "\n",
    "def f(x, y):\n",
    "    return np.cos(x**2 + y**2) / (1 + x**2 + y**2)\n",
    "\n",
    "grid = np.linspace(-3, 3, 5000)\n",
    "x, y = np.meshgrid(grid, grid)\n",
    "\n",
    "%timeit np.max(f(x, y))"
   ]
  },
  {
   "cell_type": "markdown",
   "metadata": {},
   "source": [
    "## 3.3 a comparison with numba\n",
    "\n",
    "1. To get some basis for comparison for the last example, let's try the same thing with **Numba**.\n",
    "   - In fact(**PI:,**) there is an easy way to do this, since Numba can also be used to create custom ufuncs with the `@vectorize` decorator, see Program 3.\n",
    "     - At least on our machine, the difference in the speed between the Numba (**PI3: NumPy**) version and the vectorized NumPy version (**PI3: Numba here**) shown in Program 2-3 is not large.\n",
    "   - But there's quite a bit going on here, so let's try to **break down what is happening**.\n",
    "     - Both Numba and NumPy use efficient machine code that's specialized to these floating(**PI:-**)point operations.\n",
    "     - However, the code NumPy uses is, in some ways, less efficient.\n",
    "       - The reason is that, in NumPy, the operation `np.cos(x**2 + y**2) / (1 + x**2 + y**2) ` generates several **intermediate arrays**.\n",
    "         - e.g., a new array is created when `x**2` is calculated.\n",
    "         - The same is true when `y**2` is calculated, and then `x**2 + y**2` and so on.\n",
    "       - Numba avoids creating all these intermediate arrays by compiling one function that is specilized to the entire operation.\n",
    "     - But if this is true, then why isn't the Numba code faster?\n",
    "       - The reason is that NumPy makes up for its disadvantages with implicit multithreading, as we've just discussed."
   ]
  },
  {
   "cell_type": "code",
   "execution_count": 5,
   "metadata": {},
   "outputs": [
    {
     "name": "stdout",
     "output_type": "stream",
     "text": [
      "279 ms ± 10.9 ms per loop (mean ± std. dev. of 7 runs, 1 loop each)\n"
     ]
    }
   ],
   "source": [
    "# Program 3: \n",
    "from numba import vectorize\n",
    "\n",
    "@vectorize\n",
    "def f_vec(x, y):\n",
    "    return np.cos(x**2 + y**2) / (1 + x**2 + y**2)\n",
    "\n",
    "np.max(f_vec(x, y))  # Run once to compile; Why this? PI4\n",
    "%timeit np.max(f_vec(x, y))"
   ]
  },
  {
   "cell_type": "markdown",
   "metadata": {},
   "source": [
    "## 3.4 multithreading a numba ufunc\n",
    "\n",
    "1. Can we get both of these advantages at once?\n",
    "   - In other words, can we pair\n",
    "     - the **efficiency** of Numba's highly specialized JIT(**PI:-**)compiled function and\n",
    "     - the speed gains from parallelization obtained by NumPy's **implicit multithreading**?\n",
    "   - It turns out that we can, by adding some **type information plus `target= 'parallel'`**, see Program 4.\n",
    "     - Now our code runs significantly faster than the NumPy version."
   ]
  },
  {
   "cell_type": "code",
   "execution_count": 8,
   "metadata": {},
   "outputs": [
    {
     "name": "stdout",
     "output_type": "stream",
     "text": [
      "65.5 ms ± 1.13 ms per loop (mean ± std. dev. of 7 runs, 10 loops each)\n"
     ]
    }
   ],
   "source": [
    "# Program 4 \n",
    "\n",
    "@vectorize('float64(float64, float64)', target='parallel')\n",
    "def f_vec(x, y):\n",
    "    return np.cos(x**2 + y**2) / (1 + x**2 + y**2)\n",
    "\n",
    "%timeit np.max(f_vec(x, y))"
   ]
  },
  {
   "cell_type": "markdown",
   "metadata": {},
   "source": [
    "# 4 multithreaded loops in Numba\n",
    "\n",
    "1. We just saw one approach to parallelization in Numba, using the `parallel` flag in `@vectorize`.\n",
    "   - This is neat but, it turns out, not well suited to many problems we consider.\n",
    "2. Fortunately, **Numba** provides another approach to multithreading that will work for us almost everywhere parallelization is possible.\n",
    "   - To illustrate it, let's look at a simple, single-threaded (i.e., non-parallelized) piece of code, see Program 1.\n",
    "     - The code simulates updating the wealth $w_t$ of a household via the rule\n",
    "     $$\n",
    "     w_{t+1} = R_{t+1} s w_t + y_{t+1}\n",
    "     $$\n",
    "     - Here\n",
    "       - $R$ is the gross rate of return on assets,\n",
    "       - $s$ is the savings rate of the household and,\n",
    "       - $y$ is labor income.\n",
    "     - We model both $R$ and $y$ as independent draws from a lognormal distribution.\n",
    "   - Let's have a look at how wealth evolves under this rule, see Program 2.\n",
    "   - Now let's suppose that we have a large population of households and we want to know what median wealth will be.\n",
    "     - This is not easy to solve with pencil and paper, so we will use simulation instead.\n",
    "       - In particular, we will simulate a large number of households, and then calculate (**PI:the**) median wealth for this group.\n",
    "       - Suppose we are interested in the long-run average of this median over time.\n",
    "         - It turns out that, for specification that we've chosen above, we can calculate this (**PI: one more \"this\"**) by taking a one-period snapshot of what has happened to median wealth of the group at the end of a long simulation.\n",
    "         - Moreover, provided the simulation period is long enough, initial conditions don't matter.\n",
    "           - This is due to something called **ergodicity**, which we will discuss later on.\n",
    "         - In summary, see Program 3-4, \n",
    "           - we are going to simulate $50,000$ households by \n",
    "             - arbitrarily setting initial wealth to $1$ and\n",
    "             - simulating forward in time for $1,000$ periods.\n",
    "           - then we will calculate (**PI:the**) median wealth at the end period.\n",
    "         - To speed this up, we are going to parallelize it via multithreading.\n",
    "           - To do so, we add the `parallel=True` flag and change `range` to `prange`, see Program 4.\n",
    "           - The speed-up is significant."
   ]
  },
  {
   "cell_type": "code",
   "execution_count": 2,
   "metadata": {},
   "outputs": [],
   "source": [
    "# Program 1\n",
    "\n",
    "from numpy.random import randn\n",
    "from numba import njit\n",
    "\n",
    "@njit\n",
    "def h(w, r=0.1, s=0.3, v1=0.1, v2=1.0):\n",
    "    \n",
    "    # Draw shocks (PI6: why they look like this?)\n",
    "    R = np.exp(v1 * randn()) * (1 + r)\n",
    "    y = np.exp(v2 * randn())\n",
    "    \n",
    "    # Update wealth\n",
    "    w = R * s * w + y\n",
    "    return w"
   ]
  },
  {
   "cell_type": "code",
   "execution_count": 3,
   "metadata": {},
   "outputs": [
    {
     "data": {
      "image/png": "[encoded data removed]",
      "text/plain": [
       "<Figure size 432x288 with 1 Axes>"
      ]
     },
     "metadata": {
      "needs_background": "light"
     },
     "output_type": "display_data"
    }
   ],
   "source": [
    "# Program 2 PI7: Add labels \n",
    "\n",
    "fig, ax = plt.subplots()\n",
    "\n",
    "T = 100\n",
    "w = np.empty(T)\n",
    "w[0] = 5\n",
    "for t in range(T-1):\n",
    "    w[t+1] = h(w[t])\n",
    "    \n",
    "ax.plot(w)\n",
    "plt.show() # PI7: add this line?"
   ]
  },
  {
   "cell_type": "code",
   "execution_count": 10,
   "metadata": {},
   "outputs": [
    {
     "name": "stdout",
     "output_type": "stream",
     "text": [
      "3.69 s ± 40.7 ms per loop (mean ± std. dev. of 7 runs, 1 loop each)\n"
     ]
    }
   ],
   "source": [
    "# Program 3\n",
    "@njit\n",
    "def compute_long_run_median(w0=1, T=1000, num_reps=50_000):\n",
    "    obs = np.empty(num_reps)\n",
    "    for i in range(num_reps):\n",
    "        w = w0\n",
    "        for t in range(T):\n",
    "            w = h(w)\n",
    "        obs[i] = w\n",
    "        \n",
    "    return np.median(obs)\n",
    "\n",
    "%timeit compute_long_run_median()"
   ]
  },
  {
   "cell_type": "code",
   "execution_count": 11,
   "metadata": {},
   "outputs": [
    {
     "name": "stdout",
     "output_type": "stream",
     "text": [
      "572 ms ± 8.91 ms per loop (mean ± std. dev. of 7 runs, 1 loop each)\n"
     ]
    }
   ],
   "source": [
    "# Program 4\n",
    "\n",
    "from numba import prange\n",
    "\n",
    "@njit(parallel=True)\n",
    "def compute_long_run_median_parallel(w0=1, T=1000, num_reps=50_000):\n",
    "    obs = np.empty(num_reps)\n",
    "    for i in prange(num_reps): # Why here\n",
    "        w = w0\n",
    "        for t in range(T):     # Can we change this to prange?\n",
    "            w = h(w)\n",
    "        obs[i] = w\n",
    "        \n",
    "    return np.median(obs)\n",
    "%timeit compute_long_run_median_parallel()"
   ]
  },
  {
   "cell_type": "markdown",
   "metadata": {},
   "source": [
    "## 4.1 a warning\n",
    "\n",
    "1. Parallelization works well in the outer loop of the last example because the **individual tasks inside the loop are independent of each other** (**???**).\n",
    "   - If this independent fails(**PI:,**) then parallelization is often problematic.\n",
    "     - e.g., each step inside the inner loop depends on the last step, so independence fails, and this is why we use (**PI:the**) ordinary `range` instead of `prange`.\n",
    "   - When we see using `prange` in later lectures, it is because the independence of tasks hold(**PI:s**) true.\n",
    "   - When we see using (**PI:the**) ordinary `range` in a jitted function, it is either because the speed gain from parallelization is small or because independence fails."
   ]
  },
  {
   "cell_type": "markdown",
   "metadata": {},
   "source": [
    "# 5 exercises\n",
    "\n",
    "1. Generally speaking, parallelization is less effective when the individual tasks to be parallelized are very small relative to total execution time (**PI8: something wrong with the code.**).\n",
    "   - This is due to overheads associated with spreading all of these small tasks across multiple CPUs.\n",
    "   - Nevertheless, with suitable hardware, it is possible to get nontrivial speed gains in this exercise."
   ]
  },
  {
   "cell_type": "code",
   "execution_count": 19,
   "metadata": {},
   "outputs": [],
   "source": [
    "def π(length_ts=10000, r=1):\n",
    "    i = 0\n",
    "    s_c = 0\n",
    "    while i <= length_ts: # We can replace it with \n",
    "        u = [np.random.uniform(0,1) for i in range(2)]\n",
    "        x, y = u\n",
    "        a = x**2 + y**2\n",
    "        if a <= 1:\n",
    "            s_c += 1\n",
    "        i += 1\n",
    "    s = s_c / length_ts\n",
    "    return (s * 4) / (r**2)"
   ]
  },
  {
   "cell_type": "code",
   "execution_count": 20,
   "metadata": {},
   "outputs": [],
   "source": [
    "from numba import jit\n",
    "\n",
    "π_numba = jit(π)"
   ]
  },
  {
   "cell_type": "code",
   "execution_count": 22,
   "metadata": {},
   "outputs": [
    {
     "name": "stdout",
     "output_type": "stream",
     "text": [
      "CPU times: user 5.53 ms, sys: 57 µs, total: 5.59 ms\n",
      "Wall time: 5.58 ms\n"
     ]
    },
    {
     "data": {
      "text/plain": [
       "3.1324"
      ]
     },
     "execution_count": 22,
     "metadata": {},
     "output_type": "execute_result"
    }
   ],
   "source": [
    "%time π_numba()"
   ]
  },
  {
   "cell_type": "code",
   "execution_count": 15,
   "metadata": {},
   "outputs": [],
   "source": [
    "from random import uniform\n",
    "from numba import prange\n",
    "\n",
    "@njit(parallel=True)\n",
    "def calculate_pi(n=1_000_000):\n",
    "    count = 0\n",
    "    for i in prange(n):\n",
    "        u, v = uniform(0, 1), uniform(0, 1)\n",
    "        d = np.sqrt((u - 0.5)**2 + (v - 0.5)**2)\n",
    "        if d < 0.5:\n",
    "            count += 1\n",
    "\n",
    "    area_estimate = count / n\n",
    "    return area_estimate * 4"
   ]
  },
  {
   "cell_type": "code",
   "execution_count": 23,
   "metadata": {},
   "outputs": [
    {
     "name": "stdout",
     "output_type": "stream",
     "text": [
      "CPU times: user 34.2 ms, sys: 4.11 ms, total: 38.3 ms\n",
      "Wall time: 4.94 ms\n"
     ]
    },
    {
     "data": {
      "text/plain": [
       "3.14108"
      ]
     },
     "execution_count": 23,
     "metadata": {},
     "output_type": "execute_result"
    }
   ],
   "source": [
    "%time calculate_pi()"
   ]
  },
  {
   "cell_type": "markdown",
   "metadata": {},
   "source": [
    "2. By switching parallelization on and off (selecting `True` or `False` in the `@jnit` (**PI8: `@njit`**) annotation), we can test the speed gain that multithreading provides on top of JIT compilation.\n",
    "\n",
    "3. On our workstation, we find that parallelization increases execution speed by a factor of 2 or 3.\n",
    "   - If we are executing locally, then we would get different numbers, depending mainly on the number of CPUs on our machine.\n"
   ]
  },
  {
   "cell_type": "code",
   "execution_count": null,
   "metadata": {},
   "outputs": [],
   "source": []
  },
  {
   "cell_type": "code",
   "execution_count": null,
   "metadata": {},
   "outputs": [],
   "source": []
  },
  {
   "cell_type": "code",
   "execution_count": null,
   "metadata": {},
   "outputs": [],
   "source": []
  },
  {
   "cell_type": "code",
   "execution_count": null,
   "metadata": {},
   "outputs": [],
   "source": []
  },
  {
   "cell_type": "code",
   "execution_count": null,
   "metadata": {},
   "outputs": [],
   "source": []
  }
 ],
 "metadata": {
  "jupytext": {
   "formats": "ipynb,md"
  },
  "kernelspec": {
   "display_name": "Python 3",
   "language": "python",
   "name": "python3"
  },
  "language_info": {
   "codemirror_mode": {
    "name": "ipython",
    "version": 3
   },
   "file_extension": ".py",
   "mimetype": "text/x-python",
   "name": "python",
   "nbconvert_exporter": "python",
   "pygments_lexer": "ipython3",
   "version": "3.7.6"
  }
 },
 "nbformat": 4,
 "nbformat_minor": 2
}
